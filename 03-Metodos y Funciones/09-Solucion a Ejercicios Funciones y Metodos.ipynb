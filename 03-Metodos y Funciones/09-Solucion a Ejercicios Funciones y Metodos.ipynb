{
 "cells": [
  {
   "cell_type": "markdown",
   "metadata": {},
   "source": [
    "# Funciones y métodos Soluciones de tareas\n",
    "____\n",
    "**Escribe una función que calcule el volumen de una esfera dado su radio.**"
   ]
  },
  {
   "cell_type": "code",
   "execution_count": 1,
   "metadata": {
    "tags": []
   },
   "outputs": [],
   "source": [
    "def vol(rad):\n",
    "    return (4/3)*(3.14)*(rad**3)"
   ]
  },
  {
   "cell_type": "code",
   "execution_count": 2,
   "metadata": {},
   "outputs": [
    {
     "data": {
      "text/plain": [
       "33.49333333333333"
      ]
     },
     "execution_count": 2,
     "metadata": {},
     "output_type": "execute_result"
    }
   ],
   "source": [
    "# Verificar\n",
    "vol(2)"
   ]
  },
  {
   "cell_type": "markdown",
   "metadata": {},
   "source": [
    "___\n",
    "**Escribe una función que verifique si un número está en un rango determinado (incluidos los valores alto y bajo)**"
   ]
  },
  {
   "cell_type": "code",
   "execution_count": 3,
   "metadata": {
    "tags": []
   },
   "outputs": [],
   "source": [
    "def verifica_ejecucion(num,bajo,arriba):\n",
    "    #Verifica si num esta entre bajo y arriba\n",
    "    if num in range(bajo,arriba+1):\n",
    "        print('{} esta en el rango entre {} y {}'.format(num,bajo,arriba))\n",
    "    else:\n",
    "        print('El numero esta fuera del rango')"
   ]
  },
  {
   "cell_type": "code",
   "execution_count": 4,
   "metadata": {},
   "outputs": [
    {
     "name": "stdout",
     "output_type": "stream",
     "text": [
      "5 esta en el rango entre 2 y 7\n"
     ]
    }
   ],
   "source": [
    "# Verificar\n",
    "verifica_ejecucion(5,2,7)"
   ]
  },
  {
   "cell_type": "markdown",
   "metadata": {},
   "source": [
    "Si solo quisiera devolver un boleano:"
   ]
  },
  {
   "cell_type": "code",
   "execution_count": 5,
   "metadata": {
    "tags": []
   },
   "outputs": [],
   "source": [
    "def ejecuta_boleano(num,bajo,arriba):\n",
    "    return num in range(bajo,arriba+1)"
   ]
  },
  {
   "cell_type": "code",
   "execution_count": 6,
   "metadata": {},
   "outputs": [
    {
     "data": {
      "text/plain": [
       "True"
      ]
     },
     "execution_count": 6,
     "metadata": {},
     "output_type": "execute_result"
    }
   ],
   "source": [
    "ejecuta_boleano(3,1,10)"
   ]
  },
  {
   "cell_type": "markdown",
   "metadata": {},
   "source": [
    "____\n",
    "**Escribe una función de Python que acepte una cadena y calcule el número de letras mayúsculas y minúsculas.**\n",
    "\n",
    "     Cadena de muestra: \"Hola Sr. Rogers, ¿cómo está este martes bien?\"\n",
    "     Rendimiento esperado :\n",
    "     No de caracteres en mayúscula: 4\n",
    "     No de caracteres en minúscula: 33\n",
    "\n",
    "Si te sientes ambicioso, explora el módulo Colecciones para resolver este problema."
   ]
  },
  {
   "cell_type": "code",
   "execution_count": 7,
   "metadata": {
    "tags": []
   },
   "outputs": [],
   "source": [
    "def mayuscula_minuscula(s):\n",
    "    d={\"mayuscula\":0, \"minuscula\":0}\n",
    "    for c in s:\n",
    "        if c.isupper():\n",
    "            d[\"mayuscula\"]+=1\n",
    "        elif c.islower():\n",
    "            d[\"minuscula\"]+=1\n",
    "        else:\n",
    "            pass\n",
    "    print(\"Cadena Original : \", s)\n",
    "    print(\"Numero de caracteres en mayuscula : \", d[\"mayuscula\"])\n",
    "    print(\"Numero de caracteres en minuscula : \", d[\"minuscula\"])"
   ]
  },
  {
   "cell_type": "code",
   "execution_count": 8,
   "metadata": {},
   "outputs": [
    {
     "name": "stdout",
     "output_type": "stream",
     "text": [
      "Cadena Original :  Hola Sr. Sanchez, como esta este martes?\n",
      "Numero de caracteres en mayuscula :  3\n",
      "Numero de caracteres en minuscula :  28\n"
     ]
    }
   ],
   "source": [
    "s = 'Hola Sr. Sanchez, como esta este martes?'\n",
    "mayuscula_minuscula(s)"
   ]
  },
  {
   "cell_type": "markdown",
   "metadata": {},
   "source": [
    "____\n",
    "**Escriba una función de Python que tome una lista y devuelva una nueva lista con elementos únicos de la primera lista.**\n",
    "\n",
    "     Lista de muestra: [1,1,1,1,2,2,3,3,3,3,4,5]\n",
    "     Lista única: [1, 2, 3, 4, 5]"
   ]
  },
  {
   "cell_type": "code",
   "execution_count": 9,
   "metadata": {
    "tags": []
   },
   "outputs": [],
   "source": [
    "def lista_unica(lista):\n",
    "    # tambien usar list(set())\n",
    "    x = []\n",
    "    for a in lista:\n",
    "        if a not in x:\n",
    "            x.append(a)\n",
    "    return x"
   ]
  },
  {
   "cell_type": "code",
   "execution_count": 10,
   "metadata": {},
   "outputs": [
    {
     "data": {
      "text/plain": [
       "[1, 2, 3, 4, 5]"
      ]
     },
     "execution_count": 10,
     "metadata": {},
     "output_type": "execute_result"
    }
   ],
   "source": [
    "lista_unica([1,1,1,1,2,2,3,3,3,3,4,5])"
   ]
  },
  {
   "cell_type": "markdown",
   "metadata": {},
   "source": [
    "____\n",
    "**Escribe una función de Python para multiplicar todos los números en una lista.**\n",
    "\n",
    "     Lista de muestra: [1, 2, 3, -4]\n",
    "     Salida esperada: -24"
   ]
  },
  {
   "cell_type": "code",
   "execution_count": 11,
   "metadata": {
    "tags": []
   },
   "outputs": [],
   "source": [
    "def multiplica(numeros):\n",
    "    total = 1\n",
    "    for x in numeros:\n",
    "        total *= x\n",
    "    return total"
   ]
  },
  {
   "cell_type": "code",
   "execution_count": 12,
   "metadata": {},
   "outputs": [
    {
     "data": {
      "text/plain": [
       "-24"
      ]
     },
     "execution_count": 12,
     "metadata": {},
     "output_type": "execute_result"
    }
   ],
   "source": [
    "multiplica([1,2,3,-4])"
   ]
  },
  {
   "cell_type": "markdown",
   "metadata": {},
   "source": [
    "____\n",
    "**Escribe una función de Python que verifique si una palabra o frase es palíndromo o no.**\n",
    "\n",
    "Nota: Un palíndromo es una palabra, frase o secuencia que se lee igual al revés que al frente, por ejemplo, señora, kayak, coche de carreras o una frase \"enfermeras corren\". Sugerencia: es posible que desee verificar el método **\".replace()\"** en una cadena para ayudar a lidiar con los espacios. También busque en Google cómo revertir una cadena en Python, hay algunas formas inteligentes de hacerlo con notación de corte."
   ]
  },
  {
   "cell_type": "code",
   "execution_count": 13,
   "metadata": {
    "tags": []
   },
   "outputs": [],
   "source": [
    "def palindrome(s):\n",
    "    \n",
    "    s = s.replace(' ','') # Esto remplaza todos los espacios ' ' con no espacio ''. (Arregla problemas con cadenas que tienen espacios)\n",
    "    return s == s[::-1]   # Checa division en cadena"
   ]
  },
  {
   "cell_type": "code",
   "execution_count": 14,
   "metadata": {},
   "outputs": [
    {
     "data": {
      "text/plain": [
       "False"
      ]
     },
     "execution_count": 14,
     "metadata": {},
     "output_type": "execute_result"
    }
   ],
   "source": [
    "palindrome('Las enfermeras corren')"
   ]
  },
  {
   "cell_type": "code",
   "execution_count": 15,
   "metadata": {},
   "outputs": [
    {
     "data": {
      "text/plain": [
       "True"
      ]
     },
     "execution_count": 15,
     "metadata": {},
     "output_type": "execute_result"
    }
   ],
   "source": [
    "palindrome('abcba')"
   ]
  },
  {
   "cell_type": "markdown",
   "metadata": {},
   "source": [
    "____\n",
    "#### Duro:\n",
    "\n",
    "**Escriba una función de Python para verificar si una cadena es pangram o no. (Suponga que la cadena pasada no tiene puntuación)**\n",
    "\n",
    "     Nota: Los pangramas son palabras u oraciones que contienen todas las letras del alfabeto al menos una vez.\n",
    "     Por ejemplo: \"El rápido zorro marrón salta sobre el perro perezoso\".\n",
    "\n",
    "Sugerencia: es posible que desee utilizar el método **\".replace()\"** para deshacerse de los espacios."
   ]
  },
  {
   "cell_type": "code",
   "execution_count": 16,
   "metadata": {
    "tags": []
   },
   "outputs": [],
   "source": [
    "import string\n",
    "\n",
    "def ispangram(cadena1, alfabeto=string.ascii_lowercase): \n",
    "    # Crea un grupo del alfabeto\n",
    "    alfagrupo = set(alfabeto)  \n",
    "    \n",
    "    # Borra espacio de cadena1\n",
    "    cadena1 = cadena1.replace(\" \",'')\n",
    "    \n",
    "    # minusculas en todos los caracteres\n",
    "    # Recuerda nosotros asumimos no puntuacion \n",
    "    cadena1 = cadena1.lower()\n",
    "    \n",
    "    # Toma unicas letras en la cadena\n",
    "    cadena1 = set(cadena1)\n",
    "    \n",
    "    # Verifica el grupo de alfabeto\n",
    "    return cadena1 == alfagrupo"
   ]
  },
  {
   "cell_type": "code",
   "execution_count": 17,
   "metadata": {},
   "outputs": [
    {
     "data": {
      "text/plain": [
       "False"
      ]
     },
     "execution_count": 17,
     "metadata": {},
     "output_type": "execute_result"
    }
   ],
   "source": [
    "ispangram(\"El rápido zorro marrón salta sobre el perro perezoso.\")"
   ]
  },
  {
   "cell_type": "code",
   "execution_count": 18,
   "metadata": {},
   "outputs": [
    {
     "data": {
      "text/plain": [
       "'abcdefghijklmnopqrstuvwxyz'"
      ]
     },
     "execution_count": 18,
     "metadata": {},
     "output_type": "execute_result"
    }
   ],
   "source": [
    "string.ascii_lowercase"
   ]
  },
  {
   "cell_type": "code",
   "execution_count": null,
   "metadata": {},
   "outputs": [],
   "source": []
  }
 ],
 "metadata": {
  "kernelspec": {
   "display_name": "Python 3 (ipykernel)",
   "language": "python",
   "name": "python3"
  },
  "language_info": {
   "codemirror_mode": {
    "name": "ipython",
    "version": 3
   },
   "file_extension": ".py",
   "mimetype": "text/x-python",
   "name": "python",
   "nbconvert_exporter": "python",
   "pygments_lexer": "ipython3",
   "version": "3.9.6"
  }
 },
 "nbformat": 4,
 "nbformat_minor": 4
}
