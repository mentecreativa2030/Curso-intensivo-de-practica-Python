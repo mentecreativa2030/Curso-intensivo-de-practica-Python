{
 "cells": [
  {
   "cell_type": "markdown",
   "metadata": {
    "tags": []
   },
   "source": [
    "# Funciones y métodos Tarea\n",
    "\n",
    "Complete las siguientes preguntas:\n",
    "____\n",
    "**Escribe una función que calcule el volumen de una esfera dado su radio.**\n",
    "<p> El volumen de una esfera se da como $$ \\ frac {4} {3} πr ^ 3 $$ </p>"
   ]
  },
  {
   "cell_type": "code",
   "execution_count": 1,
   "metadata": {
    "tags": []
   },
   "outputs": [],
   "source": [
    "def vol(rad):\n",
    "    pass"
   ]
  },
  {
   "cell_type": "code",
   "execution_count": 2,
   "metadata": {},
   "outputs": [],
   "source": [
    "# Verifica\n",
    "vol(2)"
   ]
  },
  {
   "cell_type": "markdown",
   "metadata": {},
   "source": [
    "___\n",
    "**Escribe una función que verifique si un número está en un rango determinado (incluidos los valores alto y bajo)**"
   ]
  },
  {
   "cell_type": "code",
   "execution_count": 3,
   "metadata": {
    "tags": []
   },
   "outputs": [],
   "source": [
    "def verifica_ejecucion(num,bajo,alto):\n",
    "    pass"
   ]
  },
  {
   "cell_type": "code",
   "execution_count": 4,
   "metadata": {},
   "outputs": [],
   "source": [
    "# Verificar\n",
    "verifica_ejecucion(5,2,7)"
   ]
  },
  {
   "cell_type": "markdown",
   "metadata": {},
   "source": [
    "Si solo quisiera devolver un boleano:"
   ]
  },
  {
   "cell_type": "code",
   "execution_count": 5,
   "metadata": {
    "tags": []
   },
   "outputs": [],
   "source": [
    "def ejecuta_boleano(num,bajo,alto):\n",
    "    pass"
   ]
  },
  {
   "cell_type": "code",
   "execution_count": 6,
   "metadata": {},
   "outputs": [],
   "source": [
    "ejecuta_boleano(3,1,10)"
   ]
  },
  {
   "cell_type": "markdown",
   "metadata": {},
   "source": [
    "____\n",
    "**Escribe una función de Python que acepte una cadena y calcule el número de letras mayúsculas y minúsculas.**\n",
    "\n",
    "     Cadena de muestra: \"Hola Sr. Rogers, ¿cómo está este martes bien?\"\n",
    "     Rendimiento esperado :\n",
    "     No de caracteres en mayúscula: 4\n",
    "     No de caracteres en minúscula: 33\n",
    "\n",
    "SUGERENCIA: Dos métodos de cadena que pueden resultar útiles: **. Isupper()** y **. Islower ()**\n",
    "\n",
    "Si te sientes ambicioso, explora el módulo Colecciones para resolver este problema."
   ]
  },
  {
   "cell_type": "code",
   "execution_count": 6,
   "metadata": {
    "tags": []
   },
   "outputs": [],
   "source": [
    "def mayuscula_minuscula(s):\n",
    "    pass"
   ]
  },
  {
   "cell_type": "code",
   "execution_count": 7,
   "metadata": {},
   "outputs": [],
   "source": [
    "s = 'Hola Sr. Sanchez, como esta este martes?'\n",
    "mayuscula_minuscula(s)"
   ]
  },
  {
   "cell_type": "markdown",
   "metadata": {},
   "source": [
    "____\n",
    "**Escriba una función de Python que tome una lista y devuelva una nueva lista con elementos únicos de la primera lista.**\n",
    "\n",
    "     Lista de muestra: [1,1,1,1,2,2,3,3,3,3,4,5]\n",
    "     Lista única: [1, 2, 3, 4, 5]"
   ]
  },
  {
   "cell_type": "code",
   "execution_count": 8,
   "metadata": {
    "tags": []
   },
   "outputs": [],
   "source": [
    "def lista_unica(primera):\n",
    "    pass"
   ]
  },
  {
   "cell_type": "code",
   "execution_count": 10,
   "metadata": {},
   "outputs": [],
   "source": [
    "lista_unica([1,1,1,1,2,2,3,3,3,3,4,5])"
   ]
  },
  {
   "cell_type": "markdown",
   "metadata": {},
   "source": [
    "____\n",
    "**Escribe una función de Python para multiplicar todos los números en una lista.**\n",
    "\n",
    "     Lista de muestra: [1, 2, 3, -4]\n",
    "     Salida esperada: -24"
   ]
  },
  {
   "cell_type": "code",
   "execution_count": 9,
   "metadata": {
    "tags": []
   },
   "outputs": [],
   "source": [
    "def multiplica(numeros):  \n",
    "    pass"
   ]
  },
  {
   "cell_type": "code",
   "execution_count": 10,
   "metadata": {},
   "outputs": [],
   "source": [
    "multiplica([1,2,3,-4])"
   ]
  },
  {
   "cell_type": "markdown",
   "metadata": {},
   "source": [
    "____\n",
    "**Escribe una función de Python que verifique si una palabra o frase es palíndromo o no.**\n",
    "\n",
    "Nota: Un palíndromo es una palabra, frase o secuencia que se lee igual al revés que al frente, por ejemplo, señora, kayak, coche de carreras o una frase \"enfermeras corren\". Sugerencia: es posible que desee verificar el método **\".replace()\"** en una cadena para ayudar a lidiar con los espacios. También busque en Google cómo revertir una cadena en Python, hay algunas formas inteligentes de hacerlo con notación de corte."
   ]
  },
  {
   "cell_type": "code",
   "execution_count": 11,
   "metadata": {
    "tags": []
   },
   "outputs": [],
   "source": [
    "def palindrome(s):\n",
    "    pass"
   ]
  },
  {
   "cell_type": "code",
   "execution_count": 12,
   "metadata": {},
   "outputs": [],
   "source": [
    "palindrome('helleh')"
   ]
  },
  {
   "cell_type": "markdown",
   "metadata": {},
   "source": [
    "____\n",
    "#### Duro:\n",
    "\n",
    "**Escriba una función de Python para verificar si una cadena es pangram o no. (Suponga que la cadena pasada no tiene puntuación)**\n",
    "\n",
    "     Nota: Los pangramas son palabras u oraciones que contienen todas las letras del alfabeto al menos una vez.\n",
    "     Por ejemplo: \"El rápido zorro marrón salta sobre el perro perezoso\".\n",
    "\n",
    "Sugerencia: es posible que desee utilizar el método **\".replace()\"** para deshacerse de los espacios.\n"
   ]
  },
  {
   "cell_type": "code",
   "execution_count": 13,
   "metadata": {
    "tags": []
   },
   "outputs": [],
   "source": [
    "import string\n",
    "\n",
    "def ispangram(str1, alphabet=string.ascii_lowercase):\n",
    "    pass"
   ]
  },
  {
   "cell_type": "code",
   "execution_count": 14,
   "metadata": {},
   "outputs": [],
   "source": [
    "ispangram(\"El rápido zorro marrón salta sobre el perro perezoso.\")"
   ]
  },
  {
   "cell_type": "code",
   "execution_count": 15,
   "metadata": {},
   "outputs": [
    {
     "data": {
      "text/plain": [
       "'abcdefghijklmnopqrstuvwxyz'"
      ]
     },
     "execution_count": 15,
     "metadata": {},
     "output_type": "execute_result"
    }
   ],
   "source": [
    "string.ascii_lowercase"
   ]
  },
  {
   "cell_type": "markdown",
   "metadata": {},
   "source": [
    "#### Buen trabajo!"
   ]
  },
  {
   "cell_type": "code",
   "execution_count": null,
   "metadata": {},
   "outputs": [],
   "source": []
  }
 ],
 "metadata": {
  "kernelspec": {
   "display_name": "Python 3 (ipykernel)",
   "language": "python",
   "name": "python3"
  },
  "language_info": {
   "codemirror_mode": {
    "name": "ipython",
    "version": 3
   },
   "file_extension": ".py",
   "mimetype": "text/x-python",
   "name": "python",
   "nbconvert_exporter": "python",
   "pygments_lexer": "ipython3",
   "version": "3.9.6"
  }
 },
 "nbformat": 4,
 "nbformat_minor": 4
}
