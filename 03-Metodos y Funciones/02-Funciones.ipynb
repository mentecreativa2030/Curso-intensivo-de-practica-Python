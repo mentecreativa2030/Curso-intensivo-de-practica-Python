{
 "cells": [
  {
   "cell_type": "markdown",
   "metadata": {
    "tags": []
   },
   "source": [
    "# Funciones\n",
    "\n",
    "## Introducción a las funciones\n",
    "\n",
    "Esta lección consistirá en explicar qué es una función en Python y cómo crear una. Las funciones serán uno de nuestros bloques de construcción principales cuando construimos cantidades cada vez mayores de código para resolver problemas.\n",
    "\n",
    "### ¿Qué es una función?\n",
    "\n",
    "Formalmente, una función es un dispositivo útil que agrupa un conjunto de declaraciones para que se puedan ejecutar más de una vez. También pueden permitirnos especificar parámetros que pueden servir como entradas para las funciones.\n",
    "\n",
    "En un nivel más fundamental, las funciones nos permiten no tener que escribir repetidamente el mismo código una y otra vez. Si recuerda las lecciones sobre cadenas y listas, recuerde que usamos una función len () para obtener la longitud de una cadena. Dado que verificar la longitud de una secuencia es una tarea común, querrá escribir una función que pueda hacer esto repetidamente en el comando.\n",
    "\n",
    "Las funciones serán uno de los niveles más básicos de reutilización de código en Python, y también nos permitirá comenzar a pensar en el diseño de programas (profundizaremos mucho más en las ideas de diseño cuando aprendamos sobre programación orientada a objetos)."
   ]
  },
  {
   "cell_type": "markdown",
   "metadata": {},
   "source": [
    "### ¿Por qué usar funciones?\n",
    "\n",
    "En pocas palabras, debe usar funciones cuando planee usar un bloque de código varias veces. La función le permitirá llamar al mismo bloque de código sin tener que escribirlo varias veces. Esto, a su vez, le permitirá crear scripts de Python más complejos. Sin embargo, para entender esto realmente, ¡deberíamos escribir nuestras propias funciones!"
   ]
  },
  {
   "cell_type": "markdown",
   "metadata": {},
   "source": [
    "## Funciones\n",
    "* Palabra clave def\n",
    "* Ejemplo simple de a funcion\n",
    "* Llamando una funcion con ()\n",
    "* Parametros para aceptar\n",
    "* Imprimir versus returnar\n",
    "* Agregar logica dentro una funcion\n",
    "* Multiples retornos dentro de una funcion\n",
    "* Agregar bucles dentro de una funcion\n",
    "* Desempacar tupla\n",
    "* Interactuando entre funciones"
   ]
  },
  {
   "cell_type": "markdown",
   "metadata": {},
   "source": [
    "### Palabra clave def\n",
    "\n",
    "Veamos cómo construir la sintaxis de una función en Python. Tiene la siguiente forma:"
   ]
  },
  {
   "cell_type": "code",
   "execution_count": 1,
   "metadata": {
    "tags": []
   },
   "outputs": [],
   "source": [
    "def nombre_de_funcion(arg1,arg2):\n",
    "    '''\n",
    "    Aqui es donde las declaraciones (docstring) van.\n",
    "    Cuando tu llamas help() en tu funcion sera impreso.\n",
    "    '''\n",
    "    # Hacer cosas aqui\n",
    "    # Retornar resultado deseado"
   ]
  },
  {
   "cell_type": "markdown",
   "metadata": {},
   "source": [
    "Comenzamos con <code> def </code> luego un espacio seguido del nombre de la función. Intente mantener los nombres relevantes, por ejemplo, len () es un buen nombre para una función length (). También tenga cuidado con los nombres, no querrá llamar a una función con el mismo nombre que una [función incorporada en Python] (https://docs.python.org/3/library/functions.html) (como len).\n",
    "\n",
    "Luego vienen un par de paréntesis con varios argumentos separados por una coma. Estos argumentos son las entradas para su función. Podrá utilizar estas entradas en su función y hacer referencia a ellas. Después de esto, pones dos puntos.\n",
    "\n",
    "Ahora, aquí está el paso importante, debe sangrar para comenzar el código dentro de su función correctamente. Python hace uso de *espacios en blanco* para organizar el código. Muchos otros lenguajes de programación no hacen esto, así que téngalo en cuenta.\n",
    "\n",
    "A continuación, verá la cadena de documentos, aquí es donde escribe una descripción básica de la función. Con Jupyter Notebooks, podrá leer estas cadenas de documentos presionando Shift + Tab después del nombre de una función. Las cadenas de documentos no son necesarias para funciones simples, pero es una buena práctica colocarlas para que usted u otras personas puedan comprender fácilmente el código que escribe.\n",
    "\n",
    "Después de todo esto, comienza a escribir el código que desea ejecutar.\n",
    "\n",
    "La mejor forma de aprender las funciones es mediante ejemplos. Así que intentemos repasar ejemplos que se relacionen con los diversos objetos y estructuras de datos que aprendimos antes."
   ]
  },
  {
   "cell_type": "markdown",
   "metadata": {},
   "source": [
    "### Ejemplo Simple de una funcion"
   ]
  },
  {
   "cell_type": "code",
   "execution_count": 2,
   "metadata": {
    "tags": []
   },
   "outputs": [],
   "source": [
    "def di_hola():\n",
    "    print('hola')"
   ]
  },
  {
   "cell_type": "markdown",
   "metadata": {},
   "source": [
    "### Llamar una funcion con ()"
   ]
  },
  {
   "cell_type": "markdown",
   "metadata": {},
   "source": [
    "Llamar la funcion:"
   ]
  },
  {
   "cell_type": "code",
   "execution_count": 3,
   "metadata": {},
   "outputs": [
    {
     "name": "stdout",
     "output_type": "stream",
     "text": [
      "hola\n"
     ]
    }
   ],
   "source": [
    "di_hola()"
   ]
  },
  {
   "cell_type": "markdown",
   "metadata": {},
   "source": [
    "Si olvida el paréntesis (), simplemente mostrará el hecho de que di_hola es una función. Más adelante aprenderemos que en realidad podemos pasar funciones a otras funciones. Pero por ahora, simplemente recuerde llamar a las funciones con ()."
   ]
  },
  {
   "cell_type": "code",
   "execution_count": 4,
   "metadata": {},
   "outputs": [
    {
     "data": {
      "text/plain": [
       "<function __main__.di_hola()>"
      ]
     },
     "execution_count": 4,
     "metadata": {},
     "output_type": "execute_result"
    }
   ],
   "source": [
    "di_hola"
   ]
  },
  {
   "cell_type": "markdown",
   "metadata": {},
   "source": [
    "### Aceptando parámetros (argumentos)\n",
    "Escribamos una función que salude a las personas con su nombre."
   ]
  },
  {
   "cell_type": "code",
   "execution_count": 5,
   "metadata": {
    "tags": []
   },
   "outputs": [],
   "source": [
    "def saludos(nombre):\n",
    "    print(f'Hola {nombre}')"
   ]
  },
  {
   "cell_type": "code",
   "execution_count": 6,
   "metadata": {},
   "outputs": [
    {
     "name": "stdout",
     "output_type": "stream",
     "text": [
      "Hola Juan\n"
     ]
    }
   ],
   "source": [
    "saludos('Juan')"
   ]
  },
  {
   "cell_type": "markdown",
   "metadata": {},
   "source": [
    "## Usando retorno\n",
    "Hasta ahora solo hemos visto el uso de print (), pero si realmente queremos guardar la variable resultante, necesitamos usar la palabra clave **return**.\n",
    "\n",
    "Veamos un ejemplo que usa una instrucción <code> return </code>. <code> return </code> permite que una función *devuelva* un resultado que luego puede almacenarse como una variable o usarse de la manera que desee el usuario.\n",
    "\n",
    "### Ejemplo: función de suma"
   ]
  },
  {
   "cell_type": "code",
   "execution_count": 7,
   "metadata": {
    "tags": []
   },
   "outputs": [],
   "source": [
    "def suma_num(num1,num2):\n",
    "    return num1+num2"
   ]
  },
  {
   "cell_type": "code",
   "execution_count": 8,
   "metadata": {},
   "outputs": [
    {
     "data": {
      "text/plain": [
       "9"
      ]
     },
     "execution_count": 8,
     "metadata": {},
     "output_type": "execute_result"
    }
   ],
   "source": [
    "suma_num(4,5)"
   ]
  },
  {
   "cell_type": "code",
   "execution_count": 9,
   "metadata": {
    "tags": []
   },
   "outputs": [],
   "source": [
    "# Tambien puedes salvar el retorno en una variable\n",
    "resultado = suma_num(4,5)"
   ]
  },
  {
   "cell_type": "code",
   "execution_count": 10,
   "metadata": {},
   "outputs": [
    {
     "name": "stdout",
     "output_type": "stream",
     "text": [
      "9\n"
     ]
    }
   ],
   "source": [
    "print(resultado)"
   ]
  },
  {
   "cell_type": "markdown",
   "metadata": {},
   "source": [
    "¿Qué sucede si ingresamos dos cadenas?"
   ]
  },
  {
   "cell_type": "code",
   "execution_count": 11,
   "metadata": {},
   "outputs": [
    {
     "data": {
      "text/plain": [
       "'unodos'"
      ]
     },
     "execution_count": 11,
     "metadata": {},
     "output_type": "execute_result"
    }
   ],
   "source": [
    "suma_num('uno','dos')"
   ]
  },
  {
   "cell_type": "markdown",
   "metadata": {},
   "source": [
    "## Pregunta muy común: \"¿Cuál es la diferencia entre *return* y *print*?\"\n",
    "\n",
    "** La palabra clave return le permite guardar el resultado de la salida de una función como una variable. La función print () simplemente le muestra la salida, pero no la guarda para uso futuro. Exploremos esto con más detalle **"
   ]
  },
  {
   "cell_type": "code",
   "execution_count": 12,
   "metadata": {
    "tags": []
   },
   "outputs": [],
   "source": [
    "def imprime_resultado(a,b):\n",
    "    print(a+b)"
   ]
  },
  {
   "cell_type": "code",
   "execution_count": 13,
   "metadata": {
    "tags": []
   },
   "outputs": [],
   "source": [
    "def retorna_resultado(a,b):\n",
    "    return a+b"
   ]
  },
  {
   "cell_type": "code",
   "execution_count": 14,
   "metadata": {},
   "outputs": [
    {
     "name": "stdout",
     "output_type": "stream",
     "text": [
      "15\n"
     ]
    }
   ],
   "source": [
    "imprime_resultado(10,5)"
   ]
  },
  {
   "cell_type": "code",
   "execution_count": 15,
   "metadata": {
    "tags": []
   },
   "outputs": [
    {
     "data": {
      "text/plain": [
       "15"
      ]
     },
     "execution_count": 15,
     "metadata": {},
     "output_type": "execute_result"
    }
   ],
   "source": [
    "# Tu no vas a observar alguna salida si tu ejecute script .py\n",
    "retorna_resultado(10,5)"
   ]
  },
  {
   "cell_type": "markdown",
   "metadata": {},
   "source": [
    "** Pero, ¿qué sucede si realmente queremos guardar este resultado para su uso posterior? **"
   ]
  },
  {
   "cell_type": "code",
   "execution_count": 16,
   "metadata": {},
   "outputs": [
    {
     "name": "stdout",
     "output_type": "stream",
     "text": [
      "40\n"
     ]
    }
   ],
   "source": [
    "mi_resultado = imprime_resultado(20,20)"
   ]
  },
  {
   "cell_type": "code",
   "execution_count": 17,
   "metadata": {
    "tags": []
   },
   "outputs": [],
   "source": [
    "mi_resultado"
   ]
  },
  {
   "cell_type": "code",
   "execution_count": 18,
   "metadata": {},
   "outputs": [
    {
     "data": {
      "text/plain": [
       "NoneType"
      ]
     },
     "execution_count": 18,
     "metadata": {},
     "output_type": "execute_result"
    }
   ],
   "source": [
    "type(mi_resultado)"
   ]
  },
  {
   "cell_type": "markdown",
   "metadata": {},
   "source": [
    "**¡Ten cuidado! ¡Observe cómo print_result () no le permite guardar el resultado en una variable! ¡Solo lo imprime, con print () devolviendo None para la tarea! **"
   ]
  },
  {
   "cell_type": "code",
   "execution_count": 19,
   "metadata": {
    "tags": []
   },
   "outputs": [],
   "source": [
    "mi_resultado = retorna_resultado(20,20)"
   ]
  },
  {
   "cell_type": "code",
   "execution_count": 20,
   "metadata": {},
   "outputs": [
    {
     "data": {
      "text/plain": [
       "40"
      ]
     },
     "execution_count": 20,
     "metadata": {},
     "output_type": "execute_result"
    }
   ],
   "source": [
    "mi_resultado"
   ]
  },
  {
   "cell_type": "code",
   "execution_count": 21,
   "metadata": {},
   "outputs": [
    {
     "data": {
      "text/plain": [
       "80"
      ]
     },
     "execution_count": 21,
     "metadata": {},
     "output_type": "execute_result"
    }
   ],
   "source": [
    "mi_resultado + mi_resultado"
   ]
  },
  {
   "cell_type": "markdown",
   "metadata": {},
   "source": [
    "# Agregar lógica a las operaciones de funciones internas\n",
    "\n",
    "Hasta ahora sabemos bastante sobre la construcción de declaraciones lógicas con Python, como declaraciones if / else / elif, bucles for y while, verificar si un elemento está **in** una lista o **not in** una lista ( Conferencia de Operadores Útiles). Veamos ahora cómo podemos realizar estas operaciones dentro de una función."
   ]
  },
  {
   "cell_type": "markdown",
   "metadata": {},
   "source": [
    "### Comprueba si un número es par"
   ]
  },
  {
   "cell_type": "markdown",
   "metadata": {},
   "source": [
    "**Recuerde el operador mod% que devuelve el resto después de la división, si un número es par, entonces mod 2 (% 2) debe ser == a cero.**"
   ]
  },
  {
   "cell_type": "code",
   "execution_count": 22,
   "metadata": {},
   "outputs": [
    {
     "data": {
      "text/plain": [
       "0"
      ]
     },
     "execution_count": 22,
     "metadata": {},
     "output_type": "execute_result"
    }
   ],
   "source": [
    "2 % 2"
   ]
  },
  {
   "cell_type": "code",
   "execution_count": 23,
   "metadata": {},
   "outputs": [
    {
     "data": {
      "text/plain": [
       "0"
      ]
     },
     "execution_count": 23,
     "metadata": {},
     "output_type": "execute_result"
    }
   ],
   "source": [
    "20 % 2"
   ]
  },
  {
   "cell_type": "code",
   "execution_count": 24,
   "metadata": {},
   "outputs": [
    {
     "data": {
      "text/plain": [
       "1"
      ]
     },
     "execution_count": 24,
     "metadata": {},
     "output_type": "execute_result"
    }
   ],
   "source": [
    "21 % 2"
   ]
  },
  {
   "cell_type": "code",
   "execution_count": 25,
   "metadata": {},
   "outputs": [
    {
     "data": {
      "text/plain": [
       "True"
      ]
     },
     "execution_count": 25,
     "metadata": {},
     "output_type": "execute_result"
    }
   ],
   "source": [
    "20 % 2 == 0"
   ]
  },
  {
   "cell_type": "code",
   "execution_count": 26,
   "metadata": {},
   "outputs": [
    {
     "data": {
      "text/plain": [
       "False"
      ]
     },
     "execution_count": 26,
     "metadata": {},
     "output_type": "execute_result"
    }
   ],
   "source": [
    "21 % 2 == 0"
   ]
  },
  {
   "cell_type": "markdown",
   "metadata": {},
   "source": [
    "**Usemos esto para construir una función. Observe cómo simplemente devolvemos el cheque boleano.**"
   ]
  },
  {
   "cell_type": "code",
   "execution_count": 28,
   "metadata": {
    "tags": []
   },
   "outputs": [],
   "source": [
    "def verifica_par(numero):\n",
    "    return numero % 2 == 0"
   ]
  },
  {
   "cell_type": "code",
   "execution_count": 29,
   "metadata": {},
   "outputs": [
    {
     "data": {
      "text/plain": [
       "True"
      ]
     },
     "execution_count": 29,
     "metadata": {},
     "output_type": "execute_result"
    }
   ],
   "source": [
    "verifica_par(20)"
   ]
  },
  {
   "cell_type": "code",
   "execution_count": 30,
   "metadata": {},
   "outputs": [
    {
     "data": {
      "text/plain": [
       "False"
      ]
     },
     "execution_count": 30,
     "metadata": {},
     "output_type": "execute_result"
    }
   ],
   "source": [
    "verifica_par(21)"
   ]
  },
  {
   "cell_type": "markdown",
   "metadata": {},
   "source": [
    "### Comprueba si algún número en una lista es par\n",
    "\n",
    "Devolvemos un valor boleano que indique si **cualquier** número en una lista es par. Observe aquí cómo **return** sale del bucle y sale de la función"
   ]
  },
  {
   "cell_type": "code",
   "execution_count": 31,
   "metadata": {
    "tags": []
   },
   "outputs": [],
   "source": [
    "def verifica_par_enlista(num_lista):\n",
    "    # Verifica cada numero en la lista\n",
    "    for numero in num_lista:\n",
    "        # Una vez encontramos un numero par, nosotros retornamos Verdadero\n",
    "        if numero % 2 == 0:\n",
    "            return True\n",
    "        # De otra forma, no realices algo\n",
    "        else:\n",
    "            pass"
   ]
  },
  {
   "cell_type": "markdown",
   "metadata": {},
   "source": [
    "** ¿Es suficiente? ¡NO! ¡No devolveremos nada si están todas las probabilidades! **"
   ]
  },
  {
   "cell_type": "code",
   "execution_count": 32,
   "metadata": {},
   "outputs": [
    {
     "data": {
      "text/plain": [
       "True"
      ]
     },
     "execution_count": 32,
     "metadata": {},
     "output_type": "execute_result"
    }
   ],
   "source": [
    "verifica_par_enlista([1,2,3])"
   ]
  },
  {
   "cell_type": "code",
   "execution_count": 34,
   "metadata": {
    "tags": []
   },
   "outputs": [],
   "source": [
    "verifica_par_enlista([1,1,1])"
   ]
  },
  {
   "cell_type": "markdown",
   "metadata": {},
   "source": [
    "**ERROR MUY COMÚN !! VEAMOS UN ERROR DE LÓGICA COMÚN, ¡¡¡TENGA EN CUENTA QUE ESTO ES INCORRECTO !!!**"
   ]
  },
  {
   "cell_type": "code",
   "execution_count": 33,
   "metadata": {
    "tags": []
   },
   "outputs": [],
   "source": [
    "def verifica_par_enlista(num_lista):\n",
    "    # Verifica cada numero en lista\n",
    "    for numero in num_lista:\n",
    "        # Una vez encontramos un numero par, nosotros retornamos Verdadero\n",
    "        if numero % 2 == 0:\n",
    "            return True\n",
    "        # Esto esta mal! Esto retorna Falso en cada numero impar!\n",
    "        # No termina verificando los otros numeros en la lista!\n",
    "        else:\n",
    "            return False"
   ]
  },
  {
   "cell_type": "code",
   "execution_count": 34,
   "metadata": {},
   "outputs": [
    {
     "data": {
      "text/plain": [
       "False"
      ]
     },
     "execution_count": 34,
     "metadata": {},
     "output_type": "execute_result"
    }
   ],
   "source": [
    "# Esto retorna Falso despues de encontrar el primer \"1\"\n",
    "verifica_par_enlista([1,2,3])"
   ]
  },
  {
   "cell_type": "markdown",
   "metadata": {},
   "source": [
    "**Enfoque correcto: necesitamos iniciar un retorno falso DESPUÉS de recorrer todo el ciclo**"
   ]
  },
  {
   "cell_type": "code",
   "execution_count": 35,
   "metadata": {
    "tags": []
   },
   "outputs": [],
   "source": [
    "def verifica_par_enlista(num_lista):\n",
    "    # Verifica cada numero en la lista\n",
    "    for numero in num_lista:\n",
    "        # Una vez encuentra un numero par, nosotros retornamos Verdadero\n",
    "        if numero % 2 == 0:\n",
    "            return True\n",
    "        # No hacer algo si no es par\n",
    "        else:\n",
    "            pass\n",
    "    # Nota la Indentación! Esto asegura nosotros ejecutamos el ciclo completo    \n",
    "    return False"
   ]
  },
  {
   "cell_type": "code",
   "execution_count": 36,
   "metadata": {},
   "outputs": [
    {
     "data": {
      "text/plain": [
       "True"
      ]
     },
     "execution_count": 36,
     "metadata": {},
     "output_type": "execute_result"
    }
   ],
   "source": [
    "verifica_par_enlista([1,2,3])"
   ]
  },
  {
   "cell_type": "code",
   "execution_count": 37,
   "metadata": {},
   "outputs": [
    {
     "data": {
      "text/plain": [
       "False"
      ]
     },
     "execution_count": 37,
     "metadata": {},
     "output_type": "execute_result"
    }
   ],
   "source": [
    "verifica_par_enlista([1,3,5])"
   ]
  },
  {
   "cell_type": "markdown",
   "metadata": {},
   "source": [
    "### Devuelve todos los números pares en una lista\n",
    "\n",
    "Agreguemos más complejidad, ahora devolveremos todos los números pares en una lista; de lo contrario, devolveremos una lista vacía."
   ]
  },
  {
   "cell_type": "code",
   "execution_count": 38,
   "metadata": {
    "tags": []
   },
   "outputs": [],
   "source": [
    "def verifica_par_enlista(num_lista):\n",
    "    \n",
    "    numeros_par = []\n",
    "    \n",
    "    # Verifica cada numero en la lista\n",
    "    for numero in num_lista:\n",
    "        # Una vez encontramos un numero par, nosotros lo agregamos a numeros pares\n",
    "        if numero % 2 == 0:\n",
    "            numeros_par.append(numero)\n",
    "        # No hacer algo if no es numero par\n",
    "        else:\n",
    "            pass\n",
    "    # Nota la Indentación! Esto asegura nosotros ejecutamos el entero ciclo    \n",
    "    return numeros_par"
   ]
  },
  {
   "cell_type": "code",
   "execution_count": 39,
   "metadata": {},
   "outputs": [
    {
     "data": {
      "text/plain": [
       "[2, 4, 6]"
      ]
     },
     "execution_count": 39,
     "metadata": {},
     "output_type": "execute_result"
    }
   ],
   "source": [
    "verifica_par_enlista([1,2,3,4,5,6])"
   ]
  },
  {
   "cell_type": "code",
   "execution_count": 40,
   "metadata": {},
   "outputs": [
    {
     "data": {
      "text/plain": [
       "[]"
      ]
     },
     "execution_count": 40,
     "metadata": {},
     "output_type": "execute_result"
    }
   ],
   "source": [
    "verifica_par_enlista([1,3,5])"
   ]
  },
  {
   "cell_type": "markdown",
   "metadata": {},
   "source": [
    "## Devolución de tuplas para desempacar"
   ]
  },
  {
   "cell_type": "markdown",
   "metadata": {},
   "source": [
    "**Recuerde que podemos recorrer una lista de tuplas y \"descomprimir\" los valores dentro de ellas**"
   ]
  },
  {
   "cell_type": "code",
   "execution_count": 41,
   "metadata": {
    "tags": []
   },
   "outputs": [],
   "source": [
    "precios_acciones = [('AAPL',200),('GOOG',300),('MSFT',400)]"
   ]
  },
  {
   "cell_type": "code",
   "execution_count": 42,
   "metadata": {},
   "outputs": [
    {
     "name": "stdout",
     "output_type": "stream",
     "text": [
      "('AAPL', 200)\n",
      "('GOOG', 300)\n",
      "('MSFT', 400)\n"
     ]
    }
   ],
   "source": [
    "for unidad in precios_acciones:\n",
    "    print(unidad)"
   ]
  },
  {
   "cell_type": "code",
   "execution_count": 43,
   "metadata": {},
   "outputs": [
    {
     "name": "stdout",
     "output_type": "stream",
     "text": [
      "AAPL\n",
      "GOOG\n",
      "MSFT\n"
     ]
    }
   ],
   "source": [
    "for accion,precio in precios_acciones:\n",
    "    print(accion)"
   ]
  },
  {
   "cell_type": "code",
   "execution_count": 44,
   "metadata": {
    "tags": []
   },
   "outputs": [
    {
     "name": "stdout",
     "output_type": "stream",
     "text": [
      "200\n",
      "300\n",
      "400\n"
     ]
    }
   ],
   "source": [
    "for accion,precio in precios_acciones:\n",
    "    print(precio)"
   ]
  },
  {
   "cell_type": "markdown",
   "metadata": {},
   "source": [
    "**De manera similar, las funciones a menudo devuelven tuplas para devolver fácilmente varios resultados para su uso posterior.**"
   ]
  },
  {
   "cell_type": "markdown",
   "metadata": {},
   "source": [
    "Imaginemos la siguiente lista:"
   ]
  },
  {
   "cell_type": "code",
   "execution_count": 45,
   "metadata": {
    "tags": []
   },
   "outputs": [],
   "source": [
    "horas_trabajo = [('Abby',100),('Billy',400),('Cassie',800)]"
   ]
  },
  {
   "cell_type": "markdown",
   "metadata": {},
   "source": [
    "La función de empleado del mes devolverá tanto el nombre como la cantidad de horas trabajadas para el mejor desempeño (juzgado por la cantidad de horas trabajadas)."
   ]
  },
  {
   "cell_type": "code",
   "execution_count": 46,
   "metadata": {
    "tags": []
   },
   "outputs": [],
   "source": [
    "def verifica_empleado(horas_trabajo):\n",
    "    \n",
    "    # Establece valor maximo para iniciar, como cero horas\n",
    "    max_actual = 0\n",
    "    # Establece sin valor antes de empezar ciclo\n",
    "    empleado_de_mes = ''\n",
    "    \n",
    "    for empleado,horas in horas_trabajo:\n",
    "        if horas > max_actual:\n",
    "            max_actual = horas\n",
    "            empleado_de_mes = empleado\n",
    "        else:\n",
    "            pass\n",
    "    \n",
    "    # Nota la Indentación aqui\n",
    "    return (empleado_de_mes,max_actual)"
   ]
  },
  {
   "cell_type": "code",
   "execution_count": 47,
   "metadata": {},
   "outputs": [
    {
     "data": {
      "text/plain": [
       "('Cassie', 800)"
      ]
     },
     "execution_count": 47,
     "metadata": {},
     "output_type": "execute_result"
    }
   ],
   "source": [
    "verifica_empleado(horas_trabajo)"
   ]
  },
  {
   "cell_type": "markdown",
   "metadata": {},
   "source": [
    "## Interacciones entre funciones\n",
    "\n",
    "Las funciones a menudo usan resultados de otras funciones, veamos un ejemplo simple a través de un juego de adivinanzas. Habrá 3 posiciones en la lista, una de las cuales es una 'O', una función barajará la lista, otra tomará la suposición de un jugador y finalmente otra verificará si es correcta. Esto se basa en el clásico juego de carnaval de adivinar en qué taza se encuentra una bola roja."
   ]
  },
  {
   "cell_type": "markdown",
   "metadata": {},
   "source": [
    "**Cómo mezclar una lista en Python**"
   ]
  },
  {
   "cell_type": "code",
   "execution_count": 51,
   "metadata": {
    "tags": []
   },
   "outputs": [],
   "source": [
    "ejemplo = [1,2,3,4,5]"
   ]
  },
  {
   "cell_type": "code",
   "execution_count": 52,
   "metadata": {
    "tags": []
   },
   "outputs": [],
   "source": [
    "from random import shuffle"
   ]
  },
  {
   "cell_type": "code",
   "execution_count": 53,
   "metadata": {
    "tags": []
   },
   "outputs": [],
   "source": [
    "# Nota la utilización de \"shuffle\" en la instrucción \n",
    "shuffle(ejemplo)"
   ]
  },
  {
   "cell_type": "code",
   "execution_count": 54,
   "metadata": {},
   "outputs": [
    {
     "data": {
      "text/plain": [
       "[1, 5, 3, 2, 4]"
      ]
     },
     "execution_count": 54,
     "metadata": {},
     "output_type": "execute_result"
    }
   ],
   "source": [
    "ejemplo"
   ]
  },
  {
   "cell_type": "markdown",
   "metadata": {},
   "source": [
    "**Cómo mezclar una lista en Python**"
   ]
  },
  {
   "cell_type": "code",
   "execution_count": 55,
   "metadata": {
    "tags": []
   },
   "outputs": [],
   "source": [
    "milista = [' ','O',' ']"
   ]
  },
  {
   "cell_type": "code",
   "execution_count": 56,
   "metadata": {
    "tags": []
   },
   "outputs": [],
   "source": [
    "def lista_mezclada(milista):\n",
    "    # Toma en la lista, y retorna version mezclada\n",
    "    shuffle(milista)\n",
    "    \n",
    "    return milista"
   ]
  },
  {
   "cell_type": "code",
   "execution_count": 57,
   "metadata": {},
   "outputs": [
    {
     "data": {
      "text/plain": [
       "[' ', 'O', ' ']"
      ]
     },
     "execution_count": 57,
     "metadata": {},
     "output_type": "execute_result"
    }
   ],
   "source": [
    "milista"
   ]
  },
  {
   "cell_type": "code",
   "execution_count": 58,
   "metadata": {},
   "outputs": [
    {
     "data": {
      "text/plain": [
       "['O', ' ', ' ']"
      ]
     },
     "execution_count": 58,
     "metadata": {},
     "output_type": "execute_result"
    }
   ],
   "source": [
    "lista_mezclada(milista)"
   ]
  },
  {
   "cell_type": "code",
   "execution_count": 59,
   "metadata": {
    "tags": []
   },
   "outputs": [],
   "source": [
    "def adivina():\n",
    "    \n",
    "    adivina = ''\n",
    "    \n",
    "    while adivina not in ['0','1','2']:\n",
    "        \n",
    "        # Llama \"input() returns\" una cadena\n",
    "        adivina = input(\"Escoge un numero: 0, 1, or 2:  \")\n",
    "    \n",
    "    return int(adivina)    "
   ]
  },
  {
   "cell_type": "code",
   "execution_count": 60,
   "metadata": {},
   "outputs": [
    {
     "name": "stdin",
     "output_type": "stream",
     "text": [
      "Escoge un numero: 0, 1, or 2:   4\n",
      "Escoge un numero: 0, 1, or 2:   1\n"
     ]
    },
    {
     "data": {
      "text/plain": [
       "1"
      ]
     },
     "execution_count": 60,
     "metadata": {},
     "output_type": "execute_result"
    }
   ],
   "source": [
    "adivina()"
   ]
  },
  {
   "cell_type": "markdown",
   "metadata": {},
   "source": [
    "Ahora comprobaremos la suposición del usuario. Observe que solo imprimimos aquí, ya que no tenemos necesidad de guardar la suposición de un usuario o la lista barajada."
   ]
  },
  {
   "cell_type": "code",
   "execution_count": 61,
   "metadata": {
    "tags": []
   },
   "outputs": [],
   "source": [
    "def verifica_adivinanza(milista,adivina):\n",
    "    if milista[adivina] == 'O':\n",
    "        print('Adivinaste Correcto!')\n",
    "    else:\n",
    "        print('Error! Mejor suerte la proxima vez')\n",
    "        print(mylist)"
   ]
  },
  {
   "cell_type": "markdown",
   "metadata": {},
   "source": [
    "¡Estupendo! ¡Ahora debería tener un conocimiento básico de cómo crear sus propias funciones para evitar escribir código repetidamente!"
   ]
  },
  {
   "cell_type": "code",
   "execution_count": null,
   "metadata": {},
   "outputs": [],
   "source": []
  }
 ],
 "metadata": {
  "kernelspec": {
   "display_name": "Python 3 (ipykernel)",
   "language": "python",
   "name": "python3"
  },
  "language_info": {
   "codemirror_mode": {
    "name": "ipython",
    "version": 3
   },
   "file_extension": ".py",
   "mimetype": "text/x-python",
   "name": "python",
   "nbconvert_exporter": "python",
   "pygments_lexer": "ipython3",
   "version": "3.9.6"
  }
 },
 "nbformat": 4,
 "nbformat_minor": 4
}
