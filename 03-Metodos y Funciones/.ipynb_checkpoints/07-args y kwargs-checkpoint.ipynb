{
 "cells": [
  {
   "cell_type": "markdown",
   "metadata": {
    "tags": []
   },
   "source": [
    "# `*args` y `**kwargs`\n",
    "\n",
    "Trabaja con Python el tiempo suficiente y, finalmente, encontrarás `* args` y` ** kwargs`. Estos extraños términos aparecen como parámetros en las definiciones de funciones. ¿Qué hacen? Repasemos una función simple:"
   ]
  },
  {
   "cell_type": "code",
   "execution_count": 1,
   "metadata": {},
   "outputs": [
    {
     "data": {
      "text/plain": [
       "5.0"
      ]
     },
     "execution_count": 1,
     "metadata": {},
     "output_type": "execute_result"
    }
   ],
   "source": [
    "def mifunc(a,b):\n",
    "    return sum((a,b))*.05\n",
    "\n",
    "mifunc(40,60)"
   ]
  },
  {
   "cell_type": "markdown",
   "metadata": {},
   "source": [
    "Esta función devuelve el 5% de la suma de **a** y **b**. En este ejemplo, **a** y **b** son argumentos * posicionales *; es decir, 40 se asigna a ** a ** porque es el primer argumento y 60 a **b**. Observe también que para trabajar con múltiples argumentos posicionales en la función `sum ()` teníamos que pasarlos como una tupla.\n",
    "\n",
    "¿Y si queremos trabajar con más de dos números? Una forma sería asignar *muchos* parámetros y darle a cada uno un valor predeterminado."
   ]
  },
  {
   "cell_type": "code",
   "execution_count": 2,
   "metadata": {},
   "outputs": [
    {
     "data": {
      "text/plain": [
       "6.0"
      ]
     },
     "execution_count": 2,
     "metadata": {},
     "output_type": "execute_result"
    }
   ],
   "source": [
    "def mifunc(a=0,b=0,c=0,d=0,e=0):\n",
    "    return sum((a,b,c,d,e))*.05\n",
    "\n",
    "mifunc(40,60,20)"
   ]
  },
  {
   "cell_type": "markdown",
   "metadata": {},
   "source": [
    "Obviamente, esta no es una solución muy eficiente, y ahí es donde entra en juego `* args`.\n",
    "\n",
    "## `*args`\n",
    "\n",
    "Cuando un parámetro de función comienza con un asterisco, permite un * número arbitrario * de argumentos y la función los toma como una tupla de valores. Reescribiendo la función anterior:"
   ]
  },
  {
   "cell_type": "code",
   "execution_count": 3,
   "metadata": {},
   "outputs": [
    {
     "data": {
      "text/plain": [
       "6.0"
      ]
     },
     "execution_count": 3,
     "metadata": {},
     "output_type": "execute_result"
    }
   ],
   "source": [
    "def mifunc(*args):\n",
    "    return sum(args)*.05\n",
    "\n",
    "mifunc(40,60,20)"
   ]
  },
  {
   "cell_type": "markdown",
   "metadata": {},
   "source": [
    "Observe cómo pasar la palabra clave \"args\" a la función `sum ()` hizo lo mismo que una tupla de argumentos.\n",
    "\n",
    "Vale la pena señalar que la palabra \"args\" es en sí misma arbitraria; cualquier palabra funcionará siempre que esté precedida por un asterisco. Para demostrar esto:"
   ]
  },
  {
   "cell_type": "code",
   "execution_count": 4,
   "metadata": {},
   "outputs": [
    {
     "data": {
      "text/plain": [
       "6.0"
      ]
     },
     "execution_count": 4,
     "metadata": {},
     "output_type": "execute_result"
    }
   ],
   "source": [
    "def mifunc(*jamon):\n",
    "    return sum(jamon)*.05\n",
    "\n",
    "mifunc(40,60,20)"
   ]
  },
  {
   "cell_type": "markdown",
   "metadata": {},
   "source": [
    "## `**kwargs`\n",
    "\n",
    "De manera similar, Python ofrece una forma de manejar números arbitrarios de argumentos *con palabras clave*. En lugar de crear una tupla de valores, `**kwargs**` crea un diccionario de pares clave/valor. Por ejemplo:"
   ]
  },
  {
   "cell_type": "code",
   "execution_count": 5,
   "metadata": {},
   "outputs": [
    {
     "name": "stdout",
     "output_type": "stream",
     "text": [
      "No me gusta la fruta\n"
     ]
    }
   ],
   "source": [
    "def mifunc(**kwargs):\n",
    "    if 'fruta' in kwargs:\n",
    "        print(f\"Mi fruta favorita es {kwargs['fruta']}\")  # revisa el formato de cadena\n",
    "    else:\n",
    "        print(\"No me gusta la fruta\")\n",
    "        \n",
    "mifunc(fruit='pina')"
   ]
  },
  {
   "cell_type": "code",
   "execution_count": 6,
   "metadata": {},
   "outputs": [
    {
     "name": "stdout",
     "output_type": "stream",
     "text": [
      "No me gusta la fruta\n"
     ]
    }
   ],
   "source": [
    "mifunc()"
   ]
  },
  {
   "cell_type": "markdown",
   "metadata": {},
   "source": [
    "## `*args` y `**kwargs` combinados\n",
    "\n",
    "Puede pasar `*args` y` **kwargs` en la misma función, pero `*args` debe aparecer antes de` **kwargs`"
   ]
  },
  {
   "cell_type": "code",
   "execution_count": 7,
   "metadata": {
    "tags": []
   },
   "outputs": [
    {
     "name": "stdout",
     "output_type": "stream",
     "text": [
      "Me gusta huevos y basura y my fruta favorita es cerezas\n",
      "Puedo tener jugo de  naranja ?\n"
     ]
    }
   ],
   "source": [
    "def mifunc(*args, **kwargs):\n",
    "    if 'fruta' and 'jugo' in kwargs:\n",
    "        print(f\"Me gusta {' y '.join(args)} y my fruta favorita es {kwargs['fruta']}\")\n",
    "        print(f\"Puedo tener jugo de  {kwargs['jugo']} ?\")\n",
    "    else:\n",
    "        pass\n",
    "        \n",
    "mifunc('huevos','basura',fruta='cerezas',jugo='naranja')"
   ]
  },
  {
   "cell_type": "markdown",
   "metadata": {},
   "source": [
    "Colocar argumentos con palabras clave antes de los argumentos posicionales genera una excepción:"
   ]
  },
  {
   "cell_type": "code",
   "execution_count": 8,
   "metadata": {},
   "outputs": [
    {
     "ename": "SyntaxError",
     "evalue": "positional argument follows keyword argument (Temp/ipykernel_12152/368281322.py, line 1)",
     "output_type": "error",
     "traceback": [
      "\u001b[1;36m  File \u001b[1;32m\"C:\\Users\\serge\\AppData\\Local\\Temp/ipykernel_12152/368281322.py\"\u001b[1;36m, line \u001b[1;32m1\u001b[0m\n\u001b[1;33m    mifunc(fruta='cerezas',jugo='naranja','huevos','basura')\u001b[0m\n\u001b[1;37m                                                           ^\u001b[0m\n\u001b[1;31mSyntaxError\u001b[0m\u001b[1;31m:\u001b[0m positional argument follows keyword argument\n"
     ]
    }
   ],
   "source": [
    "mifunc(fruta='cerezas',jugo='naranja','huevos','basura')"
   ]
  },
  {
   "cell_type": "markdown",
   "metadata": {},
   "source": [
    "Al igual que con \"args\", puede usar cualquier nombre que desee para los argumentos con palabras clave; \"kwargs\" es solo una convención popular.\n",
    "\n",
    "¡Eso es! ¡Ahora debe comprender cómo `* args` y` ** kwargs` brindan la flexibilidad para trabajar con números arbitrarios de argumentos!"
   ]
  },
  {
   "cell_type": "code",
   "execution_count": null,
   "metadata": {},
   "outputs": [],
   "source": []
  }
 ],
 "metadata": {
  "kernelspec": {
   "display_name": "Python 3 (ipykernel)",
   "language": "python",
   "name": "python3"
  },
  "language_info": {
   "codemirror_mode": {
    "name": "ipython",
    "version": 3
   },
   "file_extension": ".py",
   "mimetype": "text/x-python",
   "name": "python",
   "nbconvert_exporter": "python",
   "pygments_lexer": "ipython3",
   "version": "3.9.6"
  }
 },
 "nbformat": 4,
 "nbformat_minor": 4
}
