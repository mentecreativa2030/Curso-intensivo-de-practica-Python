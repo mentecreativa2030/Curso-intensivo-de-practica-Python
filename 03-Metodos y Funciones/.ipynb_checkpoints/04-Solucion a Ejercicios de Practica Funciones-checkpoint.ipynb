{
 "cells": [
  {
   "cell_type": "markdown",
   "metadata": {
    "tags": []
   },
   "source": [
    "# Solución a Ejercicios de práctica de funciones\n",
    "\n",
    "Los problemas se ordenan en dificultad creciente:\n",
    "* Calentamiento: estos se pueden resolver utilizando comparaciones y métodos básicos\n",
    "* Nivel 1: estos pueden involucrar declaraciones condicionales y métodos simples si / entonces\n",
    "* Nivel 2: estos pueden requerir iterar sobre secuencias, generalmente con algún tipo de bucle\n",
    "* Desafiante: se necesitará algo de creatividad para resolver"
   ]
  },
  {
   "cell_type": "markdown",
   "metadata": {},
   "source": [
    "## SECCIÓN DE CALENTAMIENTO:"
   ]
  },
  {
   "cell_type": "markdown",
   "metadata": {},
   "source": [
    "#### MENOR DE DOS PARES: Escribe una función que devuelva el menor de dos números dados *si* ambos números son pares, pero devuelve el mayor si uno o ambos números son impares\n",
    "     menor_de_dos_pares (2,4) -> 2\n",
    "     menor_de_dos_pares (2,5) -> 5"
   ]
  },
  {
   "cell_type": "code",
   "execution_count": 1,
   "metadata": {
    "tags": []
   },
   "outputs": [],
   "source": [
    "def menor_de_dos_pares(a,b):\n",
    "    if a%2 == 0 and b%2 == 0:\n",
    "        return min(a,b)\n",
    "    else:\n",
    "        return max(a,b)"
   ]
  },
  {
   "cell_type": "code",
   "execution_count": 2,
   "metadata": {},
   "outputs": [
    {
     "data": {
      "text/plain": [
       "2"
      ]
     },
     "execution_count": 2,
     "metadata": {},
     "output_type": "execute_result"
    }
   ],
   "source": [
    "# Verificar\n",
    "menor_de_dos_pares(2,4)"
   ]
  },
  {
   "cell_type": "code",
   "execution_count": 3,
   "metadata": {},
   "outputs": [
    {
     "data": {
      "text/plain": [
       "5"
      ]
     },
     "execution_count": 3,
     "metadata": {},
     "output_type": "execute_result"
    }
   ],
   "source": [
    "# Verificar\n",
    "menor_de_dos_pares(2,5)"
   ]
  },
  {
   "cell_type": "markdown",
   "metadata": {},
   "source": [
    "#### ANIMAL CRACKERS: Escribir una función toma una cadena de dos palabras y devuelve Verdadero si ambas palabras comienzan con la misma letra\n",
    "     animal_crackers ('Llama equilibrada') -> Verdadero\n",
    "     animal_crackers ('Canguro loco') -> Falso"
   ]
  },
  {
   "cell_type": "code",
   "execution_count": 4,
   "metadata": {
    "tags": []
   },
   "outputs": [],
   "source": [
    "def animal_crackers(text):\n",
    "    listapalabras = text.split()\n",
    "    return listapalabras[0][0] == listapalabras[1][0]"
   ]
  },
  {
   "cell_type": "code",
   "execution_count": 5,
   "metadata": {},
   "outputs": [
    {
     "data": {
      "text/plain": [
       "False"
      ]
     },
     "execution_count": 5,
     "metadata": {},
     "output_type": "execute_result"
    }
   ],
   "source": [
    "# Verificar\n",
    "animal_crackers('Llama equilibrada')"
   ]
  },
  {
   "cell_type": "code",
   "execution_count": 6,
   "metadata": {},
   "outputs": [
    {
     "data": {
      "text/plain": [
       "False"
      ]
     },
     "execution_count": 6,
     "metadata": {},
     "output_type": "execute_result"
    }
   ],
   "source": [
    "# Verificar\n",
    "animal_crackers('Canguro loco')"
   ]
  },
  {
   "cell_type": "markdown",
   "metadata": {},
   "source": [
    "#### HACER VEINTE: Dados dos enteros, devuelve Verdadero si la suma de los enteros es 20 *o* si uno de los enteros es 20. Si no, devuelve Falso\n",
    "\n",
    "     hacer_veinte (20,10) -> Verdadero\n",
    "     hacer_veinte (12,8) -> Verdadero\n",
    "     hacer_veinte (2,3) -> Falso"
   ]
  },
  {
   "cell_type": "code",
   "execution_count": 7,
   "metadata": {
    "tags": []
   },
   "outputs": [],
   "source": [
    "def hacer_veinte(n1,n2):\n",
    "    return (n1+n2)==20 or n1==20 or n2==20"
   ]
  },
  {
   "cell_type": "code",
   "execution_count": 8,
   "metadata": {},
   "outputs": [
    {
     "data": {
      "text/plain": [
       "True"
      ]
     },
     "execution_count": 8,
     "metadata": {},
     "output_type": "execute_result"
    }
   ],
   "source": [
    "# Verificar\n",
    "hacer_veinte(20,10)"
   ]
  },
  {
   "cell_type": "code",
   "execution_count": 9,
   "metadata": {},
   "outputs": [
    {
     "data": {
      "text/plain": [
       "True"
      ]
     },
     "execution_count": 9,
     "metadata": {},
     "output_type": "execute_result"
    }
   ],
   "source": [
    "# Verificar\n",
    "hacer_veinte(12,8)"
   ]
  },
  {
   "cell_type": "code",
   "execution_count": 10,
   "metadata": {},
   "outputs": [
    {
     "data": {
      "text/plain": [
       "False"
      ]
     },
     "execution_count": 10,
     "metadata": {},
     "output_type": "execute_result"
    }
   ],
   "source": [
    "#Verificar\n",
    "hacer_veinte(2,3)"
   ]
  },
  {
   "cell_type": "markdown",
   "metadata": {},
   "source": [
    "# PROBLEMAS DE NIVEL 1"
   ]
  },
  {
   "cell_type": "markdown",
   "metadata": {},
   "source": [
    "#### VIEJO MACDONALD: Escribe una función que ponga en mayúscula la primera y cuarta letras de un nombre\n",
    "     \n",
    "     viejo_macdonald ('macdonald') -> MacDonald\n",
    "    \n",
    "Nota: `'macdonald'.capitalize ()` retorna `' Macdonald'`"
   ]
  },
  {
   "cell_type": "code",
   "execution_count": 11,
   "metadata": {
    "tags": []
   },
   "outputs": [],
   "source": [
    "def viejo_macdonald(nombre):\n",
    "    if len(nombre) > 3:\n",
    "        return nombre[:3].capitalize() + nombre[3:].capitalize()\n",
    "    else:\n",
    "        return 'Nombre es muy corto!'"
   ]
  },
  {
   "cell_type": "code",
   "execution_count": 12,
   "metadata": {},
   "outputs": [
    {
     "data": {
      "text/plain": [
       "'MacDonald'"
      ]
     },
     "execution_count": 12,
     "metadata": {},
     "output_type": "execute_result"
    }
   ],
   "source": [
    "# Verificar\n",
    "viejo_macdonald('macdonald')"
   ]
  },
  {
   "cell_type": "markdown",
   "metadata": {},
   "source": [
    "#### MASTER YODA: Dada una oración, devuelve una oración con las palabras invertidas\n",
    "\n",
    "     master_yoda ('estoy en casa') -> 'casa estoy en'\n",
    "     master_yoda ('Estamos listos') -> 'listos estamos'"
   ]
  },
  {
   "cell_type": "code",
   "execution_count": 13,
   "metadata": {
    "tags": []
   },
   "outputs": [],
   "source": [
    "def master_yoda(text):\n",
    "    return ' '.join(text.split()[::-1])"
   ]
  },
  {
   "cell_type": "code",
   "execution_count": 14,
   "metadata": {},
   "outputs": [
    {
     "data": {
      "text/plain": [
       "'casa en Estoy'"
      ]
     },
     "execution_count": 14,
     "metadata": {},
     "output_type": "execute_result"
    }
   ],
   "source": [
    "# Verificar\n",
    "master_yoda('Estoy en casa')"
   ]
  },
  {
   "cell_type": "code",
   "execution_count": 15,
   "metadata": {},
   "outputs": [
    {
     "data": {
      "text/plain": [
       "'listos Estamos'"
      ]
     },
     "execution_count": 15,
     "metadata": {},
     "output_type": "execute_result"
    }
   ],
   "source": [
    "# Check\n",
    "master_yoda('Estamos listos')"
   ]
  },
  {
   "cell_type": "markdown",
   "metadata": {},
   "source": [
    "#### CASI ALLÍ: Dado un número entero n, devuelve Verdadero si n está dentro de 10 de 100 o 200\n",
    "\n",
    "     casi_alli (90) -> Verdadero\n",
    "     casi_alli (104) -> Verdadero\n",
    "     casi_alli (150) -> Falso\n",
    "     cerca_alli (209) -> Verdadero\n",
    "    \n",
    "NOTA: `abs (num)` devuelve el valor absoluto de un número"
   ]
  },
  {
   "cell_type": "code",
   "execution_count": 16,
   "metadata": {
    "tags": []
   },
   "outputs": [],
   "source": [
    "def casi_alli(n):\n",
    "    return ((abs(100 - n) <= 10) or (abs(200 - n) <= 10))"
   ]
  },
  {
   "cell_type": "code",
   "execution_count": 17,
   "metadata": {},
   "outputs": [
    {
     "data": {
      "text/plain": [
       "True"
      ]
     },
     "execution_count": 17,
     "metadata": {},
     "output_type": "execute_result"
    }
   ],
   "source": [
    "# Verificar\n",
    "casi_alli(90)"
   ]
  },
  {
   "cell_type": "code",
   "execution_count": 18,
   "metadata": {},
   "outputs": [
    {
     "data": {
      "text/plain": [
       "True"
      ]
     },
     "execution_count": 18,
     "metadata": {},
     "output_type": "execute_result"
    }
   ],
   "source": [
    "# Verificar\n",
    "casi_alli(104)"
   ]
  },
  {
   "cell_type": "code",
   "execution_count": 19,
   "metadata": {},
   "outputs": [
    {
     "data": {
      "text/plain": [
       "False"
      ]
     },
     "execution_count": 19,
     "metadata": {},
     "output_type": "execute_result"
    }
   ],
   "source": [
    "# Verificar\n",
    "casi_alli(150)"
   ]
  },
  {
   "cell_type": "code",
   "execution_count": 20,
   "metadata": {},
   "outputs": [
    {
     "data": {
      "text/plain": [
       "True"
      ]
     },
     "execution_count": 20,
     "metadata": {},
     "output_type": "execute_result"
    }
   ],
   "source": [
    "# Verificar\n",
    "casi_alli(209)"
   ]
  },
  {
   "cell_type": "markdown",
   "metadata": {},
   "source": [
    "# PROBLEMAS DE NIVEL 2"
   ]
  },
  {
   "cell_type": "markdown",
   "metadata": {},
   "source": [
    "#### ENCUENTRA 33:\n",
    "\n",
    "Dada una lista de entradas, devuelve True si la matriz contiene un 3 junto a un 3 en algún lugar.\n",
    "\n",
    "     encuentra_33 ([1, 3, 3]) → Verdadero\n",
    "     encuentra_33 ([1, 3, 1, 3]) → Falso\n",
    "     encuentra_33 ([3, 1, 3]) → Falso"
   ]
  },
  {
   "cell_type": "code",
   "execution_count": 21,
   "metadata": {
    "tags": []
   },
   "outputs": [],
   "source": [
    "def encuentra_33(numeros):\n",
    "    for i in range(0, len(numeros)-1):\n",
    "      \n",
    "        # alternativa más bonita en código comentado\n",
    "        #if numeros[i] == 3 and numeros[i+1] == 3:\n",
    "    \n",
    "        if numeros[i:i+2] == [3,3]:\n",
    "            return True  \n",
    "    \n",
    "    return False"
   ]
  },
  {
   "cell_type": "code",
   "execution_count": 22,
   "metadata": {},
   "outputs": [
    {
     "data": {
      "text/plain": [
       "True"
      ]
     },
     "execution_count": 22,
     "metadata": {},
     "output_type": "execute_result"
    }
   ],
   "source": [
    "# Verificar\n",
    "encuentra_33([1, 3, 3])"
   ]
  },
  {
   "cell_type": "code",
   "execution_count": 23,
   "metadata": {},
   "outputs": [
    {
     "data": {
      "text/plain": [
       "False"
      ]
     },
     "execution_count": 23,
     "metadata": {},
     "output_type": "execute_result"
    }
   ],
   "source": [
    "# Verificar\n",
    "encuentra_33([1, 3, 1, 3])"
   ]
  },
  {
   "cell_type": "code",
   "execution_count": 24,
   "metadata": {},
   "outputs": [
    {
     "data": {
      "text/plain": [
       "False"
      ]
     },
     "execution_count": 24,
     "metadata": {},
     "output_type": "execute_result"
    }
   ],
   "source": [
    "# Verificar\n",
    "encuentra_33([3, 1, 3])"
   ]
  },
  {
   "cell_type": "markdown",
   "metadata": {},
   "source": [
    "#### MUÑECA DE PAPEL: Dada una cadena, devuelve una cadena donde por cada carácter en el original hay tres caracteres\n",
    "     muneca_papel ('Hola') -> 'HHHooolllaaa'\n",
    "     muneca_papel ('Mississippi') -> 'MMMiiissssssiiippppppiii'"
   ]
  },
  {
   "cell_type": "code",
   "execution_count": 25,
   "metadata": {
    "tags": []
   },
   "outputs": [],
   "source": [
    "def muneca_papel(text):\n",
    "    resultado = ''\n",
    "    for char in text:\n",
    "        resultado += char * 3\n",
    "    return resultado"
   ]
  },
  {
   "cell_type": "code",
   "execution_count": 26,
   "metadata": {},
   "outputs": [
    {
     "data": {
      "text/plain": [
       "'HHHooolllaaa'"
      ]
     },
     "execution_count": 26,
     "metadata": {},
     "output_type": "execute_result"
    }
   ],
   "source": [
    "# Verificar\n",
    "muneca_papel('Hola')"
   ]
  },
  {
   "cell_type": "code",
   "execution_count": 27,
   "metadata": {},
   "outputs": [
    {
     "data": {
      "text/plain": [
       "'MMMiiissssssiiissssssiiippppppiii'"
      ]
     },
     "execution_count": 27,
     "metadata": {},
     "output_type": "execute_result"
    }
   ],
   "source": [
    "# Verificar\n",
    "muneca_papel('Mississippi')"
   ]
  },
  {
   "cell_type": "markdown",
   "metadata": {},
   "source": [
    "#### BLACKJACK: Dados tres números enteros entre 1 y 11, si su suma es menor o igual que 21, devuelve su suma. Si su suma excede 21 *y* hay un once, reduzca la suma total en 10. Finalmente, si la suma (incluso después del ajuste) excede 21, devuelva 'BUST'\n",
    "     blackjack (5,6,7) -> 18\n",
    "     blackjack (9,9,9) -> 'BUSTO'\n",
    "     blackjack (9,9,11) -> 19"
   ]
  },
  {
   "cell_type": "code",
   "execution_count": 28,
   "metadata": {
    "tags": []
   },
   "outputs": [],
   "source": [
    "def blackjack(a,b,c):\n",
    "    \n",
    "    if sum((a,b,c)) <= 21:\n",
    "        return sum((a,b,c))\n",
    "    elif sum((a,b,c)) <=31 and 11 in (a,b,c):\n",
    "        return sum((a,b,c)) - 10\n",
    "    else:\n",
    "        return 'BUSTO'"
   ]
  },
  {
   "cell_type": "code",
   "execution_count": 29,
   "metadata": {},
   "outputs": [
    {
     "data": {
      "text/plain": [
       "18"
      ]
     },
     "execution_count": 29,
     "metadata": {},
     "output_type": "execute_result"
    }
   ],
   "source": [
    "# Verificar\n",
    "blackjack(5,6,7)"
   ]
  },
  {
   "cell_type": "code",
   "execution_count": 30,
   "metadata": {},
   "outputs": [
    {
     "data": {
      "text/plain": [
       "'BUSTO'"
      ]
     },
     "execution_count": 30,
     "metadata": {},
     "output_type": "execute_result"
    }
   ],
   "source": [
    "# Verificacr\n",
    "blackjack(9,9,9)"
   ]
  },
  {
   "cell_type": "code",
   "execution_count": 31,
   "metadata": {},
   "outputs": [
    {
     "data": {
      "text/plain": [
       "19"
      ]
     },
     "execution_count": 31,
     "metadata": {},
     "output_type": "execute_result"
    }
   ],
   "source": [
    "# Verificar\n",
    "blackjack(9,9,11)"
   ]
  },
  {
   "cell_type": "markdown",
   "metadata": {},
   "source": [
    "#### VERANO DEL 69: Devuelve la suma de los números en la matriz, excepto que ignora las secciones de números que comienzan con un 6 y se extienden hasta el siguiente 9 (cada 6 será seguido por al menos un 9). Devuelve 0 si no hay números.\n",
    " \n",
    "     verano_69 ([1, 3, 5]) -> 9\n",
    "     verano_69 ([4, 5, 6, 7, 8, 9]) -> 9\n",
    "     verano_69 ([2, 1, 6, 9, 11]) -> 14"
   ]
  },
  {
   "cell_type": "code",
   "execution_count": 32,
   "metadata": {
    "tags": []
   },
   "outputs": [],
   "source": [
    "def verano_69(arr):\n",
    "    total = 0\n",
    "    suma = True\n",
    "    for num in arr:\n",
    "        while suma:\n",
    "            if num != 6:\n",
    "                total += num\n",
    "                break\n",
    "            else:\n",
    "                suma = False\n",
    "        while not suma:\n",
    "            if num != 9:\n",
    "                break\n",
    "            else:\n",
    "                suma = True\n",
    "                break\n",
    "    return total"
   ]
  },
  {
   "cell_type": "code",
   "execution_count": 33,
   "metadata": {},
   "outputs": [
    {
     "data": {
      "text/plain": [
       "9"
      ]
     },
     "execution_count": 33,
     "metadata": {},
     "output_type": "execute_result"
    }
   ],
   "source": [
    "# Verificar\n",
    "verano_69([1, 3, 5])"
   ]
  },
  {
   "cell_type": "code",
   "execution_count": 34,
   "metadata": {},
   "outputs": [
    {
     "data": {
      "text/plain": [
       "9"
      ]
     },
     "execution_count": 34,
     "metadata": {},
     "output_type": "execute_result"
    }
   ],
   "source": [
    "# Verificar\n",
    "verano_69([4, 5, 6, 7, 8, 9])"
   ]
  },
  {
   "cell_type": "code",
   "execution_count": 35,
   "metadata": {},
   "outputs": [
    {
     "data": {
      "text/plain": [
       "14"
      ]
     },
     "execution_count": 35,
     "metadata": {},
     "output_type": "execute_result"
    }
   ],
   "source": [
    "# Verificar\n",
    "verano_69([2, 1, 6, 9, 11])"
   ]
  },
  {
   "cell_type": "markdown",
   "metadata": {},
   "source": [
    "# PROBLEMAS DESAFIANTES"
   ]
  },
  {
   "cell_type": "markdown",
   "metadata": {},
   "source": [
    "#### JUEGO DE ESPÍA: Escribe una función que tome una lista de números enteros y devuelva Verdadero si contiene 007 en orden\n",
    "\n",
    "      juego_de_espia ([1,2,4,0,0,7,5]) -> Verdadero\n",
    "      juego_de_espia ([1,0,2,4,0,5,7]) -> Verdadero\n",
    "      juego_de_espia ([1,7,2,0,4,5,0]) -> Falso"
   ]
  },
  {
   "cell_type": "code",
   "execution_count": 36,
   "metadata": {
    "tags": []
   },
   "outputs": [],
   "source": [
    "def juego_de_espia(nums):\n",
    "\n",
    "    codigo = [0,0,7,'x']\n",
    "    \n",
    "    for num in nums:\n",
    "        if num == codigo[0]:\n",
    "            codigo.pop(0)   # codigo.remove(num) tambien trabaja\n",
    "       \n",
    "    return len(codigo) == 1"
   ]
  },
  {
   "cell_type": "code",
   "execution_count": 37,
   "metadata": {},
   "outputs": [
    {
     "data": {
      "text/plain": [
       "True"
      ]
     },
     "execution_count": 37,
     "metadata": {},
     "output_type": "execute_result"
    }
   ],
   "source": [
    "# Verificar\n",
    "juego_de_espia([1,2,4,0,0,7,5])"
   ]
  },
  {
   "cell_type": "code",
   "execution_count": 38,
   "metadata": {},
   "outputs": [
    {
     "data": {
      "text/plain": [
       "True"
      ]
     },
     "execution_count": 38,
     "metadata": {},
     "output_type": "execute_result"
    }
   ],
   "source": [
    "# Verificar\n",
    "juego_de_espia([1,0,2,4,0,5,7])"
   ]
  },
  {
   "cell_type": "code",
   "execution_count": 39,
   "metadata": {},
   "outputs": [
    {
     "data": {
      "text/plain": [
       "False"
      ]
     },
     "execution_count": 39,
     "metadata": {},
     "output_type": "execute_result"
    }
   ],
   "source": [
    "# Verificar\n",
    "juego_de_espia([1,7,2,0,4,5,0])"
   ]
  },
  {
   "cell_type": "markdown",
   "metadata": {},
   "source": [
    "#### CUENTA NUMEROS PRIMOS: Escribe una función que devuelva el *número* de números primos que existen hasta un número dado inclusive\n",
    "     cuenta_primos (100) -> 25\n",
    "\n",
    "Por convención, 0 y 1 no son primos."
   ]
  },
  {
   "cell_type": "code",
   "execution_count": 40,
   "metadata": {
    "tags": []
   },
   "outputs": [],
   "source": [
    "def cuenta_primos(num):\n",
    "    primos = [2]\n",
    "    x = 3\n",
    "    if num < 2:  # para el caso de num = 0 o 1\n",
    "        return 0\n",
    "    while x <= num:\n",
    "        for y in range(3,x,2):  # prueba todos los factores impares hasta x-1\n",
    "            if x%y == 0:\n",
    "                x += 2\n",
    "                break\n",
    "        else:\n",
    "            primos.append(x)\n",
    "            x += 2\n",
    "    print(primos)\n",
    "    return len(primos)\n",
    "                "
   ]
  },
  {
   "cell_type": "code",
   "execution_count": 41,
   "metadata": {},
   "outputs": [
    {
     "name": "stdout",
     "output_type": "stream",
     "text": [
      "[2, 3, 5, 7, 11, 13, 17, 19, 23, 29, 31, 37, 41, 43, 47, 53, 59, 61, 67, 71, 73, 79, 83, 89, 97]\n"
     ]
    },
    {
     "data": {
      "text/plain": [
       "25"
      ]
     },
     "execution_count": 41,
     "metadata": {},
     "output_type": "execute_result"
    }
   ],
   "source": [
    "# Verificar\n",
    "cuenta_primos(100)"
   ]
  },
  {
   "cell_type": "markdown",
   "metadata": {},
   "source": [
    "BONIFICACIÓN: ¡Aquí hay una versión más rápida que utiliza los números primos que recopilamos a medida que avanzamos!"
   ]
  },
  {
   "cell_type": "code",
   "execution_count": 42,
   "metadata": {
    "tags": []
   },
   "outputs": [],
   "source": [
    "def cuenta_primos2(num):\n",
    "    primos = [2]\n",
    "    x = 3\n",
    "    if num < 2:\n",
    "        return 0\n",
    "    while x <= num:\n",
    "        for y in primos:  # usa la lista de primos!\n",
    "            if x%y == 0:\n",
    "                x += 2\n",
    "                break\n",
    "        else:\n",
    "            primos.append(x)\n",
    "            x += 2\n",
    "    print(primos)\n",
    "    return len(primos)"
   ]
  },
  {
   "cell_type": "code",
   "execution_count": 43,
   "metadata": {},
   "outputs": [
    {
     "name": "stdout",
     "output_type": "stream",
     "text": [
      "[2, 3, 5, 7, 11, 13, 17, 19, 23, 29, 31, 37, 41, 43, 47, 53, 59, 61, 67, 71, 73, 79, 83, 89, 97]\n"
     ]
    },
    {
     "data": {
      "text/plain": [
       "25"
      ]
     },
     "execution_count": 43,
     "metadata": {},
     "output_type": "execute_result"
    }
   ],
   "source": [
    "cuenta_primos2(100)"
   ]
  },
  {
   "cell_type": "markdown",
   "metadata": {},
   "source": [
    "-----\n",
    "### Solo por diversión, no es un problema real :)\n",
    "\n",
    "#### IMPRIMIR EN GRANDE: escribe una función que tome una sola letra y devuelva una representación de 5x5 de esa letra\n",
    "     imprime_en_grande ('a')\n",
    "    \n",
    "     fuera:   *\n",
    "           * *\n",
    "          *****\n",
    "          * *\n",
    "          * *\n",
    "SUGERENCIA: Considere hacer un diccionario de patrones posibles y mapear el alfabeto con combinaciones específicas de patrones de 5 líneas. <br> Para los propósitos de este ejercicio, está bien si su diccionario se detiene en \"E\"."
   ]
  },
  {
   "cell_type": "code",
   "execution_count": 44,
   "metadata": {
    "tags": []
   },
   "outputs": [],
   "source": [
    "def imprime_en_grande(letra):\n",
    "    modelos = {1:'  *  ',2:' * * ',3:'*   *',4:'*****',5:'**** ',6:'   * ',7:' *   ',8:'*   * ',9:'*    '}\n",
    "    alfabeto = {'A':[1,2,4,3,3],'B':[5,3,5,3,5],'C':[4,9,9,9,4],'D':[5,3,3,3,5],'E':[4,9,4,9,4]}\n",
    "    for pattern in alfabeto[letra.upper()]:\n",
    "        print(modelos[pattern])"
   ]
  },
  {
   "cell_type": "code",
   "execution_count": 45,
   "metadata": {},
   "outputs": [
    {
     "name": "stdout",
     "output_type": "stream",
     "text": [
      "  *  \n",
      " * * \n",
      "*****\n",
      "*   *\n",
      "*   *\n"
     ]
    }
   ],
   "source": [
    "imprime_en_grande('a')"
   ]
  },
  {
   "cell_type": "markdown",
   "metadata": {},
   "source": [
    "## Buen trabajo!"
   ]
  },
  {
   "cell_type": "code",
   "execution_count": null,
   "metadata": {},
   "outputs": [],
   "source": []
  }
 ],
 "metadata": {
  "kernelspec": {
   "display_name": "Python 3 (ipykernel)",
   "language": "python",
   "name": "python3"
  },
  "language_info": {
   "codemirror_mode": {
    "name": "ipython",
    "version": 3
   },
   "file_extension": ".py",
   "mimetype": "text/x-python",
   "name": "python",
   "nbconvert_exporter": "python",
   "pygments_lexer": "ipython3",
   "version": "3.9.6"
  }
 },
 "nbformat": 4,
 "nbformat_minor": 4
}
