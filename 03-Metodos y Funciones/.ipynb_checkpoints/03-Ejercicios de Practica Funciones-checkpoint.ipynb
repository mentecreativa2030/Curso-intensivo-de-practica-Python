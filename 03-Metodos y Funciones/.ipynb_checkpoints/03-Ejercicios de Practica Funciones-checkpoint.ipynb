{
 "cells": [
  {
   "cell_type": "markdown",
   "metadata": {},
   "source": [
    "# Ejercicios de práctica de funciones\n",
    "\n",
    "Los problemas se ordenan en dificultad creciente:\n",
    "* Calentamiento: estos se pueden resolver utilizando comparaciones y métodos básicos\n",
    "* Nivel 1: estos pueden involucrar declaraciones condicionales y métodos simples si / entonces\n",
    "* Nivel 2: estos pueden requerir iterar sobre secuencias, generalmente con algún tipo de bucle\n",
    "* Desafiante: se necesitará algo de creatividad para resolver"
   ]
  },
  {
   "cell_type": "markdown",
   "metadata": {},
   "source": [
    "## SECCIÓN DE CALENTAMIENTO:"
   ]
  },
  {
   "cell_type": "markdown",
   "metadata": {},
   "source": [
    "#### MENOS DE DOS PARES: Escribe una función que devuelva el menor de dos números dados * si * ambos números son pares, pero devuelve el mayor si uno o ambos números son impares\n",
    "     menor_de_dos_pares (2,4) -> 2\n",
    "     menor_de_dos_pares (2,5) -> 5"
   ]
  },
  {
   "cell_type": "code",
   "execution_count": 1,
   "metadata": {
    "tags": []
   },
   "outputs": [],
   "source": [
    "def menor_de_dos_pares(a,b):\n",
    "    pass"
   ]
  },
  {
   "cell_type": "code",
   "execution_count": 2,
   "metadata": {
    "tags": []
   },
   "outputs": [],
   "source": [
    "# Verifica\n",
    "menor_de_dos_pares(2,4)"
   ]
  },
  {
   "cell_type": "code",
   "execution_count": 3,
   "metadata": {
    "tags": []
   },
   "outputs": [],
   "source": [
    "# Verifica\n",
    "menor_de_dos_pares(2,5)"
   ]
  },
  {
   "cell_type": "markdown",
   "metadata": {},
   "source": [
    "#### ANIMAL CRACKER: Escribir una función que toma una cadena de dos palabras y devuelve Verdadero si ambas palabras comienzan con la misma letra\n",
    "     animal_crackers ('Llama equilibrada') -> Verdadero\n",
    "     animal_crackers ('Canguro loco') -> Falso"
   ]
  },
  {
   "cell_type": "code",
   "execution_count": 4,
   "metadata": {
    "tags": []
   },
   "outputs": [],
   "source": [
    "def animal_crackers(text):\n",
    "    pass"
   ]
  },
  {
   "cell_type": "code",
   "execution_count": 5,
   "metadata": {
    "tags": []
   },
   "outputs": [],
   "source": [
    "# Verifica\n",
    "animal_crackers('Llama equilibrada')"
   ]
  },
  {
   "cell_type": "code",
   "execution_count": 6,
   "metadata": {
    "tags": []
   },
   "outputs": [],
   "source": [
    "# Verifica\n",
    "animal_crackers('Canguro loco')"
   ]
  },
  {
   "cell_type": "markdown",
   "metadata": {},
   "source": [
    "#### HACER VEINTE: Dados dos enteros, devuelve Verdadero si la suma de los enteros es 20 * o * si uno de los enteros es 20. Si no, devuelve Falso\n",
    "\n",
    "     hacer_veinte (20,10) -> Verdadero\n",
    "     hacer_veinte (12,8) -> Verdadero\n",
    "     hacer_veinte (2,3) -> Falso"
   ]
  },
  {
   "cell_type": "code",
   "execution_count": 7,
   "metadata": {
    "tags": []
   },
   "outputs": [],
   "source": [
    "def hacer_veinte(n1,n2):\n",
    "    pass"
   ]
  },
  {
   "cell_type": "code",
   "execution_count": 8,
   "metadata": {
    "tags": []
   },
   "outputs": [],
   "source": [
    "# Verifica\n",
    "hacer_veinte(20,10)"
   ]
  },
  {
   "cell_type": "code",
   "execution_count": 9,
   "metadata": {
    "tags": []
   },
   "outputs": [],
   "source": [
    "# Verifica\n",
    "hacer_veinte(2,3)"
   ]
  },
  {
   "cell_type": "markdown",
   "metadata": {},
   "source": [
    "# PROBLEMAS DE NIVEL 1"
   ]
  },
  {
   "cell_type": "markdown",
   "metadata": {},
   "source": [
    "#### VIEJO MACDONALD: Escribe una función que ponga en mayúscula la primera y cuarta letras de un nombre\n",
    "     \n",
    "     old_macdonald ('macdonald') -> MacDonald\n",
    "    \n",
    "Nota: `'macdonald'.capitalize ()` devuelve `' Macdonald'`"
   ]
  },
  {
   "cell_type": "code",
   "execution_count": 10,
   "metadata": {
    "tags": []
   },
   "outputs": [],
   "source": [
    "def viejo_macdonald(nombre):\n",
    "    pass"
   ]
  },
  {
   "cell_type": "code",
   "execution_count": 11,
   "metadata": {
    "tags": []
   },
   "outputs": [],
   "source": [
    "# Verifica\n",
    "viejo_macdonald('macdonald')"
   ]
  },
  {
   "cell_type": "markdown",
   "metadata": {},
   "source": [
    "#### MASTER YODA: Dada una oración, devuelve una oración con las palabras invertidas\n",
    "\n",
    "     master_yoda ('estoy en casa') -> 'hogar soy yo'\n",
    "     master_yoda ('Estamos listos') -> 'listos estamos'\n",
    "    \n",
    "Nota: el método .join () puede resultar útil aquí. El método .join () le permite unir cadenas en una lista con alguna cadena de conector. Por ejemplo, algunos usos del método .join ():\n",
    "\n",
    "     >>> \"-\". join (['a', 'b', 'c'])\n",
    "     >>> 'a - b - c'\n",
    "\n",
    "Esto significa que si tiene una lista de palabras que desea convertir en una oración, puede unirlas con una cadena de un solo espacio:\n",
    "\n",
    "     >>> \"\" .join (['Hola', 'mundo'])\n",
    "     >>> \"Hola mundo\""
   ]
  },
  {
   "cell_type": "code",
   "execution_count": 12,
   "metadata": {
    "tags": []
   },
   "outputs": [],
   "source": [
    "def master_yoda(text):\n",
    "    pass"
   ]
  },
  {
   "cell_type": "code",
   "execution_count": 13,
   "metadata": {
    "tags": []
   },
   "outputs": [],
   "source": [
    "# Verifica\n",
    "master_yoda('Estoy en casa')"
   ]
  },
  {
   "cell_type": "code",
   "execution_count": 14,
   "metadata": {
    "tags": []
   },
   "outputs": [],
   "source": [
    "# Verifica\n",
    "master_yoda('Estamos listos')"
   ]
  },
  {
   "cell_type": "markdown",
   "metadata": {},
   "source": [
    "#### CASI ALLÍ: Dado un número entero n, devuelve Verdadero si n está dentro de 10 de 100 o 200\n",
    "\n",
    "     casi_hay (90) -> Verdadero\n",
    "     casi_hay (104) -> Verdadero\n",
    "     casi_hay (150) -> Falso\n",
    "     Near_there (209) -> Verdadero\n",
    "    \n",
    "NOTA: `abs (num)` devuelve el valor absoluto de un número"
   ]
  },
  {
   "cell_type": "code",
   "execution_count": 15,
   "metadata": {
    "tags": []
   },
   "outputs": [],
   "source": [
    "def casi_alli(n):\n",
    "    pass"
   ]
  },
  {
   "cell_type": "code",
   "execution_count": 16,
   "metadata": {
    "tags": []
   },
   "outputs": [],
   "source": [
    "# Verifica\n",
    "casi_alli(104)"
   ]
  },
  {
   "cell_type": "code",
   "execution_count": 17,
   "metadata": {
    "tags": []
   },
   "outputs": [],
   "source": [
    "# Verifica\n",
    "casi_alli(150)"
   ]
  },
  {
   "cell_type": "code",
   "execution_count": 18,
   "metadata": {
    "tags": []
   },
   "outputs": [],
   "source": [
    "# Verifica\n",
    "casi_alli(209)"
   ]
  },
  {
   "cell_type": "markdown",
   "metadata": {},
   "source": [
    "# PROBLEMAS DE NIVEL 2"
   ]
  },
  {
   "cell_type": "markdown",
   "metadata": {},
   "source": [
    "#### ENCUENTRA 33:\n",
    "\n",
    "Dada una lista de entradas, devuelve True si la matriz contiene un 3 junto a un 3 en algún lugar.\n",
    "\n",
    "     encuentra_33 ([1, 3, 3]) → Verdadero\n",
    "     encuentra_33 ([1, 3, 1, 3]) → Falso\n",
    "     encuentra_33 ([3, 1, 3]) → Falso"
   ]
  },
  {
   "cell_type": "code",
   "execution_count": 19,
   "metadata": {
    "tags": []
   },
   "outputs": [],
   "source": [
    "def encuentra_33(numeros):\n",
    "    pass"
   ]
  },
  {
   "cell_type": "code",
   "execution_count": 20,
   "metadata": {
    "tags": []
   },
   "outputs": [],
   "source": [
    "# Verifica\n",
    "encuentra_33([1, 3, 3])"
   ]
  },
  {
   "cell_type": "code",
   "execution_count": 21,
   "metadata": {
    "tags": []
   },
   "outputs": [],
   "source": [
    "# Verifica\n",
    "encuentra_33([1, 3, 1, 3])"
   ]
  },
  {
   "cell_type": "code",
   "execution_count": 24,
   "metadata": {
    "tags": []
   },
   "outputs": [],
   "source": [
    "# Verificae\n",
    "encuentra_33([3, 1, 3])"
   ]
  },
  {
   "cell_type": "markdown",
   "metadata": {},
   "source": [
    "#### MUÑECA DE PAPEL: Dada una cadena, devuelve una cadena donde por cada caracter en el original hay tres caracteres\n",
    "     paper_doll ('Hola') -> 'HHHooolllaaa'\n",
    "     paper_doll ('Mississippi') -> 'MMMiiissssssiiippppppiii'"
   ]
  },
  {
   "cell_type": "code",
   "execution_count": 22,
   "metadata": {
    "tags": []
   },
   "outputs": [],
   "source": [
    "def muneca_de_papel(text):\n",
    "    pass"
   ]
  },
  {
   "cell_type": "code",
   "execution_count": 23,
   "metadata": {
    "tags": []
   },
   "outputs": [],
   "source": [
    "# Verifica\n",
    "muneca_de_papel('Hola')"
   ]
  },
  {
   "cell_type": "code",
   "execution_count": 24,
   "metadata": {
    "tags": []
   },
   "outputs": [],
   "source": [
    "# Verifica\n",
    "muneca_de_papel('Mississippi')"
   ]
  },
  {
   "cell_type": "markdown",
   "metadata": {},
   "source": [
    "#### BLACKJACK: Dados tres enteros entre 1 y 11, si su suma es menor o igual a 21, devuelve su suma. Si su suma excede 21 *y* hay un once, reduce la suma total en 10. Finalmente, si la suma (incluso después del ajuste) excede 21, devuelve 'BUST'\n",
    "    blackjack(5,6,7) --> 18\n",
    "    blackjack(9,9,9) --> 'BUST'\n",
    "    blackjack(9,9,11) --> 19"
   ]
  },
  {
   "cell_type": "code",
   "execution_count": 25,
   "metadata": {
    "tags": []
   },
   "outputs": [],
   "source": [
    "def blackjack(a,b,c):\n",
    "    pass"
   ]
  },
  {
   "cell_type": "code",
   "execution_count": 26,
   "metadata": {
    "tags": []
   },
   "outputs": [],
   "source": [
    "# Verifica\n",
    "blackjack(5,6,7)"
   ]
  },
  {
   "cell_type": "code",
   "execution_count": 27,
   "metadata": {
    "tags": []
   },
   "outputs": [],
   "source": [
    "# Verifica\n",
    "blackjack(9,9,9)"
   ]
  },
  {
   "cell_type": "code",
   "execution_count": 28,
   "metadata": {
    "tags": []
   },
   "outputs": [],
   "source": [
    "# Verifica\n",
    "blackjack(9,9,11)"
   ]
  },
  {
   "cell_type": "markdown",
   "metadata": {
    "tags": []
   },
   "source": [
    "#### VERANO DEL 69: Devuelve la suma de los números en la matriz, excepto que ignora las secciones de números que comienzan con un 6 y se extienden hasta el siguiente 9 (cada 6 será seguido por al menos un 9). Devuelve 0 si no hay números.\n",
    " \n",
    "     verano_69 ([1, 3, 5]) -> 9\n",
    "     verano_69 ([4, 5, 6, 7, 8, 9]) -> 9\n",
    "     verano_69 ([2, 1, 6, 9, 11]) -> 14"
   ]
  },
  {
   "cell_type": "code",
   "execution_count": 29,
   "metadata": {
    "tags": []
   },
   "outputs": [],
   "source": [
    "def verano_69(arr):\n",
    "    pass"
   ]
  },
  {
   "cell_type": "code",
   "execution_count": 30,
   "metadata": {
    "tags": []
   },
   "outputs": [],
   "source": [
    "# Verifica\n",
    "verano_69([1, 3, 5])"
   ]
  },
  {
   "cell_type": "code",
   "execution_count": 31,
   "metadata": {
    "tags": []
   },
   "outputs": [],
   "source": [
    "# Verifica\n",
    "verano_69([4, 5, 6, 7, 8, 9])"
   ]
  },
  {
   "cell_type": "code",
   "execution_count": 32,
   "metadata": {
    "tags": []
   },
   "outputs": [],
   "source": [
    "# Verifica\n",
    "verano_69([2, 1, 6, 9, 11])"
   ]
  },
  {
   "cell_type": "markdown",
   "metadata": {},
   "source": [
    "# PROBLEMAS DESAFIANTES"
   ]
  },
  {
   "cell_type": "markdown",
   "metadata": {},
   "source": [
    "#### JUEGO DE ESPÍA: Escribe una función que tome una lista de números enteros y devuelva Verdadero si contiene 007 en orden\n",
    "\n",
    "      juego_de_espia ([1,2,4,0,0,7,5]) -> Verdadero\n",
    "      juego_de_espia ([1,0,2,4,0,5,7]) -> Verdadero\n",
    "      juego_de_espia ([1,7,2,0,4,5,0]) -> Falso\n"
   ]
  },
  {
   "cell_type": "code",
   "execution_count": 33,
   "metadata": {
    "tags": []
   },
   "outputs": [],
   "source": [
    "def juego_de_espia(numeros):\n",
    "    pass"
   ]
  },
  {
   "cell_type": "code",
   "execution_count": 34,
   "metadata": {
    "tags": []
   },
   "outputs": [],
   "source": [
    "# Verifica\n",
    "juego_de_espia([1,2,4,0,0,7,5])"
   ]
  },
  {
   "cell_type": "code",
   "execution_count": 35,
   "metadata": {
    "tags": []
   },
   "outputs": [],
   "source": [
    "# Verifica\n",
    "juego_de_espia([1,0,2,4,0,5,7])"
   ]
  },
  {
   "cell_type": "code",
   "execution_count": 36,
   "metadata": {
    "tags": []
   },
   "outputs": [],
   "source": [
    "# Verifica\n",
    "juego_de_espia([1,7,2,0,4,5,0])"
   ]
  },
  {
   "cell_type": "markdown",
   "metadata": {},
   "source": [
    "#### CUENTA NUMEROS PRIMOS: Escribe una función que devuelva el *número* de números primos que existen hasta un número dado inclusive\n",
    "     cuenta_primos (100) -> 25\n",
    "\n",
    "Por convención, 0 y 1 no son primos."
   ]
  },
  {
   "cell_type": "code",
   "execution_count": 37,
   "metadata": {
    "tags": []
   },
   "outputs": [],
   "source": [
    "def cuenta_primos(num):\n",
    "    pass\n",
    "                "
   ]
  },
  {
   "cell_type": "code",
   "execution_count": 38,
   "metadata": {
    "tags": []
   },
   "outputs": [],
   "source": [
    "# Verifica\n",
    "cuenta_primos(100)"
   ]
  },
  {
   "cell_type": "markdown",
   "metadata": {},
   "source": [
    "### Solo por diversión:\n",
    "#### IMPRIMIR EN GRANDE: escribe una función que tome una sola letra y devuelva una representación de 5x5 de esa letra\n",
    "     imprimir_en_grande ('a')\n",
    "    \n",
    "     fuera:   *\n",
    "           * *\n",
    "          *****\n",
    "          * *\n",
    "          * *\n",
    "SUGERENCIA: Considere hacer un diccionario de patrones posibles y mapear el alfabeto con combinaciones específicas de patrones de 5 líneas. <br> Para los propósitos de este ejercicio, está bien si su diccionario se detiene en \"E\"."
   ]
  },
  {
   "cell_type": "code",
   "execution_count": 39,
   "metadata": {
    "tags": []
   },
   "outputs": [],
   "source": [
    "def imprimir_en_grande(letra):\n",
    "    pass"
   ]
  },
  {
   "cell_type": "code",
   "execution_count": 40,
   "metadata": {
    "tags": []
   },
   "outputs": [],
   "source": [
    "imprimir_en_grande('a')"
   ]
  },
  {
   "cell_type": "markdown",
   "metadata": {},
   "source": [
    "## Buen trabajo!"
   ]
  },
  {
   "cell_type": "code",
   "execution_count": null,
   "metadata": {},
   "outputs": [],
   "source": []
  }
 ],
 "metadata": {
  "kernelspec": {
   "display_name": "Python 3 (ipykernel)",
   "language": "python",
   "name": "python3"
  },
  "language_info": {
   "codemirror_mode": {
    "name": "ipython",
    "version": 3
   },
   "file_extension": ".py",
   "mimetype": "text/x-python",
   "name": "python",
   "nbconvert_exporter": "python",
   "pygments_lexer": "ipython3",
   "version": "3.9.6"
  }
 },
 "nbformat": 4,
 "nbformat_minor": 4
}
