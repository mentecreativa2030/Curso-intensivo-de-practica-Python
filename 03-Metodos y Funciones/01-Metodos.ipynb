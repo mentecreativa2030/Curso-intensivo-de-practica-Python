{
 "cells": [
  {
   "cell_type": "markdown",
   "metadata": {},
   "source": [
    "# Métodos\n",
    "\n",
    "Ya hemos visto algunos ejemplos de métodos al aprender sobre los tipos de estructura de datos y objetos en Python. Los métodos son esencialmente funciones integradas en objetos. Más adelante en el curso aprenderemos cómo crear nuestros propios objetos y métodos usando Programación Orientada a Objetos (POO) y clases.\n",
    "\n",
    "Los métodos realizan acciones específicas en un objeto y también pueden tomar argumentos, como una función. Esta lección servirá como una breve introducción a los métodos y lo hará pensar en los métodos generales de diseño que abordaremos cuando lleguemos a la POO en el curso.\n",
    "\n",
    "Los métodos están en la forma:\n",
    "\n",
    "     object.method (arg1, arg2, etc ...)\n",
    "    \n",
    "Más adelante verá que podemos pensar en los métodos como si tuvieran un argumento \"self\" que se refiere al objeto en sí. No puede ver este argumento, pero lo usaremos más adelante en el curso durante las conferencias de OOP.\n",
    "\n",
    "Echemos un vistazo rápido a un ejemplo de los diversos métodos que tiene una lista:"
   ]
  },
  {
   "cell_type": "code",
   "execution_count": 1,
   "metadata": {
    "tags": []
   },
   "outputs": [],
   "source": [
    "# Crea una lista simple\n",
    "lst = [1,2,3,4,5]"
   ]
  },
  {
   "cell_type": "markdown",
   "metadata": {},
   "source": [
    "Afortunadamente, con iPython y Jupyter Notebook podemos ver rápidamente todos los métodos posibles usando la tecla de tabulación. Los métodos para una lista son:\n",
    "* append\n",
    "* count\n",
    "* extend\n",
    "* insert\n",
    "* pop\n",
    "* remove\n",
    "* reverse\n",
    "* sort\n",
    "\n",
    "Probemos algunas de ellos:"
   ]
  },
  {
   "cell_type": "markdown",
   "metadata": {},
   "source": [
    "**append()** nos permite agregar elementos al final de una lista:"
   ]
  },
  {
   "cell_type": "code",
   "execution_count": 2,
   "metadata": {
    "tags": []
   },
   "outputs": [],
   "source": [
    "lst.append(6)"
   ]
  },
  {
   "cell_type": "code",
   "execution_count": 3,
   "metadata": {},
   "outputs": [
    {
     "data": {
      "text/plain": [
       "[1, 2, 3, 4, 5, 6]"
      ]
     },
     "execution_count": 3,
     "metadata": {},
     "output_type": "execute_result"
    }
   ],
   "source": [
    "lst"
   ]
  },
  {
   "cell_type": "markdown",
   "metadata": {},
   "source": [
    "Grandioso! Ahora  que tal **count()**? El The count() El método count contara el numero de veces de un elemento en la lista."
   ]
  },
  {
   "cell_type": "code",
   "execution_count": 4,
   "metadata": {},
   "outputs": [
    {
     "data": {
      "text/plain": [
       "1"
      ]
     },
     "execution_count": 4,
     "metadata": {},
     "output_type": "execute_result"
    }
   ],
   "source": [
    "# Verifica cuantas vees el numero 2 se muestra en la lista\n",
    "lst.count(2)"
   ]
  },
  {
   "cell_type": "markdown",
   "metadata": {},
   "source": [
    "Tu puedes siempre usar Shift+Tab en Jupyter Notebook para obtener mas ayuda acerca del metodo. En general Python puede usar la funcion help(): "
   ]
  },
  {
   "cell_type": "code",
   "execution_count": 5,
   "metadata": {},
   "outputs": [
    {
     "name": "stdout",
     "output_type": "stream",
     "text": [
      "Help on built-in function count:\n",
      "\n",
      "count(value, /) method of builtins.list instance\n",
      "    Return number of occurrences of value.\n",
      "\n"
     ]
    }
   ],
   "source": [
    "help(lst.count)"
   ]
  },
  {
   "cell_type": "markdown",
   "metadata": {},
   "source": [
    "Siéntase libre de jugar con el resto de los métodos para obtener una lista. Más adelante en esta sección, su cuestionario incluirá el uso de la ayuda y la búsqueda de métodos de diferentes tipos de objetos en Google."
   ]
  },
  {
   "cell_type": "markdown",
   "metadata": {},
   "source": [
    "¡Estupendo! ¡Con esta lección, debería sentirse cómodo llamando a métodos de objetos en Python!"
   ]
  },
  {
   "cell_type": "code",
   "execution_count": null,
   "metadata": {},
   "outputs": [],
   "source": []
  }
 ],
 "metadata": {
  "kernelspec": {
   "display_name": "Python 3 (ipykernel)",
   "language": "python",
   "name": "python3"
  },
  "language_info": {
   "codemirror_mode": {
    "name": "ipython",
    "version": 3
   },
   "file_extension": ".py",
   "mimetype": "text/x-python",
   "name": "python",
   "nbconvert_exporter": "python",
   "pygments_lexer": "ipython3",
   "version": "3.9.6"
  }
 },
 "nbformat": 4,
 "nbformat_minor": 4
}
