{
 "cells": [
  {
   "cell_type": "markdown",
   "metadata": {},
   "source": [
    "# Declaraciones anidadas y alcance\n",
    "\n",
    "Ahora que hemos repasado la escritura de nuestras propias funciones, es importante entender cómo Python maneja los nombres de variables que usted asigna. Cuando crea un nombre de variable en Python, el nombre se almacena en un *espacio de nombre*. Los nombres de variable también tienen un *alcance*, el alcance determina la visibilidad de ese nombre de variable para otras partes de su código.\n",
    "\n",
    "Comencemos con un experimento mental rápido; imagina el siguiente código:"
   ]
  },
  {
   "cell_type": "code",
   "execution_count": 1,
   "metadata": {
    "tags": []
   },
   "outputs": [],
   "source": [
    "x = 25\n",
    "\n",
    "def impresora():\n",
    "    x = 50\n",
    "    return x\n",
    "\n",
    "# print(x)\n",
    "# print(impresora())"
   ]
  },
  {
   "cell_type": "markdown",
   "metadata": {},
   "source": [
    "¿Cuál imagina que es la salida de la impresora ()? 25 o 50? ¿Cuál es la salida de la impresión x? 25 o 50?"
   ]
  },
  {
   "cell_type": "code",
   "execution_count": 2,
   "metadata": {},
   "outputs": [
    {
     "name": "stdout",
     "output_type": "stream",
     "text": [
      "25\n"
     ]
    }
   ],
   "source": [
    "print(x)"
   ]
  },
  {
   "cell_type": "code",
   "execution_count": 3,
   "metadata": {},
   "outputs": [
    {
     "name": "stdout",
     "output_type": "stream",
     "text": [
      "50\n"
     ]
    }
   ],
   "source": [
    "print(impresora())"
   ]
  },
  {
   "cell_type": "markdown",
   "metadata": {},
   "source": [
    "¡Interesante! Pero, ¿cómo sabe Python a qué **x** te refieres en tu código? Aquí es donde entra la idea de alcance. Python tiene un conjunto de reglas que sigue para decidir qué variables (como **x** en este caso) estás haciendo referencia en tu código. Analicemos las reglas:Es muy importante comprender esta idea de alcance en su código para poder asignar y llamar correctamente los nombres de las variables.\n",
    "\n",
    "En términos simples, la idea de alcance se puede describir mediante 3 reglas generales:\n",
    "\n",
    "1. Las asignaciones de nombres crearán o cambiarán los nombres locales de forma predeterminada.\n",
    "2. Búsqueda de referencias de nombre (como máximo) cuatro ámbitos, estos son:\n",
    "     * local\n",
    "     * adjuntar funciones\n",
    "     * global\n",
    "     * incorporado\n",
    "3. Los nombres declarados en declaraciones globales y no locales asignan nombres asignados a los ámbitos de módulo y función adjuntos.Es muy importante comprender esta idea de alcance en su código para poder asignar y llamar correctamente los nombres de las variables.\n",
    "\n"
   ]
  },
  {
   "cell_type": "markdown",
   "metadata": {},
   "source": [
    "\n",
    "La declaración en el #2 anterior puede definirse mediante la regla LEGB.\n",
    "\n",
    "**Regla LEGB:**\n",
    "\n",
    "L: Local: nombres asignados de cualquier forma dentro de una función (def o lambda) y no declarados globales en esa función.\n",
    "\n",
    "E: Funciones adjuntas locales: nombres en el ámbito local de todas y cada una de las funciones adjuntas (def o lambda), desde el interior al exterior.\n",
    "\n",
    "G: Global (módulo): nombres asignados en el nivel superior de un archivo de módulo o declarados globales en una def dentro del archivo.\n",
    "\n",
    "B: Incorporado (Python) - Nombres preasignados en el módulo de nombres incorporado: open, range, SyntaxError, ..."
   ]
  },
  {
   "cell_type": "markdown",
   "metadata": {},
   "source": [
    "## Ejemplos rápidos de LEGB\n",
    "\n",
    "### Local"
   ]
  },
  {
   "cell_type": "code",
   "execution_count": 4,
   "metadata": {
    "tags": []
   },
   "outputs": [],
   "source": [
    "# x es local aqui:\n",
    "f = lambda x:x**2"
   ]
  },
  {
   "cell_type": "markdown",
   "metadata": {},
   "source": [
    "### Incluir locales de función\n",
    "Esto ocurre cuando tenemos una función dentro de una función (funciones anidadas)\n"
   ]
  },
  {
   "cell_type": "code",
   "execution_count": 5,
   "metadata": {},
   "outputs": [
    {
     "name": "stdout",
     "output_type": "stream",
     "text": [
      "Hola Esto es nombre global\n"
     ]
    }
   ],
   "source": [
    "nombre = 'Esto es nombre global'\n",
    "\n",
    "def saludar():\n",
    "    # Funcion encerrada\n",
    "    name = 'Sammy'\n",
    "    \n",
    "    def hola():\n",
    "        print('Hola '+nombre)\n",
    "    \n",
    "    hola()\n",
    "\n",
    "saludar()"
   ]
  },
  {
   "cell_type": "markdown",
   "metadata": {},
   "source": [
    "Observe cómo se usó Sammy, ¡porque la función hola () estaba incluida dentro de la función saludar!"
   ]
  },
  {
   "cell_type": "markdown",
   "metadata": {},
   "source": [
    "### Global\n",
    "Afortunadamente, en Jupyter, una forma rápida de probar las variables globales es ver si otra celda reconoce la variable."
   ]
  },
  {
   "cell_type": "code",
   "execution_count": 6,
   "metadata": {},
   "outputs": [
    {
     "name": "stdout",
     "output_type": "stream",
     "text": [
      "Esto es nombre global\n"
     ]
    }
   ],
   "source": [
    "print(nombre)"
   ]
  },
  {
   "cell_type": "markdown",
   "metadata": {},
   "source": [
    "### Built-in\n",
    "Estos son los nombres de funciones incorporados en Python (¡no los sobrescribas!)"
   ]
  },
  {
   "cell_type": "code",
   "execution_count": 7,
   "metadata": {},
   "outputs": [
    {
     "data": {
      "text/plain": [
       "<function len(obj, /)>"
      ]
     },
     "execution_count": 7,
     "metadata": {},
     "output_type": "execute_result"
    }
   ],
   "source": [
    "len"
   ]
  },
  {
   "cell_type": "markdown",
   "metadata": {},
   "source": [
    "## Variables Locales\n",
    "Cuando declaras variables dentro de la definición de una función, no están relacionadas de ninguna manera con otras variables con los mismos nombres usados fuera de la función, es decir, los nombres de las variables son locales a la función. A esto se le llama alcance de la variable. Todas las variables tienen el alcance del bloque en el que se declaran a partir del punto de definición del nombre.\n",
    "\n",
    "Ejemplo:"
   ]
  },
  {
   "cell_type": "code",
   "execution_count": 8,
   "metadata": {},
   "outputs": [
    {
     "name": "stdout",
     "output_type": "stream",
     "text": [
      "x es 50\n",
      "Cambiada a local x  2\n",
      "x es aun 50\n"
     ]
    }
   ],
   "source": [
    "x = 50\n",
    "\n",
    "def func(x):\n",
    "    print('x es', x)\n",
    "    x = 2\n",
    "    print('Cambiada a local x ', x)\n",
    "\n",
    "func(x)\n",
    "print('x es aun', x)"
   ]
  },
  {
   "cell_type": "markdown",
   "metadata": {},
   "source": [
    "La primera vez que imprimimos el valor del nombre **x** con la primera línea en el cuerpo de la función, Python usa el valor del parámetro declarado en el bloque principal, arriba de la definición de la función.\n",
    "\n",
    "A continuación, asignamos el valor 2 a **x**. El nombre **x** es local a nuestra función. Entonces, cuando cambiamos el valor de **x** en la función, la **x** definida en el bloque principal no se ve afectada.\n",
    "\n",
    "Con la última declaración de impresión, mostramos el valor de **x** como se define en el bloque principal, confirmando así que en realidad no se ve afectado por la asignación local dentro de la función previamente llamada.\n",
    "\n",
    "## La declaración <code> global </code>\n",
    "Si desea asignar un valor a un nombre definido en el nivel superior del programa (es decir, no dentro de ningún tipo de alcance, como funciones o clases), entonces debe decirle a Python que el nombre no es local, pero es global. . Hacemos esto usando la declaración <code> global </code>. Es imposible asignar un valor a una variable definida fuera de una función sin la declaración global.\n",
    "\n",
    "Puede utilizar los valores de dichas variables definidas fuera de la función (asumiendo que no hay ninguna variable con el mismo nombre dentro de la función). Sin embargo, esto no se recomienda y debe evitarse, ya que al lector del programa no le queda claro dónde está la definición de esa variable. El uso de la declaración <code> global </code> deja muy claro que la variable está definida en un bloque más externo.\n",
    "\n",
    "Ejemplo:"
   ]
  },
  {
   "cell_type": "code",
   "execution_count": 9,
   "metadata": {},
   "outputs": [
    {
     "name": "stdout",
     "output_type": "stream",
     "text": [
      "Antes de llamar func(), x es:  50\n",
      "Esta funcion usa x como global!\n",
      "Porque x es global:  50\n",
      "Ejecuto func(), cambio x a global 2\n",
      "Valor de x (fuera de func()) es:  2\n"
     ]
    }
   ],
   "source": [
    "x = 50\n",
    "\n",
    "def func():\n",
    "    global x\n",
    "    print('Esta funcion usa x como global!')\n",
    "    print('Porque x es global: ', x)\n",
    "    x = 2\n",
    "    print('Ejecuto func(), cambio x a global', x)\n",
    "\n",
    "print('Antes de llamar func(), x es: ', x)\n",
    "func()\n",
    "print('Valor de x (fuera de func()) es: ', x)"
   ]
  },
  {
   "cell_type": "markdown",
   "metadata": {},
   "source": [
    "La declaración <code> global </code> se usa para declarar que **x** es una variable global; por lo tanto, cuando asignamos un valor a **x** dentro de la función, ese cambio se refleja cuando usamos el valor de **x** en el bloque principal.\n",
    "\n",
    "Puede especificar más de una variable global utilizando la misma declaración global, p. Ej. <code> global x, y, z </code>."
   ]
  },
  {
   "cell_type": "markdown",
   "metadata": {},
   "source": [
    "## Conclusión\n",
    "Ahora debería tener una buena comprensión de Scope (es posible que ya se haya sentido intuitivamente correcto acerca de Scope, ¡lo cual es genial!) Una última mención es que puede usar las funciones **globals()** y **locals()** para compruebe cuáles son sus variables locales y globales actuales.\n",
    "\n",
    "¡Otra cosa a tener en cuenta es que todo en Python es un objeto! ¡Puedo asignar variables a funciones como lo hago con números! ¡Repasaremos esto nuevamente en la sección de decoradores del curso!"
   ]
  },
  {
   "cell_type": "code",
   "execution_count": null,
   "metadata": {},
   "outputs": [],
   "source": []
  },
  {
   "cell_type": "code",
   "execution_count": null,
   "metadata": {},
   "outputs": [],
   "source": []
  }
 ],
 "metadata": {
  "kernelspec": {
   "display_name": "Python 3 (ipykernel)",
   "language": "python",
   "name": "python3"
  },
  "language_info": {
   "codemirror_mode": {
    "name": "ipython",
    "version": 3
   },
   "file_extension": ".py",
   "mimetype": "text/x-python",
   "name": "python",
   "nbconvert_exporter": "python",
   "pygments_lexer": "ipython3",
   "version": "3.9.6"
  }
 },
 "nbformat": 4,
 "nbformat_minor": 4
}
