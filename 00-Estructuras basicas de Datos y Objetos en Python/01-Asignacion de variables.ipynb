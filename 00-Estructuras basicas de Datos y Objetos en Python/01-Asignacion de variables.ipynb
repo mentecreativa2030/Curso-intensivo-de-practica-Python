{
 "cells": [
  {
   "cell_type": "raw",
   "metadata": {},
   "source": [
    "Reglas para nombres de variables\n",
    "* los nombres no pueden empezar con un número\n",
    "* los nombres no pueden contener espacios, debes usar guión bajo \"_\"\n",
    "* los nombres no pueden contener ninguno de estos símbolos:\n",
    "\n",
    "       : '\", <> /? | \\! @ #% ^ & * ~ - +\n",
    "       \n",
    "* se considera una buena práctica ([PEP8] (https://www.python.org/dev/peps/pep-0008/#function-and-variable-names)) que los nombres estén en minúsculas con guiones bajos\n",
    "* Evite el uso de palabras clave integradas en Python como `list` y` str`\n",
    "* Evite el uso de caracteres únicos `l` (letra minúscula \"ele\"),` O` (letra mayúscula \"O\") e `I` (letra mayúscula \"I\") ya que pueden confundirse con` 1` y `0`"
   ]
  },
  {
   "cell_type": "markdown",
   "metadata": {},
   "source": [
    "## Escritura dinámica\n",
    "\n",
    "Python usa * escritura dinámica *, lo que significa que puede reasignar variables a diferentes tipos de datos. Esto hace que Python sea muy flexible en la asignación de tipos de datos; se diferencia de otros lenguajes que se * escriben estáticamente *."
   ]
  },
  {
   "cell_type": "code",
   "execution_count": 30,
   "metadata": {
    "tags": []
   },
   "outputs": [],
   "source": [
    "mis_perros = 2"
   ]
  },
  {
   "cell_type": "code",
   "execution_count": 31,
   "metadata": {},
   "outputs": [
    {
     "data": {
      "text/plain": [
       "2"
      ]
     },
     "execution_count": 31,
     "metadata": {},
     "output_type": "execute_result"
    }
   ],
   "source": [
    "mis_perros"
   ]
  },
  {
   "cell_type": "code",
   "execution_count": 32,
   "metadata": {
    "tags": []
   },
   "outputs": [],
   "source": [
    "mis_perros = ['Sammy', 'Frankie']"
   ]
  },
  {
   "cell_type": "code",
   "execution_count": 33,
   "metadata": {},
   "outputs": [
    {
     "data": {
      "text/plain": [
       "['Sammy', 'Frankie']"
      ]
     },
     "execution_count": 33,
     "metadata": {},
     "output_type": "execute_result"
    }
   ],
   "source": [
    "mis_perros"
   ]
  },
  {
   "cell_type": "markdown",
   "metadata": {},
   "source": [
    "### Pros y contras de la escritura dinámica \n",
    "#### Ventajas de la escritura dinámica \n",
    "* muy fácil de trabajar\n",
    "* tiempo de desarrollo más rápido\n",
    "\n",
    "#### Contras de la escritura dinámica\n",
    "* ¡puede resultar en errores inesperados!\n",
    "* debe ser consciente de `type ()`"
   ]
  },
  {
   "cell_type": "markdown",
   "metadata": {
    "tags": []
   },
   "source": [
    "## Asignación de variables\n",
    "La asignación de variable sigue a `nombre = objeto`, donde un solo signo igual` = `es un * operador de asignación *"
   ]
  },
  {
   "cell_type": "code",
   "execution_count": 34,
   "metadata": {
    "tags": []
   },
   "outputs": [],
   "source": [
    "a = 5"
   ]
  },
  {
   "cell_type": "code",
   "execution_count": 35,
   "metadata": {},
   "outputs": [
    {
     "data": {
      "text/plain": [
       "5"
      ]
     },
     "execution_count": 35,
     "metadata": {},
     "output_type": "execute_result"
    }
   ],
   "source": [
    "a"
   ]
  },
  {
   "cell_type": "code",
   "execution_count": 36,
   "metadata": {},
   "outputs": [
    {
     "data": {
      "text/plain": [
       "'Aquí asignamos el objeto entero `5` al nombre de la variable `a`.  Asignemos `a` a otra cosa:'"
      ]
     },
     "execution_count": 36,
     "metadata": {},
     "output_type": "execute_result"
    }
   ],
   "source": [
    "\"Aquí asignamos el objeto entero `5` al nombre de la variable `a`.  Asignemos `a` a otra cosa:\""
   ]
  },
  {
   "cell_type": "code",
   "execution_count": 37,
   "metadata": {
    "tags": []
   },
   "outputs": [],
   "source": [
    "a = 10"
   ]
  },
  {
   "cell_type": "code",
   "execution_count": 38,
   "metadata": {},
   "outputs": [
    {
     "data": {
      "text/plain": [
       "10"
      ]
     },
     "execution_count": 38,
     "metadata": {},
     "output_type": "execute_result"
    }
   ],
   "source": [
    "a"
   ]
  },
  {
   "cell_type": "markdown",
   "metadata": {},
   "source": [
    "Ahora puede usar `a` en lugar del número` 10`:"
   ]
  },
  {
   "cell_type": "code",
   "execution_count": 17,
   "metadata": {},
   "outputs": [
    {
     "data": {
      "text/plain": [
       "20"
      ]
     },
     "execution_count": 17,
     "metadata": {},
     "output_type": "execute_result"
    }
   ],
   "source": [
    "a + a"
   ]
  },
  {
   "cell_type": "markdown",
   "metadata": {},
   "source": [
    "## Reasignación de variables\n",
    "Python te permite reasignar variables con una referencia al mismo objeto."
   ]
  },
  {
   "cell_type": "code",
   "execution_count": 18,
   "metadata": {
    "tags": []
   },
   "outputs": [],
   "source": [
    "a = a + 10"
   ]
  },
  {
   "cell_type": "code",
   "execution_count": 19,
   "metadata": {},
   "outputs": [
    {
     "data": {
      "text/plain": [
       "20"
      ]
     },
     "execution_count": 19,
     "metadata": {},
     "output_type": "execute_result"
    }
   ],
   "source": [
    "a"
   ]
  },
  {
   "cell_type": "markdown",
   "metadata": {},
   "source": [
    "De hecho, hay un atajo para esto. Python le permite sumar, restar, multiplicar y dividir números con reasignación usando `+ =`, `- =`, `* =` y `/ =`."
   ]
  },
  {
   "cell_type": "code",
   "execution_count": 20,
   "metadata": {
    "tags": []
   },
   "outputs": [],
   "source": [
    "a += 10"
   ]
  },
  {
   "cell_type": "code",
   "execution_count": 21,
   "metadata": {},
   "outputs": [
    {
     "data": {
      "text/plain": [
       "30"
      ]
     },
     "execution_count": 21,
     "metadata": {},
     "output_type": "execute_result"
    }
   ],
   "source": [
    "a"
   ]
  },
  {
   "cell_type": "code",
   "execution_count": 22,
   "metadata": {
    "tags": []
   },
   "outputs": [],
   "source": [
    "a *= 2"
   ]
  },
  {
   "cell_type": "code",
   "execution_count": 23,
   "metadata": {},
   "outputs": [
    {
     "data": {
      "text/plain": [
       "60"
      ]
     },
     "execution_count": 23,
     "metadata": {},
     "output_type": "execute_result"
    }
   ],
   "source": [
    "a"
   ]
  },
  {
   "cell_type": "markdown",
   "metadata": {
    "tags": []
   },
   "source": [
    "## Determinando el tipo de variable con `type ()`\n",
    "Puede verificar qué tipo de objeto está asignado a una variable usando la función incorporada de Python `type ()`. Los tipos de datos comunes incluyen:\n",
    "* **int** (para número entero)\n",
    "* **float**  (para número decimal)\n",
    "* **str** (para cadena de caracteres)\n",
    "* **list** (para lista de datos)\n",
    "* **tuple** (para tupla de datos)\n",
    "* **dict** (para diccionario)\n",
    "* **set** (para grupo de datos)\n",
    "* **bool** (para valor boleano: verdadero / falso)"
   ]
  },
  {
   "cell_type": "code",
   "execution_count": 25,
   "metadata": {},
   "outputs": [
    {
     "data": {
      "text/plain": [
       "int"
      ]
     },
     "execution_count": 25,
     "metadata": {},
     "output_type": "execute_result"
    }
   ],
   "source": [
    "type(a)"
   ]
  },
  {
   "cell_type": "code",
   "execution_count": 26,
   "metadata": {
    "tags": []
   },
   "outputs": [],
   "source": [
    "a = (1,2)"
   ]
  },
  {
   "cell_type": "code",
   "execution_count": 27,
   "metadata": {},
   "outputs": [
    {
     "data": {
      "text/plain": [
       "tuple"
      ]
     },
     "execution_count": 27,
     "metadata": {},
     "output_type": "execute_result"
    }
   ],
   "source": [
    "type(a)"
   ]
  },
  {
   "cell_type": "markdown",
   "metadata": {},
   "source": [
    "## Ejercicio simple\n",
    "Esto muestra cómo las variables hacen que los cálculos sean más legibles y fáciles de seguir."
   ]
  },
  {
   "cell_type": "code",
   "execution_count": 28,
   "metadata": {
    "tags": []
   },
   "outputs": [],
   "source": [
    "mis_ingresos = 100\n",
    "porcentage_impuestos = 0.1\n",
    "mis_impuestos = mis_ingresos * porcentage_impuestos"
   ]
  },
  {
   "cell_type": "code",
   "execution_count": 29,
   "metadata": {},
   "outputs": [
    {
     "data": {
      "text/plain": [
       "10.0"
      ]
     },
     "execution_count": 29,
     "metadata": {},
     "output_type": "execute_result"
    }
   ],
   "source": [
    "mis_impuestos"
   ]
  },
  {
   "cell_type": "markdown",
   "metadata": {},
   "source": [
    "¡Excelente! Ahora debería comprender los conceptos básicos de la asignación y reasignación de variables en Python. <br> ¡A continuación, aprenderemos sobre cadenas!"
   ]
  },
  {
   "cell_type": "code",
   "execution_count": null,
   "metadata": {},
   "outputs": [],
   "source": []
  }
 ],
 "metadata": {
  "kernelspec": {
   "display_name": "Python 3 (ipykernel)",
   "language": "python",
   "name": "python3"
  },
  "language_info": {
   "codemirror_mode": {
    "name": "ipython",
    "version": 3
   },
   "file_extension": ".py",
   "mimetype": "text/x-python",
   "name": "python",
   "nbconvert_exporter": "python",
   "pygments_lexer": "ipython3",
   "version": "3.9.6"
  }
 },
 "nbformat": 4,
 "nbformat_minor": 4
}
