{
 "cells": [
  {
   "cell_type": "markdown",
   "metadata": {
    "tags": []
   },
   "source": [
    "# Archivos\n",
    "\n",
    "Python usa objetos de archivo para interactuar con archivos externos en su computadora. Estos objetos de archivo pueden ser cualquier tipo de archivo que tenga en su computadora, ya sea un archivo de audio, un archivo de texto, correos electrónicos, documentos de Excel, etc. tipos de archivos, pero están fácilmente disponibles. (Cubriremos la descarga de módulos más adelante en el curso).\n",
    "\n",
    "Python tiene una función de apertura incorporada que nos permite abrir y jugar con tipos de archivos básicos. Sin embargo, primero necesitaremos un archivo. ¡Usaremos algo de magia de IPython para crear un archivo de texto!\n",
    "\n",
    "## IPython escribiendo un archivo\n",
    "#### ¡Esta función es específica de Jupyter notebook! Alternativamente, cree rápidamente un archivo .txt simple con un editor de texto."
   ]
  },
  {
   "cell_type": "code",
   "execution_count": 1,
   "metadata": {},
   "outputs": [
    {
     "name": "stdout",
     "output_type": "stream",
     "text": [
      "Writing prueba.txt\n"
     ]
    }
   ],
   "source": [
    "%%writefile prueba.txt\n",
    "Hola, este es un archivo de prueba rápida."
   ]
  },
  {
   "cell_type": "markdown",
   "metadata": {},
   "source": [
    "## Python Abriendo un archivo\n",
    "Para evitar este error, asegúrese de que su archivo .txt esté guardado en la misma ubicación que su computadora portátil, para verificar la ubicación de su computadora portátil, use **pwd**:\n",
    "Empecemos abriendo el archivo prueba.txt que se encuentra en el mismo directorio que este notebook. Por ahora trabajaremos con archivos ubicados en el mismo directorio que el notebook o script .py que está utilizando.\n",
    "\n",
    "Es muy fácil obtener un error en este paso:"
   ]
  },
  {
   "cell_type": "code",
   "execution_count": 2,
   "metadata": {},
   "outputs": [
    {
     "ename": "FileNotFoundError",
     "evalue": "[Errno 2] No such file or directory: 'whoops.txt'",
     "output_type": "error",
     "traceback": [
      "\u001b[1;31m---------------------------------------------------------------------------\u001b[0m",
      "\u001b[1;31mFileNotFoundError\u001b[0m                         Traceback (most recent call last)",
      "\u001b[1;32m~\\AppData\\Local\\Temp/ipykernel_10628/907792585.py\u001b[0m in \u001b[0;36m<module>\u001b[1;34m\u001b[0m\n\u001b[1;32m----> 1\u001b[1;33m \u001b[0mmiarchivo\u001b[0m \u001b[1;33m=\u001b[0m \u001b[0mopen\u001b[0m\u001b[1;33m(\u001b[0m\u001b[1;34m'whoops.txt'\u001b[0m\u001b[1;33m)\u001b[0m\u001b[1;33m\u001b[0m\u001b[1;33m\u001b[0m\u001b[0m\n\u001b[0m",
      "\u001b[1;31mFileNotFoundError\u001b[0m: [Errno 2] No such file or directory: 'whoops.txt'"
     ]
    }
   ],
   "source": [
    "miarchivo = open('whoops.txt')"
   ]
  },
  {
   "cell_type": "markdown",
   "metadata": {},
   "source": [
    "Para evitar este error, asegúrese de que su archivo \".txt\" esté guardado en la misma ubicación que su computadora portátil, para verificar la ubicación de su computadora portátil, use **pwd**:"
   ]
  },
  {
   "cell_type": "code",
   "execution_count": 4,
   "metadata": {},
   "outputs": [
    {
     "data": {
      "text/plain": [
       "'C:\\\\Users\\\\serge\\\\Documents\\\\Curso intensivo de practica lenguaje Python -  desde nivel cero a nivel campeon\\\\00-Estructuras basicas de Datos y Objetos en Python'"
      ]
     },
     "execution_count": 4,
     "metadata": {},
     "output_type": "execute_result"
    }
   ],
   "source": [
    "pwd"
   ]
  },
  {
   "cell_type": "markdown",
   "metadata": {},
   "source": [
    "**Alternativamente, para tomar archivos desde cualquier ubicación en su computadora, simplemente ingrese la ruta completa del archivo.**\n",
    "\n",
    "Para Windows, debe usar double \\ para que Python no trate el segundo \\ como un carácter de escape, una ruta de archivo tiene la forma:\n",
    "\n",
    "     miarchivo = open (\"C: \\\\ Usuarios \\\\ NombreDeUsuario \\\\ Home \\\\ Carpeta \\\\ miarchivo.txt\")\n",
    "\n",
    "Para MacOS y Linux, usa barras en la dirección opuesta:\n",
    "\n",
    "     miarchivo = open (\"/ Usuarios / NombreDeUsuario / Carpeta / miarchivo.txt\")"
   ]
  },
  {
   "cell_type": "code",
   "execution_count": 5,
   "metadata": {
    "tags": []
   },
   "outputs": [],
   "source": [
    "# Abra el text.txt que hicimos anteriormente.\n",
    "mi_archivo = open('prueba.txt')"
   ]
  },
  {
   "cell_type": "code",
   "execution_count": 6,
   "metadata": {},
   "outputs": [
    {
     "data": {
      "text/plain": [
       "'Hola, este es un archivo de prueba rÃ¡pida.\\n'"
      ]
     },
     "execution_count": 6,
     "metadata": {},
     "output_type": "execute_result"
    }
   ],
   "source": [
    "# Ahora podemos leer el archivo.\n",
    "mi_archivo.read()"
   ]
  },
  {
   "cell_type": "code",
   "execution_count": 7,
   "metadata": {},
   "outputs": [
    {
     "data": {
      "text/plain": [
       "''"
      ]
     },
     "execution_count": 7,
     "metadata": {},
     "output_type": "execute_result"
    }
   ],
   "source": [
    "# Pero, ¿qué pasa si intentamos volver a leerlo?\n",
    "mi_archivo.read()"
   ]
  },
  {
   "cell_type": "markdown",
   "metadata": {},
   "source": [
    "Esto sucede porque puedes imaginar que el \"cursor\" de lectura está al final del archivo después de haberlo leído. Así que no queda nada por leer. Podemos restablecer el \"cursor\" así:"
   ]
  },
  {
   "cell_type": "code",
   "execution_count": 8,
   "metadata": {},
   "outputs": [
    {
     "data": {
      "text/plain": [
       "0"
      ]
     },
     "execution_count": 8,
     "metadata": {},
     "output_type": "execute_result"
    }
   ],
   "source": [
    "# Buscar el inicio del archivo (índice 0)\n",
    "mi_archivo.seek(0)"
   ]
  },
  {
   "cell_type": "code",
   "execution_count": 9,
   "metadata": {},
   "outputs": [
    {
     "data": {
      "text/plain": [
       "'Hola, este es un archivo de prueba rÃ¡pida.\\n'"
      ]
     },
     "execution_count": 9,
     "metadata": {},
     "output_type": "execute_result"
    }
   ],
   "source": [
    "# Ahora lee nuevamente\n",
    "mi_archivo.read()"
   ]
  },
  {
   "cell_type": "markdown",
   "metadata": {},
   "source": [
    "Puede leer un archivo línea por línea utilizando el método **readlines**. Tenga cuidado con los archivos grandes, ya que todo se guardará en la memoria. Aprenderemos cómo iterar sobre archivos grandes más adelante en el curso."
   ]
  },
  {
   "cell_type": "code",
   "execution_count": 10,
   "metadata": {},
   "outputs": [
    {
     "data": {
      "text/plain": [
       "['Hola, este es un archivo de prueba rÃ¡pida.\\n']"
      ]
     },
     "execution_count": 10,
     "metadata": {},
     "output_type": "execute_result"
    }
   ],
   "source": [
    "# Readlines devuelve una lista de las líneas en el archivo\n",
    "mi_archivo.seek(0)\n",
    "mi_archivo.readlines()"
   ]
  },
  {
   "cell_type": "markdown",
   "metadata": {},
   "source": [
    "Cuando haya terminado de usar un archivo, siempre es una buena práctica cerrarlo."
   ]
  },
  {
   "cell_type": "code",
   "execution_count": 11,
   "metadata": {
    "tags": []
   },
   "outputs": [],
   "source": [
    "mi_archivo.close()"
   ]
  },
  {
   "cell_type": "markdown",
   "metadata": {},
   "source": [
    "## Escribir en un archivo\n",
    "\n",
    "Por defecto, la función **`open ()`** solo nos permitirá leer el archivo. Necesitamos pasar el argumento **`'w'`** para escribir sobre el archivo. Por ejemplo:"
   ]
  },
  {
   "cell_type": "code",
   "execution_count": 12,
   "metadata": {
    "tags": []
   },
   "outputs": [],
   "source": [
    "# Agregue un segundo argumento a la función, 'w' que significa escribir.\n",
    "# Pasar 'w +' nos permite leer y escribir en el archivo\n",
    "\n",
    "mi_archivo = open('prueba.txt','w+')"
   ]
  },
  {
   "cell_type": "markdown",
   "metadata": {},
   "source": [
    "### <strong> <font color = 'red'> ¡Ten cuidado! </font> </strong>\n",
    "Abrir un archivo con **`'w'`** o **`' w + '`**  trunca el original, lo que significa que todo lo que estaba en el archivo original **se elimina**."
   ]
  },
  {
   "cell_type": "code",
   "execution_count": 13,
   "metadata": {},
   "outputs": [
    {
     "data": {
      "text/plain": [
       "23"
      ]
     },
     "execution_count": 13,
     "metadata": {},
     "output_type": "execute_result"
    }
   ],
   "source": [
    "# Escribe en archivo\n",
    "mi_archivo.write('Esta es una nueva linea')"
   ]
  },
  {
   "cell_type": "code",
   "execution_count": 14,
   "metadata": {},
   "outputs": [
    {
     "data": {
      "text/plain": [
       "'Esta es una nueva linea'"
      ]
     },
     "execution_count": 14,
     "metadata": {},
     "output_type": "execute_result"
    }
   ],
   "source": [
    "# Lee el archivo\n",
    "mi_archivo.seek(0)\n",
    "mi_archivo.read()"
   ]
  },
  {
   "cell_type": "code",
   "execution_count": 15,
   "metadata": {
    "tags": []
   },
   "outputs": [],
   "source": [
    "mi_archivo.close() # siempre haga esto cuando haya terminado con un archivo"
   ]
  },
  {
   "cell_type": "markdown",
   "metadata": {},
   "source": [
    "## Agregar a un archivo\n",
    "Al pasar el argumento **`'a'`** se abre el archivo y se coloca el puntero al final. Como **`` 'w +'** '', **`` 'a +''**  nos permite leer y escribir en un archivo. Si el archivo no existe, se creará uno."
   ]
  },
  {
   "cell_type": "code",
   "execution_count": 18,
   "metadata": {},
   "outputs": [
    {
     "data": {
      "text/plain": [
       "20"
      ]
     },
     "execution_count": 18,
     "metadata": {},
     "output_type": "execute_result"
    }
   ],
   "source": [
    "mi_archivo = open('prueba.txt','a+')\n",
    "mi_archivo.write('\\n Este texto se adjunta a prueba.txt')\n",
    "mi_archivo.write('\\n Y otra línea aquí.')"
   ]
  },
  {
   "cell_type": "code",
   "execution_count": 19,
   "metadata": {},
   "outputs": [
    {
     "name": "stdout",
     "output_type": "stream",
     "text": [
      "Esta es una nueva linea\\ nEste texto se adjunta a prueba.txt\\ nY otra línea aquí.\n",
      " Este texto se adjunta a prueba.txt\n",
      " Y otra línea aquí.\n"
     ]
    }
   ],
   "source": [
    "mi_archivo.seek(0)\n",
    "print(mi_archivo.read())"
   ]
  },
  {
   "cell_type": "code",
   "execution_count": 20,
   "metadata": {
    "tags": []
   },
   "outputs": [],
   "source": [
    "mi_archivo.close()"
   ]
  },
  {
   "cell_type": "markdown",
   "metadata": {},
   "source": [
    "### Anexando con `%% writefile`\n",
    "Podemos hacer lo mismo usando la magia celular de IPython:"
   ]
  },
  {
   "cell_type": "code",
   "execution_count": 21,
   "metadata": {},
   "outputs": [
    {
     "name": "stdout",
     "output_type": "stream",
     "text": [
      "Appending to prueba.txt\n"
     ]
    }
   ],
   "source": [
    "%%writefile -a prueba.txt\n",
    "\n",
    "Este es el texto que se adjunta a prueba.txt\n",
    "Y otra línea aquí."
   ]
  },
  {
   "cell_type": "markdown",
   "metadata": {},
   "source": [
    "Agregue un espacio en blanco si desea que la primera línea comience en su propia línea, ya que Jupyter no reconocerá secuencias de escape como **`\\n`**"
   ]
  },
  {
   "cell_type": "markdown",
   "metadata": {},
   "source": [
    "## Iterando a través de un archivo\n",
    "\n",
    "Obtengamos una vista previa rápida de un bucle for iterando sobre un archivo de texto. Primero hagamos un nuevo archivo de texto con algo de IPython Magic:"
   ]
  },
  {
   "cell_type": "code",
   "execution_count": 22,
   "metadata": {},
   "outputs": [
    {
     "name": "stdout",
     "output_type": "stream",
     "text": [
      "Overwriting prueba.txt\n"
     ]
    }
   ],
   "source": [
    "%%writefile prueba.txt\n",
    "Primera Linea\n",
    "Segunda Linea"
   ]
  },
  {
   "cell_type": "markdown",
   "metadata": {},
   "source": [
    "Ahora podemos usar un poco de flujo para decirle al programa que recorra cada línea del archivo y haga algo:"
   ]
  },
  {
   "cell_type": "code",
   "execution_count": 23,
   "metadata": {},
   "outputs": [
    {
     "name": "stdout",
     "output_type": "stream",
     "text": [
      "Primera Linea\n",
      "\n",
      "Segunda Linea\n",
      "\n"
     ]
    }
   ],
   "source": [
    "for line in open('prueba.txt'):\n",
    "    print(line)"
   ]
  },
  {
   "cell_type": "markdown",
   "metadata": {},
   "source": [
    "No se preocupe por comprender completamente esto todavía, porque los bucles aparecerán pronto. Pero analizaremos lo que hicimos anteriormente. Dijimos que para cada línea en este archivo de texto, continúe e imprima esa línea. Es importante señalar algunas cosas aquí:\n",
    "\n",
    "1. Podríamos haber llamado al objeto \"línea\" cualquier cosa (ver ejemplo a continuación).\n",
    "2. Al no llamar a **`.read()`** en el archivo, el archivo de texto completo no se almacenó en la memoria.\n",
    "3. Observe la Indentación en la segunda línea para imprimir. Este espacio en blanco es obligatorio en Python."
   ]
  },
  {
   "cell_type": "code",
   "execution_count": 24,
   "metadata": {},
   "outputs": [
    {
     "name": "stdout",
     "output_type": "stream",
     "text": [
      "Primera Linea\n",
      "\n",
      "Segunda Linea\n",
      "\n"
     ]
    }
   ],
   "source": [
    "# Perteneciente al primer punto anterior\n",
    "for asdf in open('prueba.txt'):\n",
    "    print(asdf)"
   ]
  },
  {
   "cell_type": "markdown",
   "metadata": {},
   "source": [
    "Aprenderemos mucho más sobre esto más adelante, pero a continuación: ¡Conjuntos y boleanos!"
   ]
  },
  {
   "cell_type": "code",
   "execution_count": null,
   "metadata": {},
   "outputs": [],
   "source": []
  }
 ],
 "metadata": {
  "kernelspec": {
   "display_name": "Python 3 (ipykernel)",
   "language": "python",
   "name": "python3"
  },
  "language_info": {
   "codemirror_mode": {
    "name": "ipython",
    "version": 3
   },
   "file_extension": ".py",
   "mimetype": "text/x-python",
   "name": "python",
   "nbconvert_exporter": "python",
   "pygments_lexer": "ipython3",
   "version": "3.9.6"
  }
 },
 "nbformat": 4,
 "nbformat_minor": 4
}
