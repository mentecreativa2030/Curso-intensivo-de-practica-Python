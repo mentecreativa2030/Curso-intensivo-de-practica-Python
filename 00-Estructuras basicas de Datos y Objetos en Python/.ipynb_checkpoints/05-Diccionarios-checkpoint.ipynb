{
 "cells": [
  {
   "cell_type": "markdown",
   "metadata": {},
   "source": [
    "# Diccionarios\n",
    "\n",
    "Hemos estado aprendiendo sobre * secuencias * en Python, pero ahora vamos a cambiar de marcha y aprender sobre * mapeos * en Python. Si está familiarizado con otros idiomas, puede pensar en estos diccionarios como tablas hash.\n",
    "\n",
    "Esta sección servirá como una breve introducción a los diccionarios y constará de:\n",
    "\n",
    "     1.) Construir un diccionario\n",
    "     2.) Acceder a objetos desde un diccionario\n",
    "     3.) Diccionarios de anidamiento\n",
    "     4.) Métodos básicos de diccionario\n",
    "\n",
    "Entonces, ¿qué son las asignaciones? Las asignaciones son una colección de objetos que se almacenan mediante una * clave *, a diferencia de una secuencia que almacena objetos por su posición relativa. Esta es una distinción importante, ya que las asignaciones no mantendrán el orden ya que tienen objetos definidos por una clave.\n",
    "\n",
    "Un diccionario de Python consta de una clave y luego un valor asociado. Ese valor puede ser casi cualquier objeto de Python.\n",
    "\n",
    "\n",
    "## Construyendo un diccionario\n",
    "¡Veamos cómo podemos construir diccionarios para comprender mejor cómo funcionan!"
   ]
  },
  {
   "cell_type": "code",
   "execution_count": 1,
   "metadata": {
    "tags": []
   },
   "outputs": [],
   "source": [
    "# Haga un diccionario con \"{}\" y: para asignarr una clave y un valor\n",
    "mi_diccionario = {'clave1': 'valor1', 'clave2': 'valor2'}"
   ]
  },
  {
   "cell_type": "code",
   "execution_count": 2,
   "metadata": {},
   "outputs": [
    {
     "data": {
      "text/plain": [
       "'valor2'"
      ]
     },
     "execution_count": 2,
     "metadata": {},
     "output_type": "execute_result"
    }
   ],
   "source": [
    "# Llama valores por sus claves\n",
    "mi_diccionario['clave2']"
   ]
  },
  {
   "cell_type": "markdown",
   "metadata": {},
   "source": [
    "Es importante tener en cuenta que los diccionarios son muy flexibles en los tipos de datos que pueden contener. Por ejemplo:"
   ]
  },
  {
   "cell_type": "code",
   "execution_count": 3,
   "metadata": {
    "tags": []
   },
   "outputs": [],
   "source": [
    "mi_diccionario = {'clave1':123,'clave2':[12,23,33],'clave3':['articulo0','articulo1','articulo2']}"
   ]
  },
  {
   "cell_type": "code",
   "execution_count": 4,
   "metadata": {},
   "outputs": [
    {
     "data": {
      "text/plain": [
       "['articulo0', 'articulo1', 'articulo2']"
      ]
     },
     "execution_count": 4,
     "metadata": {},
     "output_type": "execute_result"
    }
   ],
   "source": [
    "# Llamemos a elementos del diccionario\n",
    "mi_diccionario['clave3']"
   ]
  },
  {
   "cell_type": "code",
   "execution_count": 5,
   "metadata": {},
   "outputs": [
    {
     "data": {
      "text/plain": [
       "'articulo0'"
      ]
     },
     "execution_count": 5,
     "metadata": {},
     "output_type": "execute_result"
    }
   ],
   "source": [
    "# Nosotros podemos llamar un índice sobre ese valor\n",
    "mi_diccionario['clave3'][0]"
   ]
  },
  {
   "cell_type": "code",
   "execution_count": 6,
   "metadata": {},
   "outputs": [
    {
     "data": {
      "text/plain": [
       "'ARTICULO0'"
      ]
     },
     "execution_count": 6,
     "metadata": {},
     "output_type": "execute_result"
    }
   ],
   "source": [
    "# Entonces puede incluso llamar a métodos en ese valor\n",
    "mi_diccionario['clave3'][0].upper()"
   ]
  },
  {
   "cell_type": "markdown",
   "metadata": {},
   "source": [
    "También podemos afectar los valores de una clave. Por ejemplo:"
   ]
  },
  {
   "cell_type": "code",
   "execution_count": 7,
   "metadata": {},
   "outputs": [
    {
     "data": {
      "text/plain": [
       "123"
      ]
     },
     "execution_count": 7,
     "metadata": {},
     "output_type": "execute_result"
    }
   ],
   "source": [
    "mi_diccionario['clave1']"
   ]
  },
  {
   "cell_type": "code",
   "execution_count": 8,
   "metadata": {
    "tags": []
   },
   "outputs": [],
   "source": [
    "# Restar 123 del valor\n",
    "mi_diccionario['clave1'] = mi_diccionario['clave1'] - 123"
   ]
  },
  {
   "cell_type": "code",
   "execution_count": 9,
   "metadata": {},
   "outputs": [
    {
     "data": {
      "text/plain": [
       "0"
      ]
     },
     "execution_count": 9,
     "metadata": {},
     "output_type": "execute_result"
    }
   ],
   "source": [
    "#Verifica\n",
    "mi_diccionario['clave1']"
   ]
  },
  {
   "cell_type": "markdown",
   "metadata": {},
   "source": [
    "Una nota rápida, Python tiene un método incorporado para hacer una auto resta o suma (o multiplicación o división). También podríamos haber usado + = o - = para la declaración anterior. Por ejemplo:"
   ]
  },
  {
   "cell_type": "code",
   "execution_count": 10,
   "metadata": {},
   "outputs": [
    {
     "data": {
      "text/plain": [
       "-123"
      ]
     },
     "execution_count": 10,
     "metadata": {},
     "output_type": "execute_result"
    }
   ],
   "source": [
    "# Establece el objeto igual a sí mismo menos 123\n",
    "mi_diccionario['clave1'] -= 123\n",
    "mi_diccionario['clave1']"
   ]
  },
  {
   "cell_type": "markdown",
   "metadata": {},
   "source": [
    "También podemos crear claves por encargo. Por ejemplo, si comenzamos con un diccionario vacío, podríamos agregarle continuamente:"
   ]
  },
  {
   "cell_type": "code",
   "execution_count": 11,
   "metadata": {
    "tags": []
   },
   "outputs": [],
   "source": [
    "# Crear un nuevo diccionario\n",
    "d = {}"
   ]
  },
  {
   "cell_type": "code",
   "execution_count": 12,
   "metadata": {
    "tags": []
   },
   "outputs": [],
   "source": [
    "# Crea una nueva clave a través de la asignación\n",
    "d['animal'] = 'perro'"
   ]
  },
  {
   "cell_type": "code",
   "execution_count": 13,
   "metadata": {
    "tags": []
   },
   "outputs": [],
   "source": [
    "# Puedo hacer esto con cualquier objeto\n",
    "d['respuesta'] = 42"
   ]
  },
  {
   "cell_type": "code",
   "execution_count": 13,
   "metadata": {},
   "outputs": [
    {
     "data": {
      "text/plain": [
       "{'animal': 'perro'}"
      ]
     },
     "execution_count": 13,
     "metadata": {},
     "output_type": "execute_result"
    }
   ],
   "source": [
    "#Muestra valor \"d\"\n",
    "d"
   ]
  },
  {
   "cell_type": "markdown",
   "metadata": {},
   "source": [
    "## Anidamiento con diccionarios\n",
    "\n",
    "Con suerte, está empezando a ver lo poderoso que es Python con su flexibilidad de anidar objetos y llamar a métodos en ellos. Veamos un diccionario anidado dentro de un diccionario:"
   ]
  },
  {
   "cell_type": "code",
   "execution_count": 15,
   "metadata": {
    "tags": []
   },
   "outputs": [],
   "source": [
    "# Diccionario anidado dentro de un diccionario anidado dentro de un diccionario\n",
    "d = {'clave1': {'nestkey': {'subnestkey': 'valor'}}}"
   ]
  },
  {
   "cell_type": "markdown",
   "metadata": {},
   "source": [
    "¡Guau! ¡Ese es un gran comienzo de los diccionarios! Veamos cómo podemos tomar ese valor:"
   ]
  },
  {
   "cell_type": "code",
   "execution_count": 16,
   "metadata": {},
   "outputs": [
    {
     "data": {
      "text/plain": [
       "'valor'"
      ]
     },
     "execution_count": 16,
     "metadata": {},
     "output_type": "execute_result"
    }
   ],
   "source": [
    "# Continuar llamando las claves\n",
    "d['clave1']['nestkey']['subnestkey']"
   ]
  },
  {
   "cell_type": "markdown",
   "metadata": {},
   "source": [
    "## Algunos métodos de diccionario\n",
    "\n",
    "Hay algunos métodos a los que podemos recurrir en un diccionario. Echemos una introducción rápida a algunos de ellos:"
   ]
  },
  {
   "cell_type": "code",
   "execution_count": 17,
   "metadata": {
    "tags": []
   },
   "outputs": [],
   "source": [
    "# Crea un diccionario típico\n",
    "d = {'clave1':1,'clave2':2,'clave3':3}"
   ]
  },
  {
   "cell_type": "code",
   "execution_count": 18,
   "metadata": {},
   "outputs": [
    {
     "data": {
      "text/plain": [
       "dict_keys(['clave1', 'clave2', 'clave3'])"
      ]
     },
     "execution_count": 18,
     "metadata": {},
     "output_type": "execute_result"
    }
   ],
   "source": [
    "# Método para devolver una lista de todas las claves\n",
    "d.keys()"
   ]
  },
  {
   "cell_type": "code",
   "execution_count": 19,
   "metadata": {},
   "outputs": [
    {
     "data": {
      "text/plain": [
       "dict_values([1, 2, 3])"
      ]
     },
     "execution_count": 19,
     "metadata": {},
     "output_type": "execute_result"
    }
   ],
   "source": [
    "# Método para tomar todos los valores\n",
    "d.values()"
   ]
  },
  {
   "cell_type": "code",
   "execution_count": 20,
   "metadata": {},
   "outputs": [
    {
     "data": {
      "text/plain": [
       "dict_items([('clave1', 1), ('clave2', 2), ('clave3', 3)])"
      ]
     },
     "execution_count": 20,
     "metadata": {},
     "output_type": "execute_result"
    }
   ],
   "source": [
    "# Método para devolver tuplas de todos los elementos (pronto aprenderemos sobre las tuplas)\n",
    "d.items()"
   ]
  },
  {
   "cell_type": "markdown",
   "metadata": {},
   "source": [
    "Es de esperar que ahora tenga una buena comprensión básica de cómo construir diccionarios. Hay mucho más para profundizar aquí, pero volveremos a visitar los diccionarios más adelante. Después de esta sección, todo lo que necesita saber es cómo crear un diccionario y cómo recuperar valores de él."
   ]
  },
  {
   "cell_type": "code",
   "execution_count": null,
   "metadata": {},
   "outputs": [],
   "source": []
  }
 ],
 "metadata": {
  "kernelspec": {
   "display_name": "Python 3 (ipykernel)",
   "language": "python",
   "name": "python3"
  },
  "language_info": {
   "codemirror_mode": {
    "name": "ipython",
    "version": 3
   },
   "file_extension": ".py",
   "mimetype": "text/x-python",
   "name": "python",
   "nbconvert_exporter": "python",
   "pygments_lexer": "ipython3",
   "version": "3.9.6"
  }
 },
 "nbformat": 4,
 "nbformat_minor": 4
}
