{
 "cells": [
  {
   "cell_type": "markdown",
   "metadata": {},
   "source": [
    "## Prueba tus conocimientos.\n",
    "\n",
    "**Responde las siguientes preguntas**"
   ]
  },
  {
   "cell_type": "markdown",
   "metadata": {},
   "source": [
    "Escriba (o dígalo en voz alta) una breve descripción de todos los siguientes tipos de objetos y estructuras de datos que hemos aprendido. Puede editar la celda de abajo haciendo doble clic en ella. Realmente, esto es solo para probar si conoce la diferencia entre estos, así que siéntase libre de pensar en ello, ya que sus respuestas se autocalifican."
   ]
  },
  {
   "cell_type": "markdown",
   "metadata": {},
   "source": [
    "Haga doble clic AQUÍ para editar esta celda de descuento y escribir las respuestas.\n",
    "\n",
    "Números:\n",
    "\n",
    "Cadenas:\n",
    "\n",
    "Lista:\n",
    "\n",
    "Tuplas:\n",
    "\n",
    "Diccionarios:"
   ]
  },
  {
   "cell_type": "markdown",
   "metadata": {},
   "source": [
    "## Números\n",
    "\n",
    "Escribe una ecuación que use multiplicación, división, exponente, suma y resta que sea igual a 100,25.\n",
    "\n",
    "Sugerencia: Esto es solo para probar su memoria de los comandos aritméticos básicos, trabaje hacia atrás desde 100.25"
   ]
  },
  {
   "cell_type": "code",
   "execution_count": null,
   "metadata": {
    "tags": []
   },
   "outputs": [],
   "source": []
  },
  {
   "cell_type": "markdown",
   "metadata": {},
   "source": [
    "¿Cuál es el * tipo * del resultado de la expresión 3 + 1.5 + 4? <br> <br>¿Cuál es el * tipo * del resultado de la expresión 3 + 1.5 + 4? <br> <br>Responda estas 3 preguntas sin escribir código. Luego escriba el código para verificar su respuesta.\n",
    "\n",
    "     ¿Cuál es el valor de la expresión 4 * (6 + 5)\n",
    "    \n",
    "     ¿Cuál es el valor de la expresión 4 * 6 + 5?\n",
    "    \n",
    "     ¿Cuál es el valor de la expresión 4 + 6 * 5"
   ]
  },
  {
   "cell_type": "code",
   "execution_count": null,
   "metadata": {
    "tags": []
   },
   "outputs": [],
   "source": []
  },
  {
   "cell_type": "markdown",
   "metadata": {},
   "source": [
    "¿Cuál es el * tipo * del resultado de la expresión 3 + 1.5 + 4? <br> <br>"
   ]
  },
  {
   "cell_type": "markdown",
   "metadata": {},
   "source": [
    "¿Qué usarías para encontrar la raíz cuadrada de un número, así como su cuadrado? "
   ]
  },
  {
   "cell_type": "code",
   "execution_count": 1,
   "metadata": {
    "tags": []
   },
   "outputs": [],
   "source": [
    "# Raíz cuadrada:\n"
   ]
  },
  {
   "cell_type": "code",
   "execution_count": 2,
   "metadata": {
    "tags": []
   },
   "outputs": [],
   "source": [
    "# Cuadrada:\n"
   ]
  },
  {
   "cell_type": "markdown",
   "metadata": {},
   "source": [
    "## Cadenas"
   ]
  },
  {
   "cell_type": "markdown",
   "metadata": {},
   "source": [
    "Dada la cadena 'hola', dé un comando de índice que devuelva 'a'. Ingrese su código en la celda a continuación:"
   ]
  },
  {
   "cell_type": "code",
   "execution_count": 3,
   "metadata": {
    "tags": []
   },
   "outputs": [],
   "source": [
    "s = 'hola'\n",
    "# Imprime 'a' usando indexación\n",
    "\n"
   ]
  },
  {
   "cell_type": "markdown",
   "metadata": {},
   "source": [
    "Invierta la cadena 'hola' usando division:"
   ]
  },
  {
   "cell_type": "code",
   "execution_count": 4,
   "metadata": {
    "tags": []
   },
   "outputs": [],
   "source": [
    "s = 'hola'\n",
    "# Invierta la cadena usando division\n",
    "\n"
   ]
  },
  {
   "cell_type": "markdown",
   "metadata": {},
   "source": [
    "Dada la cadena hola, da dos métodos para producir la letra 'o' usando indexación."
   ]
  },
  {
   "cell_type": "code",
   "execution_count": 5,
   "metadata": {
    "tags": []
   },
   "outputs": [],
   "source": [
    "s = 'hola'\n",
    "# Imprime la 'o'\n",
    "\n",
    "# Método 1:\n",
    "\n"
   ]
  },
  {
   "cell_type": "code",
   "execution_count": 6,
   "metadata": {
    "tags": []
   },
   "outputs": [],
   "source": [
    "# Metodo 2:\n",
    "\n"
   ]
  },
  {
   "cell_type": "markdown",
   "metadata": {},
   "source": [
    "## Listas"
   ]
  },
  {
   "cell_type": "markdown",
   "metadata": {},
   "source": [
    "Construya esta lista [0,0,0] de dos formas distintas."
   ]
  },
  {
   "cell_type": "code",
   "execution_count": 7,
   "metadata": {
    "tags": []
   },
   "outputs": [],
   "source": [
    "# Metodo 1:\n"
   ]
  },
  {
   "cell_type": "code",
   "execution_count": 8,
   "metadata": {
    "tags": []
   },
   "outputs": [],
   "source": [
    "# Metodo 2:\n"
   ]
  },
  {
   "cell_type": "markdown",
   "metadata": {},
   "source": [
    "Reasigne 'hola' en esta lista anidada para decir 'adiós' en su lugar:"
   ]
  },
  {
   "cell_type": "code",
   "execution_count": 9,
   "metadata": {
    "tags": []
   },
   "outputs": [],
   "source": [
    "lista3 = [1,2,[3,4,'hola']]\n",
    "\n"
   ]
  },
  {
   "cell_type": "markdown",
   "metadata": {},
   "source": [
    "Ordene la lista a continuación:"
   ]
  },
  {
   "cell_type": "code",
   "execution_count": 10,
   "metadata": {
    "tags": []
   },
   "outputs": [],
   "source": [
    "lista4 = [5,3,4,6,1]\n",
    "\n"
   ]
  },
  {
   "cell_type": "markdown",
   "metadata": {},
   "source": [
    "## Diccionarios"
   ]
  },
  {
   "cell_type": "markdown",
   "metadata": {},
   "source": [
    "Usando claves e indexación, obtenga el 'hola' de los siguientes diccionarios:"
   ]
  },
  {
   "cell_type": "code",
   "execution_count": 11,
   "metadata": {
    "tags": []
   },
   "outputs": [],
   "source": [
    "d = {'simple_clave':'hola'}\n",
    "# Agarra 'hola'\n"
   ]
  },
  {
   "cell_type": "code",
   "execution_count": 12,
   "metadata": {
    "tags": []
   },
   "outputs": [],
   "source": [
    "d = {'k1':{'k2':'hola'}}\n",
    "# Agarra 'hola'\n"
   ]
  },
  {
   "cell_type": "code",
   "execution_count": 13,
   "metadata": {
    "tags": []
   },
   "outputs": [],
   "source": [
    "# Un truco\n",
    "d = {'k1':[{'nest_key':['Esto es profundo',['hola']]}]}\n",
    "\n",
    "#Agarra hola\n"
   ]
  },
  {
   "cell_type": "code",
   "execution_count": 14,
   "metadata": {
    "tags": []
   },
   "outputs": [],
   "source": [
    "# ¡Esto será difícil y molesto!\n",
    "d = {'k1':[1,2,{'k2':['Este es el truco',{'difícil':[1,2,['hola']]}]}]}"
   ]
  },
  {
   "cell_type": "markdown",
   "metadata": {},
   "source": [
    "¿Puedes ordenar un diccionario? ¿Por qué o por qué no? <br> <br>"
   ]
  },
  {
   "cell_type": "markdown",
   "metadata": {},
   "source": [
    "## Tuplas"
   ]
  },
  {
   "cell_type": "markdown",
   "metadata": {},
   "source": [
    "¿Cuál es la principal diferencia entre tuplas y listas? <br> <br>"
   ]
  },
  {
   "cell_type": "markdown",
   "metadata": {},
   "source": [
    "¿Cómo se crea una tupla? <br> <br>"
   ]
  },
  {
   "cell_type": "markdown",
   "metadata": {},
   "source": [
    "## Conjuntos"
   ]
  },
  {
   "cell_type": "markdown",
   "metadata": {},
   "source": [
    "¿Qué tiene de único un conjunto? <br> <br>"
   ]
  },
  {
   "cell_type": "markdown",
   "metadata": {},
   "source": [
    "Utilice un conjunto para encontrar los valores únicos de la siguiente lista:"
   ]
  },
  {
   "cell_type": "code",
   "execution_count": 15,
   "metadata": {
    "tags": []
   },
   "outputs": [],
   "source": [
    "lista5 = [1,2,2,33,4,4,11,22,3,3,2]\n",
    "\n",
    "\n"
   ]
  },
  {
   "cell_type": "markdown",
   "metadata": {},
   "source": [
    "## Boleanos"
   ]
  },
  {
   "cell_type": "markdown",
   "metadata": {},
   "source": [
    "Para las siguientes preguntas del cuestionario, obtendremos una vista previa de los operadores de comparación. En la siguiente tabla, a = 3 y b = 4.\n",
    "\n",
    "<table class=\"table table-bordered\">\n",
    "<tr>\n",
    "<th style=\"width:10%\">Operator</th><th style=\"width:45%\">Descripcion</th><th>Example</th>\n",
    "</tr>\n",
    "<tr>\n",
    "<td>==</td>\n",
    "<td>Si los valorfes de dos operadores son equal, entonces la condicion se convierte a cirto.</td>\n",
    "<td> (a == b) no es cierto.</td>\n",
    "</tr>\n",
    "<tr>\n",
    "<td>!=</td>\n",
    "<td>Si los valores de dos operadores no son igual,entonces la condicion se convierte cierta.</td>\n",
    "<td> (a != b) es cierta.</td>\n",
    "</tr>\n",
    "<tr>\n",
    "<td>&gt;</td>\n",
    "<td>Si el operador izquierdo es maor que el valor del operador derecho, entonces la condicion se convierte en verdadera.</td>\n",
    "<td> (a &gt; b) no es cierta.</td>\n",
    "</tr>\n",
    "<tr>\n",
    "<td>&lt;</td>\n",
    "<td>Si el valor del operador izquierdo es menor que el valor del operador derecho, entonces la condicion se convierte en cierta</td>\n",
    "<td> (a &lt; b) es cierta</td>\n",
    "</tr>\n",
    "<tr>\n",
    "<td>&gt;=</td>\n",
    "<td>Si el valor del operador izquierdo es mayor que o igual al valor del operador derecho, entonces la condicion se convierte en verdadera.</td>\n",
    "<td> (a &gt;= b) no es cierta. </td>\n",
    "</tr>\n",
    "<tr>\n",
    "<td>&lt;=</td>\n",
    "<td>Si el valor del operador izquierdo es menor que o igual al valor del operador derecho, entonces la condicion se convierte en verdadera.</td>\n",
    "<td> (a &lt;= b) es cierta. </td>\n",
    "</tr>\n",
    "</table>"
   ]
  },
  {
   "cell_type": "markdown",
   "metadata": {},
   "source": [
    "¿Cuál será el booleano resultante de los siguientes fragmentos de código (responda primero y luego compruébelo escribiéndolo!)"
   ]
  },
  {
   "cell_type": "code",
   "execution_count": 17,
   "metadata": {
    "tags": []
   },
   "outputs": [
    {
     "data": {
      "text/plain": [
       "False"
      ]
     },
     "execution_count": 17,
     "metadata": {},
     "output_type": "execute_result"
    }
   ],
   "source": [
    "# Responder antes de ejecutar\n",
    "2 > 3"
   ]
  },
  {
   "cell_type": "code",
   "execution_count": 18,
   "metadata": {
    "tags": []
   },
   "outputs": [
    {
     "data": {
      "text/plain": [
       "False"
      ]
     },
     "execution_count": 18,
     "metadata": {},
     "output_type": "execute_result"
    }
   ],
   "source": [
    "# Responder antes de ejecutar\n",
    "3 <= 2"
   ]
  },
  {
   "cell_type": "code",
   "execution_count": 19,
   "metadata": {
    "tags": []
   },
   "outputs": [
    {
     "data": {
      "text/plain": [
       "False"
      ]
     },
     "execution_count": 19,
     "metadata": {},
     "output_type": "execute_result"
    }
   ],
   "source": [
    "# Responder antes de ejecutar\n",
    "3 == 2.0"
   ]
  },
  {
   "cell_type": "code",
   "execution_count": 20,
   "metadata": {
    "tags": []
   },
   "outputs": [
    {
     "data": {
      "text/plain": [
       "True"
      ]
     },
     "execution_count": 20,
     "metadata": {},
     "output_type": "execute_result"
    }
   ],
   "source": [
    "# Responder antes de ejecutar\n",
    "3.0 == 3"
   ]
  },
  {
   "cell_type": "code",
   "execution_count": 16,
   "metadata": {
    "tags": []
   },
   "outputs": [
    {
     "data": {
      "text/plain": [
       "False"
      ]
     },
     "execution_count": 16,
     "metadata": {},
     "output_type": "execute_result"
    }
   ],
   "source": [
    "# Responder antes de ejecutar \n",
    "4**0.5 != 2"
   ]
  },
  {
   "cell_type": "markdown",
   "metadata": {},
   "source": [
    "Pregunta final: ¿Cuál es la salida boleana del bloque de celdas a continuación?"
   ]
  },
  {
   "cell_type": "code",
   "execution_count": 17,
   "metadata": {
    "tags": []
   },
   "outputs": [
    {
     "data": {
      "text/plain": [
       "False"
      ]
     },
     "execution_count": 17,
     "metadata": {},
     "output_type": "execute_result"
    }
   ],
   "source": [
    "# dos listas anidadas\n",
    "l_uno = [1,2,[3,4]]\n",
    "l_dos = [1,2,{'k1':4}]\n",
    "\n",
    "# Cierto o Falso?\n",
    "l_uno[2][0] >= l_dos[2]['k1']"
   ]
  },
  {
   "cell_type": "markdown",
   "metadata": {},
   "source": [
    "## ¡Buen trabajo en tu primera evaluación!"
   ]
  },
  {
   "cell_type": "code",
   "execution_count": null,
   "metadata": {},
   "outputs": [],
   "source": []
  }
 ],
 "metadata": {
  "anaconda-cloud": {},
  "kernelspec": {
   "display_name": "Python 3 (ipykernel)",
   "language": "python",
   "name": "python3"
  },
  "language_info": {
   "codemirror_mode": {
    "name": "ipython",
    "version": 3
   },
   "file_extension": ".py",
   "mimetype": "text/x-python",
   "name": "python",
   "nbconvert_exporter": "python",
   "pygments_lexer": "ipython3",
   "version": "3.9.6"
  }
 },
 "nbformat": 4,
 "nbformat_minor": 4
}
