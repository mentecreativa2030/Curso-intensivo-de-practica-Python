{
 "cells": [
  {
   "cell_type": "markdown",
   "metadata": {},
   "source": [
    "# ¡Números y más en Python!\n",
    "\n",
    "En esta lección, aprenderemos sobre los números en Python y cómo usarlos.\n",
    "\n",
    "Aprenderemos sobre los siguientes temas:\n",
    "\n",
    "     1.) Tipos de números en Python\n",
    "     2.) Aritmética básica\n",
    "     3.) Diferencias entre división clásica y división de piso.\n",
    "     4.) Asignación de objetos en Python"
   ]
  },
  {
   "cell_type": "markdown",
   "metadata": {
    "tags": []
   },
   "source": [
    "## Tipos de números\n",
    "\n",
    "Python tiene varios \"tipos\" de números (literales numéricos). Nos centraremos principalmente en los números enteros y en coma flotante.\n",
    "\n",
    "Los enteros son números enteros, positivos o negativos. Por ejemplo: 2 y -2 son ejemplos de números enteros.\n",
    "\n",
    "Los números de coma flotante en Python son notables porque tienen un punto decimal o usan una exponencial (e) para definir el número. Por ejemplo, 2.0 y -2.1 son ejemplos de números de coma flotante. 4E2 (4 por 10 elevado a 2) también es un ejemplo de un número de punto flotante en Python.\n",
    "\n",
    "A lo largo de este curso, trabajaremos principalmente con enteros o tipos de números flotantes simples.\n",
    "\n",
    "Aquí hay una tabla de los dos tipos principales en los que pasaremos la mayor parte de nuestro tiempo trabajando con algunos ejemplos:"
   ]
  },
  {
   "cell_type": "markdown",
   "metadata": {},
   "source": [
    "<table>\n",
    "<tr>\n",
    "    <th>Ejemplos</th> \n",
    "    <th>\"Tipo\" de Numero</th>\n",
    "</tr>\n",
    "\n",
    "<tr>\n",
    "    <td>1,2,-5,1000</td>\n",
    "    <td>Números enteros</td> \n",
    "</tr>\n",
    "\n",
    "<tr>\n",
    "    <td>1.2,-0.5,2e2,3E2</td> \n",
    "    <td>Números de punto flotante</td> \n",
    "</tr>\n",
    " </table>"
   ]
  },
  {
   "cell_type": "markdown",
   "metadata": {},
   "source": [
    " \n",
    " Ahora comencemos con algo de aritmética básica."
   ]
  },
  {
   "cell_type": "markdown",
   "metadata": {},
   "source": [
    "### Aritmética básica"
   ]
  },
  {
   "cell_type": "code",
   "execution_count": 1,
   "metadata": {},
   "outputs": [
    {
     "data": {
      "text/plain": [
       "3"
      ]
     },
     "execution_count": 1,
     "metadata": {},
     "output_type": "execute_result"
    }
   ],
   "source": [
    "# Suma\n",
    "2+1"
   ]
  },
  {
   "cell_type": "code",
   "execution_count": 2,
   "metadata": {},
   "outputs": [
    {
     "data": {
      "text/plain": [
       "1"
      ]
     },
     "execution_count": 2,
     "metadata": {},
     "output_type": "execute_result"
    }
   ],
   "source": [
    "# Resta\n",
    "2-1"
   ]
  },
  {
   "cell_type": "code",
   "execution_count": 3,
   "metadata": {},
   "outputs": [
    {
     "data": {
      "text/plain": [
       "4"
      ]
     },
     "execution_count": 3,
     "metadata": {},
     "output_type": "execute_result"
    }
   ],
   "source": [
    "# Mmultiplicación\n",
    "2*2"
   ]
  },
  {
   "cell_type": "code",
   "execution_count": 4,
   "metadata": {},
   "outputs": [
    {
     "data": {
      "text/plain": [
       "1.5"
      ]
     },
     "execution_count": 4,
     "metadata": {},
     "output_type": "execute_result"
    }
   ],
   "source": [
    "# División\n",
    "3/2"
   ]
  },
  {
   "cell_type": "code",
   "execution_count": 5,
   "metadata": {},
   "outputs": [
    {
     "data": {
      "text/plain": [
       "1"
      ]
     },
     "execution_count": 5,
     "metadata": {},
     "output_type": "execute_result"
    }
   ],
   "source": [
    "# División de parte Entera\n",
    "7//4"
   ]
  },
  {
   "cell_type": "markdown",
   "metadata": {},
   "source": [
    "** ¡Vaya! ¿Lo que acaba de suceder? La última vez que lo comprobé, ¡7 dividido entre 4 es igual a 1,75, no 1! **\n",
    "\n",
    "La razón por la que obtenemos este resultado es porque estamos usando la división \"* piso *\". El operador // (dos barras diagonales) trunca el decimal sin redondear y devuelve un resultado entero."
   ]
  },
  {
   "cell_type": "markdown",
   "metadata": {},
   "source": [
    "** Entonces, ¿qué pasa si solo queremos el resto después de la división? **"
   ]
  },
  {
   "cell_type": "code",
   "execution_count": 6,
   "metadata": {},
   "outputs": [
    {
     "data": {
      "text/plain": [
       "3"
      ]
     },
     "execution_count": 6,
     "metadata": {},
     "output_type": "execute_result"
    }
   ],
   "source": [
    "# Modulo\n",
    "7%4"
   ]
  },
  {
   "cell_type": "markdown",
   "metadata": {},
   "source": [
    "4 entra en 7 una vez, con un resto de 3. El operador \"%\" devuelve el resto después de la división."
   ]
  },
  {
   "cell_type": "markdown",
   "metadata": {},
   "source": [
    "### Continuación de la aritmética"
   ]
  },
  {
   "cell_type": "code",
   "execution_count": 7,
   "metadata": {},
   "outputs": [
    {
     "data": {
      "text/plain": [
       "8"
      ]
     },
     "execution_count": 7,
     "metadata": {},
     "output_type": "execute_result"
    }
   ],
   "source": [
    "# Exponencial\n",
    "2**3"
   ]
  },
  {
   "cell_type": "code",
   "execution_count": 8,
   "metadata": {},
   "outputs": [
    {
     "data": {
      "text/plain": [
       "2.0"
      ]
     },
     "execution_count": 8,
     "metadata": {},
     "output_type": "execute_result"
    }
   ],
   "source": [
    "# También puede hacer raíces de esta manera.\n",
    "4**0.5"
   ]
  },
  {
   "cell_type": "code",
   "execution_count": 9,
   "metadata": {},
   "outputs": [
    {
     "data": {
      "text/plain": [
       "105"
      ]
     },
     "execution_count": 9,
     "metadata": {},
     "output_type": "execute_result"
    }
   ],
   "source": [
    "# Orden de operaciones seguido en Python\n",
    "2 + 10 * 10 + 3"
   ]
  },
  {
   "cell_type": "code",
   "execution_count": 10,
   "metadata": {},
   "outputs": [
    {
     "data": {
      "text/plain": [
       "156"
      ]
     },
     "execution_count": 10,
     "metadata": {},
     "output_type": "execute_result"
    }
   ],
   "source": [
    "# Puede utilizar paréntesis para especificar pedidos.\n",
    "(2+10) * (10+3)"
   ]
  },
  {
   "cell_type": "markdown",
   "metadata": {},
   "source": [
    "## Asignaciones variables\n",
    "\n",
    "Ahora que hemos visto cómo usar números en Python como calculadora, veamos cómo podemos asignar nombres y crear variables.\n",
    "\n",
    "Usamos un solo signo igual para asignar etiquetas a las variables. Veamos algunos ejemplos de cómo podemos hacer esto."
   ]
  },
  {
   "cell_type": "code",
   "execution_count": 11,
   "metadata": {
    "tags": []
   },
   "outputs": [],
   "source": [
    "# Vamos a crear un objeto llamado \"a\" y asignarle el número 5\n",
    "a = 5"
   ]
  },
  {
   "cell_type": "markdown",
   "metadata": {},
   "source": [
    "Ahora, si llamo * a * en mi secuencia de comandos de Python, Python lo tratará como el número 5."
   ]
  },
  {
   "cell_type": "code",
   "execution_count": 12,
   "metadata": {},
   "outputs": [
    {
     "data": {
      "text/plain": [
       "10"
      ]
     },
     "execution_count": 12,
     "metadata": {},
     "output_type": "execute_result"
    }
   ],
   "source": [
    "# Agregando los objetos\n",
    "a+a"
   ]
  },
  {
   "cell_type": "markdown",
   "metadata": {},
   "source": [
    "¿Qué sucede con la reasignación? ¿Python nos permitirá volver a escribirlo?"
   ]
  },
  {
   "cell_type": "code",
   "execution_count": 13,
   "metadata": {
    "tags": []
   },
   "outputs": [],
   "source": [
    "# Reasignación\n",
    "a = 10"
   ]
  },
  {
   "cell_type": "code",
   "execution_count": 14,
   "metadata": {},
   "outputs": [
    {
     "data": {
      "text/plain": [
       "10"
      ]
     },
     "execution_count": 14,
     "metadata": {},
     "output_type": "execute_result"
    }
   ],
   "source": [
    "# Verifica\n",
    "a"
   ]
  },
  {
   "cell_type": "markdown",
   "metadata": {},
   "source": [
    "¡Sí! Python le permite escribir sobre los nombres de variables asignados. También podemos utilizar las propias variables al realizar la reasignación. Aquí hay un ejemplo de lo que quiero decir:"
   ]
  },
  {
   "cell_type": "code",
   "execution_count": 15,
   "metadata": {},
   "outputs": [
    {
     "data": {
      "text/plain": [
       "10"
      ]
     },
     "execution_count": 15,
     "metadata": {},
     "output_type": "execute_result"
    }
   ],
   "source": [
    "# Verifica\n",
    "a"
   ]
  },
  {
   "cell_type": "code",
   "execution_count": 16,
   "metadata": {
    "tags": []
   },
   "outputs": [],
   "source": [
    "# Usa \"a\" para redefinir \"a\"\n",
    "a = a + a"
   ]
  },
  {
   "cell_type": "code",
   "execution_count": 17,
   "metadata": {},
   "outputs": [
    {
     "data": {
      "text/plain": [
       "20"
      ]
     },
     "execution_count": 17,
     "metadata": {},
     "output_type": "execute_result"
    }
   ],
   "source": [
    "# Verifica \n",
    "a"
   ]
  },
  {
   "cell_type": "markdown",
   "metadata": {},
   "source": [
    "Los nombres que usa al crear estas etiquetas deben seguir algunas reglas:\n",
    "\n",
    "     1. Los nombres no pueden comenzar con un número.\n",
    "     2. No puede haber espacios en el nombre, use _ en su lugar.\n",
    "     3. No se pueden utilizar estos símbolos: '\", <> /? | \\ ()! @ # $% ^ & * ~ - +\n",
    "     4. Se considera una buena práctica (PEP8) que los nombres estén en minúsculas.\n",
    "     5. Evite el uso de los caracteres 'l' (letra minúscula el), 'O' (letra mayúscula oh),\n",
    "        o 'I' (letra mayúscula) como nombres de variable de un solo carácter.\n",
    "     6. Evite el uso de palabras que tengan un significado especial en Python como \"lista\" y \"str\"\n",
    "\n",
    "\n",
    "El uso de nombres de variables puede ser una forma muy útil de realizar un seguimiento de diferentes variables en Python. Por ejemplo:"
   ]
  },
  {
   "cell_type": "code",
   "execution_count": 18,
   "metadata": {
    "tags": []
   },
   "outputs": [],
   "source": [
    "# ¡Use nombres de objetos para realizar un mejor seguimiento de lo que sucede en su código!\n",
    "mis_ingresos = 100\n",
    "\n",
    "porcentage_impuestos = 0.1\n",
    "\n",
    "mis_impuestos = mis_ingresos*porcentage_impuestos"
   ]
  },
  {
   "cell_type": "code",
   "execution_count": 19,
   "metadata": {},
   "outputs": [
    {
     "data": {
      "text/plain": [
       "10.0"
      ]
     },
     "execution_count": 19,
     "metadata": {},
     "output_type": "execute_result"
    }
   ],
   "source": [
    "# Muestra mis impuestos!\n",
    "mis_impuestos"
   ]
  },
  {
   "cell_type": "markdown",
   "metadata": {},
   "source": [
    "Así que, ¿qué hemos aprendido? Aprendimos algunos de los conceptos básicos de los números en Python. También aprendimos cómo hacer aritmética y usar Python como calculadora básica. Luego lo terminamos con el aprendizaje de la asignación de variables en Python.\n",
    "\n",
    "¡A continuación aprenderemos sobre cadenas!"
   ]
  },
  {
   "cell_type": "code",
   "execution_count": null,
   "metadata": {},
   "outputs": [],
   "source": []
  }
 ],
 "metadata": {
  "anaconda-cloud": {},
  "kernelspec": {
   "display_name": "Python 3 (ipykernel)",
   "language": "python",
   "name": "python3"
  },
  "language_info": {
   "codemirror_mode": {
    "name": "ipython",
    "version": 3
   },
   "file_extension": ".py",
   "mimetype": "text/x-python",
   "name": "python",
   "nbconvert_exporter": "python",
   "pygments_lexer": "ipython3",
   "version": "3.9.6"
  }
 },
 "nbformat": 4,
 "nbformat_minor": 4
}
