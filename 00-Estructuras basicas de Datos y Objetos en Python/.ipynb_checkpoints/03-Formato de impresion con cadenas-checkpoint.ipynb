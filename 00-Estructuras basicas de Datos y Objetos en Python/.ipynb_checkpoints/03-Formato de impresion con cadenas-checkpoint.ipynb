{
 "cells": [
  {
   "cell_type": "markdown",
   "metadata": {},
   "source": [
    "# Formato de cadena\n",
    "\n",
    "El formato de cadena le permite agregar elementos en una cadena en lugar de intentar encadenar elementos mediante comas o concatenación de cadenas. Como comparación rápida, considere:\n",
    "\n",
    "     jugador = 'Thomas'\n",
    "     puntos = 33\n",
    "    \n",
    "     'Anoche,' + jugador + 'anotó' + str (puntos) + 'puntos'. # concatenación\n",
    "    \n",
    "     f'La noche pasada, {player} anotó {points} puntos '. # formato de cadena\n",
    "\n",
    "\n",
    "Hay tres formas de realizar el formateo de cadenas.\n",
    "* El método más antiguo implica marcadores de posición que utilizan el carácter de módulo **`%`**.\n",
    "* Una técnica mejorada utiliza el método de cadena **`.format ()`**.\n",
    "* El método más nuevo, introducido con Python 3.6, utiliza cadenas literales formateadas, llamadas **f-strings**.\n",
    "\n",
    "Dado que probablemente encontrará las tres versiones en el código de otra persona, describimos cada una de ellas aquí."
   ]
  },
  {
   "cell_type": "markdown",
   "metadata": {
    "tags": []
   },
   "source": [
    "## Formateo con marcadores de posición\n",
    "Puede usar <code>% s </code> para agregar cadenas en sus declaraciones de impresión. El módulo `%` se conoce como un \"operador de formato de cadena\"."
   ]
  },
  {
   "cell_type": "code",
   "execution_count": 1,
   "metadata": {},
   "outputs": [
    {
     "name": "stdout",
     "output_type": "stream",
     "text": [
      "Voy agregar algo aqui.\n"
     ]
    }
   ],
   "source": [
    "print(\"Voy agregar %s aqui.\" %'algo')"
   ]
  },
  {
   "cell_type": "markdown",
   "metadata": {},
   "source": [
    "Puede pasar varios elementos colocándolos dentro de una tupla después del operador `%`."
   ]
  },
  {
   "cell_type": "code",
   "execution_count": 2,
   "metadata": {},
   "outputs": [
    {
     "name": "stdout",
     "output_type": "stream",
     "text": [
      "Voy a insertar algunos textos aquí y más texto aquí.\n"
     ]
    }
   ],
   "source": [
    "print(\"Voy a insertar %s textos aquí y %s texto aquí.\" % ('algunos', 'más'))"
   ]
  },
  {
   "cell_type": "markdown",
   "metadata": {},
   "source": [
    "También puede pasar nombres de variables:"
   ]
  },
  {
   "cell_type": "code",
   "execution_count": 4,
   "metadata": {
    "tags": []
   },
   "outputs": [
    {
     "name": "stdout",
     "output_type": "stream",
     "text": [
      "Voy a insertar algunos textos aquí y más texto aquí.\n"
     ]
    }
   ],
   "source": [
    "x, y = 'algunos', 'más'\n",
    "print (\"Voy a insertar %s textos aquí y %s texto aquí.\" % (x, y))"
   ]
  },
  {
   "cell_type": "markdown",
   "metadata": {},
   "source": [
    "### Métodos de conversión de formato.\n",
    "Cabe señalar que dos métodos <code>%s </code> y <code>%r </code> convierten cualquier objeto de Python en una cadena usando dos métodos separados: `str()` y `repr()`. Aprenderemos más sobre estas funciones más adelante en el curso, pero debe tener en cuenta que `%r` y` repr() `entregan la * representación de cadena * del objeto, incluidas las comillas y los caracteres de escape."
   ]
  },
  {
   "cell_type": "code",
   "execution_count": 13,
   "metadata": {},
   "outputs": [
    {
     "name": "stdout",
     "output_type": "stream",
     "text": [
      "Dijo que se llamaba Fred.\n",
      "Dijo que se llamaba 'Fred'.\n"
     ]
    }
   ],
   "source": [
    "print ('Dijo que se llamaba %s.' %'Fred')\n",
    "print ('Dijo que se llamaba %r.' %'Fred')"
   ]
  },
  {
   "cell_type": "markdown",
   "metadata": {},
   "source": [
    "Como otro ejemplo, `\\ t` inserta una pestaña en una cadena."
   ]
  },
  {
   "cell_type": "code",
   "execution_count": 15,
   "metadata": {},
   "outputs": [
    {
     "name": "stdout",
     "output_type": "stream",
     "text": [
      "Una vez pesqué un pez este \tgrande.\n",
      "Una vez pesqué un pez 'este \\tgrande'.\n"
     ]
    }
   ],
   "source": [
    "print ('Una vez pesqué un pez %s.' %'este \\tgrande')\n",
    "print ('Una vez pesqué un pez %r.' %'este \\tgrande')"
   ]
  },
  {
   "cell_type": "markdown",
   "metadata": {},
   "source": [
    "El operador `%s` convierte todo lo que ve en una cadena, incluidos enteros y flotantes. El operador `%d` convierte números a enteros primero, sin redondear. Tenga en cuenta la diferencia a continuación:"
   ]
  },
  {
   "cell_type": "code",
   "execution_count": 5,
   "metadata": {
    "tags": []
   },
   "outputs": [
    {
     "name": "stdout",
     "output_type": "stream",
     "text": [
      "Escribí 3.75 programas hoy.\n",
      "Escribí 3 programas hoy.\n"
     ]
    }
   ],
   "source": [
    "print ('Escribí %s programas hoy.' %3.75)\n",
    "print ('Escribí %d programas hoy.' %3.75)"
   ]
  },
  {
   "cell_type": "markdown",
   "metadata": {},
   "source": [
    "### Relleno y precisión de números de punto flotante\n",
    "Los números de coma flotante usan el formato <code>%5.2f </code>. Aquí, <code>5</code> sería el número mínimo de caracteres que debe contener la cadena; estos se pueden rellenar con espacios en blanco si el número completo no tiene tantos dígitos. Junto a esto, <code>.2f</code> representa cuántos números mostrar después del punto decimal. Veamos algunos ejemplos:"
   ]
  },
  {
   "cell_type": "code",
   "execution_count": 7,
   "metadata": {
    "tags": []
   },
   "outputs": [
    {
     "name": "stdout",
     "output_type": "stream",
     "text": [
      "Números de coma flotante:13.14\n"
     ]
    }
   ],
   "source": [
    "print ('Números de coma flotante:%5.2f'% (13.144))"
   ]
  },
  {
   "cell_type": "code",
   "execution_count": 8,
   "metadata": {},
   "outputs": [
    {
     "name": "stdout",
     "output_type": "stream",
     "text": [
      "Números de coma flotante:13\n"
     ]
    }
   ],
   "source": [
    "print ('Números de coma flotante:%1.0f'% (13.144))"
   ]
  },
  {
   "cell_type": "code",
   "execution_count": 9,
   "metadata": {},
   "outputs": [
    {
     "name": "stdout",
     "output_type": "stream",
     "text": [
      "Números de coma flotante:13.14400\n"
     ]
    }
   ],
   "source": [
    "print ('Números de coma flotante:%1.5f'% (13.144))"
   ]
  },
  {
   "cell_type": "code",
   "execution_count": 11,
   "metadata": {
    "jupyter": {
     "source_hidden": true
    },
    "tags": []
   },
   "outputs": [
    {
     "name": "stdout",
     "output_type": "stream",
     "text": [
      "Números de coma flotante:     13.14\n"
     ]
    }
   ],
   "source": [
    "print ('Números de coma flotante:%10.2f'% (13.144))"
   ]
  },
  {
   "cell_type": "code",
   "execution_count": 12,
   "metadata": {},
   "outputs": [
    {
     "name": "stdout",
     "output_type": "stream",
     "text": [
      "Números de coma flotante:                    13.14\n"
     ]
    }
   ],
   "source": [
    "print ('Números de coma flotante:% 25.2f'% (13.144))"
   ]
  },
  {
   "cell_type": "markdown",
   "metadata": {},
   "source": [
    "Para obtener más información sobre el formato de cadenas con marcadores de posición, visite https://docs.python.org/3/library/stdtypes.html#old-string-formatting"
   ]
  },
  {
   "cell_type": "markdown",
   "metadata": {},
   "source": [
    "### Formateo múltiple\n",
    "Nada prohíbe el uso de más de una herramienta de conversión en la misma declaración de impresión:"
   ]
  },
  {
   "cell_type": "code",
   "execution_count": 13,
   "metadata": {},
   "outputs": [
    {
     "name": "stdout",
     "output_type": "stream",
     "text": [
      "Primero: Hola!, Segundo:  3.14, Tercero: '!adiós!'\n"
     ]
    }
   ],
   "source": [
    "print('Primero: %s, Segundo: %5.2f, Tercero: %r' %('Hola!',3.1415,'!adiós!'))"
   ]
  },
  {
   "cell_type": "markdown",
   "metadata": {},
   "source": [
    "## Formateo con el método `.format ()`\n",
    "Una mejor manera de formatear objetos en sus cadenas para declaraciones de impresión es con el método de cadena `.format ()`. La sintaxis es:\n",
    "\n",
    "     'Cadena aquí {} y luego también {}'. Format ('algo1', 'algo2')\n",
    "    \n",
    "Por ejemplo:"
   ]
  },
  {
   "cell_type": "code",
   "execution_count": 14,
   "metadata": {},
   "outputs": [
    {
     "name": "stdout",
     "output_type": "stream",
     "text": [
      "Esto es una cadena con una inserción\n"
     ]
    }
   ],
   "source": [
    "print('Esto es una cadena con una {}'.format('inserción'))"
   ]
  },
  {
   "cell_type": "markdown",
   "metadata": {},
   "source": [
    "### El método .format () tiene varias ventajas sobre el método de marcador de posición %s:"
   ]
  },
  {
   "cell_type": "markdown",
   "metadata": {},
   "source": [
    "#### 1. Los objetos insertados se pueden llamar por posición de índice:"
   ]
  },
  {
   "cell_type": "code",
   "execution_count": 28,
   "metadata": {},
   "outputs": [
    {
     "name": "stdout",
     "output_type": "stream",
     "text": [
      "El zorro marrón rápido\n"
     ]
    }
   ],
   "source": [
    "print ('El {2} {1} {0}'.format('rápido', 'marrón', 'zorro'))"
   ]
  },
  {
   "cell_type": "markdown",
   "metadata": {},
   "source": [
    "#### 2. A los objetos insertados se les pueden asignar palabras clave:"
   ]
  },
  {
   "cell_type": "code",
   "execution_count": 15,
   "metadata": {},
   "outputs": [
    {
     "name": "stdout",
     "output_type": "stream",
     "text": [
      "Primer objeto: 1, Segundo objeto: Dos, Tercer objeto: 12.3\n"
     ]
    }
   ],
   "source": [
    "print ('Primer objeto: {a}, Segundo objeto: {b}, Tercer objeto: {c}'.format (a = 1, b = 'Dos', c = 12.3))"
   ]
  },
  {
   "cell_type": "markdown",
   "metadata": {},
   "source": [
    "#### 3. Los objetos insertados se pueden reutilizar, evitando la duplicación:"
   ]
  },
  {
   "cell_type": "code",
   "execution_count": 16,
   "metadata": {},
   "outputs": [
    {
     "name": "stdout",
     "output_type": "stream",
     "text": [
      "Un centavo guardado es un centavo ganado.\n",
      "Un centavo guardado es un centavo ganado.\n"
     ]
    }
   ],
   "source": [
    "print ('Un %s guardado es un %s ganado.'% ('centavo', 'centavo'))\n",
    "# vs.\n",
    "print ('Un {p} guardado es un {p} ganado.'. format (p = 'centavo'))"
   ]
  },
  {
   "cell_type": "markdown",
   "metadata": {},
   "source": [
    "### Alineación, relleno y precisión con `.format ()`\n",
    "Dentro de las llaves puede asignar longitudes de campo, alineaciones izquierda / derecha, parámetros de redondeo y más"
   ]
  },
  {
   "cell_type": "code",
   "execution_count": 36,
   "metadata": {},
   "outputs": [
    {
     "name": "stdout",
     "output_type": "stream",
     "text": [
      "Fruta    | Cantidad \n",
      "Manzanas |       3.0\n",
      "Naranjas |        10\n"
     ]
    }
   ],
   "source": [
    "print ('{0:8} | {1:9}'.format('Fruta', 'Cantidad'))\n",
    "print ('{0:8} | {1:9}'.format('Manzanas', 3.))\n",
    "print ('{0:8} | {1:9}'.format('Naranjas', 10))"
   ]
  },
  {
   "cell_type": "markdown",
   "metadata": {},
   "source": [
    "Por defecto, `.format ()` alinea el texto a la izquierda y los números a la derecha. Puede pasar un `<`, `^` o `>` opcional para establecer una alineación a la izquierda, al centro o a la derecha:"
   ]
  },
  {
   "cell_type": "code",
   "execution_count": 39,
   "metadata": {},
   "outputs": [
    {
     "name": "stdout",
     "output_type": "stream",
     "text": [
      "Izquierda |  Centro  |  Derecha\n",
      "11       |    22    |       33\n"
     ]
    }
   ],
   "source": [
    "print ('{0:<8} | {1:^8} | {2:>8}'.format('Izquierda', 'Centro', 'Derecha'))\n",
    "print ('{0:<8} | {1:^8} | {2:>8}'.format(11,22,33))"
   ]
  },
  {
   "cell_type": "markdown",
   "metadata": {
    "tags": []
   },
   "source": [
    "Puede preceder al operador de asignación con un caracter de relleno"
   ]
  },
  {
   "cell_type": "code",
   "execution_count": 17,
   "metadata": {
    "tags": []
   },
   "outputs": [
    {
     "name": "stdout",
     "output_type": "stream",
     "text": [
      "Izquierda | -Centro- | .Derecha\n",
      "11====== | ---22--- | ......33\n"
     ]
    }
   ],
   "source": [
    "print ('{0:=<8} | {1:-^8} | {2:.>8}'.format('Izquierda', 'Centro', 'Derecha'))\n",
    "print ('{0:=<8} | {1:-^8} | {2:.>8}'.format(11,22,33))"
   ]
  },
  {
   "cell_type": "markdown",
   "metadata": {},
   "source": [
    "Los anchos de campo y la precisión de flotación se manejan de manera similar a los marcadores de posición. Las siguientes dos declaraciones impresas son equivalentes:"
   ]
  },
  {
   "cell_type": "code",
   "execution_count": 18,
   "metadata": {},
   "outputs": [
    {
     "name": "stdout",
     "output_type": "stream",
     "text": [
      "Este es mi caracter número de diez, numero y dos-decimales:     13.58\n",
      "Este es mi caracter número de diez, numero y dos-decimales:     13.58\n"
     ]
    }
   ],
   "source": [
    "print ('Este es mi caracter número de diez, numero y dos-decimales:%10.2f' %13.579)\n",
    "print ('Este es mi caracter número de diez, numero y dos-decimales:{0:10.2f}'.format(13.579))"
   ]
  },
  {
   "cell_type": "markdown",
   "metadata": {},
   "source": [
    "Tenga en cuenta que hay 5 espacios después de los dos puntos y 5 caracteres ocupados por 13.58, para un total de diez caracteres.\n",
    "\n",
    "Para obtener más información sobre el método string `.format ()`, visite https://docs.python.org/3/library/string.html#formatstrings"
   ]
  },
  {
   "cell_type": "markdown",
   "metadata": {},
   "source": [
    "## Literales de cadena formateados (f-strings)"
   ]
  },
  {
   "cell_type": "markdown",
   "metadata": {},
   "source": [
    "Introducido en Python 3.6, f-strings ofrecen varios beneficios sobre el antiguo método de cadena **`.format ()`** descrito anteriormente. Por un lado, puede traer variables externas inmediatamente a la cadena en lugar de pasarlas como argumentos a través de `.format (var)`."
   ]
  },
  {
   "cell_type": "code",
   "execution_count": 19,
   "metadata": {
    "tags": []
   },
   "outputs": [
    {
     "name": "stdout",
     "output_type": "stream",
     "text": [
      "Dijo que su nombre es Fred.\n"
     ]
    }
   ],
   "source": [
    "nombre = 'Fred'\n",
    "\n",
    "print (f\"Dijo que su nombre es {nombre}.\")"
   ]
  },
  {
   "cell_type": "markdown",
   "metadata": {},
   "source": [
    "Pase `!r` para obtener la representación de cadena:"
   ]
  },
  {
   "cell_type": "code",
   "execution_count": 20,
   "metadata": {
    "tags": []
   },
   "outputs": [
    {
     "name": "stdout",
     "output_type": "stream",
     "text": [
      "Dijo que su nombre es 'Fred'\n"
     ]
    }
   ],
   "source": [
    "print (f\"Dijo que su nombre es {nombre!r}\")"
   ]
  },
  {
   "cell_type": "markdown",
   "metadata": {},
   "source": [
    "#### El formato flotante sigue `\" resultado: {valor: {ancho}. {Precisión}} \"`"
   ]
  },
  {
   "cell_type": "markdown",
   "metadata": {},
   "source": [
    "Donde con el método `.format ()` puede ver `{valor: 10.4f}`, con f-strings esto puede convertirse en `{valor: {10}. {6}}`\n"
   ]
  },
  {
   "cell_type": "code",
   "execution_count": 21,
   "metadata": {},
   "outputs": [
    {
     "name": "stdout",
     "output_type": "stream",
     "text": [
      "Mi número de diez caracteres, cuatro decimales es:    23.4568\n",
      "Mi número de 10 caracteres, cuatro números decimales es:    23.4568\n"
     ]
    }
   ],
   "source": [
    "num = 23.45678\n",
    "print (\"Mi número de diez caracteres, cuatro decimales es: {0: 10.4f}\".format(num))\n",
    "print (f\"Mi número de 10 caracteres, cuatro números decimales es: {num: {10}.{6}}\")"
   ]
  },
  {
   "cell_type": "markdown",
   "metadata": {},
   "source": [
    "Tenga en cuenta que con f-strings, * precisión * se refiere al número total de dígitos, no solo a los que siguen al decimal. Esto encaja más de cerca con la notación científica y el análisis estadístico. Desafortunadamente, las cadenas f no se rellenan a la derecha del decimal, incluso si la precisión lo permite:"
   ]
  },
  {
   "cell_type": "code",
   "execution_count": 22,
   "metadata": {},
   "outputs": [
    {
     "name": "stdout",
     "output_type": "stream",
     "text": [
      "Mi número de diez caracteres, cuatro decimales es:    23.4500\n",
      "Mi número de 10 caracteres, cuatro números decimales es:      23.45\n"
     ]
    }
   ],
   "source": [
    "num = 23.45\n",
    "print (\"Mi número de diez caracteres, cuatro decimales es: {0:10.4f}\".format(num))\n",
    "print (f\"Mi número de 10 caracteres, cuatro números decimales es: {num: {10}.{6}}\")"
   ]
  },
  {
   "cell_type": "markdown",
   "metadata": {},
   "source": [
    "Si esto se vuelve importante, siempre puede usar la sintaxis del método `.format ()` dentro de una cadena f:"
   ]
  },
  {
   "cell_type": "code",
   "execution_count": 23,
   "metadata": {},
   "outputs": [
    {
     "name": "stdout",
     "output_type": "stream",
     "text": [
      "Mi número de diez caracteres, cuatro decimales es:    23.4500\n",
      "Mi 10 carácter, cuatro números decimales es:    23.4500\n"
     ]
    }
   ],
   "source": [
    "num = 23.45\n",
    "print (\"Mi número de diez caracteres, cuatro decimales es: {0:10.4f}\".format(num))\n",
    "print (f\"Mi 10 carácter, cuatro números decimales es: {num: 10.4f}\")"
   ]
  },
  {
   "cell_type": "markdown",
   "metadata": {},
   "source": [
    "Para obtener más información sobre los literales de cadena formateados, visite https://docs.python.org/3/reference/lexical_analysis.html#f-strings"
   ]
  },
  {
   "cell_type": "markdown",
   "metadata": {},
   "source": [
    "¡Eso es lo básico del formateo de cadenas!"
   ]
  },
  {
   "cell_type": "code",
   "execution_count": null,
   "metadata": {},
   "outputs": [],
   "source": []
  }
 ],
 "metadata": {
  "kernelspec": {
   "display_name": "Python 3 (ipykernel)",
   "language": "python",
   "name": "python3"
  },
  "language_info": {
   "codemirror_mode": {
    "name": "ipython",
    "version": 3
   },
   "file_extension": ".py",
   "mimetype": "text/x-python",
   "name": "python",
   "nbconvert_exporter": "python",
   "pygments_lexer": "ipython3",
   "version": "3.9.6"
  }
 },
 "nbformat": 4,
 "nbformat_minor": 4
}
