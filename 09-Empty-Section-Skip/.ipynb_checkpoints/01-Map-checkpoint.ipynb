{
 "cells": [
  {
   "cell_type": "markdown",
   "metadata": {},
   "source": [
    "# map()\n",
    "\n",
    "map () es una función incorporada de Python que toma dos o más argumentos: una función y uno o más iterables, en la forma:\n",
    "\n",
    "     map (función, iterable, ...)\n",
    "    \n",
    "map () devuelve un * iterador *, es decir, map () devuelve un objeto especial que produce un resultado a la vez según sea necesario. Aprenderemos más sobre iteradores y generadores en una conferencia futura. Por ahora, dado que nuestros ejemplos son tan pequeños, lanzaremos map () como una lista para ver los resultados de inmediato.\n",
    "\n",
    "Cuando repasamos las comprensiones de la lista, creamos una pequeña expresión para convertir Celsius a Fahrenheit. Hagamos lo mismo aquí pero usemos el mapa:"
   ]
  },
  {
   "cell_type": "code",
   "execution_count": 1,
   "metadata": {
    "tags": []
   },
   "outputs": [],
   "source": [
    "def fahrenheit(celsius):\n",
    "    return (9/5)*celsius + 32\n",
    "    \n",
    "temps = [0, 22.5, 40, 100]"
   ]
  },
  {
   "cell_type": "markdown",
   "metadata": {},
   "source": [
    "Ahora veamos map () en acción:"
   ]
  },
  {
   "cell_type": "code",
   "execution_count": 2,
   "metadata": {},
   "outputs": [
    {
     "data": {
      "text/plain": [
       "[32.0, 72.5, 104.0, 212.0]"
      ]
     },
     "execution_count": 2,
     "metadata": {},
     "output_type": "execute_result"
    }
   ],
   "source": [
    "F_temps = map(fahrenheit, temps)\n",
    "\n",
    "# Muestra\n",
    "list(F_temps)"
   ]
  },
  {
   "cell_type": "markdown",
   "metadata": {},
   "source": [
    "En el ejemplo anterior, map () aplica la función fahrenheit a cada elemento en temps. Sin embargo, no tenemos que definir nuestras funciones de antemano; podemos usar una expresión lambda en su lugar:"
   ]
  },
  {
   "cell_type": "code",
   "execution_count": 3,
   "metadata": {},
   "outputs": [
    {
     "data": {
      "text/plain": [
       "[32.0, 72.5, 104.0, 212.0]"
      ]
     },
     "execution_count": 3,
     "metadata": {},
     "output_type": "execute_result"
    }
   ],
   "source": [
    "list(map(lambda x: (9/5)*x + 32, temps))"
   ]
  },
  {
   "cell_type": "markdown",
   "metadata": {},
   "source": [
    "¡Estupendo! ¡Obtuvimos el mismo resultado! El uso de map con expresiones lambda es mucho más común ya que el propósito completo de map () es ahorrar esfuerzo al tener que crear bucles for manuales."
   ]
  },
  {
   "cell_type": "markdown",
   "metadata": {},
   "source": [
    "### map () con múltiples iterables\n",
    "map () puede aceptar más de un iterable. Los iterables deben tener la misma longitud; en caso de que no lo sean, map () se detendrá tan pronto como se agote el iterable más corto.\n",
    "\n",
    "\n",
    "Por ejemplo, si nuestra función está tratando de agregar dos valores **x** y **y**, podemos pasar una lista de valores **x** y otra lista de valores **y** a map () . La función (o lambda) se alimentará con el índice 0 de cada lista, y luego con el índice 1, y así sucesivamente hasta que se alcance el índice n.\n",
    "\n",
    "Veamos esto en acción con dos y luego tres listas:"
   ]
  },
  {
   "cell_type": "code",
   "execution_count": 4,
   "metadata": {},
   "outputs": [
    {
     "data": {
      "text/plain": [
       "[6, 8, 10, 12]"
      ]
     },
     "execution_count": 4,
     "metadata": {},
     "output_type": "execute_result"
    }
   ],
   "source": [
    "a = [1,2,3,4]\n",
    "b = [5,6,7,8]\n",
    "c = [9,10,11,12]\n",
    "\n",
    "list(map(lambda x,y:x+y,a,b))"
   ]
  },
  {
   "cell_type": "code",
   "execution_count": 5,
   "metadata": {},
   "outputs": [
    {
     "data": {
      "text/plain": [
       "[15, 18, 21, 24]"
      ]
     },
     "execution_count": 5,
     "metadata": {},
     "output_type": "execute_result"
    }
   ],
   "source": [
    "# Ahora las 3 listas\n",
    "list(map(lambda x,y,z:x+y+z,a,b,c))"
   ]
  },
  {
   "cell_type": "markdown",
   "metadata": {},
   "source": [
    "Podemos ver en el ejemplo anterior que el parámetro **x** obtiene sus valores de la lista **a**, mientras que **y** obtiene sus valores de **b** y **z** de la lista **C**. Continúe y juegue con su propio ejemplo para asegurarse de que comprende completamente el mapeo en más de un iterable.\n",
    "\n",
    "¡Gran trabajo! Ahora debería tener un conocimiento básico de la función map ()."
   ]
  },
  {
   "cell_type": "code",
   "execution_count": null,
   "metadata": {},
   "outputs": [],
   "source": []
  }
 ],
 "metadata": {
  "kernelspec": {
   "display_name": "Python 3 (ipykernel)",
   "language": "python",
   "name": "python3"
  },
  "language_info": {
   "codemirror_mode": {
    "name": "ipython",
    "version": 3
   },
   "file_extension": ".py",
   "mimetype": "text/x-python",
   "name": "python",
   "nbconvert_exporter": "python",
   "pygments_lexer": "ipython3",
   "version": "3.9.6"
  }
 },
 "nbformat": 4,
 "nbformat_minor": 4
}
