{
 "cells": [
  {
   "cell_type": "markdown",
   "metadata": {},
   "source": [
    "# enumerate()\n",
    "\n",
    "En esta lección aprenderemos acerca de una función incorporada extremadamente útil: enumerate (). Enumerar le permite llevar un recuento a medida que recorre un objeto. Para ello, devuelve una tupla con el formato (recuento, elemento). La función en sí es equivalente a:\n",
    "\n",
    "    def enumerate(secuencia, empieza=0):\n",
    "        n = empieza\n",
    "        for elemento in secuencia:\n",
    "            yield n, elemento\n",
    "            n += 1\n",
    "\n",
    "## Ejemplo"
   ]
  },
  {
   "cell_type": "code",
   "execution_count": 1,
   "metadata": {},
   "outputs": [
    {
     "name": "stdout",
     "output_type": "stream",
     "text": [
      "0\n",
      "a\n",
      "1\n",
      "b\n",
      "2\n",
      "c\n"
     ]
    }
   ],
   "source": [
    "lst = ['a','b','c']\n",
    "\n",
    "for numero,articulo in enumerate(lst):\n",
    "    print(numero)\n",
    "    print(articulo)"
   ]
  },
  {
   "cell_type": "markdown",
   "metadata": {},
   "source": [
    "enumerate() se vuelve particularmente útil cuando tiene un caso en el que necesita tener algún tipo de rastreador. Por ejemplo:"
   ]
  },
  {
   "cell_type": "code",
   "execution_count": 2,
   "metadata": {},
   "outputs": [
    {
     "name": "stdout",
     "output_type": "stream",
     "text": [
      "a\n",
      "b\n"
     ]
    }
   ],
   "source": [
    "for cuenta,articulo in enumerate(lst):\n",
    "    if cuenta >= 2:\n",
    "        break\n",
    "    else:\n",
    "        print(articulo)"
   ]
  },
  {
   "cell_type": "markdown",
   "metadata": {},
   "source": [
    "enumerate () toma un argumento de \"start\" opcional para anular el valor predeterminado de cero:"
   ]
  },
  {
   "cell_type": "code",
   "execution_count": 3,
   "metadata": {},
   "outputs": [
    {
     "data": {
      "text/plain": [
       "[(3, 'Marzo'), (4, 'Abril'), (5, 'Mayo'), (6, 'Junio')]"
      ]
     },
     "execution_count": 3,
     "metadata": {},
     "output_type": "execute_result"
    }
   ],
   "source": [
    "meses = ['Marzo','Abril','Mayo','Junio']\n",
    "\n",
    "list(enumerate(meses,start=3))"
   ]
  },
  {
   "cell_type": "markdown",
   "metadata": {},
   "source": [
    "¡Estupendo! Ahora debería tener un buen conocimiento de enumerate y sus posibles casos de uso."
   ]
  },
  {
   "cell_type": "code",
   "execution_count": null,
   "metadata": {},
   "outputs": [],
   "source": []
  }
 ],
 "metadata": {
  "kernelspec": {
   "display_name": "Python 3 (ipykernel)",
   "language": "python",
   "name": "python3"
  },
  "language_info": {
   "codemirror_mode": {
    "name": "ipython",
    "version": 3
   },
   "file_extension": ".py",
   "mimetype": "text/x-python",
   "name": "python",
   "nbconvert_exporter": "python",
   "pygments_lexer": "ipython3",
   "version": "3.9.6"
  }
 },
 "nbformat": 4,
 "nbformat_minor": 4
}
