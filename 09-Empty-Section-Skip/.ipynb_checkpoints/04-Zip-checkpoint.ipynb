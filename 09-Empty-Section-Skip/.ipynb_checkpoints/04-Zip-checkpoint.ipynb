{
 "cells": [
  {
   "cell_type": "markdown",
   "metadata": {},
   "source": [
    "# zip\n",
    "zip () crea un iterador que agrega elementos de cada uno de los iterables.\n",
    "\n",
    "Devuelve un iterador de tuplas, donde la tupla i-ésima contiene el elemento i-ésimo de cada una de las secuencias de argumentos o iterables. El iterador se detiene cuando se agota la entrada más corta iterable. Con un único argumento iterable, devuelve un iterador de 1-tuplas. Sin argumentos, devuelve un iterador vacío.\n",
    "\n",
    "zip () es equivalente a:\n",
    "\n",
    "   def zip(*iterables):\n",
    "        # zip('ABCD', 'xy') --> Ax By\n",
    "        centinela = object()\n",
    "        iteradores = [iterable para iterables]\n",
    "        while iteradores:\n",
    "            resultado = []\n",
    "            for este in iteradores:\n",
    "                elemento = next(este, centinela)\n",
    "                if elemento is centinela:\n",
    "                    return\n",
    "                resultado.append(elemento)\n",
    "            yield tuple(resultado)\n",
    "         \n",
    "\n",
    "zip () solo debe usarse con entradas de longitud desigual cuando no le importan los valores finales inigualables de los iterables más largos.\n",
    "\n",
    "Veámoslo en acción en algunos ejemplos:\n",
    "\n",
    "## Ejemplos"
   ]
  },
  {
   "cell_type": "code",
   "execution_count": 1,
   "metadata": {},
   "outputs": [
    {
     "data": {
      "text/plain": [
       "[(1, 4), (2, 5), (3, 6)]"
      ]
     },
     "execution_count": 1,
     "metadata": {},
     "output_type": "execute_result"
    }
   ],
   "source": [
    "x = [1,2,3]\n",
    "y = [4,5,6]\n",
    "\n",
    "# Zip la lista junta\n",
    "list(zip(x,y))"
   ]
  },
  {
   "cell_type": "markdown",
   "metadata": {},
   "source": [
    "Observe cómo se devuelven las tuplas. ¿Qué pasa si un iterable es más largo que el otro?"
   ]
  },
  {
   "cell_type": "code",
   "execution_count": 2,
   "metadata": {},
   "outputs": [
    {
     "data": {
      "text/plain": [
       "[(1, 4), (2, 5), (3, 6)]"
      ]
     },
     "execution_count": 2,
     "metadata": {},
     "output_type": "execute_result"
    }
   ],
   "source": [
    "x = [1,2,3]\n",
    "y = [4,5,6,7,8]\n",
    "\n",
    "# Zip la lista junta\n",
    "list(zip(x,y))"
   ]
  },
  {
   "cell_type": "markdown",
   "metadata": {},
   "source": [
    "Tenga en cuenta cómo el zip se define por la longitud iterable más corta. En general, se recomienda no comprimir iterables de longitud desigual a menos que esté seguro de que solo necesita emparejamientos de tuplas parciales.\n",
    "\n",
    "¿Qué sucede si intentamos comprimir los diccionarios?"
   ]
  },
  {
   "cell_type": "code",
   "execution_count": 3,
   "metadata": {},
   "outputs": [
    {
     "data": {
      "text/plain": [
       "[('a', 'c'), ('b', 'd')]"
      ]
     },
     "execution_count": 3,
     "metadata": {},
     "output_type": "execute_result"
    }
   ],
   "source": [
    "d1 = {'a':1,'b':2}\n",
    "d2 = {'c':4,'d':5}\n",
    "\n",
    "list(zip(d1,d2))"
   ]
  },
  {
   "cell_type": "markdown",
   "metadata": {},
   "source": [
    "Esto tiene sentido porque simplemente iterar a través de los diccionarios dará como resultado solo las claves. Tendríamos que llamar a métodos para mezclar claves y valores:"
   ]
  },
  {
   "cell_type": "code",
   "execution_count": 4,
   "metadata": {},
   "outputs": [
    {
     "data": {
      "text/plain": [
       "[('c', 1), ('d', 2)]"
      ]
     },
     "execution_count": 4,
     "metadata": {},
     "output_type": "execute_result"
    }
   ],
   "source": [
    "list(zip(d2,d1.values()))"
   ]
  },
  {
   "cell_type": "markdown",
   "metadata": {},
   "source": [
    "¡Estupendo! Finalmente, usemos zip () para cambiar las claves y valores de los dos diccionarios:"
   ]
  },
  {
   "cell_type": "code",
   "execution_count": 5,
   "metadata": {
    "tags": []
   },
   "outputs": [],
   "source": [
    "def switcharoo(d1,d2):\n",
    "    dout = {}\n",
    "    \n",
    "    for d1clave,d2val in zip(d1,d2.values()):\n",
    "        dout[d1clave] = d2val\n",
    "    \n",
    "    return dout"
   ]
  },
  {
   "cell_type": "code",
   "execution_count": 6,
   "metadata": {},
   "outputs": [
    {
     "data": {
      "text/plain": [
       "{'a': 4, 'b': 5}"
      ]
     },
     "execution_count": 6,
     "metadata": {},
     "output_type": "execute_result"
    }
   ],
   "source": [
    "switcharoo(d1,d2)"
   ]
  },
  {
   "cell_type": "markdown",
   "metadata": {},
   "source": [
    "¡Estupendo! ¡Puede usar zip para ahorrar mucho tiempo de escritura en muchas situaciones! Ahora debería tener una buena comprensión de zip () y algunos posibles casos de uso."
   ]
  },
  {
   "cell_type": "code",
   "execution_count": null,
   "metadata": {},
   "outputs": [],
   "source": []
  }
 ],
 "metadata": {
  "kernelspec": {
   "display_name": "Python 3 (ipykernel)",
   "language": "python",
   "name": "python3"
  },
  "language_info": {
   "codemirror_mode": {
    "name": "ipython",
    "version": 3
   },
   "file_extension": ".py",
   "mimetype": "text/x-python",
   "name": "python",
   "nbconvert_exporter": "python",
   "pygments_lexer": "ipython3",
   "version": "3.9.6"
  }
 },
 "nbformat": 4,
 "nbformat_minor": 4
}
