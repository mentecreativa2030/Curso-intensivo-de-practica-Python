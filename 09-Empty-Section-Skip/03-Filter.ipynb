{
 "cells": [
  {
   "cell_type": "markdown",
   "metadata": {},
   "source": [
    "# filter\n",
    "\n",
    "El filtro de función (función, lista) ofrece una forma conveniente de filtrar todos los elementos de un iterable, para lo cual la función devuelve True.\n",
    "\n",
    "El filtro de función (función, lista) necesita una función como primer argumento. La función debe devolver un valor booleano (verdadero o falso). Esta función se aplicará a todos los elementos del iterable. Solo si la función devuelve True, el elemento del iterable se incluirá en el resultado.\n",
    "\n",
    "Al igual que map (), filter () devuelve un *iterador*, es decir, el filtro produce un resultado a la vez según sea necesario. Los iteradores y generadores se tratarán en una próxima conferencia. Por ahora, dado que nuestros ejemplos son tan pequeños, lanzaremos filter () como una lista para ver nuestros resultados inmediatamente.\n",
    "\n",
    "Veamos algunos ejemplos:"
   ]
  },
  {
   "cell_type": "code",
   "execution_count": 1,
   "metadata": {
    "tags": []
   },
   "outputs": [],
   "source": [
    "#Primero vamos hacer una funcion\n",
    "def verifica_par(num):\n",
    "    if num%2 ==0:\n",
    "        return True"
   ]
  },
  {
   "cell_type": "markdown",
   "metadata": {},
   "source": [
    "Ahora filtremos una lista de números. Nota: poner la función en el filtro sin paréntesis puede parecer extraño, pero tenga en cuenta que las funciones también son objetos."
   ]
  },
  {
   "cell_type": "code",
   "execution_count": 2,
   "metadata": {},
   "outputs": [
    {
     "data": {
      "text/plain": [
       "[0, 2, 4, 6, 8, 10, 12, 14, 16, 18]"
      ]
     },
     "execution_count": 2,
     "metadata": {},
     "output_type": "execute_result"
    }
   ],
   "source": [
    "lst =range(20)\n",
    "\n",
    "list(filter(verifica_par,lst))"
   ]
  },
  {
   "cell_type": "markdown",
   "metadata": {},
   "source": [
    "filter () se usa más comúnmente con funciones lambda, porque usualmente usamos filter para un trabajo rápido donde no queremos escribir una función completa. Repitamos el ejemplo anterior usando una expresión lambda:"
   ]
  },
  {
   "cell_type": "code",
   "execution_count": 3,
   "metadata": {},
   "outputs": [
    {
     "data": {
      "text/plain": [
       "[0, 2, 4, 6, 8, 10, 12, 14, 16, 18]"
      ]
     },
     "execution_count": 3,
     "metadata": {},
     "output_type": "execute_result"
    }
   ],
   "source": [
    "list(filter(lambda x: x%2==0,lst))"
   ]
  },
  {
   "cell_type": "markdown",
   "metadata": {},
   "source": [
    "¡Estupendo! ¡Ahora debería tener una comprensión sólida de filter () y cómo aplicarlo a su código!"
   ]
  },
  {
   "cell_type": "code",
   "execution_count": null,
   "metadata": {},
   "outputs": [],
   "source": []
  }
 ],
 "metadata": {
  "kernelspec": {
   "display_name": "Python 3 (ipykernel)",
   "language": "python",
   "name": "python3"
  },
  "language_info": {
   "codemirror_mode": {
    "name": "ipython",
    "version": 3
   },
   "file_extension": ".py",
   "mimetype": "text/x-python",
   "name": "python",
   "nbconvert_exporter": "python",
   "pygments_lexer": "ipython3",
   "version": "3.9.6"
  }
 },
 "nbformat": 4,
 "nbformat_minor": 4
}
