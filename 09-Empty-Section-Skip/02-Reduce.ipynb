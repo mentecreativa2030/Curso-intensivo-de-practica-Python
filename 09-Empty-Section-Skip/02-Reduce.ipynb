{
 "cells": [
  {
   "cell_type": "markdown",
   "metadata": {},
   "source": [
    "# reduce()\n",
    "Muchas veces los estudiantes tienen dificultades para comprender reduce (), así que preste mucha atención a esta lección. La función reduce (función, secuencia) aplica continuamente la función a la secuencia. Luego devuelve un solo valor.\n",
    "\n",
    "Si seq = [s1, s2, s3, ..., sn], llamar a reduce (función, secuencia) funciona así:\n",
    "\n",
    "* Al principio, los dos primeros elementos de seq se aplicarán a la función, es decir, func (s1, s2)\n",
    "* La lista en la que funciona reduce () se ve ahora así: [función (s1, s2), s3, ..., sn]\n",
    "* En el siguiente paso, la función se aplicará al resultado anterior y al tercer elemento de la lista, es decir, función (función (s1, s2), s3)\n",
    "* La lista se ve así ahora: [función (función (s1, s2), s3), ..., sn]\n",
    "* Continúa así hasta que solo queda un elemento y devuelve este elemento como resultado de reduce ()\n",
    "\n",
    "Veamos un ejemplo:"
   ]
  },
  {
   "cell_type": "code",
   "execution_count": 1,
   "metadata": {},
   "outputs": [
    {
     "data": {
      "text/plain": [
       "113"
      ]
     },
     "execution_count": 1,
     "metadata": {},
     "output_type": "execute_result"
    }
   ],
   "source": [
    "from functools import reduce\n",
    "\n",
    "lst =[47,11,42,13]\n",
    "reduce(lambda x,y: x+y,lst)"
   ]
  },
  {
   "cell_type": "markdown",
   "metadata": {},
   "source": [
    "Veamos un diagrama para comprender mejor lo que está sucediendo aquí:"
   ]
  },
  {
   "cell_type": "code",
   "execution_count": 5,
   "metadata": {
    "tags": []
   },
   "outputs": [
    {
     "data": {
      "image/png": "[encoded data removed]",
      "text/plain": [
       "<IPython.core.display.Image object>"
      ]
     },
     "execution_count": 5,
     "metadata": {},
     "output_type": "execute_result"
    }
   ],
   "source": [
    "from IPython.display import Image\n",
    "Image('https://upload.wikimedia.org/wikipedia/commons/9/94/Vote3_final.png')"
   ]
  },
  {
   "cell_type": "markdown",
   "metadata": {},
   "source": [
    "Observe cómo seguimos reduciendo la secuencia hasta que se obtiene un único valor final. Veamos otro ejemplo:"
   ]
  },
  {
   "cell_type": "code",
   "execution_count": 6,
   "metadata": {
    "tags": []
   },
   "outputs": [],
   "source": [
    "#Encuentra el máximo de una secuencia (esto ya existe como max ())\n",
    "max_find = lambda a,b: a if (a > b) else b"
   ]
  },
  {
   "cell_type": "code",
   "execution_count": 7,
   "metadata": {},
   "outputs": [
    {
     "data": {
      "text/plain": [
       "47"
      ]
     },
     "execution_count": 7,
     "metadata": {},
     "output_type": "execute_result"
    }
   ],
   "source": [
    "#Encuentra max\n",
    "reduce(max_find,lst)"
   ]
  },
  {
   "cell_type": "markdown",
   "metadata": {},
   "source": [
    "Con suerte, podrá ver lo útil que puede ser la reducción en diversas situaciones. ¡Téngalo en cuenta cuando piense en sus proyectos de código!"
   ]
  },
  {
   "cell_type": "code",
   "execution_count": null,
   "metadata": {},
   "outputs": [],
   "source": []
  }
 ],
 "metadata": {
  "kernelspec": {
   "display_name": "Python 3 (ipykernel)",
   "language": "python",
   "name": "python3"
  },
  "language_info": {
   "codemirror_mode": {
    "name": "ipython",
    "version": 3
   },
   "file_extension": ".py",
   "mimetype": "text/x-python",
   "name": "python",
   "nbconvert_exporter": "python",
   "pygments_lexer": "ipython3",
   "version": "3.9.6"
  }
 },
 "nbformat": 4,
 "nbformat_minor": 4
}
