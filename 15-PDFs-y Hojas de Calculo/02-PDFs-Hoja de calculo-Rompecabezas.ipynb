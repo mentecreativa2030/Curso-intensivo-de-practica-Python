{
 "cells": [
  {
   "cell_type": "markdown",
   "metadata": {},
   "source": [
    "# PDF y hojas de cálculo Ejercicio de rompecabezas\n",
    "\n",
    "Pongamos a prueba tus habilidades, los archivos necesarios para este ejercicio de rompecabezas.\n",
    "\n",
    "Necesitará trabajar con dos archivos para este ejercicio y resolver las siguientes tareas:\n",
    "\n",
    "* Tarea uno: use Python para extraer el enlace de Google Drive del archivo .csv. (Sugerencia: está a lo largo de la diagonal de arriba a la izquierda a abajo a la derecha).\n",
    "* Tarea dos: descargue el PDF desde el enlace de Google Drive (ya lo descargamos por usted en caso de que no pueda descargarlo desde Google Drive) y busque el número de teléfono que se encuentra en el documento. Nota: ¡Hay diferentes formas de formatear un número de teléfono!"
   ]
  },
  {
   "cell_type": "markdown",
   "metadata": {},
   "source": [
    "## Tarea uno: tome el enlace de Google Drive del archivo .csv"
   ]
  },
  {
   "cell_type": "code",
   "execution_count": null,
   "metadata": {
    "tags": []
   },
   "outputs": [],
   "source": []
  },
  {
   "cell_type": "code",
   "execution_count": 1,
   "metadata": {},
   "outputs": [],
   "source": [
    "# El resultado correcto se muestra a continuación, si no puede descargar desde Google Drive,\n",
    "# ya agregamos el archivo PDF a la carpeta Exercise_Files"
   ]
  },
  {
   "cell_type": "markdown",
   "metadata": {},
   "source": [
    "## Tarea dos: descargue el PDF desde el enlace de Google Drive y busque el número de teléfono que se encuentra en el documento."
   ]
  },
  {
   "cell_type": "code",
   "execution_count": 2,
   "metadata": {
    "tags": []
   },
   "outputs": [],
   "source": [
    "# Debe obtener este número de teléfono\n",
    "# 505 503 4455"
   ]
  },
  {
   "cell_type": "code",
   "execution_count": null,
   "metadata": {},
   "outputs": [],
   "source": []
  }
 ],
 "metadata": {
  "anaconda-cloud": {},
  "kernelspec": {
   "display_name": "Python 3 (ipykernel)",
   "language": "python",
   "name": "python3"
  },
  "language_info": {
   "codemirror_mode": {
    "name": "ipython",
    "version": 3
   },
   "file_extension": ".py",
   "mimetype": "text/x-python",
   "name": "python",
   "nbconvert_exporter": "python",
   "pygments_lexer": "ipython3",
   "version": "3.9.6"
  }
 },
 "nbformat": 4,
 "nbformat_minor": 4
}
