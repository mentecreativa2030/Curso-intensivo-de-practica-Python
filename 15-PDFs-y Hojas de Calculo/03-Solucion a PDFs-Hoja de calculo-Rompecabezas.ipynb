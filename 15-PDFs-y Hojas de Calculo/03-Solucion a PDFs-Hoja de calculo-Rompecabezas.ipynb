{
 "cells": [
  {
   "cell_type": "markdown",
   "metadata": {},
   "source": [
    "# PDF y hojas de cálculo- Ejercicio de rompecabezas\n",
    "\n",
    "Necesitará trabajar con dos archivos para este ejercicio y resolver las siguientes tareas:\n",
    "\n",
    "* Tarea uno: tome el enlace de Google Drive del archivo .csv. (Pista: Está a lo largo de la diagonal).\n",
    "* Tarea dos: descargue el PDF desde el enlace de Google Drive (ya lo descargamos por usted en caso de que no pueda descargarlo desde Google Drive) y busque el número de teléfono que se encuentra en el documento. Nota: ¡Hay diferentes formas de formatear un número de teléfono!"
   ]
  },
  {
   "cell_type": "markdown",
   "metadata": {},
   "source": [
    "## Tarea uno: tome el enlace de Google Drive del archivo .csv"
   ]
  },
  {
   "cell_type": "code",
   "execution_count": 1,
   "metadata": {
    "tags": []
   },
   "outputs": [],
   "source": [
    "import csv"
   ]
  },
  {
   "cell_type": "markdown",
   "metadata": {},
   "source": [
    "**Toma todas las líneas de datos.**"
   ]
  },
  {
   "cell_type": "code",
   "execution_count": 2,
   "metadata": {
    "tags": []
   },
   "outputs": [],
   "source": [
    "datos = open('Ejercicio_Archivos/encuentra_el_enlace.csv',encoding=\"utf-8\")\n",
    "csv_datos = csv.reader(datos)\n",
    "lineas_datos = list(csv_datos)"
   ]
  },
  {
   "cell_type": "markdown",
   "metadata": {},
   "source": [
    "**Podemos verlo a lo largo de la diagonal, lo que significa que los valores están en la posición del índice que coincide con el orden numérico de la fila. Entonces, la primera letra es el primer elemento de la primera fila, la segunda letra es el segundo elemento de la segunda fila, el tercer elemento es la tercera letra de la tercera fila y así sucesivamente. Podemos usar enumerar para rastrear el número de fila y simplemente indexar las líneas de datos. **"
   ]
  },
  {
   "cell_type": "markdown",
   "metadata": {},
   "source": [
    "**Metodo Uno**"
   ]
  },
  {
   "cell_type": "code",
   "execution_count": 3,
   "metadata": {
    "tags": []
   },
   "outputs": [],
   "source": [
    "lista_enlace = []\n",
    "for num_renglon,datos in enumerate(lineas_datos):\n",
    "    lista_enlace.append(datos[num_renglon])"
   ]
  },
  {
   "cell_type": "code",
   "execution_count": 4,
   "metadata": {},
   "outputs": [
    {
     "data": {
      "text/plain": [
       "'https://drive.google.com/open?id=1G6SEgg018UB4_4xsAJJ5TdzrhmXipr4Q'"
      ]
     },
     "execution_count": 4,
     "metadata": {},
     "output_type": "execute_result"
    }
   ],
   "source": [
    "''.join(lista_enlace)"
   ]
  },
  {
   "cell_type": "markdown",
   "metadata": {},
   "source": [
    "**Metodo Dos**"
   ]
  },
  {
   "cell_type": "code",
   "execution_count": 5,
   "metadata": {
    "tags": []
   },
   "outputs": [],
   "source": [
    "cadena_enlace = ''\n",
    "for num_renglon,datos in enumerate(lineas_datos):\n",
    "    cadena_enlace+=datos[num_renglon]"
   ]
  },
  {
   "cell_type": "code",
   "execution_count": 6,
   "metadata": {},
   "outputs": [
    {
     "data": {
      "text/plain": [
       "'https://drive.google.com/open?id=1G6SEgg018UB4_4xsAJJ5TdzrhmXipr4Q'"
      ]
     },
     "execution_count": 6,
     "metadata": {},
     "output_type": "execute_result"
    }
   ],
   "source": [
    "cadena_enlace"
   ]
  },
  {
   "cell_type": "markdown",
   "metadata": {},
   "source": [
    "## Tarea dos: descargue el PDF desde el enlace de Google Drive y busque el número de teléfono que se encuentra en el documento."
   ]
  },
  {
   "cell_type": "code",
   "execution_count": 7,
   "metadata": {
    "tags": []
   },
   "outputs": [],
   "source": [
    "import PyPDF2"
   ]
  },
  {
   "cell_type": "code",
   "execution_count": 8,
   "metadata": {
    "tags": []
   },
   "outputs": [],
   "source": [
    "f = open('Ejercicio_Archivos/encuentra_el_numero_telefono.pdf','rb')"
   ]
  },
  {
   "cell_type": "code",
   "execution_count": 9,
   "metadata": {
    "tags": []
   },
   "outputs": [],
   "source": [
    "pdf = PyPDF2.PdfFileReader(f)"
   ]
  },
  {
   "cell_type": "code",
   "execution_count": 10,
   "metadata": {},
   "outputs": [
    {
     "data": {
      "text/plain": [
       "17"
      ]
     },
     "execution_count": 10,
     "metadata": {},
     "output_type": "execute_result"
    }
   ],
   "source": [
    "pdf.numPages"
   ]
  },
  {
   "cell_type": "markdown",
   "metadata": {},
   "source": [
    "## Coincidencia de números de teléfono\n",
    "\n",
    "Hay muchas maneras de hacer esto, pero tenía que averiguar que el número de teléfono tenía el formato ###.###.####\n",
    "\n",
    "Sugerencia: https://stackoverflow.com/questions/4697882/how-can-i-find-all-matches-to-a-regular-expression-in-python"
   ]
  },
  {
   "cell_type": "code",
   "execution_count": 11,
   "metadata": {
    "tags": []
   },
   "outputs": [],
   "source": [
    "import re"
   ]
  },
  {
   "cell_type": "code",
   "execution_count": 12,
   "metadata": {
    "tags": []
   },
   "outputs": [],
   "source": [
    "patron = r'\\d{3}'"
   ]
  },
  {
   "cell_type": "code",
   "execution_count": 13,
   "metadata": {
    "tags": []
   },
   "outputs": [],
   "source": [
    "todo_texto = ''\n",
    "\n",
    "for n in range(pdf.numPages):\n",
    "    \n",
    "    pagina = pdf.getPage(n)\n",
    "    pagina_texto = pagina.extractText()\n",
    "    \n",
    "    todo_texto = todo_texto+' '+pagina_texto"
   ]
  },
  {
   "cell_type": "code",
   "execution_count": 14,
   "metadata": {
    "tags": []
   },
   "outputs": [
    {
     "name": "stdout",
     "output_type": "stream",
     "text": [
      "<re.Match object; span=(655, 658), match='000'>\n",
      "<re.Match object; span=(17805, 17808), match='000'>\n",
      "<re.Match object; span=(35059, 35062), match='000'>\n",
      "<re.Match object; span=(41808, 41811), match='505'>\n",
      "<re.Match object; span=(41812, 41815), match='503'>\n",
      "<re.Match object; span=(41816, 41819), match='445'>\n"
     ]
    }
   ],
   "source": [
    "for coincide in re.finditer(patron,todo_texto):\n",
    "    print(coincide)"
   ]
  },
  {
   "cell_type": "markdown",
   "metadata": {},
   "source": [
    "Una vez que sepas el patrón correcto:"
   ]
  },
  {
   "cell_type": "code",
   "execution_count": 15,
   "metadata": {
    "tags": []
   },
   "outputs": [],
   "source": [
    "import re"
   ]
  },
  {
   "cell_type": "code",
   "execution_count": 16,
   "metadata": {
    "tags": []
   },
   "outputs": [],
   "source": [
    "patron = r'\\d{3}.\\d{3}.\\d{4}' "
   ]
  },
  {
   "cell_type": "code",
   "execution_count": 17,
   "metadata": {},
   "outputs": [
    {
     "name": "stdout",
     "output_type": "stream",
     "text": [
      "505.503.4455\n"
     ]
    }
   ],
   "source": [
    "for n in range(pdf.numPages):\n",
    "    \n",
    "    pagina  = pdf.getPage(n)\n",
    "    pagina_texto = pagina.extractText()\n",
    "    coincide = re.search(patron,pagina_texto)\n",
    "    \n",
    "    if coincide:\n",
    "        print(coincide.group())"
   ]
  },
  {
   "cell_type": "markdown",
   "metadata": {},
   "source": [
    "Gran trabajo!!"
   ]
  },
  {
   "cell_type": "code",
   "execution_count": null,
   "metadata": {},
   "outputs": [],
   "source": []
  }
 ],
 "metadata": {
  "anaconda-cloud": {},
  "kernelspec": {
   "display_name": "Python 3 (ipykernel)",
   "language": "python",
   "name": "python3"
  },
  "language_info": {
   "codemirror_mode": {
    "name": "ipython",
    "version": 3
   },
   "file_extension": ".py",
   "mimetype": "text/x-python",
   "name": "python",
   "nbconvert_exporter": "python",
   "pygments_lexer": "ipython3",
   "version": "3.9.6"
  }
 },
 "nbformat": 4,
 "nbformat_minor": 4
}
