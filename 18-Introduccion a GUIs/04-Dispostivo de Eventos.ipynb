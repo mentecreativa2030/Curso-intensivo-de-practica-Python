{
 "cells": [
  {
   "cell_type": "markdown",
   "metadata": {
    "slideshow": {
     "slide_type": "slide"
    }
   },
   "source": [
    "# Eventos de dispositivos\n",
    "\n",
    "En esta conferencia, discutiremos eventos de dispositivos, como clics en botones."
   ]
  },
  {
   "cell_type": "markdown",
   "metadata": {},
   "source": [
    "## Eventos Especial"
   ]
  },
  {
   "cell_type": "markdown",
   "metadata": {},
   "source": [
    "El 'Botón' no se usa para representar un tipo de datos. En su lugar, el disposito de botón se usa para manejar los clics del mouse. El método `on_click` del `Button` se puede utilizar para registrar una función que se llamará cuando se haga clic en el botón. La cadena de documentación de `on_click` se puede ver a continuación."
   ]
  },
  {
   "cell_type": "code",
   "execution_count": 1,
   "metadata": {},
   "outputs": [
    {
     "name": "stdout",
     "output_type": "stream",
     "text": [
      "Register a callback to execute when the button is clicked.\n",
      "\n",
      "        The callback will be called with one argument, the clicked button\n",
      "        widget instance.\n",
      "\n",
      "        Parameters\n",
      "        ----------\n",
      "        remove: bool (optional)\n",
      "            Set to true to remove the callback from the list of callbacks.\n",
      "        \n"
     ]
    }
   ],
   "source": [
    "import ipywidgets as widgets\n",
    "\n",
    "print(widgets.Button.on_click.__doc__)"
   ]
  },
  {
   "cell_type": "markdown",
   "metadata": {
    "slideshow": {
     "slide_type": "slide"
    }
   },
   "source": [
    "### Ejemplo #1 - on_click"
   ]
  },
  {
   "cell_type": "markdown",
   "metadata": {},
   "source": [
    "Dado que los clics en los botones no tienen estado, se transmiten desde el front-end al back-end mediante mensajes personalizados. Al usar el método `on_click`, a continuación se muestra un botón que imprime un mensaje cuando se hace clic en él."
   ]
  },
  {
   "cell_type": "code",
   "execution_count": 2,
   "metadata": {},
   "outputs": [
    {
     "data": {
      "application/vnd.jupyter.widget-view+json": {
       "model_id": "eef9e6b620ec439f9fb0a29b7c9de851",
       "version_major": 2,
       "version_minor": 0
      },
      "text/plain": [
       "Button(description='Dame click!', style=ButtonStyle())"
      ]
     },
     "metadata": {},
     "output_type": "display_data"
    }
   ],
   "source": [
    "from IPython.display import display\n",
    "button = widgets.Button(description=\"Dame click!\")\n",
    "display(button)\n",
    "\n",
    "def on_button_clicked(b):\n",
    "    print(\"Boton presionado.\")\n",
    "\n",
    "button.on_click(on_button_clicked)"
   ]
  },
  {
   "cell_type": "markdown",
   "metadata": {
    "slideshow": {
     "slide_type": "slide"
    }
   },
   "source": [
    "### Ejemplo #2 - on_submit"
   ]
  },
  {
   "cell_type": "markdown",
   "metadata": {},
   "source": [
    "El dispositivo `Text` también tiene un evento especial `on_submit`. El evento `on_submit` se activa cuando el usuario pulsa <kbd>enter</kbd>."
   ]
  },
  {
   "cell_type": "code",
   "execution_count": 3,
   "metadata": {},
   "outputs": [
    {
     "data": {
      "application/vnd.jupyter.widget-view+json": {
       "model_id": "d795690ea7e947e6982eff878cc7d380",
       "version_major": 2,
       "version_minor": 0
      },
      "text/plain": [
       "Text(value='')"
      ]
     },
     "metadata": {},
     "output_type": "display_data"
    }
   ],
   "source": [
    "text = widgets.Text()\n",
    "display(text)\n",
    "\n",
    "def handle_submit(sender):\n",
    "    print(text.value)\n",
    "\n",
    "text.on_submit(handle_submit)"
   ]
  },
  {
   "cell_type": "markdown",
   "metadata": {
    "slideshow": {
     "slide_type": "slide"
    }
   },
   "source": [
    "## Eventos Traitlet\n",
    "Las propiedades de los dispositivos son rasgos de IPython y los rasgos son llenos de eventos. Para manejar los cambios, se puede usar el método `observe` del dispositivo para registrar una devolución de llamada. La cadena de documentación para `observe` se puede ver a continuación."
   ]
  },
  {
   "cell_type": "code",
   "execution_count": 4,
   "metadata": {},
   "outputs": [
    {
     "name": "stdout",
     "output_type": "stream",
     "text": [
      "Setup a handler to be called when a trait changes.\n",
      "\n",
      "        This is used to setup dynamic notifications of trait changes.\n",
      "\n",
      "        Parameters\n",
      "        ----------\n",
      "        handler : callable\n",
      "            A callable that is called when a trait changes. Its\n",
      "            signature should be ``handler(change)``, where ``change`` is a\n",
      "            dictionary. The change dictionary at least holds a 'type' key.\n",
      "            * ``type``: the type of notification.\n",
      "            Other keys may be passed depending on the value of 'type'. In the\n",
      "            case where type is 'change', we also have the following keys:\n",
      "            * ``owner`` : the HasTraits instance\n",
      "            * ``old`` : the old value of the modified trait attribute\n",
      "            * ``new`` : the new value of the modified trait attribute\n",
      "            * ``name`` : the name of the modified trait attribute.\n",
      "        names : list, str, All\n",
      "            If names is All, the handler will apply to all traits.  If a list\n",
      "            of str, handler will apply to all names in the list.  If a\n",
      "            str, the handler will apply just to that name.\n",
      "        type : str, All (default: 'change')\n",
      "            The type of notification to filter by. If equal to All, then all\n",
      "            notifications are passed to the observe handler.\n",
      "        \n"
     ]
    }
   ],
   "source": [
    "print(widgets.Widget.observe.__doc__)"
   ]
  },
  {
   "cell_type": "markdown",
   "metadata": {
    "slideshow": {
     "slide_type": "slide"
    }
   },
   "source": [
    "### Firmas\n",
    "Mencionado en la cadena de documentación, la devolución de llamada registrada debe tener la firma `handler(change)` donde `change` es un diccionario que contiene la información sobre el cambio.\n",
    "\n",
    "Con este método, a continuación se puede ver un ejemplo de cómo generar un valor de `IntSlider` a medida que se cambia.\n"
   ]
  },
  {
   "cell_type": "code",
   "execution_count": 5,
   "metadata": {},
   "outputs": [
    {
     "data": {
      "application/vnd.jupyter.widget-view+json": {
       "model_id": "0a0ecf751b8f4423a4836c9cd4f44a53",
       "version_major": 2,
       "version_minor": 0
      },
      "text/plain": [
       "IntSlider(value=0)"
      ]
     },
     "metadata": {},
     "output_type": "display_data"
    }
   ],
   "source": [
    "int_range = widgets.IntSlider()\n",
    "display(int_range)\n",
    "\n",
    "def on_value_change(change):\n",
    "    print(change['nuevo'])\n",
    "\n",
    "int_range.observe(on_value_change, names='valor')"
   ]
  },
  {
   "cell_type": "markdown",
   "metadata": {},
   "source": [
    "# Vinculación de dispositivos¶\n",
    "\n",
    "A menudo, es posible que desee vincular simplemente los atributos de los dispositivos. La sincronización de atributos se puede realizar de una forma más sencilla que mediante el uso de eventos de traitlets."
   ]
  },
  {
   "cell_type": "markdown",
   "metadata": {},
   "source": [
    "## Vinculando atributos de traitlets en el kernel¶\n",
    "\n",
    "El primer método es usar las funciones `link` y `dlink` del módulo `traitlets`. Esto solo funciona si estamos interactuando con un kernel en vivo."
   ]
  },
  {
   "cell_type": "code",
   "execution_count": 6,
   "metadata": {},
   "outputs": [],
   "source": [
    "import traitlets"
   ]
  },
  {
   "cell_type": "code",
   "execution_count": 7,
   "metadata": {},
   "outputs": [
    {
     "data": {
      "application/vnd.jupyter.widget-view+json": {
       "model_id": "86b414aa9afd4bce9074658593a57243",
       "version_major": 2,
       "version_minor": 0
      },
      "text/plain": [
       "Label(value='Los valores de slider1 y slider2 están sincronizados')"
      ]
     },
     "metadata": {},
     "output_type": "display_data"
    },
    {
     "data": {
      "application/vnd.jupyter.widget-view+json": {
       "model_id": "aa65f5ec4f374e42b40ceb8bbdd2f695",
       "version_major": 2,
       "version_minor": 0
      },
      "text/plain": [
       "IntSlider(value=0, description='Slider 1')"
      ]
     },
     "metadata": {},
     "output_type": "display_data"
    },
    {
     "data": {
      "application/vnd.jupyter.widget-view+json": {
       "model_id": "666e50881399451db164838242fe584f",
       "version_major": 2,
       "version_minor": 0
      },
      "text/plain": [
       "IntSlider(value=0, description='Slider 2')"
      ]
     },
     "metadata": {},
     "output_type": "display_data"
    }
   ],
   "source": [
    "# Crear título\n",
    "caption = widgets.Label(value = 'Los valores de slider1 y slider2 están sincronizados')\n",
    "\n",
    "# Crear IntSliders\n",
    "slider1 = widgets.IntSlider(description='Slider 1')\n",
    "slider2 =  widgets.IntSlider(description='Slider 2')\n",
    "\n",
    "# Usa trailets para lanzar\n",
    "l = traitlets.link((slider1, 'value'), (slider2, 'value'))\n",
    "\n",
    "# Desplegar!\n",
    "display(caption, slider1, slider2)"
   ]
  },
  {
   "cell_type": "code",
   "execution_count": 8,
   "metadata": {},
   "outputs": [
    {
     "data": {
      "application/vnd.jupyter.widget-view+json": {
       "model_id": "a6c059b2d7b841f88a53353efe920745",
       "version_major": 2,
       "version_minor": 0
      },
      "text/plain": [
       "Label(value='Los cambios en los valores de origen se reflejan en target1')"
      ]
     },
     "metadata": {},
     "output_type": "display_data"
    },
    {
     "data": {
      "application/vnd.jupyter.widget-view+json": {
       "model_id": "09bbf88fe6f84889aa4257bbd0cc1a28",
       "version_major": 2,
       "version_minor": 0
      },
      "text/plain": [
       "IntSlider(value=0, description='Source')"
      ]
     },
     "metadata": {},
     "output_type": "display_data"
    },
    {
     "data": {
      "application/vnd.jupyter.widget-view+json": {
       "model_id": "c4dc94fed8844ed08dbb57075e46193b",
       "version_major": 2,
       "version_minor": 0
      },
      "text/plain": [
       "IntSlider(value=0, description='Target 1')"
      ]
     },
     "metadata": {},
     "output_type": "display_data"
    }
   ],
   "source": [
    "# Crear titulo\n",
    "caption = widgets.Label(value='Los cambios en los valores de origen se reflejan en target1')\n",
    "\n",
    "# Crear Sliders\n",
    "source = widgets.IntSlider(description='Source')\n",
    "target1 = widgets.IntSlider(description='Target 1')\n",
    "\n",
    "# Use dlink\n",
    "dl = traitlets.dlink((source, 'value'), (target1, 'value'))\n",
    "display(caption, source, target1)"
   ]
  },
  {
   "cell_type": "markdown",
   "metadata": {},
   "source": [
    "Las funciones `traitlets.link` y `traitlets.dlink` devuelven un objeto `Link` o `DLink`. El enlace se puede romper llamando al método `unlink`."
   ]
  },
  {
   "cell_type": "code",
   "execution_count": 9,
   "metadata": {},
   "outputs": [],
   "source": [
    "# ¡Puede obtener un error según el orden de ejecución de las celdas!\n",
    "l.unlink()\n",
    "dl.unlink()"
   ]
  },
  {
   "cell_type": "markdown",
   "metadata": {},
   "source": [
    "### Registro de devoluciones de llamada a cambios de rasgos en el kernel\n",
    "\n",
    "Dado que los atributos de los dispositivos en el lado de Python son rasgos, puede registrar controladores para los eventos de cambio cada vez que el modelo recibe actualizaciones desde el front-end.\n",
    "\n",
    "Se llamará al controlador pasado para observar con un argumento de cambio. El objeto de cambio contiene al menos una clave de tipo y una clave de nombre, correspondientes respectivamente al tipo de notificación y al nombre del atributo que activó la notificación.\n",
    "\n",
    "Se pueden pasar otras claves dependiendo del valor de `type`. En el caso de que el tipo sea `cambio`, también tenemos las siguientes claves:\n",
    "* `propietario`: la instancia de HasTraits\n",
    "* `old`: el valor antiguo del atributo de rasgo modificado\n",
    "* `nuevo`: el nuevo valor del atributo de rasgo modificado\n",
    "* `name` : el nombre del atributo de rasgo modificado."
   ]
  },
  {
   "cell_type": "code",
   "execution_count": 10,
   "metadata": {},
   "outputs": [
    {
     "data": {
      "application/vnd.jupyter.widget-view+json": {
       "model_id": "40195fdd786049e9bd5d691a5175420b",
       "version_major": 2,
       "version_minor": 0
      },
      "text/plain": [
       "Label(value='Los valores de range1 y range2 están sincronizados')"
      ]
     },
     "metadata": {},
     "output_type": "display_data"
    },
    {
     "data": {
      "application/vnd.jupyter.widget-view+json": {
       "model_id": "3c3e84484cb64f56a4a86387acd13d09",
       "version_major": 2,
       "version_minor": 0
      },
      "text/plain": [
       "IntSlider(value=1, description='Deslizador', max=5, min=-5)"
      ]
     },
     "metadata": {},
     "output_type": "display_data"
    }
   ],
   "source": [
    "caption = widgets.Label(value='Los valores de range1 y range2 están sincronizados')\n",
    "slider = widgets.IntSlider(min=-5, max=5, value=1, description='Deslizador')\n",
    "\n",
    "def handle_slider_change(change):\n",
    "    caption.value = 'El valor Deslizador es ' + (\n",
    "        'negative' if change.new < 0 else 'no negativo'\n",
    "    )\n",
    "\n",
    "slider.observe(handle_slider_change, names='valor')\n",
    "\n",
    "display(caption, slider)"
   ]
  },
  {
   "cell_type": "markdown",
   "metadata": {},
   "source": [
    "## Vinculación de atributos de dispositivos desde el lado del cliente\n",
    "\n",
    "Al sincronizar los atributos de los atributos, es posible que experimente un retraso debido a la latencia debido al viaje de ida y vuelta al lado del servidor. También puede vincular directamente atributos de dispositivos en el navegador utilizando los dispositivos de vínculo, ya sea de forma unidireccional o bidireccional.\n",
    "\n",
    "Los enlaces de Javascript persisten cuando se incrustan widgets en páginas web html sin kernel."
   ]
  },
  {
   "cell_type": "code",
   "execution_count": 11,
   "metadata": {
    "jupyter": {
     "source_hidden": true
    },
    "tags": []
   },
   "outputs": [
    {
     "data": {
      "application/vnd.jupyter.widget-view+json": {
       "model_id": "cd349d43f3b94187815df0ee3c647a49",
       "version_major": 2,
       "version_minor": 0
      },
      "text/plain": [
       "Label(value='Los valores de range1 y range2 están sincronizados')"
      ]
     },
     "metadata": {},
     "output_type": "display_data"
    },
    {
     "data": {
      "application/vnd.jupyter.widget-view+json": {
       "model_id": "afd4a8891b26437fb8e9f599e3995ee6",
       "version_major": 2,
       "version_minor": 0
      },
      "text/plain": [
       "IntSlider(value=0, description='Rango 1')"
      ]
     },
     "metadata": {},
     "output_type": "display_data"
    },
    {
     "data": {
      "application/vnd.jupyter.widget-view+json": {
       "model_id": "76389e4550db42168d22bbd366e89da3",
       "version_major": 2,
       "version_minor": 0
      },
      "text/plain": [
       "IntSlider(value=0, description='Rango 2')"
      ]
     },
     "metadata": {},
     "output_type": "display_data"
    }
   ],
   "source": [
    "# VERSIÓN SIN LAG\n",
    "caption = widgets.Label(value = 'Los valores de range1 y range2 están sincronizados')\n",
    "\n",
    "range1 = widgets.IntSlider(description='Rango 1')\n",
    "range2 = widgets.IntSlider(description='Rango 2')\n",
    "\n",
    "l = widgets.jslink((range1, 'value'), (range2, 'value'))\n",
    "display(caption, range1, range2)"
   ]
  },
  {
   "cell_type": "code",
   "execution_count": 12,
   "metadata": {},
   "outputs": [
    {
     "data": {
      "application/vnd.jupyter.widget-view+json": {
       "model_id": "382e619082ca4e219f2a0e4300ac92f7",
       "version_major": 2,
       "version_minor": 0
      },
      "text/plain": [
       "Label(value='Los cambios en los valores de source_range se reflejan en target_range')"
      ]
     },
     "metadata": {},
     "output_type": "display_data"
    },
    {
     "data": {
      "application/vnd.jupyter.widget-view+json": {
       "model_id": "881f2137b70243f3bd10b9666532be92",
       "version_major": 2,
       "version_minor": 0
      },
      "text/plain": [
       "IntSlider(value=0, description='Rando fuente')"
      ]
     },
     "metadata": {},
     "output_type": "display_data"
    },
    {
     "data": {
      "application/vnd.jupyter.widget-view+json": {
       "model_id": "1074f02dd1414bafa9c3eb8648911aa4",
       "version_major": 2,
       "version_minor": 0
      },
      "text/plain": [
       "IntSlider(value=0, description='Rango objetivo')"
      ]
     },
     "metadata": {},
     "output_type": "display_data"
    }
   ],
   "source": [
    "# VERSIÓN SIN LAG\n",
    "caption = widgets.Label(value = 'Los cambios en los valores de source_range se reflejan en target_range')\n",
    "\n",
    "source_range = widgets.IntSlider(description='Rando fuente')\n",
    "target_range = widgets.IntSlider(description='Rango objetivo')\n",
    "\n",
    "dl = widgets.jsdlink((source_range, 'value'), (target_range, 'value'))\n",
    "display(caption, source_range, target_range)"
   ]
  },
  {
   "cell_type": "markdown",
   "metadata": {},
   "source": [
    "La función `widgets.jslink` devuelve un dispositivo `Link`. El enlace se puede romper llamando al método `unlink`.### La diferencia entre vincular en el kernel y vincular en el cliente\n",
    "\n",
    "Vincular en el kernel significa vincular a través de python. Si dos controles deslizantes están vinculados en el kernel, cuando se cambia un control deslizante, el navegador envía un mensaje al kernel (python en este caso) actualizando el control deslizante modificado, el dispositivo de enlace en el kernel luego propaga el cambio al otro objeto deslizante en el kernel, y luego el objeto kernel del otro control deslizante envía un mensaje al navegador para actualizar las vistas del otro control deslizante en el navegador. Si el kernel no se está ejecutando (como en una página web estática), los controles no estarán vinculados.\n",
    "\n",
    "Vincular usando jslink (es decir, en el lado del navegador) significa construir el enlace en Javascript. Cuando se cambia un control deslizante, Javascript que se ejecuta en el navegador cambia el valor del otro control deslizante en el navegador, sin necesidad de comunicarse con el kernel en absoluto. Si los controles deslizantes están adjuntos a los objetos del kernel, cada control deslizante actualizará sus objetos del lado del kernel de forma independiente.\n",
    "\n",
    "Para ver la diferencia entre los dos, vaya a la [documentación de ipywidgets](http://ipywidgets.readthedocs.io/en/latest/examples/Widget%20Events.html) y pruebe los controles deslizantes cerca de la parte inferior. Los vinculados en el kernel con `link` y `dlink` ya no están vinculados, pero los vinculados en el navegador con `jslink` y `jsdlink` todavía están vinculados."
   ]
  },
  {
   "cell_type": "code",
   "execution_count": 13,
   "metadata": {},
   "outputs": [],
   "source": [
    "l.unlink()\n",
    "dl.unlink()"
   ]
  },
  {
   "cell_type": "markdown",
   "metadata": {},
   "source": [
    "### La diferencia entre vincular en el kernel y vincular en el cliente\n",
    "\n",
    "Vincular en el kernel significa vincular a través de python. Si dos controles deslizantes están vinculados en el kernel, cuando se cambia un control deslizante, el navegador envía un mensaje al kernel (python en este caso) actualizando el control deslizante modificado, el widget de enlace en el kernel luego propaga el cambio al otro objeto deslizante en el kernel, y luego el objeto kernel del otro control deslizante envía un mensaje al navegador para actualizar las vistas del otro control deslizante en el navegador. Si el kernel no se está ejecutando (como en una página web estática), los controles no estarán vinculados.\n",
    "\n",
    "Vincular usando jslink (es decir, en el lado del navegador) significa construir el enlace en Javascript. Cuando se cambia un control deslizante, Javascript que se ejecuta en el navegador cambia el valor del otro control deslizante en el navegador, sin necesidad de comunicarse con el kernel en absoluto. Si los controles deslizantes están adjuntos a los objetos del kernel, cada control deslizante actualizará sus objetos del lado del kernel de forma independiente.\n",
    "\n",
    "Para ver la diferencia entre los dos, vaya a la [documentación de ipywidgets](http://ipywidgets.readthedocs.io/en/latest/examples/Widget%20Events.html) y pruebe los controles deslizantes cerca de la parte inferior. Los vinculados en el kernel con `link` y `dlink` ya no están vinculados, pero los vinculados en el navegador con `jslink` y `jsdlink` todavía están vinculados.\n"
   ]
  },
  {
   "cell_type": "markdown",
   "metadata": {},
   "source": [
    "## Actualizaciones continuas\n",
    "\n",
    "Algunos dispositivos ofrecen una opción con su atributo `continuous_update` entre actualizar continuamente los valores o solo actualizar los valores cuando un usuario envía el valor (por ejemplo, presionando Enter o navegando fuera del control). En el siguiente ejemplo, vemos que los controles \"Retrasados\" solo transmiten su valor después de que el usuario termine de arrastrar el control deslizante o de enviar el cuadro de texto. Los controles “Continuos” transmiten continuamente sus valores a medida que se modifican. Intente escribir un número de dos dígitos en cada uno de los cuadros de texto o arrastre cada uno de los controles deslizantes para ver la diferencia.\n"
   ]
  },
  {
   "cell_type": "code",
   "execution_count": 14,
   "metadata": {},
   "outputs": [
    {
     "data": {
      "application/vnd.jupyter.widget-view+json": {
       "model_id": "b6b28dcda5fd40d08b29382330406f47",
       "version_major": 2,
       "version_minor": 0
      },
      "text/plain": [
       "VBox(children=(IntSlider(value=0, continuous_update=False, description='Retrasado'), IntText(value=0, descript…"
      ]
     },
     "metadata": {},
     "output_type": "display_data"
    }
   ],
   "source": [
    "import traitlets\n",
    "a = widgets.IntSlider(description=\"Retrasado\", continuous_update=False)\n",
    "b = widgets.IntText(description=\"Retrasado\", continuous_update=False)\n",
    "c = widgets.IntSlider(description=\"Continuo\", continuous_update=True)\n",
    "d = widgets.IntText(description=\"Continuo\", continuous_update=True)\n",
    "\n",
    "traitlets.link((a, 'value'), (b, 'value'))\n",
    "traitlets.link((a, 'value'), (c, 'value'))\n",
    "traitlets.link((a, 'value'), (d, 'value'))\n",
    "widgets.VBox([a,b,c,d])"
   ]
  },
  {
   "cell_type": "markdown",
   "metadata": {},
   "source": [
    "Los controles deslizantes, `Text` y `Textarea` tienen por defecto `continuous_update=True`. `IntText` y otros cuadros de texto para ingresar números enteros o flotantes tienen el valor predeterminado `continuous_update=False` (ya que a menudo deseará escribir un número completo antes de enviar el valor presionando Intro o navegando fuera del cuadro)."
   ]
  },
  {
   "cell_type": "markdown",
   "metadata": {},
   "source": [
    "# Conclusión\n",
    "¡Ahora debería sentirse cómodo vinculando eventos Widget!"
   ]
  },
  {
   "cell_type": "code",
   "execution_count": null,
   "metadata": {},
   "outputs": [],
   "source": []
  }
 ],
 "metadata": {
  "cell_tags": [
   [
    "<None>",
    null
   ]
  ],
  "kernelspec": {
   "display_name": "Python 3 (ipykernel)",
   "language": "python",
   "name": "python3"
  },
  "language_info": {
   "codemirror_mode": {
    "name": "ipython",
    "version": 3
   },
   "file_extension": ".py",
   "mimetype": "text/x-python",
   "name": "python",
   "nbconvert_exporter": "python",
   "pygments_lexer": "ipython3",
   "version": "3.9.6"
  }
 },
 "nbformat": 4,
 "nbformat_minor": 4
}
