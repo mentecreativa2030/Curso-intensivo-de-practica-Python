{
 "cells": [
  {
   "cell_type": "markdown",
   "metadata": {},
   "source": [
    "# Usando Interactuar (interact en ingles)\n",
    "\n",
    "¡En esta lección comenzaremos a aprender sobre la creación de una GUI de tipo tablero con dispositivos en iPython!"
   ]
  },
  {
   "cell_type": "markdown",
   "metadata": {},
   "source": [
    "La función `interact` (`ipywidgets.interact`) crea automáticamente controles de interfaz de usuario (UI) para explorar código y datos de forma interactiva. Es la forma más fácil de comenzar a usar los dispositivos en IPython."
   ]
  },
  {
   "cell_type": "code",
   "execution_count": 1,
   "metadata": {
    "tags": []
   },
   "outputs": [],
   "source": [
    "# ¡Comienza con algunas importaciones!\n",
    "\n",
    "from ipywidgets import interact, interactive, fixed\n",
    "import ipywidgets as widgets\n"
   ]
  },
  {
   "cell_type": "markdown",
   "metadata": {},
   "source": [
    "<div class=\"alert alert-success\">\n",
    "¡Tenga en cuenta! Los dispositivos de este notebook no aparecerán en las representaciones de NbViewer o GitHub. Para ver los dispositivos e interactuar con ellos, deberá descargar este notebook y ejecutarlo con un servidor de Jupyter Notebook.\n",
    "\n",
    "</div>"
   ]
  },
  {
   "cell_type": "markdown",
   "metadata": {},
   "source": [
    "## Basico `interact`"
   ]
  },
  {
   "cell_type": "markdown",
   "metadata": {},
   "source": [
    "En el nivel más básico, `interact` genera automáticamente controles de interfaz de usuario para argumentos de función y luego llama a la función con esos argumentos cuando manipula los controles de forma interactiva. Para usar `interactuar`, debe definir una función que desee explorar. Aquí hay una función que imprime su único argumento `x`."
   ]
  },
  {
   "cell_type": "code",
   "execution_count": 2,
   "metadata": {},
   "outputs": [],
   "source": [
    "# Muy basica funcion\n",
    "def f(x):\n",
    "    return x"
   ]
  },
  {
   "cell_type": "markdown",
   "metadata": {},
   "source": [
    "Cuando pasa esta función como el primer argumento para `interact` junto con un argumento de palabra clave de número entero (`x=10`), se genera un control deslizante y se vincula al parámetro de la función. Tenga en cuenta que el punto y coma aquí solo evita que aparezca una celda **fuera**."
   ]
  },
  {
   "cell_type": "code",
   "execution_count": 3,
   "metadata": {},
   "outputs": [
    {
     "data": {
      "application/vnd.jupyter.widget-view+json": {
       "model_id": "2cfcbd37e99e4501b3dd6aeead2c2250",
       "version_major": 2,
       "version_minor": 0
      },
      "text/plain": [
       "interactive(children=(IntSlider(value=10, description='x', max=30, min=-10), Output()), _dom_classes=('widget-…"
      ]
     },
     "metadata": {},
     "output_type": "display_data"
    }
   ],
   "source": [
    "# Genera un control deslizante para interactuar\n",
    "interact(f, x=10,);"
   ]
  },
  {
   "cell_type": "markdown",
   "metadata": {},
   "source": [
    "Cuando mueve el control deslizante, se llama a la función, que imprime el valor actual de `x`.\n",
    "\n",
    "Si pasa `Verdadero` o `Falso`, `interactuar` generará una casilla de verificación:"
   ]
  },
  {
   "cell_type": "code",
   "execution_count": 4,
   "metadata": {
    "scrolled": true
   },
   "outputs": [
    {
     "data": {
      "application/vnd.jupyter.widget-view+json": {
       "model_id": "26df11dc7f2c462994c3d4e5ce046a15",
       "version_major": 2,
       "version_minor": 0
      },
      "text/plain": [
       "interactive(children=(Checkbox(value=True, description='x'), Output()), _dom_classes=('widget-interact',))"
      ]
     },
     "metadata": {},
     "output_type": "display_data"
    }
   ],
   "source": [
    "# Los booleanos generan casillas de verificación\n",
    "interact(f, x=True);"
   ]
  },
  {
   "cell_type": "markdown",
   "metadata": {},
   "source": [
    "Si pasa una cadena, `interact` generará un área de texto."
   ]
  },
  {
   "cell_type": "code",
   "execution_count": 5,
   "metadata": {},
   "outputs": [
    {
     "data": {
      "application/vnd.jupyter.widget-view+json": {
       "model_id": "298087c8f1824b928e8ddc4665b6a76e",
       "version_major": 2,
       "version_minor": 0
      },
      "text/plain": [
       "interactive(children=(Text(value='Hola alli!', description='x'), Output()), _dom_classes=('widget-interact',))"
      ]
     },
     "metadata": {},
     "output_type": "display_data"
    }
   ],
   "source": [
    "# Las cadenas generan áreas de texto\n",
    "interact(f, x='Hola alli!');"
   ]
  },
  {
   "cell_type": "markdown",
   "metadata": {},
   "source": [
    "`interact` también se puede usar como decorador. Esto le permite definir una función e interactuar con ella en una sola toma. Como muestra este ejemplo, `interact` también funciona con funciones que tienen varios argumentos."
   ]
  },
  {
   "cell_type": "code",
   "execution_count": 6,
   "metadata": {},
   "outputs": [
    {
     "data": {
      "application/vnd.jupyter.widget-view+json": {
       "model_id": "08fc93f57a654a21b23d3553c559177a",
       "version_major": 2,
       "version_minor": 0
      },
      "text/plain": [
       "interactive(children=(Checkbox(value=True, description='x'), FloatSlider(value=1.0, description='y', max=3.0, …"
      ]
     },
     "metadata": {},
     "output_type": "display_data"
    }
   ],
   "source": [
    "# Usar un decorador!\n",
    "@interact(x=True, y=1.0)\n",
    "def g(x, y):\n",
    "    return (x, y)"
   ]
  },
  {
   "cell_type": "markdown",
   "metadata": {},
   "source": [
    "## Argumentos fijos usando `fixed`"
   ]
  },
  {
   "cell_type": "markdown",
   "metadata": {},
   "source": [
    "Hay momentos en los que puede querer explorar una función usando `interact`, pero fijar uno o más de sus argumentos en valores específicos. Esto se puede lograr envolviendo valores con la función `fixed`."
   ]
  },
  {
   "cell_type": "code",
   "execution_count": 7,
   "metadata": {},
   "outputs": [],
   "source": [
    "# De nuevo, a funcion simple\n",
    "def h(p, q):\n",
    "    return (p, q)"
   ]
  },
  {
   "cell_type": "markdown",
   "metadata": {},
   "source": [
    "Cuando llamamos a `interact`, pasamos `fixed(20)` para que q lo mantenga fijo en un valor de `20`."
   ]
  },
  {
   "cell_type": "code",
   "execution_count": 8,
   "metadata": {},
   "outputs": [
    {
     "data": {
      "application/vnd.jupyter.widget-view+json": {
       "model_id": "9771b9177405499aa90579706d3e7667",
       "version_major": 2,
       "version_minor": 0
      },
      "text/plain": [
       "interactive(children=(IntSlider(value=5, description='p', max=15, min=-5), Output()), _dom_classes=('widget-in…"
      ]
     },
     "metadata": {},
     "output_type": "display_data"
    }
   ],
   "source": [
    "interact(h, p=5, q=fixed(20));"
   ]
  },
  {
   "cell_type": "markdown",
   "metadata": {},
   "source": [
    "Tenga en cuenta que solo se produce un control deslizante para `p` ya que el valor de `q` es fijo."
   ]
  },
  {
   "cell_type": "markdown",
   "metadata": {},
   "source": [
    "## Abreviaciones Dispositivos"
   ]
  },
  {
   "cell_type": "markdown",
   "metadata": {},
   "source": [
    "Cuando pasa un argumento de palabra clave de valor entero de `10` (`x=10`) a `interact`, genera un control deslizante de valor entero con un rango de `[-10,+3\\times10]`. En este caso, `10` es una *abreviatura* para un control deslizante real:\n",
    "\n",
    "```python\n",
    "IntSlider (mín. = -10, máx. = 30, paso = 1, valor = 10)\n",
    "```\n",
    "\n",
    "De hecho, podemos obtener el mismo resultado si pasamos este `IntSlider` como argumento de palabra clave para `x`:"
   ]
  },
  {
   "cell_type": "code",
   "execution_count": 9,
   "metadata": {},
   "outputs": [
    {
     "data": {
      "application/vnd.jupyter.widget-view+json": {
       "model_id": "2efe16a07c524624a19316c09d40fc7c",
       "version_major": 2,
       "version_minor": 0
      },
      "text/plain": [
       "interactive(children=(IntSlider(value=10, description='x', max=30, min=-10), Output()), _dom_classes=('widget-…"
      ]
     },
     "metadata": {},
     "output_type": "display_data"
    }
   ],
   "source": [
    "# Puede llamar al IntSlider para ser más específico\n",
    "interact(f, x=widgets.IntSlider(min=-10,max=30,step=1,value=10));"
   ]
  },
  {
   "cell_type": "markdown",
   "metadata": {},
   "source": [
    "Este ejemplo aclara cómo `interact` procesa sus argumentos de palabras clave:\n",
    "\n",
    "1. Si el argumento de la palabra clave es una instancia de `Widget` con un atributo `value`, se usa ese widget. Se puede usar cualquier widget con un atributo `valor`, incluso los personalizados.\n",
    "2. De lo contrario, el valor se trata como una *abreviatura de widget* que se convierte en un widget antes de usarse.\n",
    "\n",
    "La siguiente tabla ofrece una descripción general de las diferentes abreviaturas de dispositivos:\n",
    "\n",
    "<table class=\"table table-condensed table-bordered\">\n",
    "   <tr><td><strong>Argumento de palabra clave</strong></td><td><strong>Dispositivo</strong></td></tr>\n",
    "   <tr><td>`Verdadero` o `Falso`</td><td>Casilla de verificación</td></tr>\n",
    "   <tr><td>`'Hola'`</td><td>Texto</td></tr>\n",
    "   <tr><td>`valor` o `(min,max)` o `(min,max,paso)` si se pasan números enteros</td><td>IntSlider</td></tr>\n",
    "   <tr><td>`valor` o `(min,max)` o `(min,max,paso)` si se pasan flotantes</td><td>FloatSlider</td></tr>\n",
    "   <tr><td>`['naranja','manzana']` o `{'uno':1,'dos':2}`</td><td>Desplegable</td></tr>\n",
    "</tabla>"
   ]
  },
  {
   "cell_type": "markdown",
   "metadata": {},
   "source": [
    "Tenga en cuenta que se usa un menú desplegable si se proporciona una lista o un dictado (lo que significa opciones discretas), y se usa un control deslizante si se proporciona una tupla (lo que significa un rango).\n",
    "\n",
    "Ha visto cómo funcionan los widgets de casilla de verificación y área de texto arriba. Aquí, se brindan más detalles sobre las diferentes abreviaturas para controles deslizantes y menús desplegables.\n",
    "\n",
    "Si se pasa una tupla de 2 enteros `(min,max)`, se produce un control deslizante de valor entero con esos valores mínimo y máximo (inclusive). En este caso, se utiliza el tamaño de paso predeterminado de `1`."
   ]
  },
  {
   "cell_type": "code",
   "execution_count": 10,
   "metadata": {},
   "outputs": [
    {
     "data": {
      "application/vnd.jupyter.widget-view+json": {
       "model_id": "c1b3bc413b1942c6a773f619be1a095d",
       "version_major": 2,
       "version_minor": 0
      },
      "text/plain": [
       "interactive(children=(IntSlider(value=2, description='x', max=4), Output()), _dom_classes=('widget-interact',)…"
      ]
     },
     "metadata": {},
     "output_type": "display_data"
    }
   ],
   "source": [
    "# Control deslizante Min, Max con tuplas\n",
    "interact(f, x=(0,4));"
   ]
  },
  {
   "cell_type": "markdown",
   "metadata": {},
   "source": [
    "Si se pasa una tupla de 3 enteros `(min,max,paso)`, también se puede establecer el tamaño del paso."
   ]
  },
  {
   "cell_type": "code",
   "execution_count": 11,
   "metadata": {},
   "outputs": [
    {
     "data": {
      "application/vnd.jupyter.widget-view+json": {
       "model_id": "450605902c194e7db0bfa1f4a65bb2a2",
       "version_major": 2,
       "version_minor": 0
      },
      "text/plain": [
       "interactive(children=(IntSlider(value=4, description='x', max=8, step=2), Output()), _dom_classes=('widget-int…"
      ]
     },
     "metadata": {},
     "output_type": "display_data"
    }
   ],
   "source": [
    "# (min, max, paso)\n",
    "interact(f, x=(0,8,2));"
   ]
  },
  {
   "cell_type": "markdown",
   "metadata": {},
   "source": [
    "Se produce un control deslizante de valor flotante si los elementos de las tuplas son flotantes. Aquí el mínimo es `0.0`, el máximo es `10.0` y el tamaño de paso es `0.1` (el valor predeterminado)."
   ]
  },
  {
   "cell_type": "code",
   "execution_count": 12,
   "metadata": {},
   "outputs": [
    {
     "data": {
      "application/vnd.jupyter.widget-view+json": {
       "model_id": "1961ed383d4043a497e11de6e0cd7bb0",
       "version_major": 2,
       "version_minor": 0
      },
      "text/plain": [
       "interactive(children=(FloatSlider(value=5.0, description='x', max=10.0), Output()), _dom_classes=('widget-inte…"
      ]
     },
     "metadata": {},
     "output_type": "display_data"
    }
   ],
   "source": [
    "interact(f, x=(0.0,10.0));"
   ]
  },
  {
   "cell_type": "markdown",
   "metadata": {},
   "source": [
    "El tamaño del paso se puede cambiar pasando un tercer elemento en la tupla."
   ]
  },
  {
   "cell_type": "code",
   "execution_count": 13,
   "metadata": {},
   "outputs": [
    {
     "data": {
      "application/vnd.jupyter.widget-view+json": {
       "model_id": "9524ae1358c547a08063ae9219e39fcb",
       "version_major": 2,
       "version_minor": 0
      },
      "text/plain": [
       "interactive(children=(FloatSlider(value=5.0, description='x', max=10.0, step=0.01), Output()), _dom_classes=('…"
      ]
     },
     "metadata": {},
     "output_type": "display_data"
    }
   ],
   "source": [
    "interact(f, x=(0.0,10.0,0.01));"
   ]
  },
  {
   "cell_type": "markdown",
   "metadata": {},
   "source": [
    "Tanto para los controles deslizantes de valores enteros como flotantes, puede elegir el valor inicial del dispositivo pasando un argumento de palabra clave predeterminado a la función de Python subyacente. Aquí establecemos el valor inicial de un control deslizante flotante en `5.5`."
   ]
  },
  {
   "cell_type": "code",
   "execution_count": 14,
   "metadata": {},
   "outputs": [
    {
     "data": {
      "application/vnd.jupyter.widget-view+json": {
       "model_id": "5baa793a87a04295b878c22551a935a6",
       "version_major": 2,
       "version_minor": 0
      },
      "text/plain": [
       "interactive(children=(FloatSlider(value=5.5, description='x', max=20.0, step=0.5), Output()), _dom_classes=('w…"
      ]
     },
     "metadata": {},
     "output_type": "display_data"
    }
   ],
   "source": [
    "@interact(x=(0.0,20.0,0.5))\n",
    "def h(x=5.5):\n",
    "    return x"
   ]
  },
  {
   "cell_type": "markdown",
   "metadata": {},
   "source": [
    "Los menús desplegables se construyen pasando una lista de cadenas. En este caso, las cadenas se usan como nombres en la interfaz de usuario del menú desplegable y se pasan a la función de Python subyacente."
   ]
  },
  {
   "cell_type": "code",
   "execution_count": 15,
   "metadata": {},
   "outputs": [
    {
     "data": {
      "application/vnd.jupyter.widget-view+json": {
       "model_id": "c6ca1d0dc87748e0b8fe6b601da11b2f",
       "version_major": 2,
       "version_minor": 0
      },
      "text/plain": [
       "interactive(children=(Dropdown(description='x', options=('manzanas', 'naranjas'), value='manzanas'), Output())…"
      ]
     },
     "metadata": {},
     "output_type": "display_data"
    }
   ],
   "source": [
    "interact(f, x=['manzanas','naranjas']);"
   ]
  },
  {
   "cell_type": "markdown",
   "metadata": {},
   "source": [
    "Si desea un menú desplegable que pase valores que no sean cadenas a la función de Python, puede pasar un diccionario. Las claves del diccionario se usan para los nombres en la interfaz de usuario del menú desplegable y los valores son los argumentos que se pasan a la función de Python subyacente."
   ]
  },
  {
   "cell_type": "code",
   "execution_count": 16,
   "metadata": {},
   "outputs": [
    {
     "data": {
      "application/vnd.jupyter.widget-view+json": {
       "model_id": "ace8ff3773fa48c3ad7ebdb865f44fa6",
       "version_major": 2,
       "version_minor": 0
      },
      "text/plain": [
       "interactive(children=(Dropdown(description='x', options={'uno': 10, 'dos': 20}, value=10), Output()), _dom_cla…"
      ]
     },
     "metadata": {},
     "output_type": "display_data"
    }
   ],
   "source": [
    "interact(f, x={'uno': 10, 'dos': 20});"
   ]
  },
  {
   "cell_type": "markdown",
   "metadata": {},
   "source": [
    "## Usando funcion `interact` con anotaciones"
   ]
  },
  {
   "cell_type": "markdown",
   "metadata": {},
   "source": [
    "También puede especificar abreviaturas de dispositivos usando [anotaciones de funciones] (https://docs.python.org/3/tutorial/controlflow.html#function-annotations).\n",
    "\n",
    "Defina una función con una abreviatura de dispositivo de casilla de verificación para el argumento `x`."
   ]
  },
  {
   "cell_type": "code",
   "execution_count": 17,
   "metadata": {},
   "outputs": [],
   "source": [
    "def f(x:True):  # Solo para Python 3\n",
    "    return x"
   ]
  },
  {
   "cell_type": "markdown",
   "metadata": {},
   "source": [
    "Luego, debido a que la abreviatura del dispositivo ya se ha definido, puede llamar a `interact` con un solo argumento."
   ]
  },
  {
   "cell_type": "code",
   "execution_count": 18,
   "metadata": {},
   "outputs": [
    {
     "data": {
      "application/vnd.jupyter.widget-view+json": {
       "model_id": "1738f69df97d4bd19e8550a39fe5a69c",
       "version_major": 2,
       "version_minor": 0
      },
      "text/plain": [
       "interactive(children=(Checkbox(value=True, description='x'), Output()), _dom_classes=('widget-interact',))"
      ]
     },
     "metadata": {},
     "output_type": "display_data"
    }
   ],
   "source": [
    "interact(f);"
   ]
  },
  {
   "cell_type": "markdown",
   "metadata": {},
   "source": [
    "## interactivo (interactive en ingles)"
   ]
  },
  {
   "cell_type": "markdown",
   "metadata": {},
   "source": [
    "Además de `interact`, IPython proporciona otra función, `interactive`, que es útil cuando desea reutilizar los dispositivos que se producen o acceder a los datos que están vinculados a los controles de la interfaz de usuario.\n",
    "\n",
    "Tenga en cuenta que, a diferencia de `interact`, el valor de retorno de la función no se mostrará automáticamente, pero puede mostrar un valor dentro de la función con `IPython.display.display`.\n",
    "\n",
    "Aquí hay una función que devuelve la suma de sus dos argumentos y los muestra. La línea de visualización se puede omitir si no desea mostrar el resultado de la función."
   ]
  },
  {
   "cell_type": "code",
   "execution_count": 19,
   "metadata": {},
   "outputs": [],
   "source": [
    "from IPython.display import display\n",
    "\n",
    "def f(a, b):\n",
    "    display(a + b)\n",
    "    return a+b"
   ]
  },
  {
   "cell_type": "markdown",
   "metadata": {},
   "source": [
    "A diferencia de `interact`, `interactive` devuelve una instancia de `dispositivo` en lugar de mostrar inmediatamente el dispositivo."
   ]
  },
  {
   "cell_type": "code",
   "execution_count": 20,
   "metadata": {},
   "outputs": [],
   "source": [
    "w = interactive(f, a=10, b=20)"
   ]
  },
  {
   "cell_type": "markdown",
   "metadata": {},
   "source": [
    "El dispositivo es un `interactivo`, una subclase de `VBox`, que es un contenedor para otros dispositivos."
   ]
  },
  {
   "cell_type": "code",
   "execution_count": 21,
   "metadata": {},
   "outputs": [
    {
     "data": {
      "text/plain": [
       "ipywidgets.widgets.interaction.interactive"
      ]
     },
     "execution_count": 21,
     "metadata": {},
     "output_type": "execute_result"
    }
   ],
   "source": [
    "type(w)"
   ]
  },
  {
   "cell_type": "markdown",
   "metadata": {},
   "source": [
    "The children of the `interactive` are two integer-valued sliders and an output widget, produced by the widget abbreviations above."
   ]
  },
  {
   "cell_type": "code",
   "execution_count": 22,
   "metadata": {
    "jupyter": {
     "source_hidden": true
    },
    "tags": []
   },
   "outputs": [
    {
     "data": {
      "text/plain": [
       "(IntSlider(value=10, description='a', max=30, min=-10),\n",
       " IntSlider(value=20, description='b', max=60, min=-20),\n",
       " Output())"
      ]
     },
     "execution_count": 22,
     "metadata": {},
     "output_type": "execute_result"
    }
   ],
   "source": [
    "w.children"
   ]
  },
  {
   "cell_type": "markdown",
   "metadata": {},
   "source": [
    "To actually display the widgets, you can use IPython's `display` function."
   ]
  },
  {
   "cell_type": "code",
   "execution_count": 23,
   "metadata": {},
   "outputs": [
    {
     "data": {
      "application/vnd.jupyter.widget-view+json": {
       "model_id": "4fb359798c0641569ea9fa23d0d1d1e4",
       "version_major": 2,
       "version_minor": 0
      },
      "text/plain": [
       "interactive(children=(IntSlider(value=10, description='a', max=30, min=-10), IntSlider(value=20, description='…"
      ]
     },
     "metadata": {},
     "output_type": "display_data"
    }
   ],
   "source": [
    "display(w)"
   ]
  },
  {
   "cell_type": "markdown",
   "metadata": {},
   "source": [
    "En este punto, los controles de la interfaz de usuario funcionan como lo harían si se hubiera utilizado `interact`. Puede manipularlos de forma interactiva y se llamará a la función. Sin embargo, la instancia del dispositivo devuelta por `interactive` también le da acceso a los argumentos de palabras clave actuales y al valor de retorno de la función subyacente de Python.\n",
    "\n",
    "Estos son los argumentos de palabras clave actuales. Si vuelve a ejecutar esta celda después de manipular los controles deslizantes, los valores habrán cambiado."
   ]
  },
  {
   "cell_type": "code",
   "execution_count": 24,
   "metadata": {},
   "outputs": [
    {
     "data": {
      "text/plain": [
       "{'a': 10, 'b': 20}"
      ]
     },
     "execution_count": 24,
     "metadata": {},
     "output_type": "execute_result"
    }
   ],
   "source": [
    "w.kwargs"
   ]
  },
  {
   "cell_type": "markdown",
   "metadata": {},
   "source": [
    "Aquí está el valor de retorno actual de la función."
   ]
  },
  {
   "cell_type": "code",
   "execution_count": 25,
   "metadata": {
    "jupyter": {
     "source_hidden": true
    },
    "tags": []
   },
   "outputs": [
    {
     "data": {
      "text/plain": [
       "30"
      ]
     },
     "execution_count": 25,
     "metadata": {},
     "output_type": "execute_result"
    }
   ],
   "source": [
    "w.result"
   ]
  },
  {
   "cell_type": "markdown",
   "metadata": {},
   "source": [
    "# Conclusión\n",
    "\n",
    "¡Ahora debería tener una comprensión básica de cómo usar Interact en Jupyter Notebooks!"
   ]
  },
  {
   "cell_type": "code",
   "execution_count": null,
   "metadata": {},
   "outputs": [],
   "source": []
  }
 ],
 "metadata": {
  "kernelspec": {
   "display_name": "Python 3 (ipykernel)",
   "language": "python",
   "name": "python3"
  },
  "language_info": {
   "codemirror_mode": {
    "name": "ipython",
    "version": 3
   },
   "file_extension": ".py",
   "mimetype": "text/x-python",
   "name": "python",
   "nbconvert_exporter": "python",
   "pygments_lexer": "ipython3",
   "version": "3.9.6"
  }
 },
 "nbformat": 4,
 "nbformat_minor": 4
}
