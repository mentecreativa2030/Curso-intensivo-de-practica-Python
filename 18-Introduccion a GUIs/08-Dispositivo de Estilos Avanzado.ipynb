{
 "cells": [
  {
   "cell_type": "markdown",
   "metadata": {
    "tags": []
   },
   "source": [
    "# Estilo de dispositivo avanzado con diseño\n",
    "\n",
    "Este notebook amplía la lección **Estilo de dispositivo** al describir los diversos ajustes de HTML y CSS que se pueden realizar a través del atributo `layout`."
   ]
  },
  {
   "cell_type": "markdown",
   "metadata": {},
   "source": [
    "## El atributo `layout`\n",
    "Los dispositivos interactivos de Jupyter tienen un atributo `layout` que expone una serie de propiedades CSS que afectan la forma en que se distribuyen los dispositivos.\n",
    "\n",
    "### Propiedades CSS expuestas\n",
    "<div class=\"alert alert-info\" style=\"margin: 20px\">Las siguientes propiedades se asignan a los valores de las propiedades CSS del mismo nombre (los guiones bajos se reemplazan con guiones), aplicados a los elementos DOM superiores del correspondiente dispositivo.</div>\n",
    "\n",
    "#### Sizes #tamanos\n",
    "* `height` #altura\n",
    "* `width`  #ancho\n",
    "* `max_height` #maxima altura\n",
    "* `max_width` #maximo ancho\n",
    "* `min_height` #minima altura\n",
    "* `min_width` #minimo ancho\n",
    "\n",
    "#### Display #desplegar\n",
    "* `visibility` #visibilidad\n",
    "* `display` #desplegar\n",
    "* `overflow` #sobreflujo\n",
    "* `overflow_x` #sobreflujo x\n",
    "* `overflow_y` #sobreflujo y\n",
    "\n",
    "#### Box model #modelo de caja\n",
    "* `border` #borde\n",
    "* `margin` #margen\n",
    "* `padding` #espaciado\n",
    "\n",
    "#### Positioning #posicionamiento\n",
    "* `top` #alto\n",
    "* `left` #izquierda\n",
    "* `bottom` #bajo\n",
    "* `right` #derecha\n",
    "\n",
    "#### Flexbox #caja flexible\n",
    "* `order` #orden\n",
    "* `flex_flow` #flujo flexible\n",
    "* `align_items` #alineacion de articulos\n",
    "* `flex` #flexible\n",
    "* `align_self` #alineacion\n",
    "* `align_content` #alineacion de contenido\n",
    "* `justify_content` #justificacion de contenido\n",
    "\n",
    "## El atributo `layout`\n",
    "Los dispositivos interactivos de Jupyter tienen un atributo `layout` que exponen una serie de propiedades CSS que reemplazan la forma en que se distribuyen los dispositivos.\n",
    "\n",
    "### Propiedades CSS expuestas\n",
    "<div class=\"alert alert-info\" style=\"margin: 20px\">Las siguientes se asignan a los valores de las propiedades CSS del mismo nombre (los guiones bajos se reemplazan con guiones), aplicados a los elementos DOM superiores del dispositivo correspondiente.</div>"
   ]
  },
  {
   "cell_type": "code",
   "execution_count": 1,
   "metadata": {},
   "outputs": [],
   "source": [
    "import ipywidgets as widgets\n",
    "from IPython.display import display"
   ]
  },
  {
   "cell_type": "markdown",
   "metadata": {},
   "source": [
    "# Conclusion\n",
    "\n",
    "¡Ahora debería comprender cómo aplicar estilo a los dispositivos!"
   ]
  },
  {
   "cell_type": "code",
   "execution_count": null,
   "metadata": {},
   "outputs": [],
   "source": []
  }
 ],
 "metadata": {
  "cell_tags": [
   [
    "<None>",
    null
   ]
  ],
  "kernelspec": {
   "display_name": "Python 3 (ipykernel)",
   "language": "python",
   "name": "python3"
  },
  "language_info": {
   "codemirror_mode": {
    "name": "ipython",
    "version": 3
   },
   "file_extension": ".py",
   "mimetype": "text/x-python",
   "name": "python",
   "nbconvert_exporter": "python",
   "pygments_lexer": "ipython3",
   "version": "3.9.6"
  }
 },
 "nbformat": 4,
 "nbformat_minor": 4
}
