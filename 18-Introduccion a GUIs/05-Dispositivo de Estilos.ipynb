{
 "cells": [
  {
   "cell_type": "markdown",
   "metadata": {},
   "source": [
    "# Estilo de dispositivos\n",
    "\n",
    "¡En esta lección aprenderemos sobre las diversas formas de aplicar estilo a los dispositivos!"
   ]
  },
  {
   "cell_type": "markdown",
   "metadata": {},
   "source": [
    "## `style` frente a `layout`\n",
    "\n",
    "Hay dos formas de cambiar la apariencia de los dispositivos en el navegador. La primera es a través del atributo `layout` que expone las propiedades CSS relacionadas con el diseño para el elemento DOM de nivel superior de los dispositivos, como los márgenes y el posicionamiento. El segundo es a través del atributo `style` que expone atributos no relacionados con el diseño, como el color del botón y el peso de la fuente. Mientras que `layout` es general para todos los dispositivos y contenedores de dispositivos, `style` ofrece herramientas específicas para cada tipo de dispositivo.\n",
    "\n",
    "La comprensión profunda de todo lo que el \"style\" tiene para ofrecer requiere conocimientos de desarrollo web front-end, incluidos HTML y CSS. Esta sección proporciona una breve descripción general de las cosas que se pueden ajustar usando `layout`. Sin embargo, el conjunto completo de herramientas se proporciona en el notebook separado **Style de dispositivo avanzado con layout**.\n",
    "\n",
    "Para obtener más información sobre el desarrollo web, incluidos HTML y CSS, consulte el curso [\n",
    "Campamento de entrenamiento para desarrolladores web Python y Django Full Stack](https://www.udemy.com/python-and-django-full-stack-web-developer-bootcamp/)\n",
    "\n",
    "El estilo básico es más intuitivo ya que se relaciona directamente con cada tipo de dispositivo. Aquí proporcionamos un conjunto de ejemplos útiles del atributo `style`.\n"
   ]
  },
  {
   "cell_type": "markdown",
   "metadata": {},
   "source": [
    "## El atributo `layout`\n",
    "Los dispositivos interactivos de Jupyter tienen un atributo `layout` que expone una serie de propiedades CSS que afectan la forma en que se distribuyen los dispositivos. Estas propiedades se asignan a los valores de las propiedades CSS del mismo nombre (los guiones bajos se reemplazan por guiones), aplicados a los elementos DOM superiores del dispositivo correspondiente.\n",
    "\n",
    "#### Sizes (tamanos)\n",
    "* `height` #altura\n",
    "* `width`  #ancho\n",
    "* `max_height` #maxima altura\n",
    "* `max_width` #maximo ancho\n",
    "* `min_height` #minima altura\n",
    "* `min_width`  #minimo ancho\n",
    "\n",
    "#### Display (desplegar)\n",
    "* `visibility` #visibilidad\n",
    "* `display`    #desplegar\n",
    "* `overflow`   #desbordar\n",
    "* `overflow_x` #desbordar x\n",
    "* `overflow_y` #desbordar y\n",
    "\n",
    "#### Box model (modelo caja)\n",
    "* `border`  #borde\n",
    "* `margin`  #margen\n",
    "* `padding` #espaciado\n",
    "\n",
    "#### Positioning (posicionamiento)\n",
    "* `top`   #alto\n",
    "* `left`  #izquierda\n",
    "* `bottom` #abajo\n",
    "* `right`  #derecha\n",
    "\n",
    "#### Flexbox   (caja flexible)\n",
    "* `order` #orden\n",
    "* `flex_flow` #flujo flexible\n",
    "* `align_items` #alenacion de articulos\n",
    "* `flex` #flexible\n",
    "* `align_self` #alinear\n",
    "* `align_content` #alenar contenido\n",
    "* `justify_content` #justifica contenido"
   ]
  },
  {
   "cell_type": "markdown",
   "metadata": {},
   "source": [
    "## Un ejemplo rapido de `layout`\n",
    "\n",
    "Ya hemos visto cómo se ve un control deslizante sin ningún ajuste de layout:"
   ]
  },
  {
   "cell_type": "code",
   "execution_count": 1,
   "metadata": {},
   "outputs": [
    {
     "data": {
      "application/vnd.jupyter.widget-view+json": {
       "model_id": "001f334c2d1c487480038dd07cd18b06",
       "version_major": 2,
       "version_minor": 0
      },
      "text/plain": [
       "IntSlider(value=0)"
      ]
     },
     "metadata": {},
     "output_type": "display_data"
    }
   ],
   "source": [
    "import ipywidgets as widgets\n",
    "from IPython.display import display\n",
    "\n",
    "w = widgets.IntSlider()\n",
    "display(w)"
   ]
  },
  {
   "cell_type": "markdown",
   "metadata": {},
   "source": [
    "Digamos que queremos cambiar dos de las propiedades de este dispositivo: `margin` y `height`. Queremos centrar el control deslizante en el área de salida y aumentar su altura. Esto se puede hacer agregando atributos `layout` a **w**"
   ]
  },
  {
   "cell_type": "code",
   "execution_count": 2,
   "metadata": {},
   "outputs": [],
   "source": [
    "w.layout.margin = 'auto'\n",
    "w.layout.height = '75px'"
   ]
  },
  {
   "cell_type": "markdown",
   "metadata": {},
   "source": [
    "¡Observe que el control deslizante cambió de posición en la página inmediatamente!\n",
    "\n",
    "\n",
    "La configuración de layout se puede pasar de un dispositivo a otro dispositivo del mismo tipo. Primero creemos un nuevo IntSlider:"
   ]
  },
  {
   "cell_type": "code",
   "execution_count": 3,
   "metadata": {},
   "outputs": [
    {
     "data": {
      "application/vnd.jupyter.widget-view+json": {
       "model_id": "481f80ae78754d4fa45c18326ac93847",
       "version_major": 2,
       "version_minor": 0
      },
      "text/plain": [
       "IntSlider(value=15, description='Nuevo deslizador')"
      ]
     },
     "metadata": {},
     "output_type": "display_data"
    }
   ],
   "source": [
    "x = widgets.IntSlider(value=15,description='Nuevo deslizador')\n",
    "display(x)"
   ]
  },
  {
   "cell_type": "markdown",
   "metadata": {},
   "source": [
    "Ahora asigne la configuración de layout de **w** a **x**:"
   ]
  },
  {
   "cell_type": "code",
   "execution_count": 4,
   "metadata": {},
   "outputs": [],
   "source": [
    "x.layout = w.layout"
   ]
  },
  {
   "cell_type": "markdown",
   "metadata": {},
   "source": [
    "¡Eso es! Para obtener un conjunto completo de instrucciones sobre el uso de `layout`, visite el notebook **Estilo de dispositivo avanzado - Diseño**."
   ]
  },
  {
   "cell_type": "markdown",
   "metadata": {},
   "source": [
    "## Estilos predefinidos\n",
    "\n",
    "Antes de investigar el atributo `style`, debe tenerse en cuenta que muchos dispositivos ofrecen una lista de estilos predefinidos que se pueden pasar como argumentos durante la creación.\n",
    "\n",
    "Por ejemplo, el dispositivo `Button` tiene un atributo `button_style` que puede tomar 5 valores diferentes:\n",
    "\n",
    "* `'primary'`\n",
    "* `'sucess'`\n",
    "* `'info'`\n",
    "* `'warning'`\n",
    "* `'danger'`\n",
    "\n",
    "además de la cadena vacía predeterminada `''`."
   ]
  },
  {
   "cell_type": "code",
   "execution_count": 5,
   "metadata": {},
   "outputs": [
    {
     "data": {
      "application/vnd.jupyter.widget-view+json": {
       "model_id": "ce2b346dac1e4215805f03f99e29b161",
       "version_major": 2,
       "version_minor": 0
      },
      "text/plain": [
       "Button(description='Boton Ordinario', style=ButtonStyle())"
      ]
     },
     "metadata": {},
     "output_type": "display_data"
    }
   ],
   "source": [
    "import ipywidgets as widgets\n",
    "\n",
    "widgets.Button(description='Boton Ordinario', button_style='')"
   ]
  },
  {
   "cell_type": "code",
   "execution_count": 6,
   "metadata": {},
   "outputs": [
    {
     "data": {
      "application/vnd.jupyter.widget-view+json": {
       "model_id": "bd00b029b16e4e41ad9bd88653fa64dd",
       "version_major": 2,
       "version_minor": 0
      },
      "text/plain": [
       "Button(button_style='danger', description='Boton Peligro', style=ButtonStyle())"
      ]
     },
     "metadata": {},
     "output_type": "display_data"
    }
   ],
   "source": [
    "widgets.Button(description='Boton Peligro', button_style='danger')"
   ]
  },
  {
   "cell_type": "markdown",
   "metadata": {},
   "source": [
    "## El atributo `style`"
   ]
  },
  {
   "cell_type": "markdown",
   "metadata": {},
   "source": [
    "Mientras que el atributo `layout` solo expone las propiedades CSS relacionadas con el diseño para el elemento DOM de nivel superior de los dispositivos, el\n",
    "El atributo `style` se utiliza para exponer atributos de estilo no relacionados con el diseño de los dispositivos.\n",
    "\n",
    "Sin embargo, las propiedades del atributo `estilo` son específicas para cada tipo de dispositivo."
   ]
  },
  {
   "cell_type": "code",
   "execution_count": 7,
   "metadata": {
    "jupyter": {
     "source_hidden": true
    },
    "tags": []
   },
   "outputs": [
    {
     "data": {
      "application/vnd.jupyter.widget-view+json": {
       "model_id": "44dfcc569a5f4b9f8dcbdec537910177",
       "version_major": 2,
       "version_minor": 0
      },
      "text/plain": [
       "Button(description='Color Pesonalizado', style=ButtonStyle(button_color='lightgreen'))"
      ]
     },
     "metadata": {},
     "output_type": "display_data"
    }
   ],
   "source": [
    "b1 = widgets.Button(description='Color Pesonalizado')\n",
    "b1.style.button_color = 'lightgreen'\n",
    "b1"
   ]
  },
  {
   "cell_type": "markdown",
   "metadata": {},
   "source": [
    "Puede obtener una lista de los atributos de style para un dispositivo con la propiedad `keys`."
   ]
  },
  {
   "cell_type": "code",
   "execution_count": 8,
   "metadata": {},
   "outputs": [
    {
     "data": {
      "text/plain": [
       "['_model_module',\n",
       " '_model_module_version',\n",
       " '_model_name',\n",
       " '_view_count',\n",
       " '_view_module',\n",
       " '_view_module_version',\n",
       " '_view_name',\n",
       " 'button_color',\n",
       " 'font_weight']"
      ]
     },
     "execution_count": 8,
     "metadata": {},
     "output_type": "execute_result"
    }
   ],
   "source": [
    "b1.style.keys"
   ]
  },
  {
   "cell_type": "markdown",
   "metadata": {},
   "source": [
    "Nota que `widgets.Button().style.keys` tambien trabaja."
   ]
  },
  {
   "cell_type": "markdown",
   "metadata": {},
   "source": [
    "Al igual que el atributo `layout`, los estilos de los dispositivos se pueden asignar a otros dispositivos."
   ]
  },
  {
   "cell_type": "code",
   "execution_count": 9,
   "metadata": {},
   "outputs": [
    {
     "data": {
      "application/vnd.jupyter.widget-view+json": {
       "model_id": "775d088995c7472e863acf99d30369bd",
       "version_major": 2,
       "version_minor": 0
      },
      "text/plain": [
       "Button(style=ButtonStyle(button_color='lightgreen'))"
      ]
     },
     "metadata": {},
     "output_type": "display_data"
    }
   ],
   "source": [
    "b2 = widgets.Button()\n",
    "b2.style = b1.style\n",
    "b2"
   ]
  },
  {
   "cell_type": "markdown",
   "metadata": {},
   "source": [
    "Tenga en cuenta que solo el estilo fue seleccionado por **b2**, no otros parámetros como `descripción`."
   ]
  },
  {
   "cell_type": "markdown",
   "metadata": {},
   "source": [
    "Los atributos de estilo de los dispositivos son específicos de cada tipo de dispositivo."
   ]
  },
  {
   "cell_type": "code",
   "execution_count": 10,
   "metadata": {
    "jupyter": {
     "source_hidden": true
    },
    "tags": []
   },
   "outputs": [
    {
     "data": {
      "application/vnd.jupyter.widget-view+json": {
       "model_id": "dda8c96c3a8244b9b487d314d4042366",
       "version_major": 2,
       "version_minor": 0
      },
      "text/plain": [
       "IntSlider(value=0, description='Azul', style=SliderStyle(handle_color='lightblue'))"
      ]
     },
     "metadata": {},
     "output_type": "display_data"
    }
   ],
   "source": [
    "s1 = widgets.IntSlider(description='Azul')\n",
    "s1.style.handle_color = 'lightblue'\n",
    "s1"
   ]
  },
  {
   "cell_type": "markdown",
   "metadata": {},
   "source": [
    "## Rasgos de estilo de dispositivo\n",
    "\n",
    "Estos son rasgos que pertenecen a algunos de los dispositivos más comunes:\n",
    "\n",
    "#### Button\n",
    "\n",
    "- `button_color` #color de boton\n",
    "- `font_weight` #peso de fuente\n",
    "\n",
    "#### IntSlider, FloatSlider, IntRangeSlider, FloatRangeSlider\n",
    "\n",
    "- `description_width` #ancho de descripcion\n",
    "- `handle_color` #color\n",
    "\n",
    "#### IntProgress, FloatProgress\n",
    "\n",
    "- `bar_color` #color de barra\n",
    "- `description_width` #ancho de descripcion\n",
    "\n",
    "La mayoría de los demás, como `ToggleButton`, `Checkbox`, `Dropdown`, `RadioButtons`, `Select` y `Text` solo tienen `description_width` como característica ajustable."
   ]
  },
  {
   "cell_type": "markdown",
   "metadata": {},
   "source": [
    "# Conclusión\n",
    "\n",
    "¡Ahora debería comprender cómo aplicar estilo a los dispositivos!"
   ]
  },
  {
   "cell_type": "code",
   "execution_count": null,
   "metadata": {},
   "outputs": [],
   "source": []
  }
 ],
 "metadata": {
  "cell_tags": [
   [
    "<None>",
    null
   ]
  ],
  "kernelspec": {
   "display_name": "Python 3 (ipykernel)",
   "language": "python",
   "name": "python3"
  },
  "language_info": {
   "codemirror_mode": {
    "name": "ipython",
    "version": 3
   },
   "file_extension": ".py",
   "mimetype": "text/x-python",
   "name": "python",
   "nbconvert_exporter": "python",
   "pygments_lexer": "ipython3",
   "version": "3.9.6"
  }
 },
 "nbformat": 4,
 "nbformat_minor": 4
}
