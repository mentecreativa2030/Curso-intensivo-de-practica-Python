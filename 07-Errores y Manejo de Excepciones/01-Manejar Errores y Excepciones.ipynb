{
 "cells": [
  {
   "cell_type": "markdown",
   "metadata": {},
   "source": [
    "# Manejo de errores y excepciones\n",
    "\n",
    "En esta lección, aprenderemos sobre el manejo de errores y excepciones en Python. Definitivamente ya ha encontrado errores en este punto del curso. Por ejemplo:"
   ]
  },
  {
   "cell_type": "code",
   "execution_count": 1,
   "metadata": {},
   "outputs": [
    {
     "ename": "SyntaxError",
     "evalue": "EOL while scanning string literal (Temp/ipykernel_4944/118464926.py, line 1)",
     "output_type": "error",
     "traceback": [
      "\u001b[1;36m  File \u001b[1;32m\"C:\\Users\\serge\\AppData\\Local\\Temp/ipykernel_4944/118464926.py\"\u001b[1;36m, line \u001b[1;32m1\u001b[0m\n\u001b[1;33m    print('Hola)\u001b[0m\n\u001b[1;37m                ^\u001b[0m\n\u001b[1;31mSyntaxError\u001b[0m\u001b[1;31m:\u001b[0m EOL while scanning string literal\n"
     ]
    }
   ],
   "source": [
    "print('Hola)"
   ]
  },
  {
   "cell_type": "markdown",
   "metadata": {},
   "source": [
    "Tenga en cuenta cómo obtenemos un SyntaxError, con la descripción adicional de que fue un EOL (Error de final de línea) mientras se escanea la cadena literal. Esto es lo suficientemente específico como para que veamos que olvidamos una sola cita al final de la línea. Comprender estos diversos tipos de errores lo ayudará a depurar su código mucho más rápido.\n",
    "\n",
    "Este tipo de error y descripción se conoce como excepción. Incluso si una declaración o expresión es sintácticamente correcta, puede causar un error cuando se intenta ejecutarla. Los errores detectados durante la ejecución se denominan excepciones y no son incondicionalmente fatales.\n",
    "\n",
    "Puede consultar la lista completa de excepciones integradas [aquí] (https://docs.python.org/3/library/exceptions.html). Ahora aprendamos a manejar errores y excepciones en nuestro propio código."
   ]
  },
  {
   "cell_type": "markdown",
   "metadata": {},
   "source": [
    "## try y except\n",
    "\n",
    "La terminología y la sintaxis básicas que se utilizan para manejar errores en Python son las declaraciones <code> try </code> y <code> except </code>. El código que puede causar que ocurra una excepción se coloca en el bloque <code> try </code> y luego se implementa el manejo de la excepción en el bloque de código <code> except </code>. La sintaxis es la siguiente:\n",
    "    try:\n",
    "       Haces tus operaciones aquí ...\n",
    "       ...\n",
    "    except ExceptionI:\n",
    "       Si hay ExceptionI, ejecute este bloque.\n",
    "    except ExceptionII:\n",
    "       Si hay ExceptionII, ejecute este bloque.\n",
    "       ...\n",
    "    else:\n",
    "       Si no hay una excepción, ejecute este bloque. \n",
    "\n",
    "También podemos verificar cualquier excepción con solo usar <code> excepto: </code> Para comprender mejor todo esto, veamos un ejemplo: veremos un código que se abre y escribe un archivo:"
   ]
  },
  {
   "cell_type": "code",
   "execution_count": 2,
   "metadata": {},
   "outputs": [
    {
     "name": "stdout",
     "output_type": "stream",
     "text": [
      "Contenido escrito con éxito\n"
     ]
    }
   ],
   "source": [
    "try:\n",
    "    f = open('archivoprueba','w')\n",
    "    f.write('Prueba escribe esto')\n",
    "except IOError:\n",
    "    # Esto solo verificará una excepción IOError y luego ejecutará esta declaración de impresión\n",
    "    print(\"Error: no se pudo encontrar el archivo o leer los datos\")\n",
    "else:\n",
    "    print(\"Contenido escrito con éxito\")\n",
    "    f.close()"
   ]
  },
  {
   "cell_type": "markdown",
   "metadata": {},
   "source": [
    "Ahora veamos qué pasaría si no tuviéramos permiso de escritura (abriendo solo con 'r'):"
   ]
  },
  {
   "cell_type": "code",
   "execution_count": 3,
   "metadata": {},
   "outputs": [
    {
     "name": "stdout",
     "output_type": "stream",
     "text": [
      "Error: no se pudo encontrar el archivo o leer los datos\n"
     ]
    }
   ],
   "source": [
    "try:\n",
    "    f = open('archivoprueba','r')\n",
    "    f.write('Prueba escribe esto')\n",
    "except IOError:\n",
    "    # Esto solo verificará una excepción IOError y luego ejecutará esta declaración de impresión\n",
    "    print(\"Error: no se pudo encontrar el archivo o leer los datos\")\n",
    "else:\n",
    "    print(\"Contenido escrito con éxito\")\n",
    "    f.close()"
   ]
  },
  {
   "cell_type": "markdown",
   "metadata": {},
   "source": [
    "¡Estupendo! ¡Observe cómo solo imprimimos una declaración! El código aún se ejecutó y pudimos continuar realizando acciones y ejecutando bloques de código. Esto es extremadamente útil cuando tiene que tener en cuenta posibles errores de entrada en su código. Puede estar preparado para el error y seguir ejecutando código, en lugar de que su código se rompa como vimos anteriormente.\n",
    "\n",
    "También podríamos haber dicho <code> excepto: </code> si no estuviéramos seguros de qué excepción ocurriría. Por ejemplo:"
   ]
  },
  {
   "cell_type": "code",
   "execution_count": 4,
   "metadata": {},
   "outputs": [
    {
     "name": "stdout",
     "output_type": "stream",
     "text": [
      "Error: no se pudo encontrar el archivo o leer los datos\n"
     ]
    }
   ],
   "source": [
    "try:\n",
    "    f = open('archivoprueba','r')\n",
    "    f.write('Prueba escribe esto')\n",
    "except:\n",
    "    # Esto comprobará si hay alguna excepción y luego ejecutará esta declaración de impresión\n",
    "    print(\"Error: no se pudo encontrar el archivo o leer los datos\")\n",
    "else:\n",
    "    print(\"Contenido escrito con éxito\")\n",
    "    f.close()"
   ]
  },
  {
   "cell_type": "markdown",
   "metadata": {},
   "source": [
    "¡Estupendo! ¡Ahora no necesitamos memorizar esa lista de tipos de excepciones! Ahora, ¿qué pasa si seguimos queriendo ejecutar código después de que ocurriera la excepción? Aquí es donde entra <code> finally </code>.\n",
    "## finally\n",
    "El bloque de código <code> finally: </code> siempre se ejecutará independientemente de si hubo una excepción en el bloque de código <code> try </code>. La sintaxis es:\n",
    "\n",
    "     try:\n",
    "        Bloque de código aquí\n",
    "        ...\n",
    "        ¡Debido a cualquier excepción, este código puede omitirse!\n",
    "     finally:\n",
    "        Este bloque de código siempre se ejecutará.\n",
    "\n",
    "Por ejemplo:"
   ]
  },
  {
   "cell_type": "code",
   "execution_count": 5,
   "metadata": {},
   "outputs": [
    {
     "name": "stdout",
     "output_type": "stream",
     "text": [
      "Ejecute siempre bloques finally de código\n"
     ]
    }
   ],
   "source": [
    "try:\n",
    "    f = open(\"archivoprueba\", \"w\")\n",
    "    f.write(\"Prueba escribe declaracion\")\n",
    "    f.close()\n",
    "finally:\n",
    "    print(\"Ejecute siempre bloques finally de código\")"
   ]
  },
  {
   "cell_type": "markdown",
   "metadata": {},
   "source": [
    "Podemos usar esto junto con <code> except </code>. Veamos un nuevo ejemplo que tendrá en cuenta a un usuario que proporciona una entrada incorrecta:"
   ]
  },
  {
   "cell_type": "code",
   "execution_count": 12,
   "metadata": {
    "tags": []
   },
   "outputs": [],
   "source": [
    "def preguntaentero():\n",
    "    try:\n",
    "        val = int(input(\"Escribe un numero entero: \"))\n",
    "    except:\n",
    "        print(\"Parece tu no escribiste un numero entero!\")\n",
    "\n",
    "    finally:\n",
    "        print(\"Finalmente, lo ejecute!\")\n",
    "    print(val)"
   ]
  },
  {
   "cell_type": "code",
   "execution_count": 14,
   "metadata": {},
   "outputs": [
    {
     "name": "stdin",
     "output_type": "stream",
     "text": [
      "Escribe un numero entero:  a\n"
     ]
    },
    {
     "name": "stdout",
     "output_type": "stream",
     "text": [
      "Parece tu no escribiste un numero entero!\n",
      "Finalmente, lo ejecute!\n"
     ]
    },
    {
     "ename": "UnboundLocalError",
     "evalue": "local variable 'val' referenced before assignment",
     "output_type": "error",
     "traceback": [
      "\u001b[1;31m---------------------------------------------------------------------------\u001b[0m",
      "\u001b[1;31mUnboundLocalError\u001b[0m                         Traceback (most recent call last)",
      "\u001b[1;32m~\\AppData\\Local\\Temp/ipykernel_4944/3183106770.py\u001b[0m in \u001b[0;36m<module>\u001b[1;34m\u001b[0m\n\u001b[1;32m----> 1\u001b[1;33m \u001b[0mpreguntaentero\u001b[0m\u001b[1;33m(\u001b[0m\u001b[1;33m)\u001b[0m\u001b[1;33m\u001b[0m\u001b[1;33m\u001b[0m\u001b[0m\n\u001b[0m",
      "\u001b[1;32m~\\AppData\\Local\\Temp/ipykernel_4944/2976903060.py\u001b[0m in \u001b[0;36mpreguntaentero\u001b[1;34m()\u001b[0m\n\u001b[0;32m      7\u001b[0m     \u001b[1;32mfinally\u001b[0m\u001b[1;33m:\u001b[0m\u001b[1;33m\u001b[0m\u001b[1;33m\u001b[0m\u001b[0m\n\u001b[0;32m      8\u001b[0m         \u001b[0mprint\u001b[0m\u001b[1;33m(\u001b[0m\u001b[1;34m\"Finalmente, lo ejecute!\"\u001b[0m\u001b[1;33m)\u001b[0m\u001b[1;33m\u001b[0m\u001b[1;33m\u001b[0m\u001b[0m\n\u001b[1;32m----> 9\u001b[1;33m     \u001b[0mprint\u001b[0m\u001b[1;33m(\u001b[0m\u001b[0mval\u001b[0m\u001b[1;33m)\u001b[0m\u001b[1;33m\u001b[0m\u001b[1;33m\u001b[0m\u001b[0m\n\u001b[0m",
      "\u001b[1;31mUnboundLocalError\u001b[0m: local variable 'val' referenced before assignment"
     ]
    }
   ],
   "source": [
    "preguntaentero()"
   ]
  },
  {
   "cell_type": "code",
   "execution_count": 16,
   "metadata": {
    "tags": []
   },
   "outputs": [
    {
     "name": "stdin",
     "output_type": "stream",
     "text": [
      "Escribe un numero entero:  e\n"
     ]
    },
    {
     "name": "stdout",
     "output_type": "stream",
     "text": [
      "Parece tu no escribiste un numero entero!\n",
      "Finalmente, lo ejecute!\n"
     ]
    },
    {
     "ename": "UnboundLocalError",
     "evalue": "local variable 'val' referenced before assignment",
     "output_type": "error",
     "traceback": [
      "\u001b[1;31m---------------------------------------------------------------------------\u001b[0m",
      "\u001b[1;31mUnboundLocalError\u001b[0m                         Traceback (most recent call last)",
      "\u001b[1;32m~\\AppData\\Local\\Temp/ipykernel_4944/3183106770.py\u001b[0m in \u001b[0;36m<module>\u001b[1;34m\u001b[0m\n\u001b[1;32m----> 1\u001b[1;33m \u001b[0mpreguntaentero\u001b[0m\u001b[1;33m(\u001b[0m\u001b[1;33m)\u001b[0m\u001b[1;33m\u001b[0m\u001b[1;33m\u001b[0m\u001b[0m\n\u001b[0m",
      "\u001b[1;32m~\\AppData\\Local\\Temp/ipykernel_4944/2976903060.py\u001b[0m in \u001b[0;36mpreguntaentero\u001b[1;34m()\u001b[0m\n\u001b[0;32m      7\u001b[0m     \u001b[1;32mfinally\u001b[0m\u001b[1;33m:\u001b[0m\u001b[1;33m\u001b[0m\u001b[1;33m\u001b[0m\u001b[0m\n\u001b[0;32m      8\u001b[0m         \u001b[0mprint\u001b[0m\u001b[1;33m(\u001b[0m\u001b[1;34m\"Finalmente, lo ejecute!\"\u001b[0m\u001b[1;33m)\u001b[0m\u001b[1;33m\u001b[0m\u001b[1;33m\u001b[0m\u001b[0m\n\u001b[1;32m----> 9\u001b[1;33m     \u001b[0mprint\u001b[0m\u001b[1;33m(\u001b[0m\u001b[0mval\u001b[0m\u001b[1;33m)\u001b[0m\u001b[1;33m\u001b[0m\u001b[1;33m\u001b[0m\u001b[0m\n\u001b[0m",
      "\u001b[1;31mUnboundLocalError\u001b[0m: local variable 'val' referenced before assignment"
     ]
    }
   ],
   "source": [
    "preguntaentero()"
   ]
  },
  {
   "cell_type": "markdown",
   "metadata": {},
   "source": [
    "Observe cómo obtuvimos un error al intentar imprimir val (porque nunca se asignó correctamente). Reparemos esto preguntando al usuario y comprobando que el tipo de entrada sea un número entero:"
   ]
  },
  {
   "cell_type": "code",
   "execution_count": 17,
   "metadata": {
    "tags": []
   },
   "outputs": [],
   "source": [
    "def preguntaentero():\n",
    "    try:\n",
    "        val = int(input(\"Escribe numero entero: \"))\n",
    "    except:\n",
    "        print(\"Parece tu no escribiste un numero entero!\")\n",
    "        val = int(input(\"Intenta de nuevo-Escribe un numero entero: \"))\n",
    "    finally:\n",
    "        print(\"Finalmente, lo ejecute!\")\n",
    "    print(val)"
   ]
  },
  {
   "cell_type": "markdown",
   "metadata": {},
   "source": [
    "# preguntaentero()"
   ]
  },
  {
   "cell_type": "markdown",
   "metadata": {},
   "source": [
    "Hmmm ... eso solo hizo una verificación. ¿Cómo podemos seguir comprobando continuamente? ¡Podemos usar un bucle while!"
   ]
  },
  {
   "cell_type": "code",
   "execution_count": 13,
   "metadata": {
    "tags": []
   },
   "outputs": [],
   "source": [
    "def preguntaentero():\n",
    "    while True:\n",
    "        try:\n",
    "            val = int(input(\"Escribe un numero entero: \"))\n",
    "        except:\n",
    "            print(\"Parece tu no escribiste un numero entero!\")\n",
    "            continue\n",
    "        else:\n",
    "            print(\"Correcto, es un numero entero!\")\n",
    "            break\n",
    "        finally:\n",
    "            print(\"Finalmente, lo ejecute!\")\n",
    "        print(val)"
   ]
  },
  {
   "cell_type": "markdown",
   "metadata": {},
   "source": [
    "### preguntaentero()"
   ]
  },
  {
   "cell_type": "markdown",
   "metadata": {},
   "source": [
    "Entonces, ¿por qué nuestra función imprimió \"¡Finalmente, ejecuté!\" después de cada prueba, sin embargo, ¿nunca imprimió \"val\"? Esto se debe a que con una cláusula try / except / finalmente, cualquier instrucción <code> continue </code> o <code> break </code> se reserva hasta * después * de que se complete la cláusula try. Esto significa que aunque una entrada exitosa de ** 3 ** nos llevó al bloque <code> else: </code> y se lanzó una instrucción <code> break </code>, la cláusula try continuó hasta < code> finalmente: </code> antes de salir del bucle while. Y dado que <code> print (val) </code> estaba fuera de la cláusula try, la instrucción <code> break </code> impidió que se ejecutara.\n",
    "\n",
    "Hagamos un ajuste final:"
   ]
  },
  {
   "cell_type": "code",
   "execution_count": null,
   "metadata": {
    "tags": []
   },
   "outputs": [],
   "source": [
    "def preguntaentero():\n",
    "    while True:\n",
    "        try:\n",
    "            val = int(input(\"Escribe un numero entero: \"))\n",
    "        except:\n",
    "            print(\"Parece tu no escribiste un numero entero!\")\n",
    "            continue\n",
    "        else:\n",
    "            print(\"Correcto es un numero entero!\")\n",
    "            print(val)\n",
    "            break\n",
    "        finally:\n",
    "            print(\"Finalmente, lo ejecute!\")"
   ]
  },
  {
   "cell_type": "code",
   "execution_count": null,
   "metadata": {},
   "outputs": [],
   "source": [
    "preguntaentero()"
   ]
  },
  {
   "cell_type": "markdown",
   "metadata": {
    "tags": []
   },
   "source": [
    "**¡Estupendo! ¡Ahora sabe cómo manejar errores y excepciones en Python con la notación try, excepto, else y finalmente! **"
   ]
  },
  {
   "cell_type": "code",
   "execution_count": null,
   "metadata": {},
   "outputs": [],
   "source": []
  }
 ],
 "metadata": {
  "kernelspec": {
   "display_name": "Python 3 (ipykernel)",
   "language": "python",
   "name": "python3"
  },
  "language_info": {
   "codemirror_mode": {
    "name": "ipython",
    "version": 3
   },
   "file_extension": ".py",
   "mimetype": "text/x-python",
   "name": "python",
   "nbconvert_exporter": "python",
   "pygments_lexer": "ipython3",
   "version": "3.9.6"
  }
 },
 "nbformat": 4,
 "nbformat_minor": 4
}
