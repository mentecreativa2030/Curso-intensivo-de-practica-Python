{
 "cells": [
  {
   "cell_type": "markdown",
   "metadata": {
    "tags": []
   },
   "source": [
    "# Examen de la unidad\n",
    "\n",
    "Tan importante como escribir un buen código es escribir buenas pruebas. ¡Es mejor encontrar errores usted mismo que que los usuarios finales los notifiquen!\n",
    "\n",
    "En esta sección, trabajaremos con archivos fuera del cuaderno. Guardaremos nuestro código en un archivo .py y luego guardaremos nuestro script de prueba en otro archivo .py. Normalmente codificaríamos estos archivos usando un editor de texto como Brackets o Atom, o dentro de un IDE como Spyder o Pycharm. Pero, ya que estamos aquí, ¡usemos Jupyter!\n",
    "\n",
    "Recuerde que con algo de magia de IPython podemos escribir el contenido de una celda en un archivo usando `%% writefile`. <br>\n",
    "Algo que aún no hemos visto; puede ejecutar comandos de terminal desde una celda jupyter usando `!`\n",
    "\n",
    "## Herramientas de prueba\n",
    "\n",
    "Hay docenas de buenas bibliotecas de prueba por ahí. La mayoría son paquetes de terceros que requieren una instalación, como:\n",
    "\n",
    "* [pylint] (https://www.pylint.org/)\n",
    "* [pyflakes] (https://pypi.python.org/pypi/pyflakes/)\n",
    "* [pep8] (https://pypi.python.org/pypi/pep8)\n",
    "\n",
    "Estas son herramientas simples que simplemente miran su código y le dirán si hay problemas de estilo o problemas simples como nombres de variables que se llaman antes de la asignación.\n",
    "\n",
    "Una forma mucho mejor de probar su código es escribir pruebas que envíen datos de muestra a su programa y comparar lo que se devuelve con el resultado deseado. <br> Hay dos herramientas de este tipo disponibles en la biblioteca estándar:\n",
    "\n",
    "* [unittest] (https://docs.python.org/3/library/unittest.html)\n",
    "* [doctest] (https://docs.python.org/3/library/doctest.html)\n",
    "\n",
    "Veamos primero pylint, luego haremos un levantamiento más pesado con unittest."
   ]
  },
  {
   "cell_type": "markdown",
   "metadata": {},
   "source": [
    "## `pylint`\n",
    "\n",
    "`pylint` prueba el estilo, así como una lógica de programa muy básica."
   ]
  },
  {
   "cell_type": "markdown",
   "metadata": {},
   "source": [
    "Primero, si aún no lo tiene (y probablemente lo tenga, ya que es parte de la distribución de Anaconda), debe instalar `pylint`. <br> Una vez hecho esto, no dude en comentar la celda, no lo hará lo necesito más."
   ]
  },
  {
   "cell_type": "code",
   "execution_count": 48,
   "metadata": {
    "tags": []
   },
   "outputs": [
    {
     "name": "stdout",
     "output_type": "stream",
     "text": [
      "Requirement already satisfied: pylint in c:\\users\\serge\\appdata\\local\\programs\\python\\python39\\lib\\site-packages (2.12.2)\n",
      "Requirement already satisfied: mccabe<0.7,>=0.6 in c:\\users\\serge\\appdata\\local\\programs\\python\\python39\\lib\\site-packages (from pylint) (0.6.1)\n",
      "Requirement already satisfied: isort<6,>=4.2.5 in c:\\users\\serge\\appdata\\local\\programs\\python\\python39\\lib\\site-packages (from pylint) (5.10.1)\n",
      "Requirement already satisfied: astroid<2.10,>=2.9.0 in c:\\users\\serge\\appdata\\local\\programs\\python\\python39\\lib\\site-packages (from pylint) (2.9.0)\n",
      "Requirement already satisfied: platformdirs>=2.2.0 in c:\\users\\serge\\appdata\\local\\programs\\python\\python39\\lib\\site-packages (from pylint) (2.4.1)\n",
      "Requirement already satisfied: typing-extensions>=3.10.0 in c:\\users\\serge\\appdata\\local\\programs\\python\\python39\\lib\\site-packages (from pylint) (4.0.1)\n",
      "Requirement already satisfied: toml>=0.9.2 in c:\\users\\serge\\appdata\\local\\programs\\python\\python39\\lib\\site-packages (from pylint) (0.10.2)\n",
      "Requirement already satisfied: colorama in c:\\users\\serge\\appdata\\local\\programs\\python\\python39\\lib\\site-packages (from pylint) (0.4.4)\n",
      "Requirement already satisfied: setuptools>=20.0 in c:\\users\\serge\\appdata\\local\\programs\\python\\python39\\lib\\site-packages (from astroid<2.10,>=2.9.0->pylint) (56.0.0)\n",
      "Requirement already satisfied: lazy-object-proxy>=1.4.0 in c:\\users\\serge\\appdata\\local\\programs\\python\\python39\\lib\\site-packages (from astroid<2.10,>=2.9.0->pylint) (1.7.1)\n",
      "Requirement already satisfied: wrapt<1.14,>=1.11 in c:\\users\\serge\\appdata\\local\\programs\\python\\python39\\lib\\site-packages (from astroid<2.10,>=2.9.0->pylint) (1.13.3)\n"
     ]
    }
   ],
   "source": [
    "! pip install pylint"
   ]
  },
  {
   "cell_type": "markdown",
   "metadata": {},
   "source": [
    "Guardemos un script muy simple:"
   ]
  },
  {
   "cell_type": "code",
   "execution_count": 49,
   "metadata": {
    "tags": []
   },
   "outputs": [
    {
     "name": "stdout",
     "output_type": "stream",
     "text": [
      "Overwriting simple1.py\n"
     ]
    }
   ],
   "source": [
    "%%writefile simple1.py\n",
    "a = 1\n",
    "b = 2\n",
    "print(a)\n",
    "print(B)"
   ]
  },
  {
   "cell_type": "markdown",
   "metadata": {},
   "source": [
    "Ahora verifiquémoslo usando pylint"
   ]
  },
  {
   "cell_type": "code",
   "execution_count": 50,
   "metadata": {},
   "outputs": [
    {
     "name": "stdout",
     "output_type": "stream",
     "text": [
      "************* Module simple1\n",
      "simple1.py:1:0: C0114: Missing module docstring (missing-module-docstring)\n",
      "simple1.py:1:0: C0103: Constant name \"a\" doesn't conform to UPPER_CASE naming style (invalid-name)\n",
      "simple1.py:2:0: C0103: Constant name \"b\" doesn't conform to UPPER_CASE naming style (invalid-name)\n",
      "simple1.py:4:6: E0602: Undefined variable 'B' (undefined-variable)\n",
      "\n",
      "----------------------------------------------------------------------\n",
      "Your code has been rated at -10.00/10 (previous run: 10.00/10, -20.00)\n",
      "\n"
     ]
    }
   ],
   "source": [
    "! pylint simple1.py"
   ]
  },
  {
   "cell_type": "markdown",
   "metadata": {},
   "source": [
    "Pylint primero enumera algunos problemas de estilo: le gustaría ver una nueva línea adicional al final, los módulos y las definiciones de funciones deben tener cadenas de documentación descriptivas, y los caracteres individuales son una mala elección para los nombres de variables.\n",
    "\n",
    "Sin embargo, lo que es más importante, pylint identificó un error en el programa, una variable llamada antes de la asignación. Esto necesita ser arreglado.\n",
    "\n",
    "Tenga en cuenta que pylint puntuó nuestro programa con un 12,5 sobre 10. ¡Intentemos mejorar eso!"
   ]
  },
  {
   "cell_type": "code",
   "execution_count": 51,
   "metadata": {},
   "outputs": [
    {
     "name": "stdout",
     "output_type": "stream",
     "text": [
      "Overwriting simple1.py\n"
     ]
    }
   ],
   "source": [
    "%%writefile simple1.py\n",
    "\"\"\"\n",
    "Un simple script.\n",
    "\"\"\"\n",
    "\n",
    "def myfunc():\n",
    "    \"\"\"\n",
    "    Una funcion extremadamente simple.\n",
    "    \"\"\"\n",
    "    primero = 1\n",
    "    segundo = 2\n",
    "    print(primero)\n",
    "    print(segundo)\n",
    "\n",
    "myfunc()\n"
   ]
  },
  {
   "cell_type": "code",
   "execution_count": 52,
   "metadata": {},
   "outputs": [
    {
     "name": "stdout",
     "output_type": "stream",
     "text": [
      "\n",
      "----------------------------------------------------------------------\n",
      "Your code has been rated at 10.00/10 (previous run: -10.00/10, +20.00)\n",
      "\n"
     ]
    }
   ],
   "source": [
    "! pylint simple1.py"
   ]
  },
  {
   "cell_type": "markdown",
   "metadata": {},
   "source": [
    "¡Mucho mejor! Nuestra puntuación subió a 8,33 sobre 10. Desafortunadamente, el salto de línea final tiene que ver con la forma en que jupyter escribe en un archivo, y no hay mucho que podamos hacer al respecto aquí. Aún así, pylint nos ayudó a solucionar algunos de nuestros problemas. Pero, ¿y si el problema fuera más complejo?"
   ]
  },
  {
   "cell_type": "code",
   "execution_count": 53,
   "metadata": {},
   "outputs": [
    {
     "name": "stdout",
     "output_type": "stream",
     "text": [
      "Overwriting simple2.py\n"
     ]
    }
   ],
   "source": [
    "%%writefile simple2.py\n",
    "\"\"\"\n",
    "Un script muy simple.\n",
    "\"\"\"\n",
    "\n",
    "def myfunc():\n",
    "    \"\"\"\n",
    "    Una funcion extremadamente simple.\n",
    "    \"\"\"\n",
    "    primero = 1\n",
    "    segundo = 2\n",
    "    print(primero)\n",
    "    print('segundo')\n",
    "\n",
    "myfunc()\n"
   ]
  },
  {
   "cell_type": "code",
   "execution_count": 54,
   "metadata": {},
   "outputs": [
    {
     "name": "stdout",
     "output_type": "stream",
     "text": [
      "************* Module simple2\n",
      "simple2.py:10:4: W0612: Unused variable 'segundo' (unused-variable)\n",
      "\n",
      "------------------------------------------------------------------\n",
      "Your code has been rated at 8.33/10 (previous run: 8.33/10, +0.00)\n",
      "\n"
     ]
    }
   ],
   "source": [
    "! pylint simple2.py"
   ]
  },
  {
   "cell_type": "markdown",
   "metadata": {},
   "source": [
    "pylint nos dice que hay una variable sin usar en la línea 10, ¡pero no sabe que podríamos obtener una salida inesperada de la línea 12! Para ello, necesitamos un conjunto de herramientas más robusto. Ahí es donde entra en juego \"pruebaunitaria\"."
   ]
  },
  {
   "cell_type": "markdown",
   "metadata": {},
   "source": [
    "## `unittest`\n",
    "`unittest` le permite escribir sus propios programas de prueba. El objetivo es enviar un conjunto específico de datos a su programa y analizar los resultados devueltos contra un resultado esperado.\n",
    "\n",
    "Generemos una secuencia de comandos simple que use mayúsculas en las palabras de una cadena determinada. Lo llamaremos **cap.py**."
   ]
  },
  {
   "cell_type": "code",
   "execution_count": 55,
   "metadata": {},
   "outputs": [
    {
     "name": "stdout",
     "output_type": "stream",
     "text": [
      "Overwriting cap.py\n"
     ]
    }
   ],
   "source": [
    "%%writefile cap.py\n",
    "def cap_text(text):\n",
    "    return text.capitalize()"
   ]
  },
  {
   "cell_type": "markdown",
   "metadata": {},
   "source": [
    "Ahora escribiremos un guión de prueba. Podemos llamarlo como queramos, pero **test_cap.py** parece una opción obvia.\n",
    "\n",
    "Al escribir funciones de prueba, es mejor pasar de simples a complejas, ya que cada función se ejecutará en orden. Aquí probaremos cadenas simples de una palabra, seguidas de una prueba de cadenas de varias palabras."
   ]
  },
  {
   "cell_type": "code",
   "execution_count": 56,
   "metadata": {
    "tags": []
   },
   "outputs": [
    {
     "name": "stdout",
     "output_type": "stream",
     "text": [
      "Overwriting test_cap.py\n"
     ]
    }
   ],
   "source": [
    "%%writefile test_cap.py\n",
    "import unittest\n",
    "import cap\n",
    "\n",
    "class TestCap(unittest.TestCase):\n",
    "    \n",
    "    def test_one_word(self):\n",
    "        text = 'python'\n",
    "        result = cap.cap_text(text)\n",
    "        self.assertEqual(result, 'Python')\n",
    "        \n",
    "    def test_multiple_words(self):\n",
    "        text = 'monty python'\n",
    "        result = cap.cap_text(text)\n",
    "        self.assertEqual(result, 'Monty Python')\n",
    "        \n",
    "if __name__ == '__main__':\n",
    "    unittest.main()\n"
   ]
  },
  {
   "cell_type": "code",
   "execution_count": 57,
   "metadata": {
    "tags": []
   },
   "outputs": [
    {
     "name": "stderr",
     "output_type": "stream",
     "text": [
      "F.\n",
      "======================================================================\n",
      "FAIL: test_multiple_words (__main__.TestCap)\n",
      "----------------------------------------------------------------------\n",
      "Traceback (most recent call last):\n",
      "  File \"C:\\Users\\serge\\Documents\\Curso intensivo de practica lenguaje Python -  desde nivel cero a nivel campeon\\07-Errores y Manejo de Excepciones\\test_cap.py\", line 14, in test_multiple_words\n",
      "    self.assertEqual(result, 'Monty Python')\n",
      "AssertionError: 'Monty python' != 'Monty Python'\n",
      "- Monty python\n",
      "?       ^\n",
      "+ Monty Python\n",
      "?       ^\n",
      "\n",
      "\n",
      "----------------------------------------------------------------------\n",
      "Ran 2 tests in 0.001s\n",
      "\n",
      "FAILED (failures=1)\n"
     ]
    }
   ],
   "source": [
    "! python test_cap.py"
   ]
  },
  {
   "cell_type": "markdown",
   "metadata": {},
   "source": [
    "¿Qué sucedió? Resulta que el método `.capitalize ()` solo escribe en mayúscula la primera letra de la primera palabra de una cadena. Investigando un poco sobre los métodos de cadena, encontramos que `.title ()` podría darnos lo que queremos."
   ]
  },
  {
   "cell_type": "code",
   "execution_count": 58,
   "metadata": {},
   "outputs": [
    {
     "name": "stdout",
     "output_type": "stream",
     "text": [
      "Overwriting cap.py\n"
     ]
    }
   ],
   "source": [
    "%%writefile cap.py\n",
    "def cap_text(text):\n",
    "    return text.title()  # remplaza .mayuscula()con \".title()\""
   ]
  },
  {
   "cell_type": "code",
   "execution_count": 59,
   "metadata": {
    "tags": []
   },
   "outputs": [
    {
     "name": "stderr",
     "output_type": "stream",
     "text": [
      "..\n",
      "----------------------------------------------------------------------\n",
      "Ran 2 tests in 0.000s\n",
      "\n",
      "OK\n"
     ]
    }
   ],
   "source": [
    "! python test_cap.py"
   ]
  },
  {
   "cell_type": "markdown",
   "metadata": {},
   "source": [
    "¡Oye, pasó! Pero, ¿hemos probado todos los casos? Agreguemos otra prueba a **prueba_cap.py** para ver si maneja palabras con apóstrofos, como *no*.\n",
    "\n",
    "En un editor de texto esto sería fácil, pero en Jupyter tenemos que empezar de cero."
   ]
  },
  {
   "cell_type": "code",
   "execution_count": 62,
   "metadata": {
    "jupyter": {
     "source_hidden": true
    },
    "tags": []
   },
   "outputs": [
    {
     "name": "stdout",
     "output_type": "stream",
     "text": [
      "Overwriting test_cap.py\n"
     ]
    }
   ],
   "source": [
    "%%writefile test_cap.py\n",
    "import unittest\n",
    "import cap\n",
    "\n",
    "class TestCap(unittest.TestCase):\n",
    "    \n",
    "    def test_one_word(self):\n",
    "        text = 'python'\n",
    "        result = cap.cap_text(text)\n",
    "        self.assertEqual(result, 'Python')\n",
    "        \n",
    "    def test_multiple_words(self):\n",
    "        text = 'monty python'\n",
    "        result = cap.cap_text(text)\n",
    "        self.assertEqual(result, 'Monty Python')\n",
    "        \n",
    "    def test_with_apostrophes(self):\n",
    "        text = \"el circo volador de monty python\"\n",
    "        result = cap.cap_text(text)\n",
    "        self.assertEqual(result, \"El Circo Volador De Monty Python\")\n",
    "        \n",
    "if __name__ == '__main__':\n",
    "    unittest.main()"
   ]
  },
  {
   "cell_type": "code",
   "execution_count": 63,
   "metadata": {
    "tags": []
   },
   "outputs": [
    {
     "name": "stderr",
     "output_type": "stream",
     "text": [
      "...\n",
      "----------------------------------------------------------------------\n",
      "Ran 3 tests in 0.000s\n",
      "\n",
      "OK\n"
     ]
    }
   ],
   "source": [
    "! python test_cap.py"
   ]
  },
  {
   "cell_type": "markdown",
   "metadata": {},
   "source": [
    "¡Ahora tenemos que encontrar una solución que maneje los apóstrofes! dejaremos como ejercicio para el lector."
   ]
  },
  {
   "cell_type": "markdown",
   "metadata": {},
   "source": [
    "¡Estupendo! ¡Ahora debería tener un conocimiento básico de las pruebas unitarias!"
   ]
  },
  {
   "cell_type": "code",
   "execution_count": null,
   "metadata": {},
   "outputs": [],
   "source": []
  }
 ],
 "metadata": {
  "kernelspec": {
   "display_name": "Python 3 (ipykernel)",
   "language": "python",
   "name": "python3"
  },
  "language_info": {
   "codemirror_mode": {
    "name": "ipython",
    "version": 3
   },
   "file_extension": ".py",
   "mimetype": "text/x-python",
   "name": "python",
   "nbconvert_exporter": "python",
   "pygments_lexer": "ipython3",
   "version": "3.9.6"
  }
 },
 "nbformat": 4,
 "nbformat_minor": 4
}
