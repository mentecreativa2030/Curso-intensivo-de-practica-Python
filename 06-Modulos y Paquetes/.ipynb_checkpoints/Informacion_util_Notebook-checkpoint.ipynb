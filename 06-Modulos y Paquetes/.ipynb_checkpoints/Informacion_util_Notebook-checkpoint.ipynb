{
 "cells": [
  {
   "cell_type": "markdown",
   "metadata": {
    "tags": []
   },
   "source": [
    "# Módulos y paquetes\n",
    "\n",
    "No hay código aquí porque realmente no tiene sentido para la sección. Consulte las conferencias en video para obtener más información y los recursos para esto.\n",
    "\n",
    "¡Aquí está la mejor fuente de los documentos oficiales!\n",
    "https://docs.python.org/3/tutorial/modules.html#packages\n",
    "\n",
    "Pero realmente me gusta la información aquí: https://python4astronomers.github.io/installation/packages.html\n",
    "\n",
    "Aquí hay información adicional para ayudar:"
   ]
  },
  {
   "cell_type": "markdown",
   "metadata": {},
   "source": [
    "Los módulos en Python son simplemente archivos de Python con la extensión .py, que implementan un conjunto de funciones. Los módulos se importan de otros módulos mediante el comando <code> import </code>.\n",
    "\n",
    "Para importar un módulo, usamos el comando <code> import </code>. Consulte la lista completa de módulos integrados en la biblioteca estándar de Python [aquí] (https://docs.python.org/3/py-modindex.html).\n",
    "\n",
    "La primera vez que se carga un módulo en una secuencia de comandos de Python en ejecución, se inicializa ejecutando el código en el módulo una vez. Si otro módulo en su código importa el mismo módulo nuevamente, no se cargará dos veces, sino solo una vez, por lo que las variables locales dentro del módulo actúan como un \"singleton\", se inicializan solo una vez.\n",
    "\n",
    "Si queremos importar el módulo matemático, simplemente importamos el nombre del módulo:"
   ]
  },
  {
   "cell_type": "code",
   "execution_count": 1,
   "metadata": {
    "tags": []
   },
   "outputs": [],
   "source": [
    "# importar la libreria\n",
    "import math"
   ]
  },
  {
   "cell_type": "code",
   "execution_count": 2,
   "metadata": {},
   "outputs": [
    {
     "data": {
      "text/plain": [
       "3"
      ]
     },
     "execution_count": 2,
     "metadata": {},
     "output_type": "execute_result"
    }
   ],
   "source": [
    "# usalo (redondeo)\n",
    "math.ceil(2.4)"
   ]
  },
  {
   "cell_type": "markdown",
   "metadata": {},
   "source": [
    "## Explorando módulos integrados\n",
    "Dos funciones muy importantes son útiles cuando se exploran módulos en Python: las funciones <code> dir </code> y <code> help </code>.\n",
    "\n",
    "Podemos buscar qué funciones se implementan en cada módulo usando la función <code> dir </code>:"
   ]
  },
  {
   "cell_type": "code",
   "execution_count": 3,
   "metadata": {},
   "outputs": [
    {
     "name": "stdout",
     "output_type": "stream",
     "text": [
      "['__doc__', '__loader__', '__name__', '__package__', '__spec__', 'acos', 'acosh', 'asin', 'asinh', 'atan', 'atan2', 'atanh', 'ceil', 'comb', 'copysign', 'cos', 'cosh', 'degrees', 'dist', 'e', 'erf', 'erfc', 'exp', 'expm1', 'fabs', 'factorial', 'floor', 'fmod', 'frexp', 'fsum', 'gamma', 'gcd', 'hypot', 'inf', 'isclose', 'isfinite', 'isinf', 'isnan', 'isqrt', 'lcm', 'ldexp', 'lgamma', 'log', 'log10', 'log1p', 'log2', 'modf', 'nan', 'nextafter', 'perm', 'pi', 'pow', 'prod', 'radians', 'remainder', 'sin', 'sinh', 'sqrt', 'tan', 'tanh', 'tau', 'trunc', 'ulp']\n"
     ]
    }
   ],
   "source": [
    "print(dir(math))"
   ]
  },
  {
   "cell_type": "markdown",
   "metadata": {},
   "source": [
    "Cuando encontramos la función en el módulo que queremos usar, podemos leer más sobre ella usando la función <code> help </code>, dentro del intérprete de Python:\n",
    "\n"
   ]
  },
  {
   "cell_type": "code",
   "execution_count": 4,
   "metadata": {},
   "outputs": [
    {
     "name": "stdout",
     "output_type": "stream",
     "text": [
      "Help on built-in function ceil in module math:\n",
      "\n",
      "ceil(x, /)\n",
      "    Return the ceiling of x as an Integral.\n",
      "    \n",
      "    This is the smallest integer >= x.\n",
      "\n"
     ]
    }
   ],
   "source": [
    "help(math.ceil)"
   ]
  },
  {
   "cell_type": "markdown",
   "metadata": {},
   "source": [
    "## Módulos de escritura\n",
    "Escribir módulos de Python es muy simple. Para crear un módulo propio, simplemente cree un nuevo archivo .py con el nombre del módulo y luego impórtelo usando el nombre del archivo Python (sin la extensión .py) usando el comando de importación.\n",
    "\n",
    "## Paquetes de escritura\n",
    "Los paquetes son espacios de nombres que contienen múltiples paquetes y módulos. Son simplemente directorios, pero con un toque diferente.\n",
    "\n",
    "Cada paquete en Python es un directorio que DEBE contener un archivo especial llamado **\\ __ init \\ __. Py**. Este archivo puede estar vacío e indica que el directorio que contiene es un paquete de Python, por lo que se puede importar de la misma manera que se puede importar un módulo.\n",
    "\n",
    "Si creamos un directorio llamado foo, que marca el nombre del paquete, podemos crear un módulo dentro de ese paquete llamado bar. Tampoco debemos olvidar agregar el archivo **\\ __ init \\ __. Py** dentro del directorio foo.\n",
    "\n",
    "Para utilizar la barra de módulos, podemos importarla de dos formas:"
   ]
  },
  {
   "cell_type": "code",
   "execution_count": 8,
   "metadata": {
    "tags": []
   },
   "outputs": [
    {
     "ename": "ModuleNotFoundError",
     "evalue": "No module named 'foo'",
     "output_type": "error",
     "traceback": [
      "\u001b[1;31m---------------------------------------------------------------------------\u001b[0m",
      "\u001b[1;31mModuleNotFoundError\u001b[0m                       Traceback (most recent call last)",
      "\u001b[1;32m~\\AppData\\Local\\Temp/ipykernel_10136/3675706165.py\u001b[0m in \u001b[0;36m<module>\u001b[1;34m\u001b[0m\n\u001b[0;32m      1\u001b[0m \u001b[1;31m# Solo un ejemplo, esto no funcionará\u001b[0m\u001b[1;33m\u001b[0m\u001b[1;33m\u001b[0m\u001b[1;33m\u001b[0m\u001b[0m\n\u001b[1;32m----> 2\u001b[1;33m \u001b[1;32mimport\u001b[0m \u001b[0mfoo\u001b[0m\u001b[1;33m.\u001b[0m\u001b[0mbar\u001b[0m\u001b[1;33m\u001b[0m\u001b[1;33m\u001b[0m\u001b[0m\n\u001b[0m",
      "\u001b[1;31mModuleNotFoundError\u001b[0m: No module named 'foo'"
     ]
    }
   ],
   "source": [
    "# Solo un ejemplo, esto no funcionará\n",
    "import foo.bar"
   ]
  },
  {
   "cell_type": "code",
   "execution_count": 9,
   "metadata": {
    "tags": []
   },
   "outputs": [
    {
     "ename": "ModuleNotFoundError",
     "evalue": "No module named 'foo'",
     "output_type": "error",
     "traceback": [
      "\u001b[1;31m---------------------------------------------------------------------------\u001b[0m",
      "\u001b[1;31mModuleNotFoundError\u001b[0m                       Traceback (most recent call last)",
      "\u001b[1;32m~\\AppData\\Local\\Temp/ipykernel_10136/1003881397.py\u001b[0m in \u001b[0;36m<module>\u001b[1;34m\u001b[0m\n\u001b[0;32m      1\u001b[0m \u001b[1;31m# O podría hacerlo de esta manera\u001b[0m\u001b[1;33m\u001b[0m\u001b[1;33m\u001b[0m\u001b[1;33m\u001b[0m\u001b[0m\n\u001b[1;32m----> 2\u001b[1;33m \u001b[1;32mfrom\u001b[0m \u001b[0mfoo\u001b[0m \u001b[1;32mimport\u001b[0m \u001b[0mbar\u001b[0m\u001b[1;33m\u001b[0m\u001b[1;33m\u001b[0m\u001b[0m\n\u001b[0m",
      "\u001b[1;31mModuleNotFoundError\u001b[0m: No module named 'foo'"
     ]
    }
   ],
   "source": [
    "# O podría hacerlo de esta manera\n",
    "from foo import bar"
   ]
  },
  {
   "cell_type": "markdown",
   "metadata": {},
   "source": [
    "En el primer método, debemos usar el prefijo foo siempre que accedamos a la barra de módulos. En el segundo método, no lo hacemos, porque importamos el módulo al espacio de nombres de nuestro módulo.\n",
    "\n",
    "El archivo **\\ __ init \\ __. Py** también puede decidir qué módulos exporta el paquete como API, mientras mantiene otros módulos internos, anulando la variable **\\ __ all \\ __**, así:"
   ]
  },
  {
   "cell_type": "code",
   "execution_count": null,
   "metadata": {},
   "outputs": [],
   "source": []
  }
 ],
 "metadata": {
  "kernelspec": {
   "display_name": "Python 3 (ipykernel)",
   "language": "python",
   "name": "python3"
  },
  "language_info": {
   "codemirror_mode": {
    "name": "ipython",
    "version": 3
   },
   "file_extension": ".py",
   "mimetype": "text/x-python",
   "name": "python",
   "nbconvert_exporter": "python",
   "pygments_lexer": "ipython3",
   "version": "3.9.6"
  }
 },
 "nbformat": 4,
 "nbformat_minor": 4
}
