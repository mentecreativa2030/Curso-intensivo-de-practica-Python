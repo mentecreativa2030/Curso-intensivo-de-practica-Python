{
 "cells": [
  {
   "cell_type": "markdown",
   "metadata": {},
   "source": [
    "# Proyecto Milestone 1: Libro de trabajo de pasos del tutorial\n",
    "\n",
    "¡A continuación se muestra un conjunto de pasos que debe seguir para intentar crear el juego Tic Tac Toe Milestone Project!"
   ]
  },
  {
   "cell_type": "markdown",
   "metadata": {},
   "source": [
    "#### Algunas herramientas sugeridas antes de comenzar:\n",
    "Para recibir información de un usuario:\n",
    "\n",
    "     jugador1 = input(\"Por favor, elija un marcador 'X' u 'O'\")\n",
    "    \n",
    "Tenga en cuenta que **input()** toma una cadena. Si necesita un valor entero, use\n",
    "\n",
    "     posicion = int(input('Por favor ingrese un número'))\n",
    "    \n",
    "<br> Para limpiar la pantalla entre movimientos:\n",
    "\n",
    "     desde IPython.display import clear_output\n",
    "     clear_output ()\n",
    "    \n",
    "Tenga en cuenta que clear_output () solo funcionará en jupyter. Para borrar la pantalla en otros IDE, considere:\n",
    "\n",
    "      print('\\n'*100)\n",
    "    \n",
    "Esto desplaza el tablero anterior fuera de la vista. ¡Ahora pasemos al programa!"
   ]
  },
  {
   "cell_type": "markdown",
   "metadata": {},
   "source": [
    "**Paso 1: Escriba una función que pueda imprimir un tablero. Configure su tablero como una lista, donde cada índice del 1 al 9 se corresponde con un número en un teclado numérico, por lo que obtiene una representación de tablero de 3 por 3.**"
   ]
  },
  {
   "cell_type": "code",
   "execution_count": 1,
   "metadata": {
    "tags": []
   },
   "outputs": [],
   "source": [
    "from IPython.display import clear_output\n",
    "\n",
    "def muestra_tablero(tablero):\n",
    "    \n",
    "    pass"
   ]
  },
  {
   "cell_type": "markdown",
   "metadata": {},
   "source": [
    "**PRUEBA Paso 1:** ejecute su función en una versión de prueba de la lista de la placa y realice los ajustes necesarios"
   ]
  },
  {
   "cell_type": "code",
   "execution_count": 2,
   "metadata": {
    "tags": []
   },
   "outputs": [],
   "source": [
    "tablero_prueba = ['#','X','O','X','O','X','O','X','O','X']\n",
    "muestra_tablero(tablero_prueba)"
   ]
  },
  {
   "cell_type": "markdown",
   "metadata": {},
   "source": [
    "**Paso 2: Escriba una función que pueda tomar la entrada de un jugador y asignar su marcador como 'X' u 'O'. Piense en usar bucles * while * para preguntar continuamente hasta que obtenga una respuesta correcta.**"
   ]
  },
  {
   "cell_type": "code",
   "execution_count": 3,
   "metadata": {
    "tags": []
   },
   "outputs": [],
   "source": [
    "def entrada_jugador():\n",
    "    \n",
    "    pass"
   ]
  },
  {
   "cell_type": "markdown",
   "metadata": {},
   "source": [
    "**TEST Paso 2:** ejecuta la función para asegurarte de que devuelve la salida deseada"
   ]
  },
  {
   "cell_type": "code",
   "execution_count": 4,
   "metadata": {
    "tags": []
   },
   "outputs": [],
   "source": [
    "entrada_jugador()"
   ]
  },
  {
   "cell_type": "markdown",
   "metadata": {},
   "source": [
    "**Paso 3: Escriba una función que tome el objeto de la lista del tablero, un marcador ('X' u 'O') y una posición deseada (número 1-9) y lo asigne al tablero.**"
   ]
  },
  {
   "cell_type": "code",
   "execution_count": 5,
   "metadata": {
    "tags": []
   },
   "outputs": [],
   "source": [
    "def marcador_lugar(tablero, marcador, posicion):\n",
    "    \n",
    "    pass"
   ]
  },
  {
   "cell_type": "markdown",
   "metadata": {},
   "source": [
    "**TEST Paso 3:** ejecutar la función de marcador de lugar utilizando los parámetros de prueba y mostrar la placa modificada"
   ]
  },
  {
   "cell_type": "code",
   "execution_count": 6,
   "metadata": {
    "tags": []
   },
   "outputs": [],
   "source": [
    "marcador_lugar(tablero_prueba,'$',8)\n",
    "muestra_tablero(tablero_prueba)"
   ]
  },
  {
   "cell_type": "markdown",
   "metadata": {},
   "source": [
    "**Paso 4: Escriba una función que incluya un tablero y una marca (X u O) y luego verifique si esa marca ha ganado.**"
   ]
  },
  {
   "cell_type": "code",
   "execution_count": 7,
   "metadata": {
    "tags": []
   },
   "outputs": [],
   "source": [
    "def verifica_ganador(tablero, marca):\n",
    "    \n",
    "    pass"
   ]
  },
  {
   "cell_type": "markdown",
   "metadata": {},
   "source": [
    "**TEST Paso 4:** ejecuta la función win_check contra nuestro test_board - debería devolver True"
   ]
  },
  {
   "cell_type": "code",
   "execution_count": 8,
   "metadata": {
    "tags": []
   },
   "outputs": [],
   "source": [
    "verifica_ganador(tablero_prueba,'X')"
   ]
  },
  {
   "cell_type": "markdown",
   "metadata": {},
   "source": [
    "**Paso 5: Escribe una función que use el módulo aleatorio para decidir al azar qué jugador va primero. Es posible que desee buscar random.randint () Devuelve una cadena de qué jugador fue primero.**"
   ]
  },
  {
   "cell_type": "code",
   "execution_count": 9,
   "metadata": {
    "tags": []
   },
   "outputs": [],
   "source": [
    "import random\n",
    "\n",
    "def primera_seleccion():\n",
    "    pass"
   ]
  },
  {
   "cell_type": "markdown",
   "metadata": {},
   "source": [
    "**Paso 6: Escriba una función que devuelva un valor booleano que indique si un espacio en el tablero está disponible de forma gratuita.**"
   ]
  },
  {
   "cell_type": "code",
   "execution_count": 10,
   "metadata": {
    "tags": []
   },
   "outputs": [],
   "source": [
    "def verifica_espacio(tablero, posicion):\n",
    "    \n",
    "    pass"
   ]
  },
  {
   "cell_type": "markdown",
   "metadata": {},
   "source": [
    "**Paso 7: Escribe una función que verifique si el tablero está lleno y devuelve un valor booleano. Verdadero si está completo, falso en caso contrario.**"
   ]
  },
  {
   "cell_type": "code",
   "execution_count": 11,
   "metadata": {
    "tags": []
   },
   "outputs": [],
   "source": [
    "def verifica_tablero_lleno(tablero):\n",
    "    \n",
    "    pass"
   ]
  },
  {
   "cell_type": "markdown",
   "metadata": {},
   "source": [
    "**Paso 8: Escriba una función que solicite la siguiente posición de un jugador (como un número del 1 al 9) y luego use la función del paso 6 para verificar si es una posición libre. Si es así, devuelva la posición para su uso posterior.**"
   ]
  },
  {
   "cell_type": "code",
   "execution_count": 12,
   "metadata": {
    "tags": []
   },
   "outputs": [],
   "source": [
    "def seleccion_jugador(tablero):\n",
    "    \n",
    "    pass"
   ]
  },
  {
   "cell_type": "markdown",
   "metadata": {},
   "source": [
    "**Paso 9: Escribe una función que le pregunte al jugador si quiere volver a jugar y devuelve un booleano Verdadero si quiere volver a jugar.**"
   ]
  },
  {
   "cell_type": "code",
   "execution_count": 13,
   "metadata": {
    "tags": []
   },
   "outputs": [],
   "source": [
    "def volver_a_jugar():\n",
    "    \n",
    "    pass"
   ]
  },
  {
   "cell_type": "markdown",
   "metadata": {},
   "source": [
    "**Paso 10: ¡Aquí viene la parte difícil! ¡Usa los bucles while y las funciones que has creado para ejecutar el juego!**"
   ]
  },
  {
   "cell_type": "code",
   "execution_count": 14,
   "metadata": {
    "tags": []
   },
   "outputs": [
    {
     "name": "stdout",
     "output_type": "stream",
     "text": [
      "Bienvenido a Tic Tac Toe!\n"
     ]
    }
   ],
   "source": [
    "print('Bienvenido a Tic Tac Toe!')\n",
    "\n",
    "#while True:\n",
    "    # Configura el juego aquí\n",
    "    #pass\n",
    "\n",
    "    #while juego_continua:\n",
    "        #Turno Jugador 1\n",
    "        \n",
    "        \n",
    "        #Turno Jugador 2\n",
    "            \n",
    "            #pass\n",
    "\n",
    "    #sino, volver_a_jugar replay():\n",
    "        #break"
   ]
  },
  {
   "cell_type": "markdown",
   "metadata": {},
   "source": [
    "## Buen trabajo!"
   ]
  },
  {
   "cell_type": "code",
   "execution_count": null,
   "metadata": {},
   "outputs": [],
   "source": []
  }
 ],
 "metadata": {
  "kernelspec": {
   "display_name": "Python 3 (ipykernel)",
   "language": "python",
   "name": "python3"
  },
  "language_info": {
   "codemirror_mode": {
    "name": "ipython",
    "version": 3
   },
   "file_extension": ".py",
   "mimetype": "text/x-python",
   "name": "python",
   "nbconvert_exporter": "python",
   "pygments_lexer": "ipython3",
   "version": "3.9.6"
  }
 },
 "nbformat": 4,
 "nbformat_minor": 4
}
