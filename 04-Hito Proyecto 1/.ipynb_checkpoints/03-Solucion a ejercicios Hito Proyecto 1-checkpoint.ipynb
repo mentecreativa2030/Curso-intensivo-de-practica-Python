{
 "cells": [
  {
   "cell_type": "markdown",
   "metadata": {},
   "source": [
    "# Hito Proyecto 1: Solución de código completo\n",
    "\n",
    "A continuación se muestra el código completo que acompaña al video completo. ¡Vea los videos de conferencias correspondientes para obtener más información sobre este código!"
   ]
  },
  {
   "cell_type": "markdown",
   "metadata": {},
   "source": [
    "**Paso 1: Escriba una función que pueda imprimir un tablero. Configure su tablero como una lista, donde cada índice del 1 al 9 se corresponde con un número en un teclado numérico, por lo que obtiene una representación de tablero de 3 por 3.**"
   ]
  },
  {
   "cell_type": "code",
   "execution_count": 1,
   "metadata": {
    "tags": []
   },
   "outputs": [],
   "source": [
    "from IPython.display import clear_output\n",
    "\n",
    "def muestra_tablero(tablero):\n",
    "    clear_output()  # Recuerda, esto solo trabaja en jupyter!\n",
    "    \n",
    "    print('   |   |')\n",
    "    print(' ' + tablero[7] + ' | ' + tablero[8] + ' | ' + tablero[9])\n",
    "    print('   |   |')\n",
    "    print('-----------')\n",
    "    print('   |   |')\n",
    "    print(' ' + tablero[4] + ' | ' + tablero[5] + ' | ' + tablero[6])\n",
    "    print('   |   |')\n",
    "    print('-----------')\n",
    "    print('   |   |')\n",
    "    print(' ' + tablero[1] + ' | ' + tablero[2] + ' | ' + tablero[3])\n",
    "    print('   |   |')"
   ]
  },
  {
   "cell_type": "markdown",
   "metadata": {},
   "source": [
    "**PRUEBA Paso 1:** ejecute su función en una versión de prueba de la lista de la placa y realice los ajustes necesarios"
   ]
  },
  {
   "cell_type": "code",
   "execution_count": 2,
   "metadata": {},
   "outputs": [
    {
     "name": "stdout",
     "output_type": "stream",
     "text": [
      "   |   |\n",
      " X | O | X\n",
      "   |   |\n",
      "-----------\n",
      "   |   |\n",
      " O | X | O\n",
      "   |   |\n",
      "-----------\n",
      "   |   |\n",
      " X | O | X\n",
      "   |   |\n"
     ]
    }
   ],
   "source": [
    "tablero_prueba = ['#','X','O','X','O','X','O','X','O','X']\n",
    "muestra_tablero(tablero_prueba)"
   ]
  },
  {
   "cell_type": "markdown",
   "metadata": {},
   "source": [
    "**Paso 2: Escriba una función que pueda tomar la entrada de un jugador y asignar su marcador como 'X' u 'O'. Piense en usar bucles *while* para preguntar continuamente hasta que obtenga una respuesta correcta.**"
   ]
  },
  {
   "cell_type": "code",
   "execution_count": 3,
   "metadata": {
    "tags": []
   },
   "outputs": [],
   "source": [
    "def entrada_jugador():\n",
    "    marcador = ''\n",
    "    \n",
    "    while not (marcador == 'X' or marcador == 'O'):\n",
    "        marcador = input('Jugador 1: Tu quieres ser X o O? ').upper()\n",
    "\n",
    "    if marcador == 'X':\n",
    "        return ('X', 'O')\n",
    "    else:\n",
    "        return ('O', 'X')"
   ]
  },
  {
   "cell_type": "markdown",
   "metadata": {},
   "source": [
    "**TEST Paso 2:** ejecuta la función para asegurarte de que devuelve la salida deseada"
   ]
  },
  {
   "cell_type": "code",
   "execution_count": 4,
   "metadata": {},
   "outputs": [
    {
     "name": "stdin",
     "output_type": "stream",
     "text": [
      "Jugador 1: Tu quieres ser X o O?  X\n"
     ]
    },
    {
     "data": {
      "text/plain": [
       "('X', 'O')"
      ]
     },
     "execution_count": 4,
     "metadata": {},
     "output_type": "execute_result"
    }
   ],
   "source": [
    "entrada_jugador()"
   ]
  },
  {
   "cell_type": "markdown",
   "metadata": {
    "tags": []
   },
   "source": [
    "**Paso 3: Escriba una función que tome el objeto de la lista del tablero, un marcador ('X' u 'O') y una posición deseada (número 1-9) y lo asigne al tablero.**"
   ]
  },
  {
   "cell_type": "code",
   "execution_count": 5,
   "metadata": {
    "tags": []
   },
   "outputs": [],
   "source": [
    "def marcador_lugar(tablero, marcador, posicion):\n",
    "    tablero[posicion] = marcador"
   ]
  },
  {
   "cell_type": "markdown",
   "metadata": {},
   "source": [
    "**TEST Paso 3:** ejecutar la función de marcador de lugar utilizando los parámetros de prueba y mostrar la placa modificada"
   ]
  },
  {
   "cell_type": "code",
   "execution_count": 6,
   "metadata": {},
   "outputs": [
    {
     "name": "stdout",
     "output_type": "stream",
     "text": [
      "   |   |\n",
      " X | $ | X\n",
      "   |   |\n",
      "-----------\n",
      "   |   |\n",
      " O | X | O\n",
      "   |   |\n",
      "-----------\n",
      "   |   |\n",
      " X | O | X\n",
      "   |   |\n"
     ]
    }
   ],
   "source": [
    "marcador_lugar(tablero_prueba,'$',8)\n",
    "muestra_tablero(tablero_prueba)"
   ]
  },
  {
   "cell_type": "markdown",
   "metadata": {},
   "source": [
    "**Paso 4: Escribe una función que tome un tablero y verifique si alguien ha ganado.**"
   ]
  },
  {
   "cell_type": "code",
   "execution_count": 7,
   "metadata": {
    "tags": []
   },
   "outputs": [],
   "source": [
    "def verifica_ganador(tablero,marcador):\n",
    "    \n",
    "    return ((tablero[7] == marcador and tablero[8] == marcador and tablero[9] == marcador) or # cruzando lo alto\n",
    "    (tablero[4] == marcador and tablero[5] == marcador and tablero[6] == marcador) or # cruzando la mitad\n",
    "    (tablero[1] == marcador and tablero[2] == marcador and tablero[3] == marcador) or # cruzando abajo\n",
    "    (tablero[7] == marcador and tablero[4] == marcador and tablero[1] == marcador) or # abajo en medio\n",
    "    (tablero[8] == marcador and tablero[5] == marcador and tablero[2] == marcador) or # abajo en medio\n",
    "    (tablero[9] == marcador and tablero[6] == marcador and tablero[3] == marcador) or # abajo a la derecha\n",
    "    (tablero[7] == marcador and tablero[5] == marcador and tablero[3] == marcador) or # diagonal\n",
    "    (tablero[9] == marcador and tablero[5] == marcador and tablero[1] == marcador)) # diagonal"
   ]
  },
  {
   "cell_type": "markdown",
   "metadata": {},
   "source": [
    "**TEST Paso 4:** ejecuta la función verifica_ganador contra nuestro tablero_prueba - debería devolver True"
   ]
  },
  {
   "cell_type": "code",
   "execution_count": 8,
   "metadata": {},
   "outputs": [
    {
     "data": {
      "text/plain": [
       "True"
      ]
     },
     "execution_count": 8,
     "metadata": {},
     "output_type": "execute_result"
    }
   ],
   "source": [
    "verifica_ganador(tablero_prueba,'X')"
   ]
  },
  {
   "cell_type": "markdown",
   "metadata": {},
   "source": [
    "**Paso 5: Escribe una función que use el módulo aleatorio para decidir al azar qué jugador va primero. Es posible que desee buscar random.randint () Devuelve una cadena de qué jugador fue primero.**"
   ]
  },
  {
   "cell_type": "code",
   "execution_count": 9,
   "metadata": {
    "tags": []
   },
   "outputs": [],
   "source": [
    "import random\n",
    "\n",
    "def primera_seleccion():\n",
    "    if random.randint(0, 1) == 0:\n",
    "        return 'Jugador 2'\n",
    "    else:\n",
    "        return 'Jugador 1'"
   ]
  },
  {
   "cell_type": "markdown",
   "metadata": {},
   "source": [
    "**Paso 6: Escriba una función que devuelva un valor booleano que indique si un espacio en el tablero está disponible de forma gratuita.**"
   ]
  },
  {
   "cell_type": "code",
   "execution_count": 14,
   "metadata": {
    "tags": []
   },
   "outputs": [],
   "source": [
    "def verifica_espacio(tablero, posicion):\n",
    "    \n",
    "    return tablero[posicion] == ' '"
   ]
  },
  {
   "cell_type": "markdown",
   "metadata": {},
   "source": [
    "**Paso 7: Escribe una función que verifique si el tablero está lleno y devuelve un valor booleano. Verdadero si está completo, falso en caso contrario.**"
   ]
  },
  {
   "cell_type": "code",
   "execution_count": 15,
   "metadata": {
    "tags": []
   },
   "outputs": [],
   "source": [
    "def verifica_tablero_lleno(tablero):\n",
    "    for i in range(1,10):\n",
    "        if verifica_espacio(tablero, i):\n",
    "            return False\n",
    "    return True"
   ]
  },
  {
   "cell_type": "markdown",
   "metadata": {},
   "source": [
    "**Paso 8: Escriba una función que solicite la siguiente posición de un jugador (como un número del 1 al 9) y luego use la función del paso 6 para verificar si es una posición libre. Si es así, devuelva la posición para su uso posterior.**"
   ]
  },
  {
   "cell_type": "code",
   "execution_count": 16,
   "metadata": {
    "tags": []
   },
   "outputs": [],
   "source": [
    "def seleccion_jugador(tablero):\n",
    "    posicion = 0\n",
    "    \n",
    "    while posicion not in [1,2,3,4,5,6,7,8,9] or not verifica_espacio(tablero, posicion):\n",
    "        posicion = int(input('Elige tu proxima posicion: (1-9) '))\n",
    "        \n",
    "    return posicion"
   ]
  },
  {
   "cell_type": "markdown",
   "metadata": {},
   "source": [
    "**Paso 9: Escribe una función que le pregunte al jugador si quiere volver a jugar y devuelve un boleano Verdadero si quiere volver a jugar.**"
   ]
  },
  {
   "cell_type": "code",
   "execution_count": 17,
   "metadata": {
    "tags": []
   },
   "outputs": [],
   "source": [
    "def vuelve_jugar():\n",
    "    \n",
    "    return input('Tu quieres jugar nuevamente? Enter Si o No: ').lower().startswith('s')"
   ]
  },
  {
   "cell_type": "markdown",
   "metadata": {},
   "source": [
    "**Paso 10: ¡Aquí viene la parte difícil! ¡Usa los bucles \"while\" y las funciones que has creado para ejecutar el juego!**"
   ]
  },
  {
   "cell_type": "code",
   "execution_count": null,
   "metadata": {},
   "outputs": [
    {
     "name": "stdout",
     "output_type": "stream",
     "text": [
      "   |   |\n",
      " O |   |  \n",
      "   |   |\n",
      "-----------\n",
      "   |   |\n",
      " X | O | X\n",
      "   |   |\n",
      "-----------\n",
      "   |   |\n",
      " X | O | O\n",
      "   |   |\n"
     ]
    }
   ],
   "source": [
    "print('Bienvenido a  Tic Tac Toe!')\n",
    "\n",
    "while True:\n",
    "    # Reinicia el tablero\n",
    "    eltablero = [' '] * 10\n",
    "    marcador_jugador1, marcador_jugador2 = entrada_jugador()\n",
    "    turno = primera_seleccion()\n",
    "    print(turno + ' sera primero.')\n",
    "    \n",
    "    juega_juego = input('Estas listo para jugar? Escribe s o no.')\n",
    "    \n",
    "    if juega_juego.lower()[0] == 's':\n",
    "        aun_juega = True\n",
    "    else:\n",
    "        aun_juega = False\n",
    "\n",
    "    while aun_juega:\n",
    "        if turno == 'Jugador 1':\n",
    "            # Turno Jugador1.\n",
    "            \n",
    "            muestra_tablero(eltablero)\n",
    "            posicion = seleccion_jugador(eltablero)\n",
    "            marcador_lugar(eltablero, marcador_jugador1, posicion)\n",
    "\n",
    "            if verifica_ganador(eltablero, marcador_jugador1):\n",
    "                muestra_tablero(eltablero)\n",
    "                print('Felicitaciones! Tu ganaste el juego!')\n",
    "                aun_juego = False\n",
    "            else:\n",
    "                if verifica_tablero_lleno(eltablero):\n",
    "                    muestra_tablero(eltablero)\n",
    "                    print('El juego es un empate!')\n",
    "                    break\n",
    "                else:\n",
    "                    turno = 'Jugador 2'\n",
    "\n",
    "        else:\n",
    "            # Turno Jugador2.\n",
    "            \n",
    "            muestra_tablero(eltablero)\n",
    "            posicion = seleccion_jugador(eltablero)\n",
    "            marcador_lugar(eltablero, marcador_jugador2, posicion)\n",
    "\n",
    "            if verifica_ganador(eltablero, marcador_jugador2):\n",
    "                muestra_tablero(eltablero)\n",
    "                print('Jugador 2 ha ganado!')\n",
    "                aun_juego = False\n",
    "            else:\n",
    "                if verifica_tablero_lleno(eltablero):\n",
    "                    muestra_tablero(eltablero)\n",
    "                    print('El juego esta empate!')\n",
    "                    break\n",
    "                else:\n",
    "                    turno = 'Jugador 1'\n",
    "\n",
    "    if not vuelve_jugar():\n",
    "        break"
   ]
  },
  {
   "cell_type": "markdown",
   "metadata": {},
   "source": [
    "## Buen trabajo!"
   ]
  }
 ],
 "metadata": {
  "anaconda-cloud": {},
  "kernelspec": {
   "display_name": "Python 3 (ipykernel)",
   "language": "python",
   "name": "python3"
  },
  "language_info": {
   "codemirror_mode": {
    "name": "ipython",
    "version": 3
   },
   "file_extension": ".py",
   "mimetype": "text/x-python",
   "name": "python",
   "nbconvert_exporter": "python",
   "pygments_lexer": "ipython3",
   "version": "3.9.6"
  }
 },
 "nbformat": 4,
 "nbformat_minor": 4
}
