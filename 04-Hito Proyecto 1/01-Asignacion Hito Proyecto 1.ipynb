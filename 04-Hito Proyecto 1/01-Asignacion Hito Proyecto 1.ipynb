{
 "cells": [
  {
   "cell_type": "markdown",
   "metadata": {},
   "source": [
    "# Proyecto Milestone 1\n",
    "## ¡Felicitaciones por llegar a tu primer hito!\n",
    "Ya ha aprendido mucho y está listo para trabajar en un proyecto real.\n",
    "\n",
    "Tu tarea: crear un juego de Tic Tac Toe. Puede utilizar cualquier IDE que desee.\n",
    "\n",
    "Estos son los requisitos:\n",
    "\n",
    "* 2 jugadores deberían poder jugar el juego (ambos sentados en la misma computadora)\n",
    "* El tablero debe imprimirse cada vez que un jugador realiza un movimiento.\n",
    "* Debería poder aceptar la entrada de la posición del jugador y luego colocar un símbolo en el tablero\n",
    "\n",
    "Siéntase libre de usar Google para ayudarlo a resolver cualquier cosa (¡pero no se limite a buscar en Google \"Tic Tac Toe en Python\", de lo contrario no aprenderá nada!). Tenga en cuenta que este proyecto puede demorar entre varias horas y varios días.\n",
    "\n",
    "Hay 4 cuadernos de Jupyter relacionados con esta tarea:\n",
    "\n",
    "* Este cuaderno de tareas\n",
    "* Un cuaderno \"Libro de trabajo de pasos de tutorial\"\n",
    "* Un cuaderno de \"solución de recorrido completo\"\n",
    "* Un portátil de \"solución avanzada\"\n",
    "\n",
    "Le animo a que intente comenzar el proyecto por su cuenta sin hacer referencia a ninguno de los cuadernos. Si se queda atascado, consulte la siguiente lección, que es una lección de texto con sugerencias y pasos útiles. Si aún está atascado después de eso, consulte el Libro de trabajo de pasos del tutorial, que divide el proyecto en pasos para que usted lo resuelva. ¿Sigues atascado? Luego, vea el video de Solución completa de recorrido para obtener más ayuda sobre cómo abordar el proyecto."
   ]
  },
  {
   "cell_type": "markdown",
   "metadata": {},
   "source": [
    "Hay partes de esto que serán una lucha ... ¡y eso es bueno! Tengo plena fe en que si ha llegado tan lejos en el curso, tendrá todas las herramientas y conocimientos para abordar este proyecto. Recuerda, es un libro totalmente abierto, así que tómate tu tiempo, investiga un poco y recuerda:\n",
    "\n",
    "## ¡DIVIERTASE!"
   ]
  },
  {
   "cell_type": "code",
   "execution_count": null,
   "metadata": {},
   "outputs": [],
   "source": []
  }
 ],
 "metadata": {
  "kernelspec": {
   "display_name": "Python 3 (ipykernel)",
   "language": "python",
   "name": "python3"
  },
  "language_info": {
   "codemirror_mode": {
    "name": "ipython",
    "version": 3
   },
   "file_extension": ".py",
   "mimetype": "text/x-python",
   "name": "python",
   "nbconvert_exporter": "python",
   "pygments_lexer": "ipython3",
   "version": "3.9.6"
  }
 },
 "nbformat": 4,
 "nbformat_minor": 4
}
