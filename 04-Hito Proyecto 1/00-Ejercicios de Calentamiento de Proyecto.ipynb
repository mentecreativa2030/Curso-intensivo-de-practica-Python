{
 "cells": [
  {
   "cell_type": "markdown",
   "metadata": {},
   "source": [
    "# Ejercicios del proyecto de calentamiento\n",
    "\n",
    "¡Es hora de que reúna todas sus habilidades para comenzar a construir proyectos utilizables! Antes de pasar a nuestro proyecto de hitos completo, realizaremos algunos ejercicios de componentes de calentamiento, para que se sienta cómodo con algunas ideas clave que usamos en el proyecto de hitos y proyectos más grandes en general, específicamente:\n",
    "\n",
    "* Obtención de la entrada del usuario\n",
    "* Creación de funciones que editan variables basadas en la entrada del usuario\n",
    "* Generando salida\n",
    "* Unión de entradas de usuario y flujo lógico"
   ]
  },
  {
   "cell_type": "markdown",
   "metadata": {},
   "source": [
    "## Función para mostrar información\n",
    "\n",
    "**Creando una función que muestra una lista para el usuario**"
   ]
  },
  {
   "cell_type": "code",
   "execution_count": 1,
   "metadata": {
    "tags": []
   },
   "outputs": [],
   "source": [
    "def muestra_lista(milista):\n",
    "    print(milista)"
   ]
  },
  {
   "cell_type": "code",
   "execution_count": 2,
   "metadata": {},
   "outputs": [
    {
     "name": "stdout",
     "output_type": "stream",
     "text": [
      "[0, 1, 2, 3, 4, 5, 6, 7, 8, 9, 10]\n"
     ]
    }
   ],
   "source": [
    "milista = [0,1,2,3,4,5,6,7,8,9,10]\n",
    "muestra_lista(milista)"
   ]
  },
  {
   "cell_type": "markdown",
   "metadata": {},
   "source": [
    "## Aceptando la entrada del usuario\n",
    "\n",
    "**Creación de función que toma una entrada del usuario y devuelve el resultado en el tipo de datos correcto. Tenga cuidado al usar la función input (), ejecutar esa celda dos veces sin proporcionar un valor de entrada hará que Python se cuelgue esperando el valor inicial en la primera ejecución. Notará un In [*\\] al lado de la celda si se atasca, en cuyo caso, simplemente reinicie el kernel y vuelva a ejecutar las celdas necesarias.**"
   ]
  },
  {
   "cell_type": "code",
   "execution_count": 4,
   "metadata": {},
   "outputs": [
    {
     "name": "stdin",
     "output_type": "stream",
     "text": [
      "Por favor escribe un valor:  7\n"
     ]
    },
    {
     "data": {
      "text/plain": [
       "'7'"
      ]
     },
     "execution_count": 4,
     "metadata": {},
     "output_type": "execute_result"
    }
   ],
   "source": [
    "input('Por favor escribe un valor: ')"
   ]
  },
  {
   "cell_type": "code",
   "execution_count": 5,
   "metadata": {
    "tags": []
   },
   "outputs": [
    {
     "name": "stdin",
     "output_type": "stream",
     "text": [
      "Por favor escribe un numero:  6\n"
     ]
    }
   ],
   "source": [
    "resultado = input(\"Por favor escribe un numero: \")"
   ]
  },
  {
   "cell_type": "code",
   "execution_count": 6,
   "metadata": {
    "tags": []
   },
   "outputs": [
    {
     "data": {
      "text/plain": [
       "'6'"
      ]
     },
     "execution_count": 6,
     "metadata": {},
     "output_type": "execute_result"
    }
   ],
   "source": [
    "resultado"
   ]
  },
  {
   "cell_type": "code",
   "execution_count": 7,
   "metadata": {},
   "outputs": [
    {
     "data": {
      "text/plain": [
       "str"
      ]
     },
     "execution_count": 7,
     "metadata": {},
     "output_type": "execute_result"
    }
   ],
   "source": [
    "type(resultado)"
   ]
  },
  {
   "cell_type": "code",
   "execution_count": 10,
   "metadata": {
    "tags": []
   },
   "outputs": [
    {
     "data": {
      "text/plain": [
       "5"
      ]
     },
     "execution_count": 10,
     "metadata": {},
     "output_type": "execute_result"
    }
   ],
   "source": [
    "int(resultado)"
   ]
  },
  {
   "cell_type": "code",
   "execution_count": 9,
   "metadata": {},
   "outputs": [
    {
     "name": "stdin",
     "output_type": "stream",
     "text": [
      "Por favor escribe un numero:  5\n"
     ]
    }
   ],
   "source": [
    "resultado = int(input(\"Por favor escribe un numero: \"))"
   ]
  },
  {
   "cell_type": "code",
   "execution_count": 11,
   "metadata": {
    "jupyter": {
     "source_hidden": true
    },
    "tags": []
   },
   "outputs": [
    {
     "data": {
      "text/plain": [
       "int"
      ]
     },
     "execution_count": 11,
     "metadata": {},
     "output_type": "execute_result"
    }
   ],
   "source": [
    "type(resultado)"
   ]
  },
  {
   "cell_type": "code",
   "execution_count": 12,
   "metadata": {},
   "outputs": [
    {
     "name": "stdin",
     "output_type": "stream",
     "text": [
      "Por favor escribe un numero:  5\n"
     ]
    }
   ],
   "source": [
    "# Ejemplo de error!\n",
    "resultado = int(input(\"Por favor escribe un numero: \"))"
   ]
  },
  {
   "cell_type": "markdown",
   "metadata": {},
   "source": [
    "**Creando una función para mantener esta lógica:**"
   ]
  },
  {
   "cell_type": "code",
   "execution_count": 13,
   "metadata": {
    "tags": []
   },
   "outputs": [],
   "source": [
    "def eleccion_usuario():\n",
    "    '''\n",
    "    El usuario ingresa un número (0-10) y lo devolvemos en forma de número entero.\n",
    "     No se pasa ningún parámetro al llamar a esta función.\n",
    "    '''\n",
    "    eleccion = input(\"Por favor escribe un numero (0-10)\")\n",
    "    \n",
    "    return int(eleccion)"
   ]
  },
  {
   "cell_type": "code",
   "execution_count": 14,
   "metadata": {
    "tags": []
   },
   "outputs": [
    {
     "name": "stdin",
     "output_type": "stream",
     "text": [
      "Por favor escribe un numero (0-10) 4\n"
     ]
    },
    {
     "data": {
      "text/plain": [
       "4"
      ]
     },
     "execution_count": 14,
     "metadata": {},
     "output_type": "execute_result"
    }
   ],
   "source": [
    "eleccion_usuario()"
   ]
  },
  {
   "cell_type": "code",
   "execution_count": 16,
   "metadata": {
    "tags": []
   },
   "outputs": [
    {
     "name": "stdin",
     "output_type": "stream",
     "text": [
      "Por favor escribe un numero (0-10) 1\n"
     ]
    }
   ],
   "source": [
    "resultado = eleccion_usuario()"
   ]
  },
  {
   "cell_type": "code",
   "execution_count": 17,
   "metadata": {
    "tags": []
   },
   "outputs": [
    {
     "data": {
      "text/plain": [
       "1"
      ]
     },
     "execution_count": 17,
     "metadata": {},
     "output_type": "execute_result"
    }
   ],
   "source": [
    "resultado"
   ]
  },
  {
   "cell_type": "code",
   "execution_count": 18,
   "metadata": {},
   "outputs": [
    {
     "data": {
      "text/plain": [
       "int"
      ]
     },
     "execution_count": 18,
     "metadata": {},
     "output_type": "execute_result"
    }
   ],
   "source": [
    "type(resultado)"
   ]
  },
  {
   "cell_type": "markdown",
   "metadata": {},
   "source": [
    "## Validación de la entrada del usuario\n",
    "\n",
    "**Verifique que la entrada sea válida antes de intentar convertir.**\n",
    "\n",
    "Usaremos un método simple aquí.\n",
    "\n",
    "A medida que avanza, puede comenzar a buscar otras formas de hacerlo (estos métodos tendrán más sentido más adelante en el curso, así que no se preocupe por ellos por ahora)."
   ]
  },
  {
   "cell_type": "code",
   "execution_count": 19,
   "metadata": {
    "tags": []
   },
   "outputs": [],
   "source": [
    "alguna_entrada = '10'"
   ]
  },
  {
   "cell_type": "code",
   "execution_count": 20,
   "metadata": {},
   "outputs": [
    {
     "data": {
      "text/plain": [
       "True"
      ]
     },
     "execution_count": 20,
     "metadata": {},
     "output_type": "execute_result"
    }
   ],
   "source": [
    "# Muchos métodos \".is\" estan disponibles para cadena\n",
    "alguna_entrada.isdigit()"
   ]
  },
  {
   "cell_type": "markdown",
   "metadata": {},
   "source": [
    "**Edite la función para confirmar con un valor o tipo aceptable**"
   ]
  },
  {
   "cell_type": "code",
   "execution_count": 21,
   "metadata": {
    "tags": []
   },
   "outputs": [],
   "source": [
    "def eleccion_usuario():\n",
    "    \n",
    "    # Este valor de elección original puede ser cualquier valor que no sea un número entero\n",
    "    eleccion = 'error'\n",
    "    \n",
    "    # Si bien la elección no es un dígito, siga pidiendo información.\n",
    "    while eleccion.isdigit() == False:\n",
    "        \n",
    "        # no deberíamos convertir aquí, de lo contrario obtendremos un error en una entrada incorrecta\n",
    "        eleccion = input(\"Elige un numero: \")\n",
    "    \n",
    "    # Podemos convertir una vez que el ciclo while anterior haya confirmado que tenemos un dígito.\n",
    "    return int(eleccion)"
   ]
  },
  {
   "cell_type": "code",
   "execution_count": 22,
   "metadata": {},
   "outputs": [
    {
     "name": "stdin",
     "output_type": "stream",
     "text": [
      "Elige un numero:  4\n"
     ]
    },
    {
     "data": {
      "text/plain": [
       "4"
      ]
     },
     "execution_count": 22,
     "metadata": {},
     "output_type": "execute_result"
    }
   ],
   "source": [
    "eleccion_usuario()"
   ]
  },
  {
   "cell_type": "markdown",
   "metadata": {},
   "source": [
    "**¡Intentemos agregar un mensaje de error dentro del ciclo while!**"
   ]
  },
  {
   "cell_type": "code",
   "execution_count": 23,
   "metadata": {
    "tags": []
   },
   "outputs": [],
   "source": [
    "def seleccion_usuario():\n",
    "    \n",
    "    # Este valor de elección original puede ser cualquier valor que no sea un número entero\n",
    "    seleccion = 'error'\n",
    "    \n",
    "    # Si bien la elección no es un dígito, siga pidiendo información.\n",
    "    while seleccion.isdigit() == False:\n",
    "        \n",
    "        # no deberíamos convertir aquí, de lo contrario obtendremos un error en una entrada incorrecta\n",
    "        seleccion = input(\"Elige un numero: \")\n",
    "        \n",
    "        # Verifica mensaje de error\n",
    "        if seleccion.isdigit() == False:\n",
    "            print(\"Lo siento, pero no ingresaste un número entero. Inténtalo de nuevo.\")\n",
    "    \n",
    "    # Podemos convertir una vez que el ciclo while anterior haya confirmado que tenemos un dígito.\n",
    "    return int(seleccion)"
   ]
  },
  {
   "cell_type": "code",
   "execution_count": 24,
   "metadata": {},
   "outputs": [
    {
     "name": "stdin",
     "output_type": "stream",
     "text": [
      "Elige un numero:  5\n"
     ]
    },
    {
     "data": {
      "text/plain": [
       "5"
      ]
     },
     "execution_count": 24,
     "metadata": {},
     "output_type": "execute_result"
    }
   ],
   "source": [
    "seleccion_usuario()"
   ]
  },
  {
   "cell_type": "markdown",
   "metadata": {
    "tags": []
   },
   "source": [
    "**Ahora exploremos cómo \"borrar\" la salida, de esa manera no veremos el historial de las declaraciones \"Elija un número\".**\n",
    "\n",
    "**NOTA: Los usuarios de Jupyter Notebook utilizarán el método IPython que se muestra aquí. Otros usuarios de IDE (PyCharm, VS, etc.) usarán **"
   ]
  },
  {
   "cell_type": "code",
   "execution_count": 25,
   "metadata": {
    "tags": []
   },
   "outputs": [],
   "source": [
    "from IPython.display import clear_output\n",
    "clear_output()"
   ]
  },
  {
   "cell_type": "code",
   "execution_count": 28,
   "metadata": {
    "tags": []
   },
   "outputs": [],
   "source": [
    "def seleccion_usuario():\n",
    "    \n",
    "    # Este valor de elección original puede ser cualquier valor que no sea un número entero\n",
    "    seleccion = 'error'\n",
    "    \n",
    "    # Si bien la elección no es un dígito, siga pidiendo información.\n",
    "    while seleccion.isdigit() == False:\n",
    "        \n",
    "        # no deberíamos convertir aquí, de lo contrario obtendremos un error en una entrada incorrecta\n",
    "        seleccion = input(\"Elige un numero: \")\n",
    "        \n",
    "        if seleccion.isdigit() == False:\n",
    "            # ESTO BORRA LA SALIDA DE CORRIENTE DEBAJO DE LA CÉLULA\n",
    "            clear_output()\n",
    "            \n",
    "            print(\"Lo siento, pero no ingresaste un número entero. Inténtalo de nuevo.\")\n",
    "            \n",
    "    \n",
    "    # Opcionalmente, puede borrar todo después de ejecutar la función\n",
    "    # clear_output()\n",
    "    \n",
    "    # Podemos convertir una vez que el ciclo while anterior haya confirmado que tenemos un dígito.\n",
    "    return int(seleccion)"
   ]
  },
  {
   "cell_type": "code",
   "execution_count": 29,
   "metadata": {},
   "outputs": [
    {
     "name": "stdin",
     "output_type": "stream",
     "text": [
      "Elige un numero:  5\n"
     ]
    },
    {
     "data": {
      "text/plain": [
       "5"
      ]
     },
     "execution_count": 29,
     "metadata": {},
     "output_type": "execute_result"
    }
   ],
   "source": [
    "seleccion_usuario()"
   ]
  },
  {
   "cell_type": "markdown",
   "metadata": {},
   "source": [
    "**Comprobación de varios valores posibles**"
   ]
  },
  {
   "cell_type": "code",
   "execution_count": 30,
   "metadata": {
    "tags": []
   },
   "outputs": [],
   "source": [
    "resultado = 'valor erroneo'\n",
    "valores_aceptables = ['0','1','2']"
   ]
  },
  {
   "cell_type": "code",
   "execution_count": 31,
   "metadata": {},
   "outputs": [
    {
     "data": {
      "text/plain": [
       "False"
      ]
     },
     "execution_count": 31,
     "metadata": {},
     "output_type": "execute_result"
    }
   ],
   "source": [
    "resultado in valores_aceptables"
   ]
  },
  {
   "cell_type": "code",
   "execution_count": 32,
   "metadata": {},
   "outputs": [
    {
     "data": {
      "text/plain": [
       "True"
      ]
     },
     "execution_count": 32,
     "metadata": {},
     "output_type": "execute_result"
    }
   ],
   "source": [
    "resultado not in valores_aceptables"
   ]
  },
  {
   "cell_type": "code",
   "execution_count": 33,
   "metadata": {
    "tags": []
   },
   "outputs": [],
   "source": [
    "from IPython.display import clear_output\n",
    "clear_output()"
   ]
  },
  {
   "cell_type": "code",
   "execution_count": 35,
   "metadata": {
    "tags": []
   },
   "outputs": [],
   "source": [
    "def seleccion_usuario():\n",
    "    \n",
    "    # Este valor de elección original puede ser cualquier valor que no sea un número entero\n",
    "    seleccion = 'error'\n",
    "    \n",
    "    # Si bien la elección no es un dígito, siga pidiendo información.\n",
    "    while seleccion.isdigit() == False:\n",
    "        \n",
    "        # no deberíamos convertir aquí, de lo contrario obtendremos un error en una entrada incorrecta\n",
    "        seleccion = input(\"Elige un numero de estos (0,1,2): \")\n",
    "        \n",
    "        if seleccion not in ['0','1','2']:\n",
    "            # ESTO BORRA LA SALIDA DE CORRIENTE DEBAJO DE LA CÉLULA\n",
    "            clear_output()\n",
    "            \n",
    "            print(\"Lo sentimos, pero no eligió un valor en el rango correcto (0,1,2)\")\n",
    "            \n",
    "    \n",
    "    # Opcionalmente, puede borrar todo después de ejecutar la función\n",
    "    # clear_output()\n",
    "    \n",
    "    # Podemos convertir una vez que el ciclo while anterior haya confirmado que tenemos un dígito.\n",
    "    return int(seleccion)"
   ]
  },
  {
   "cell_type": "code",
   "execution_count": 36,
   "metadata": {
    "scrolled": true
   },
   "outputs": [
    {
     "name": "stdin",
     "output_type": "stream",
     "text": [
      "Elige un numero de estos (0,1,2):  1\n"
     ]
    },
    {
     "data": {
      "text/plain": [
       "1"
      ]
     },
     "execution_count": 36,
     "metadata": {},
     "output_type": "execute_result"
    }
   ],
   "source": [
    "seleccion_usuario()"
   ]
  },
  {
   "cell_type": "markdown",
   "metadata": {},
   "source": [
    "### Ejemplo más flexible"
   ]
  },
  {
   "cell_type": "code",
   "execution_count": 37,
   "metadata": {
    "tags": []
   },
   "outputs": [],
   "source": [
    "def seleccion_usuario():\n",
    "    \n",
    "    seleccion ='ERROR'\n",
    "    dentro_rango = False\n",
    "    \n",
    "    while seleccion.isdigit() == False or dentro_rango == False:\n",
    "        \n",
    "    \n",
    "    \n",
    "        seleccion = input(\"Por favor escribe un numero (0-10): \")\n",
    "        \n",
    "        if seleccion.isdigit() == False:\n",
    "            print(\"Lo siento, no es un dígito!\")\n",
    "            \n",
    "        if seleccion.isdigit() == True:\n",
    "            if int(seleccion) in range(0,10):\n",
    "                dentro_rango = True\n",
    "            else:\n",
    "                dentro_rango = False\n",
    "        \n",
    "    \n",
    "    return int(seleccion)"
   ]
  },
  {
   "cell_type": "code",
   "execution_count": 38,
   "metadata": {},
   "outputs": [
    {
     "name": "stdin",
     "output_type": "stream",
     "text": [
      "Por favor escribe un numero (0-10):  1\n"
     ]
    },
    {
     "data": {
      "text/plain": [
       "1"
      ]
     },
     "execution_count": 38,
     "metadata": {},
     "output_type": "execute_result"
    }
   ],
   "source": [
    "seleccion_usuario()"
   ]
  },
  {
   "cell_type": "markdown",
   "metadata": {
    "tags": []
   },
   "source": [
    "-----\n",
    "## Interacción de usuario simple\n",
    "\n",
    "**Finalmente, combinemos todas estas ideas para crear un pequeño juego donde un usuario puede elegir una \"posición\" en una lista existente y reemplazarla con un valor de su elección.**"
   ]
  },
  {
   "cell_type": "code",
   "execution_count": 39,
   "metadata": {
    "tags": []
   },
   "outputs": [],
   "source": [
    "lista_juego = [0,1,2]"
   ]
  },
  {
   "cell_type": "code",
   "execution_count": 40,
   "metadata": {
    "tags": []
   },
   "outputs": [],
   "source": [
    "def muestra_juego(lista_juego):\n",
    "    print(\"Esta es la actual lista\")\n",
    "    print(lista_juego)"
   ]
  },
  {
   "cell_type": "code",
   "execution_count": 41,
   "metadata": {},
   "outputs": [
    {
     "name": "stdout",
     "output_type": "stream",
     "text": [
      "Esta es la actual lista\n",
      "[0, 1, 2]\n"
     ]
    }
   ],
   "source": [
    "muestra_juego(lista_juego)"
   ]
  },
  {
   "cell_type": "code",
   "execution_count": 47,
   "metadata": {
    "tags": []
   },
   "outputs": [],
   "source": [
    "def seleccion_posicion():\n",
    "    \n",
    "    # Este valor de elección original puede ser cualquier valor que no sea un número entero\n",
    "    seleccion = 'error'\n",
    "    \n",
    "    # Si bien la elección no es un dígito, siga pidiendo información.\n",
    "    while seleccion not in ['0','1','2']:\n",
    "        \n",
    "        # no deberíamos convertir aquí, de lo contrario obtendremos un error en una entrada incorrecta\n",
    "        seleccion = input(\"Elija una posición para reemplazar (0,1,2): \")\n",
    "        \n",
    "        if seleccion not in ['0','1','2']:\n",
    "            # ESTO BORRA LA SALIDA DE CORRIENTE DEBAJO DE LA CÉLULA\n",
    "            clear_output()\n",
    "            \n",
    "            print(\"Lo sentimos, pero no eligió un puesto válido (0,1,2)\")\n",
    "            \n",
    "    \n",
    "    # Opcionalmente, puede borrar todo después de ejecutar la función\n",
    "    # clear_output()\n",
    "    \n",
    "    #Podemos convertir una vez que el ciclo while anterior haya confirmado que tenemos un dígito.\n",
    "    return int(seleccion)"
   ]
  },
  {
   "cell_type": "code",
   "execution_count": 48,
   "metadata": {
    "tags": []
   },
   "outputs": [],
   "source": [
    "def seleccion_reemplazo(lista_juego,posicion):\n",
    "    \n",
    "    ubicacion_usuario = input(\"Escriba una cadena para colocarla en la posición\")\n",
    "    \n",
    "    lista_juego[posicion] = ubicacion_usuario\n",
    "    \n",
    "    return lista_juego"
   ]
  },
  {
   "cell_type": "code",
   "execution_count": 49,
   "metadata": {
    "tags": []
   },
   "outputs": [],
   "source": [
    "def seleccion_juego():\n",
    "    \n",
    "    # Este valor de elección original puede ser cualquier valor que no sea S o N\n",
    "    seleccion = 'error'\n",
    "    \n",
    "    # Si bien la elección no es un dígito, siga pidiendo información.\n",
    "    while seleccion not in ['S','N']:\n",
    "        \n",
    "        # no deberíamos convertir aquí, de lo contrario obtendremos un error en una entrada incorrecta\n",
    "        seleccion = input(\"¿Te gustaría seguir jugando? S o N \")\n",
    "\n",
    "        \n",
    "        if seleccion not in ['S','N']:\n",
    "            # ESTO BORRA LA SALIDA DE CORRIENTE DEBAJO DE LA CÉLULA\n",
    "            clear_output()\n",
    "            \n",
    "            print(\"Lo siento, no entendí. Por favor asegúrese de elegir S o N.\")\n",
    "            \n",
    "    \n",
    "    # Opcionalmente, puede borrar todo después de ejecutar la función\n",
    "    # clear_output()\n",
    "    \n",
    "    if seleccion == \"S\":\n",
    "        # El juego continua\n",
    "        return True\n",
    "    else:\n",
    "        # El juego termino\n",
    "        return False"
   ]
  },
  {
   "cell_type": "markdown",
   "metadata": {},
   "source": [
    "**Lógica del juego todos juntos**"
   ]
  },
  {
   "cell_type": "code",
   "execution_count": 51,
   "metadata": {},
   "outputs": [
    {
     "name": "stdout",
     "output_type": "stream",
     "text": [
      "Lo siento, no entendí. Por favor asegúrese de elegir S o N.\n"
     ]
    },
    {
     "name": "stdin",
     "output_type": "stream",
     "text": [
      "¿Te gustaría seguir jugando? S o N  N\n"
     ]
    }
   ],
   "source": [
    "# Variable para seguir jugando\n",
    "juego_continua = True\n",
    "\n",
    "# Primera lista de juegos\n",
    "lista_juego = [0,1,2]\n",
    "\n",
    "\n",
    "\n",
    "while juego_continua:\n",
    "    \n",
    "    # Borre cualquier salida histórica y muestre la lista de juegos\n",
    "    clear_output()\n",
    "    muestra_juego(lista_juego)\n",
    "    \n",
    "    # Haz que el jugador elija la posición\n",
    "    posicion = seleccion_posicion()\n",
    "    \n",
    "    # Reescribe esa posición y actualiza game_list\n",
    "    lista_juego = seleccion_reemplazo(lista_juego,posicion)\n",
    "    \n",
    "    # Limpiar la pantalla y mostrar la lista de juegos actualizada\n",
    "    clear_output()\n",
    "    muestra_juego(lista_juego)\n",
    "    \n",
    "    # Pregunta si quieres seguir jugando\n",
    "    juego_continua = seleccion_juego()\n",
    "    "
   ]
  },
  {
   "cell_type": "markdown",
   "metadata": {},
   "source": [
    "**¡Buen trabajo! Ahora comprende cómo unir funciones y lógicas de bucle para crear un juego simple. ¡Esto se ampliará en el proyecto Milestone!**"
   ]
  },
  {
   "cell_type": "code",
   "execution_count": null,
   "metadata": {},
   "outputs": [],
   "source": []
  }
 ],
 "metadata": {
  "kernelspec": {
   "display_name": "Python 3 (ipykernel)",
   "language": "python",
   "name": "python3"
  },
  "language_info": {
   "codemirror_mode": {
    "name": "ipython",
    "version": 3
   },
   "file_extension": ".py",
   "mimetype": "text/x-python",
   "name": "python",
   "nbconvert_exporter": "python",
   "pygments_lexer": "ipython3",
   "version": "3.9.6"
  }
 },
 "nbformat": 4,
 "nbformat_minor": 4
}
