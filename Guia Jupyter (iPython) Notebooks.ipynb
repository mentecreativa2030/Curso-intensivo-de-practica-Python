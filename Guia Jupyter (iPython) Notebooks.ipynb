{
 "cells": [
  {
   "cell_type": "markdown",
   "metadata": {},
   "source": [
    "# Guía para usar Jupyter Notebook\n",
    "En esta lección repasaremos los conceptos básicos de Jupyter (anteriormente llamados iPython Notebooks).\n",
    "\n",
    "Para obtener un Manual de usuario completo, consulte la [Guía de informática de Bryn Mawr College] (https://jupyter.brynmawr.edu/services/public/dblank/Jupyter%20Notebook%20Users%20Manual.ipynb).\n",
    "\n",
    "La mayor parte del desglose ocurrirá realmente en la presentación correspondiente a este Notebook. Por lo tanto, consulte la presentación o el Manual del usuario completo vinculado anteriormente."
   ]
  },
  {
   "cell_type": "code",
   "execution_count": null,
   "metadata": {},
   "outputs": [],
   "source": []
  }
 ],
 "metadata": {
  "kernelspec": {
   "display_name": "Python 3 (ipykernel)",
   "language": "python",
   "name": "python3"
  },
  "language_info": {
   "codemirror_mode": {
    "name": "ipython",
    "version": 3
   },
   "file_extension": ".py",
   "mimetype": "text/x-python",
   "name": "python",
   "nbconvert_exporter": "python",
   "pygments_lexer": "ipython3",
   "version": "3.9.6"
  }
 },
 "nbformat": 4,
 "nbformat_minor": 4
}
