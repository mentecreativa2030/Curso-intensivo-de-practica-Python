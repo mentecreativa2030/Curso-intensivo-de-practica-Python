{
 "cells": [
  {
   "cell_type": "markdown",
   "metadata": {},
   "source": [
    "# Ideas de ejercicios de correo electrónico de Python\n",
    "\n",
    "Como realmente no podemos evaluar ningún código que involucre su dirección de correo electrónico personal, aquí hay algunas ideas para que pruebe sus nuevas habilidades. Tenga en cuenta que no podemos evaluarlos."
   ]
  },
  {
   "cell_type": "markdown",
   "metadata": {},
   "source": [
    "\n",
    "## Ideas\n",
    "\n",
    "* Recordatorio de correo electrónico automático diario para sus tareas\n",
    "* Webscrape algunas estadísticas de un sitio web automáticamente cada día y envíelas por correo electrónico a usted mismo\n",
    "* Enviar automáticamente por correo electrónico informes diarios/semanales/mensuales en su trabajo\n",
    "* Envíe mensajes al final del día a sus amigos y familiares al azar para difundir alegría\n",
    "* ¡Ser creativo! Combina cualquiera de las habilidades que has aprendido hasta ahora con el correo electrónico :)"
   ]
  },
  {
   "cell_type": "code",
   "execution_count": null,
   "metadata": {},
   "outputs": [],
   "source": []
  }
 ],
 "metadata": {
  "kernelspec": {
   "display_name": "Python 3 (ipykernel)",
   "language": "python",
   "name": "python3"
  },
  "language_info": {
   "codemirror_mode": {
    "name": "ipython",
    "version": 3
   },
   "file_extension": ".py",
   "mimetype": "text/x-python",
   "name": "python",
   "nbconvert_exporter": "python",
   "pygments_lexer": "ipython3",
   "version": "3.9.6"
  }
 },
 "nbformat": 4,
 "nbformat_minor": 4
}
