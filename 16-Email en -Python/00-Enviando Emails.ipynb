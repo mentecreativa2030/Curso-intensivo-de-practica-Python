{
 "cells": [
  {
   "cell_type": "markdown",
   "metadata": {},
   "source": [
    "# Enviando Emails"
   ]
  },
  {
   "cell_type": "markdown",
   "metadata": {},
   "source": [
    "La biblioteca smtplib le permite seguir manualmente los pasos para crear y enviar un correo electrónico en Python:"
   ]
  },
  {
   "cell_type": "code",
   "execution_count": 1,
   "metadata": {
    "tags": []
   },
   "outputs": [],
   "source": [
    "import smtplib"
   ]
  },
  {
   "cell_type": "markdown",
   "metadata": {},
   "source": [
    "Cree un objeto SMTP para un servidor. Estos son los principales nombres de dominio del servidor para los principales servicios de correo electrónico. Si no ve su servidor de correo electrónico aquí, es posible que deba realizar una búsqueda rápida en Google para ver si el nombre de dominio del servidor SMTP está disponible:\n",
    "\n",
    "<table>\n",
    "\n",
    "<tr>\n",
    "    <th>Provedor</th>\n",
    "    <th>Nombre dominio servidor SMTP </th>    \n",
    "</tr>\n",
    "\n",
    "<tr>\n",
    "    <td>Gmail (necesitara contrasena App)</td>\n",
    "    <td>smtp.gmail.com</td>\n",
    "</tr>\n",
    "<tr>\n",
    "    <td>email Yahoo</td>\n",
    "    <td>smtp.mail.yahoo.com</td>\n",
    "</tr>\n",
    "<tr>\n",
    "    <td>Outlook.com/Hotmail.com</td>\n",
    "    <td>smtp-mail.outlook.com</td>\n",
    "    \n",
    "</tr>\n",
    "\n",
    "<tr>\n",
    "    <td>AT&T</td>\n",
    "    <td>smpt.mail.att.net (Usa puerto 465)</td>\n",
    "</tr>\n",
    "\n",
    "\n",
    "<tr>\n",
    "    <td>Verizon</td>\n",
    "    <td>smtp.verizon.net (Usa puerto 465) </td>\n",
    "</tr>\n",
    "\n",
    "<tr>\n",
    "    <td>Comcast</td>\n",
    "    <td>smtp.comcast.net</td>\n",
    "</tr>\n",
    "\n",
    "</table>"
   ]
  },
  {
   "cell_type": "markdown",
   "metadata": {},
   "source": [
    "Lo siguiente es crear un objeto STMP que pueda hacer que las llamadas al método inicien sesión en su correo electrónico para enviar mensajes. Observe cómo también especifica un número de puerto. Si el número 587 no funciona en su computadora, intente usar 465 en su lugar. Tenga en cuenta que un firewall o antivirus puede evitar que Python abra este puerto, por lo que es posible que deba desactivarlo en su computadora."
   ]
  },
  {
   "cell_type": "code",
   "execution_count": 2,
   "metadata": {
    "tags": []
   },
   "outputs": [],
   "source": [
    "objeto_smtp = smtplib.SMTP('smtp.gmail.com',587)"
   ]
  },
  {
   "cell_type": "markdown",
   "metadata": {},
   "source": [
    "A continuación, ejecutamos el comando ehlo() que \"saluda\" al servidor y establece la conexión. Esta llamada al método debe realizarse directamente después de crear el objeto. Llamarlo después de otros métodos puede provocar errores en la conexión más adelante. El primer elemento de la tupla que se devuelve debe ser 250, lo que indica una conexión exitosa."
   ]
  },
  {
   "cell_type": "code",
   "execution_count": 3,
   "metadata": {},
   "outputs": [
    {
     "data": {
      "text/plain": [
       "(250,\n",
       " b'smtp.gmail.com at your service, [71.52.22.236]\\nSIZE 35882577\\n8BITMIME\\nSTARTTLS\\nENHANCEDSTATUSCODES\\nPIPELINING\\nCHUNKING\\nSMTPUTF8')"
      ]
     },
     "execution_count": 3,
     "metadata": {},
     "output_type": "execute_result"
    }
   ],
   "source": [
    "objeto_smtp.ehlo()"
   ]
  },
  {
   "cell_type": "markdown",
   "metadata": {},
   "source": [
    "Cuando usa el puerto 587, esto significa que está usando el cifrado TLS, que debe iniciar ejecutando el comando starttls(). Si está utilizando el puerto 465, esto significa que está utilizando SSL y puede omitir este paso."
   ]
  },
  {
   "cell_type": "code",
   "execution_count": 4,
   "metadata": {},
   "outputs": [
    {
     "data": {
      "text/plain": [
       "(220, b'2.0.0 Ready to start TLS')"
      ]
     },
     "execution_count": 4,
     "metadata": {},
     "output_type": "execute_result"
    }
   ],
   "source": [
    "objeto_smtp.starttls()"
   ]
  },
  {
   "cell_type": "markdown",
   "metadata": {},
   "source": [
    "Ahora es el momento de configurar el correo electrónico y las contraseñas. ¡Nunca debe guardar la cadena sin formato de su contraseña o correo electrónico en un script, porque cualquiera que vea este script podrá ver su correo electrónico y contraseña! En su lugar, debe usar input() para obtener esa información. Si tampoco desea que su contraseña sea visible cuando la ingrese, puede usar la biblioteca incorporada **getpass** que ocultará su contraseña mientras la ingresa, ya sea con asteriscos o simplemente manteniéndola invisible ."
   ]
  },
  {
   "cell_type": "code",
   "execution_count": 5,
   "metadata": {
    "tags": []
   },
   "outputs": [],
   "source": [
    "# Para contraseñas ocultas\n",
    "import getpass"
   ]
  },
  {
   "cell_type": "code",
   "execution_count": 8,
   "metadata": {
    "tags": []
   },
   "outputs": [
    {
     "name": "stdin",
     "output_type": "stream",
     "text": [
      "Escribe contrasena aqui -estara oculta--:  ······\n"
     ]
    }
   ],
   "source": [
    "resultado = getpass.getpass(\"Escribe contrasena aqui -estara oculta--: \")"
   ]
  },
  {
   "cell_type": "code",
   "execution_count": 9,
   "metadata": {},
   "outputs": [
    {
     "data": {
      "text/plain": [
       "'Vuela1'"
      ]
     },
     "execution_count": 9,
     "metadata": {},
     "output_type": "execute_result"
    }
   ],
   "source": [
    "# Solo tenga en cuenta que todavía es visible como un objeto internamente:\n",
    "resultado"
   ]
  },
  {
   "cell_type": "code",
   "execution_count": 11,
   "metadata": {},
   "outputs": [
    {
     "name": "stdin",
     "output_type": "stream",
     "text": [
      "Escribe tu contrasena Vuela1\n"
     ]
    },
    {
     "data": {
      "text/plain": [
       "'Vuela1'"
      ]
     },
     "execution_count": 11,
     "metadata": {},
     "output_type": "execute_result"
    }
   ],
   "source": [
    "# O usa input()\n",
    "input(\"Escribe tu contrasena\")"
   ]
  },
  {
   "cell_type": "markdown",
   "metadata": {
    "tags": []
   },
   "source": [
    "____\n",
    "**Nota para los usuarios de Gmail: debe generar una contraseña de aplicación en lugar de su contraseña de correo electrónico normal. Esto también requiere habilitar la autenticación en dos pasos. Siga las instrucciones aquí para configurar la autenticación de factor de 2 pasos, así como la generación de contraseña de la aplicación: https://support.google.com/accounts/answer/185833?hl=en/. Configure la autenticación de 2 factores, luego cree la contraseña de la aplicación, elija Mail como la aplicación y asígnele el nombre que desee. Esto generará una contraseña de 16 letras para usted. Pase esta contraseña como su contraseña de inicio de sesión para el smtp.**\n",
    "____"
   ]
  },
  {
   "cell_type": "code",
   "execution_count": 15,
   "metadata": {
    "tags": []
   },
   "outputs": [
    {
     "name": "stdin",
     "output_type": "stream",
     "text": [
      "Escribe tu email:  ·························\n",
      "Escribe tu contrasena:  ··········\n"
     ]
    },
    {
     "data": {
      "text/plain": [
       "(503, b'5.5.1 MAIL first. a10sm2250935otq.64 - gsmtp')"
      ]
     },
     "execution_count": 15,
     "metadata": {},
     "output_type": "execute_result"
    }
   ],
   "source": [
    "email = getpass.getpass(\"Escribe tu email: \")\n",
    "contrasena = getpass.getpass(\"Escribe tu contrasena: \")\n",
    "objeto_smtp.login(email,contrasena)"
   ]
  },
  {
   "cell_type": "markdown",
   "metadata": {},
   "source": [
    "Ahora podemos enviar un correo electrónico usando el método .sendmail()."
   ]
  },
  {
   "cell_type": "code",
   "execution_count": 16,
   "metadata": {
    "tags": []
   },
   "outputs": [
    {
     "name": "stdin",
     "output_type": "stream",
     "text": [
      "Escribe tu email:  ·························\n",
      "Escribe el email del destinatario:  ·····················\n",
      "Escribe la linea de asunto:  Prueba desde Python\n",
      "Escribe el mensaje que quieres enviar:  texto en el cuerpo de email\n"
     ]
    },
    {
     "data": {
      "text/plain": [
       "{}"
      ]
     },
     "execution_count": 16,
     "metadata": {},
     "output_type": "execute_result"
    }
   ],
   "source": [
    "desde_direccion = getpass.getpass(\"Escribe tu email: \")\n",
    "para_direccion = getpass.getpass(\"Escribe el email del destinatario: \")\n",
    "asunto = input(\"Escribe la linea de asunto: \")\n",
    "mensaje = input(\"Escribe el mensaje que quieres enviar: \")\n",
    "msg = \"Asunto: \" + asunto + '\\n' + mensaje\n",
    "objeto_smtp.sendmail(desde_direccion,para_direccion,msg)"
   ]
  },
  {
   "cell_type": "markdown",
   "metadata": {},
   "source": [
    "Si obtiene un diccionario vacío, entonces el envío fue exitoso."
   ]
  },
  {
   "cell_type": "markdown",
   "metadata": {
    "tags": []
   },
   "source": [
    "Luego puede cerrar su sesión con el método .quit()."
   ]
  },
  {
   "cell_type": "code",
   "execution_count": 17,
   "metadata": {},
   "outputs": [
    {
     "data": {
      "text/plain": [
       "(221, b'2.0.0 closing connection a10sm2250935otq.64 - gsmtp')"
      ]
     },
     "execution_count": 17,
     "metadata": {},
     "output_type": "execute_result"
    }
   ],
   "source": [
    "objeto_smtp.quit()"
   ]
  },
  {
   "cell_type": "markdown",
   "metadata": {},
   "source": [
    "Ahora que sabemos cómo enviar correos electrónicos, es hora de aprender a revisar los correos electrónicos que ya ha recibido."
   ]
  },
  {
   "cell_type": "code",
   "execution_count": null,
   "metadata": {},
   "outputs": [],
   "source": []
  }
 ],
 "metadata": {
  "kernelspec": {
   "display_name": "Python 3 (ipykernel)",
   "language": "python",
   "name": "python3"
  },
  "language_info": {
   "codemirror_mode": {
    "name": "ipython",
    "version": 3
   },
   "file_extension": ".py",
   "mimetype": "text/x-python",
   "name": "python",
   "nbconvert_exporter": "python",
   "pygments_lexer": "ipython3",
   "version": "3.9.6"
  }
 },
 "nbformat": 4,
 "nbformat_minor": 4
}
