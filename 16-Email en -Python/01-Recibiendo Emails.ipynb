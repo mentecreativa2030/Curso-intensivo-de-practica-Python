{
 "cells": [
  {
   "cell_type": "markdown",
   "metadata": {},
   "source": [
    "# Descripción general de los correos electrónicos recibidos\n",
    "\n",
    "Ahora que entendemos cómo enviar correos electrónicos de forma programática con Python, exploremos cómo podemos leer y buscar correos electrónicos recibidos. Para hacerlo, usaremos la [biblioteca imaplib] integrada (https://docs.python.org/3/library/imaplib.html#imap4-example). También usaremos la biblioteca [email](https://docs.python.org/3/library/email.examples.html) integrada para analizar los correos electrónicos recibidos."
   ]
  },
  {
   "cell_type": "code",
   "execution_count": 10,
   "metadata": {
    "jupyter": {
     "source_hidden": true
    },
    "tags": []
   },
   "outputs": [],
   "source": [
    "import imaplib"
   ]
  },
  {
   "cell_type": "code",
   "execution_count": 11,
   "metadata": {
    "tags": []
   },
   "outputs": [],
   "source": [
    "M = imaplib.IMAP4_SSL('imap.gmail.com')"
   ]
  },
  {
   "cell_type": "code",
   "execution_count": 12,
   "metadata": {
    "tags": []
   },
   "outputs": [],
   "source": [
    "import getpass"
   ]
  },
  {
   "cell_type": "code",
   "execution_count": 13,
   "metadata": {
    "tags": []
   },
   "outputs": [
    {
     "name": "stdin",
     "output_type": "stream",
     "text": [
      "Enter your email:  sergiosalaswork@gmail.com\n",
      "Enter your password:  ··········\n"
     ]
    },
    {
     "data": {
      "text/plain": [
       "('OK', [b'sergiosalaswork@gmail.com authenticated (Success)'])"
      ]
     },
     "execution_count": 13,
     "metadata": {},
     "output_type": "execute_result"
    }
   ],
   "source": [
    "user = input(\"Enter your email: \")\n",
    "password = getpass.getpass(\"Enter your password: \")\n",
    "M.login(user,password)"
   ]
  },
  {
   "cell_type": "code",
   "execution_count": 14,
   "metadata": {},
   "outputs": [
    {
     "data": {
      "text/plain": [
       "('OK',\n",
       " [b'(\\\\HasNoChildren) \"/\" \"INBOX\"',\n",
       "  b'(\\\\HasChildren \\\\Noselect) \"/\" \"[Gmail]\"',\n",
       "  b'(\\\\All \\\\HasNoChildren) \"/\" \"[Gmail]/All Mail\"',\n",
       "  b'(\\\\Drafts \\\\HasNoChildren) \"/\" \"[Gmail]/Drafts\"',\n",
       "  b'(\\\\HasNoChildren \\\\Important) \"/\" \"[Gmail]/Important\"',\n",
       "  b'(\\\\HasNoChildren \\\\Sent) \"/\" \"[Gmail]/Sent Mail\"',\n",
       "  b'(\\\\HasNoChildren \\\\Junk) \"/\" \"[Gmail]/Spam\"',\n",
       "  b'(\\\\Flagged \\\\HasNoChildren) \"/\" \"[Gmail]/Starred\"',\n",
       "  b'(\\\\HasNoChildren \\\\Trash) \"/\" \"[Gmail]/Trash\"'])"
      ]
     },
     "execution_count": 14,
     "metadata": {},
     "output_type": "execute_result"
    }
   ],
   "source": [
    "M.list()"
   ]
  },
  {
   "cell_type": "code",
   "execution_count": 15,
   "metadata": {},
   "outputs": [
    {
     "data": {
      "text/plain": [
       "('OK', [b'92'])"
      ]
     },
     "execution_count": 15,
     "metadata": {},
     "output_type": "execute_result"
    }
   ],
   "source": [
    "# Conecta a tu correo de entrada\n",
    "M.select(\"inbox\")"
   ]
  },
  {
   "cell_type": "markdown",
   "metadata": {},
   "source": [
    "## Búsqueda de correo\n",
    "\n",
    "Ahora que nos hemos conectado a nuestro correo, deberíamos poder buscarlo usando la sintaxis especializada de IMAP. Estas son las diferentes claves de búsqueda que puede utilizar:"
   ]
  },
  {
   "cell_type": "markdown",
   "metadata": {},
   "source": [
    "<table border='1' >\n",
    "    <tr >\n",
    "        <th align='center'>Palabra clave </th>\n",
    "        <th align='center'>Definicion</th>\n",
    "    </tr>\n",
    "    <tr>\n",
    "        <td>'ALL'</td>\n",
    "        <td>\n",
    "        Retorna todos los mensajes en tu carpeta de entrada inbox. Frecuentemente hay limites de tamano desde imaplib.\n",
    "        Para cambiar estos usa imaplib._MAXLINE = 100 , donde 100 es cualquier limite que tu quieres.\n",
    "        </td>\n",
    "    </tr>\n",
    "    \n",
    "    <tr>\n",
    "        <td>'ANTES de la fecha'</td>\n",
    "        <td>\n",
    "        Retorna todos los mensajes antes de la fecha proporcionada. La fecha debe tener formato 01-Nov-2000.\n",
    "        </td>\n",
    "    </tr>\n",
    "    \n",
    "     <tr>\n",
    "        <td>'EXACTAMENTE en la fecha'</td>\n",
    "        <td>\n",
    "        Retorna todos los mensajes exactamente de la fecha. La fecha debe tener formato 01-Nov-2000.\n",
    "        </td>\n",
    "    </tr>\n",
    "    \n",
    "     <tr>\n",
    "        <td>'DESDE fecha'</td>\n",
    "        <td>\n",
    "        Retorna todos los mensajes despues de la fecha proporcionada. La fecha debe tener formato 01-Nov-2000.\n",
    "        </td>\n",
    "    </tr>\n",
    "    \n",
    "    <tr>\n",
    "        <td>'DESDE alguna cadena '</td>\n",
    "        <td>\n",
    "        Retorna todo del que envia. La cadena puede ser un email, por ejemplo 'FROM               usuario@ejemplo.com' o solo una cadena que puede aparecer en el email \"FROM ejemplo\"\n",
    "        </td>\n",
    "    </tr>\n",
    "    \n",
    "    <tr>\n",
    "        <td>'PARA alguna_cadena'</td>\n",
    "        <td>\n",
    "        Retorna todos los email de salida al email informado en la cadena. La cadena puede ser un email, por ejemplo 'FROM usuario@ejemplo.com' o solo una cadena que aparezca en el email, \"FROM ejemplo\"\n",
    "        </td>\n",
    "    </tr>\n",
    "    \n",
    "    <tr>\n",
    "        <td>'CC alguna_cadena' y/o 'BCC alguna_cadena'</td>\n",
    "        <td>\n",
    "        Retorna todos los mensajes en la carpeta de entrada. Frecuentemente hay limites de tamano desde imaplib.\n",
    "        Para cambiar estos usa imaplib._MAXLINE = 100 , donde 100 es cualquier limite que tu desees.\n",
    "        </td>\n",
    "    </tr>\n",
    "    \n",
    "    <tr>\n",
    "        <td>'cadena ASUNTO','cadena CUERPO','TEXTO \"cadena con espacios\"'</td>\n",
    "        <td>\n",
    "        Retorna todos los mensajes con la cadena asunto o la cadena en el cuerpo del email. Si la cadena tu estas buscando tiene espacios, encierrala entre doble comillas.\n",
    "        </td>\n",
    "    </tr>\n",
    "    \n",
    "    <tr>\n",
    "        <td>'VISTO', 'NOVISTO'</td>\n",
    "        <td>\n",
    "        Retorna todos los mensajes que han sido vistos o no vistos. (Tambien conocidos como como leidos o no leidos)\n",
    "        </td>\n",
    "    </tr>\n",
    "    \n",
    "    \n",
    "        <tr>\n",
    "        <td>'RESPONDIDO', 'NORESPONDIDO'</td>\n",
    "        <td>\n",
    "        Retorna todos los mensajes que han sido contestados o no contestados. \n",
    "        </td>\n",
    "    </tr>\n",
    "    \n",
    "    \n",
    "        <tr>\n",
    "        <td>'BORRADOS', 'NOBORRADOS'</td>\n",
    "        <td>\n",
    "        Retorna todos los mensajes que han sido borrados o no borrados.\n",
    "        </td>\n",
    "    </tr>\n",
    "    \n",
    "    \n",
    "</table>"
   ]
  },
  {
   "cell_type": "markdown",
   "metadata": {},
   "source": [
    "También puede usar los operadores lógicos AND y OR para combinar las declaraciones anteriores. Consulte la lista completa de claves de búsqueda aquí: http://www.4d.com/docs/CMU/CMU88864.HTM.\n",
    "\n",
    "Tenga en cuenta que algunos proveedores de servidores IMAP para diferentes servicios de correo electrónico tendrán una sintaxis ligeramente diferente. Es posible que deba experimentar para obtener los resultados que desea.\n",
    "\n",
    "___________\n",
    "___________\n",
    "\n",
    "Ahora podemos buscar en nuestro correo cualquier término que queramos."
   ]
  },
  {
   "cell_type": "code",
   "execution_count": null,
   "metadata": {
    "tags": []
   },
   "outputs": [],
   "source": [
    "# Úselo si recibe un error que dice que se alcanzó el límite\n",
    "imaplib._MAXLINE = 10000000"
   ]
  },
  {
   "cell_type": "markdown",
   "metadata": {},
   "source": [
    "Envíese un correo electrónico de prueba con el asunto:\n",
    "\n",
    "     este es un correo electrónico de prueba para python\n",
    "\n",
    "O alguna otra cadena de identificación única.\n",
    "\n",
    "Ahora tendremos que volver a conectarnos a nuestro servidor imap. Probablemente necesitará reiniciar su kernel para este paso si está usando jupyter notebook."
   ]
  },
  {
   "cell_type": "code",
   "execution_count": null,
   "metadata": {
    "tags": []
   },
   "outputs": [],
   "source": [
    "# Reinicie su kernel y ejecute lo siguiente:\n",
    "import imaplib\n",
    "import getpass\n",
    "M = imaplib.IMAP4_SSL('imap.gmail.com')\n",
    "usuario = getpass.getpass(\"Escribe tu email: \")\n",
    "contrasena = getpass.getpass(\"Escribe tu contrasena: \")\n",
    "M.login(usuario,contrasena)\n"
   ]
  },
  {
   "cell_type": "code",
   "execution_count": null,
   "metadata": {
    "tags": []
   },
   "outputs": [],
   "source": [
    "# Conecta a tu corero de entrada\n",
    "M.select(\"inbox\")"
   ]
  },
  {
   "cell_type": "markdown",
   "metadata": {
    "tags": []
   },
   "source": [
    "Ahora busquemos y confirmemos si está ahí:"
   ]
  },
  {
   "cell_type": "code",
   "execution_count": null,
   "metadata": {
    "tags": []
   },
   "outputs": [],
   "source": [
    "typ ,datos = M.search(None,\"ALL\")"
   ]
  },
  {
   "cell_type": "markdown",
   "metadata": {},
   "source": [
    "Ahora podemos guardar lo que ha devuelto:"
   ]
  },
  {
   "cell_type": "code",
   "execution_count": null,
   "metadata": {},
   "outputs": [],
   "source": [
    "typ"
   ]
  },
  {
   "cell_type": "code",
   "execution_count": null,
   "metadata": {},
   "outputs": [],
   "source": [
    "datos"
   ]
  },
  {
   "cell_type": "markdown",
   "metadata": {},
   "source": [
    "Los datos serán una lista de identificadores únicos."
   ]
  },
  {
   "cell_type": "code",
   "execution_count": null,
   "metadata": {
    "tags": []
   },
   "outputs": [],
   "source": [
    "\n",
    "# typ, datos = M.fetch(datos[0],\"(RFC822)\")"
   ]
  },
  {
   "cell_type": "markdown",
   "metadata": {},
   "source": [
    "¡Excelente! Hemos podido verificar con éxito la bandeja de entrada de nuestro correo electrónico, filtrar por alguna condición y leer el cuerpo del texto que estaba allí. ¡Esto será útil en un futuro cercano!"
   ]
  },
  {
   "cell_type": "code",
   "execution_count": null,
   "metadata": {},
   "outputs": [],
   "source": []
  }
 ],
 "metadata": {
  "kernelspec": {
   "display_name": "Python 3 (ipykernel)",
   "language": "python",
   "name": "python3"
  },
  "language_info": {
   "codemirror_mode": {
    "name": "ipython",
    "version": 3
   },
   "file_extension": ".py",
   "mimetype": "text/x-python",
   "name": "python",
   "nbconvert_exporter": "python",
   "pygments_lexer": "ipython3",
   "version": "3.9.6"
  }
 },
 "nbformat": 4,
 "nbformat_minor": 4
}
