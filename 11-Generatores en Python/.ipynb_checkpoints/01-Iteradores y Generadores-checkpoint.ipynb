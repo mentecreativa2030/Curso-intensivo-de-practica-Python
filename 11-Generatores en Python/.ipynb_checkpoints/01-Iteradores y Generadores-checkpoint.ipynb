{
 "cells": [
  {
   "cell_type": "markdown",
   "metadata": {},
   "source": [
    "# Iteradores y Generadores"
   ]
  },
  {
   "cell_type": "markdown",
   "metadata": {},
   "source": [
    "En esta sección del curso aprenderemos la diferencia entre iteración y generación en Python y cómo construir nuestros propios generadores con la declaración * yield *. Los generadores nos permiten generar a medida que avanzamos, en lugar de guardar todo en la memoria.\n",
    "\n",
    "Hemos tocado este tema en el pasado cuando discutimos ciertas funciones integradas de Python como ** range () **, ** map () ** y ** filter () **.\n",
    "\n",
    "Exploremos un poco más profundo. Hemos aprendido a crear funciones con <code> def </code> y la instrucción <code> return </code>. Las funciones generadoras nos permiten escribir una función que puede enviar un valor y luego reanudarlo para continuar donde lo dejó. Este tipo de función es un generador en Python, lo que nos permite generar una secuencia de valores a lo largo del tiempo. La principal diferencia en la sintaxis será el uso de una instrucción <code> yield </code>.\n",
    "\n",
    "En la mayoría de los aspectos, la función de un generador parecerá muy similar a una función normal. La principal diferencia es que cuando se compila una función de generador, se convierte en un objeto que admite un protocolo de iteración. Eso significa que cuando se les llama en su código, en realidad no devuelven un valor y luego salen. En cambio, las funciones del generador suspenderán y reanudarán automáticamente su ejecución y estado alrededor del último punto de generación de valor. La principal ventaja aquí es que en lugar de tener que calcular una serie completa de valores por adelantado, el generador calcula un valor y luego suspende su actividad en espera de la siguiente instrucción. Esta característica se conoce como * suspensión estatal *.\n",
    "\n",
    "\n",
    "￼￼Para comenzar a comprender mejor los generadores, sigamos adelante y veamos cómo podemos crear algunos."
   ]
  },
  {
   "cell_type": "code",
   "execution_count": 1,
   "metadata": {
    "tags": []
   },
   "outputs": [],
   "source": [
    "# Función generadora para el cubo de números (potencia de 3)\n",
    "def gencubos(n):\n",
    "    for num in range(n):\n",
    "        yield num**3"
   ]
  },
  {
   "cell_type": "code",
   "execution_count": 2,
   "metadata": {},
   "outputs": [
    {
     "name": "stdout",
     "output_type": "stream",
     "text": [
      "0\n",
      "1\n",
      "8\n",
      "27\n",
      "64\n",
      "125\n",
      "216\n",
      "343\n",
      "512\n",
      "729\n"
     ]
    }
   ],
   "source": [
    "for x in gencubos(10):\n",
    "    print(x)"
   ]
  },
  {
   "cell_type": "markdown",
   "metadata": {},
   "source": [
    "¡Estupendo! Ahora que tenemos una función de generador, no tenemos que realizar un seguimiento de cada cubo que creamos.\n",
    "\n",
    "Los generadores son mejores para calcular grandes conjuntos de resultados (particularmente en cálculos que involucran bucles en sí mismos) en los casos en los que no queremos asignar la memoria para todos los resultados al mismo tiempo.\n",
    "\n",
    "Creemos otro generador de ejemplo que calcule [fibonacci] (https://en.wikipedia.org/wiki/Fibonacci_number) números:"
   ]
  },
  {
   "cell_type": "code",
   "execution_count": 3,
   "metadata": {
    "tags": []
   },
   "outputs": [],
   "source": [
    "def genfibon(n):\n",
    "    \"\"\"\n",
    "    Genera una secuencia fibonnaci hasta  n\n",
    "    \"\"\"\n",
    "    a = 1\n",
    "    b = 1\n",
    "    for i in range(n):\n",
    "        yield a\n",
    "        a,b = b,a+b"
   ]
  },
  {
   "cell_type": "code",
   "execution_count": 4,
   "metadata": {},
   "outputs": [
    {
     "name": "stdout",
     "output_type": "stream",
     "text": [
      "1\n",
      "1\n",
      "2\n",
      "3\n",
      "5\n",
      "8\n",
      "13\n",
      "21\n",
      "34\n",
      "55\n"
     ]
    }
   ],
   "source": [
    "for num in genfibon(10):\n",
    "    print(num)"
   ]
  },
  {
   "cell_type": "markdown",
   "metadata": {},
   "source": [
    "¿Y si fuera una función normal? ¿Cómo se vería?"
   ]
  },
  {
   "cell_type": "code",
   "execution_count": 7,
   "metadata": {
    "tags": []
   },
   "outputs": [],
   "source": [
    "def fibon(n):\n",
    "    a = 1\n",
    "    b = 1\n",
    "    salida = []\n",
    "    \n",
    "    for i in range(n):\n",
    "        salida.append(a)\n",
    "        a,b = b,a+b\n",
    "        \n",
    "    return salida"
   ]
  },
  {
   "cell_type": "code",
   "execution_count": 8,
   "metadata": {},
   "outputs": [
    {
     "data": {
      "text/plain": [
       "[1, 1, 2, 3, 5, 8, 13, 21, 34, 55]"
      ]
     },
     "execution_count": 8,
     "metadata": {},
     "output_type": "execute_result"
    }
   ],
   "source": [
    "fibon(10)"
   ]
  },
  {
   "cell_type": "markdown",
   "metadata": {},
   "source": [
    "Tenga en cuenta que si llamamos a un valor enorme de n (como 100000), la segunda función tendrá que realizar un seguimiento de cada resultado, cuando en nuestro caso, ¡solo nos importa el resultado anterior para generar el siguiente!\n",
    "\n",
    "## funciones integradas next () e iter ()\n",
    "Una clave para comprender completamente los generadores es la función next () y la función iter ().\n",
    "\n",
    "La función next () nos permite acceder al siguiente elemento en una secuencia. Vamos a ver:"
   ]
  },
  {
   "cell_type": "code",
   "execution_count": 9,
   "metadata": {
    "tags": []
   },
   "outputs": [],
   "source": [
    "def simple_gen():\n",
    "    for x in range(3):\n",
    "        yield x"
   ]
  },
  {
   "cell_type": "code",
   "execution_count": 10,
   "metadata": {
    "tags": []
   },
   "outputs": [],
   "source": [
    "# Asigna simple_gen \n",
    "g = simple_gen()"
   ]
  },
  {
   "cell_type": "code",
   "execution_count": 11,
   "metadata": {},
   "outputs": [
    {
     "name": "stdout",
     "output_type": "stream",
     "text": [
      "0\n"
     ]
    }
   ],
   "source": [
    "print(next(g))"
   ]
  },
  {
   "cell_type": "code",
   "execution_count": 12,
   "metadata": {},
   "outputs": [
    {
     "name": "stdout",
     "output_type": "stream",
     "text": [
      "1\n"
     ]
    }
   ],
   "source": [
    "print(next(g))"
   ]
  },
  {
   "cell_type": "code",
   "execution_count": 13,
   "metadata": {},
   "outputs": [
    {
     "name": "stdout",
     "output_type": "stream",
     "text": [
      "2\n"
     ]
    }
   ],
   "source": [
    "print(next(g))"
   ]
  },
  {
   "cell_type": "code",
   "execution_count": 14,
   "metadata": {},
   "outputs": [
    {
     "ename": "StopIteration",
     "evalue": "",
     "output_type": "error",
     "traceback": [
      "\u001b[1;31m---------------------------------------------------------------------------\u001b[0m",
      "\u001b[1;31mStopIteration\u001b[0m                             Traceback (most recent call last)",
      "\u001b[1;32m~\\AppData\\Local\\Temp/ipykernel_6040/2604396719.py\u001b[0m in \u001b[0;36m<module>\u001b[1;34m\u001b[0m\n\u001b[1;32m----> 1\u001b[1;33m \u001b[0mprint\u001b[0m\u001b[1;33m(\u001b[0m\u001b[0mnext\u001b[0m\u001b[1;33m(\u001b[0m\u001b[0mg\u001b[0m\u001b[1;33m)\u001b[0m\u001b[1;33m)\u001b[0m\u001b[1;33m\u001b[0m\u001b[1;33m\u001b[0m\u001b[0m\n\u001b[0m",
      "\u001b[1;31mStopIteration\u001b[0m: "
     ]
    }
   ],
   "source": [
    "print(next(g))"
   ]
  },
  {
   "cell_type": "markdown",
   "metadata": {},
   "source": [
    "Después de ceder todos los valores, next () provocó un error de StopIteration. De lo que nos informa este error es que se han obtenido todos los valores.\n",
    "\n",
    "Quizás se pregunte por qué no recibimos este error al usar un bucle for. Un bucle for detecta automáticamente este error y deja de llamar a next ().\n",
    "\n",
    "Sigamos adelante y veamos cómo usar iter (). Recuerda que las cadenas son iterables:"
   ]
  },
  {
   "cell_type": "code",
   "execution_count": 15,
   "metadata": {},
   "outputs": [
    {
     "name": "stdout",
     "output_type": "stream",
     "text": [
      "h\n",
      "o\n",
      "l\n",
      "a\n"
     ]
    }
   ],
   "source": [
    "s = 'hola'\n",
    "\n",
    "#Itera sobre cadena\n",
    "for deja in s:\n",
    "    print(deja)"
   ]
  },
  {
   "cell_type": "markdown",
   "metadata": {},
   "source": [
    "¡Pero eso no significa que la cadena en sí sea un * iterador *! Podemos comprobar esto con la función next ():"
   ]
  },
  {
   "cell_type": "code",
   "execution_count": 16,
   "metadata": {},
   "outputs": [
    {
     "ename": "TypeError",
     "evalue": "'str' object is not an iterator",
     "output_type": "error",
     "traceback": [
      "\u001b[1;31m---------------------------------------------------------------------------\u001b[0m",
      "\u001b[1;31mTypeError\u001b[0m                                 Traceback (most recent call last)",
      "\u001b[1;32m~\\AppData\\Local\\Temp/ipykernel_6040/1977886155.py\u001b[0m in \u001b[0;36m<module>\u001b[1;34m\u001b[0m\n\u001b[1;32m----> 1\u001b[1;33m \u001b[0mnext\u001b[0m\u001b[1;33m(\u001b[0m\u001b[0ms\u001b[0m\u001b[1;33m)\u001b[0m\u001b[1;33m\u001b[0m\u001b[1;33m\u001b[0m\u001b[0m\n\u001b[0m",
      "\u001b[1;31mTypeError\u001b[0m: 'str' object is not an iterator"
     ]
    }
   ],
   "source": [
    "next(s)"
   ]
  },
  {
   "cell_type": "markdown",
   "metadata": {},
   "source": [
    "Interesante, esto significa que un objeto de cadena admite la iteración, pero no podemos iterar directamente sobre él como podríamos hacerlo con una función generadora. ¡La función iter () nos permite hacer precisamente eso!"
   ]
  },
  {
   "cell_type": "code",
   "execution_count": 17,
   "metadata": {
    "tags": []
   },
   "outputs": [],
   "source": [
    "s_iter = iter(s)"
   ]
  },
  {
   "cell_type": "code",
   "execution_count": 18,
   "metadata": {},
   "outputs": [
    {
     "data": {
      "text/plain": [
       "'h'"
      ]
     },
     "execution_count": 18,
     "metadata": {},
     "output_type": "execute_result"
    }
   ],
   "source": [
    "next(s_iter)"
   ]
  },
  {
   "cell_type": "code",
   "execution_count": 19,
   "metadata": {},
   "outputs": [
    {
     "data": {
      "text/plain": [
       "'o'"
      ]
     },
     "execution_count": 19,
     "metadata": {},
     "output_type": "execute_result"
    }
   ],
   "source": [
    "next(s_iter)"
   ]
  },
  {
   "cell_type": "markdown",
   "metadata": {},
   "source": [
    "¡Estupendo! ¡Ahora sabe cómo convertir objetos que son iterables en iteradores ellos mismos!\n",
    "\n",
    "La principal conclusión de esta lección es que el uso de la palabra clave yield en una función hará que la función se convierta en un generador. Este cambio puede ahorrarle mucha memoria para casos de uso grandes."
   ]
  },
  {
   "cell_type": "code",
   "execution_count": null,
   "metadata": {},
   "outputs": [],
   "source": []
  },
  {
   "cell_type": "code",
   "execution_count": null,
   "metadata": {},
   "outputs": [],
   "source": []
  }
 ],
 "metadata": {
  "kernelspec": {
   "display_name": "Python 3 (ipykernel)",
   "language": "python",
   "name": "python3"
  },
  "language_info": {
   "codemirror_mode": {
    "name": "ipython",
    "version": 3
   },
   "file_extension": ".py",
   "mimetype": "text/x-python",
   "name": "python",
   "nbconvert_exporter": "python",
   "pygments_lexer": "ipython3",
   "version": "3.9.6"
  }
 },
 "nbformat": 4,
 "nbformat_minor": 4
}
