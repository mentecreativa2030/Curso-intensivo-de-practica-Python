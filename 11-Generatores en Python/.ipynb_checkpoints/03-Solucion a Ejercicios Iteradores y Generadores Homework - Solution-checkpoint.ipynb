{
 "cells": [
  {
   "cell_type": "markdown",
   "metadata": {
    "tags": []
   },
   "source": [
    "# Solucion a Ejercicios Iteradores y Generadores\n",
    "\n",
    "### Problema 1\n",
    "\n",
    "Crea un generador que genere los cuadrados de números hasta cierto número N."
   ]
  },
  {
   "cell_type": "code",
   "execution_count": 1,
   "metadata": {
    "tags": []
   },
   "outputs": [],
   "source": [
    "def gencuadrados(N):\n",
    "    for i in range(N):\n",
    "        yield i**2"
   ]
  },
  {
   "cell_type": "code",
   "execution_count": 2,
   "metadata": {},
   "outputs": [
    {
     "name": "stdout",
     "output_type": "stream",
     "text": [
      "0\n",
      "1\n",
      "4\n",
      "9\n",
      "16\n",
      "25\n",
      "36\n",
      "49\n",
      "64\n",
      "81\n"
     ]
    }
   ],
   "source": [
    "for x in gencuadrados(10):\n",
    "    print(x)"
   ]
  },
  {
   "cell_type": "markdown",
   "metadata": {},
   "source": [
    "### Problema 2\n",
    "\n",
    "Cree un generador que produzca \"n\" números aleatorios entre un número bajo y alto (que son entradas). <br> Nota: Utilice la biblioteca aleatoria. Por ejemplo:"
   ]
  },
  {
   "cell_type": "code",
   "execution_count": 3,
   "metadata": {},
   "outputs": [
    {
     "data": {
      "text/plain": [
       "6"
      ]
     },
     "execution_count": 3,
     "metadata": {},
     "output_type": "execute_result"
    }
   ],
   "source": [
    "import random\n",
    "\n",
    "random.randint(1,10)"
   ]
  },
  {
   "cell_type": "code",
   "execution_count": 4,
   "metadata": {
    "tags": []
   },
   "outputs": [],
   "source": [
    "def rand_num(low,high,n):\n",
    "    \n",
    "    for i in range(n):\n",
    "        yield random.randint(low, high)"
   ]
  },
  {
   "cell_type": "code",
   "execution_count": 5,
   "metadata": {},
   "outputs": [
    {
     "name": "stdout",
     "output_type": "stream",
     "text": [
      "2\n",
      "8\n",
      "7\n",
      "10\n",
      "8\n",
      "5\n",
      "1\n",
      "3\n",
      "8\n",
      "4\n",
      "7\n",
      "8\n"
     ]
    }
   ],
   "source": [
    "for num in rand_num(1,10,12):\n",
    "    print(num)"
   ]
  },
  {
   "cell_type": "markdown",
   "metadata": {},
   "source": [
    "### Problema 3\n",
    "\n",
    "Utilice la función iter () para convertir la siguiente cadena en un iterador:\n"
   ]
  },
  {
   "cell_type": "code",
   "execution_count": 6,
   "metadata": {},
   "outputs": [
    {
     "name": "stdout",
     "output_type": "stream",
     "text": [
      "h\n"
     ]
    }
   ],
   "source": [
    "s = 'hola'\n",
    "\n",
    "s = iter(s)\n",
    "\n",
    "print(next(s))"
   ]
  },
  {
   "cell_type": "markdown",
   "metadata": {},
   "source": [
    "### Problema 4\n",
    "Explique un caso de uso para un generador usando una declaración de rendimiento en el que no le gustaría usar una función normal con una declaración de devolución.\n",
    "\n",
    "**Si la salida tiene el potencial de ocupar una gran cantidad de memoria y solo tiene la intención de recorrerla, le recomendamos que use un generador. (¡Aquí se aceptan varias respuestas!)**"
   ]
  },
  {
   "cell_type": "markdown",
   "metadata": {},
   "source": [
    "### ¡Crédito adicional!\n",
    "¿Puede explicar qué es *gencomp* en el siguiente código? (Nota: ¡Nunca cubrimos esto en una conferencia!)"
   ]
  },
  {
   "cell_type": "code",
   "execution_count": 7,
   "metadata": {},
   "outputs": [
    {
     "name": "stdout",
     "output_type": "stream",
     "text": [
      "4\n",
      "5\n"
     ]
    }
   ],
   "source": [
    "mi_lista = [1,2,3,4,5]\n",
    "\n",
    "gencomp = (articulo for articulo in mi_lista if articulo > 3)\n",
    "\n",
    "for articulo in gencomp:\n",
    "    print(articulo)"
   ]
  },
  {
   "cell_type": "markdown",
   "metadata": {},
   "source": [
    "Sugerencia: ¡Google *comprensión del generador*!\n",
    "\n",
    "# ¡Gran trabajo!"
   ]
  },
  {
   "cell_type": "code",
   "execution_count": null,
   "metadata": {},
   "outputs": [],
   "source": []
  },
  {
   "cell_type": "code",
   "execution_count": null,
   "metadata": {},
   "outputs": [],
   "source": []
  }
 ],
 "metadata": {
  "kernelspec": {
   "display_name": "Python 3 (ipykernel)",
   "language": "python",
   "name": "python3"
  },
  "language_info": {
   "codemirror_mode": {
    "name": "ipython",
    "version": 3
   },
   "file_extension": ".py",
   "mimetype": "text/x-python",
   "name": "python",
   "nbconvert_exporter": "python",
   "pygments_lexer": "ipython3",
   "version": "3.9.6"
  }
 },
 "nbformat": 4,
 "nbformat_minor": 4
}
