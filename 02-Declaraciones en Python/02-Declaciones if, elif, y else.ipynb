{
 "cells": [
  {
   "cell_type": "markdown",
   "metadata": {},
   "source": [
    "# if, elif, else\n",
    "<code> if </code> Las declaraciones en Python nos permiten decirle a la computadora que realice acciones alternativas basadas en un determinado conjunto de resultados.\n",
    "\n",
    "Verbalmente, podemos imaginar que le estamos diciendo a la computadora:\n",
    "\n",
    "\"Oye, si ocurre este caso, realiza alguna acción\"\n",
    "\n",
    "Luego podemos expandir la idea aún más con las declaraciones <code> elif </code> y <code> else </code>, que nos permiten decirle a la computadora:\n",
    "\n",
    "\"Oye, si ocurre este caso, realiza alguna acción. De lo contrario, si ocurre otro caso, realiza alguna otra acción. De lo contrario, si * ninguno * de los casos anteriores sucedió, realiza esta acción\".\n",
    "\n",
    "Sigamos adelante y observemos el formato de sintaxis de las declaraciones <code> if </code> para tener una mejor idea de esto:\n",
    "\n",
    "     if caso1:\n",
    "         realizar accion1\n",
    "     elif case2:\n",
    "         realizar accion2\n",
    "     else:\n",
    "         realizar accion3"
   ]
  },
  {
   "cell_type": "markdown",
   "metadata": {},
   "source": [
    "## Primer ejemplo\n",
    "\n",
    "Veamos un ejemplo rápido de esto:"
   ]
  },
  {
   "cell_type": "code",
   "execution_count": 1,
   "metadata": {},
   "outputs": [
    {
     "name": "stdout",
     "output_type": "stream",
     "text": [
      "Fue cierto!\n"
     ]
    }
   ],
   "source": [
    "if True:\n",
    "    print('Fue cierto!')"
   ]
  },
  {
   "cell_type": "markdown",
   "metadata": {},
   "source": [
    "Agreguemos algo más de lógica:"
   ]
  },
  {
   "cell_type": "code",
   "execution_count": 2,
   "metadata": {},
   "outputs": [
    {
     "name": "stdout",
     "output_type": "stream",
     "text": [
      "Seré impreso en cualquier caso donde x no sea cierto\n"
     ]
    }
   ],
   "source": [
    "x = False\n",
    "\n",
    "if x:\n",
    "    print('x fue cierto!')\n",
    "else:\n",
    "    print('Seré impreso en cualquier caso donde x no sea cierto')"
   ]
  },
  {
   "cell_type": "markdown",
   "metadata": {},
   "source": [
    "### Varias sucursales\n",
    "\n",
    "¡Tengamos una idea más completa de hasta dónde nos pueden llevar <code> if </code>, <code> elif </code> y <code> else </code>!\n",
    "\n",
    "Escribimos esto en una estructura anidada. Tome nota de cómo se alinean <code> if </code>, <code> elif </code> y <code> else </code> en el código. Esto puede ayudarlo a ver qué <code> if </code> está relacionado con qué declaraciones <code> elif </code> o <code> else </code>.\n",
    "\n",
    "Reintroduciremos una sintaxis de comparación para Python."
   ]
  },
  {
   "cell_type": "code",
   "execution_count": 3,
   "metadata": {},
   "outputs": [
    {
     "name": "stdout",
     "output_type": "stream",
     "text": [
      "¡Bienvenido al banco!\n"
     ]
    }
   ],
   "source": [
    "loc = 'Banco'\n",
    "\n",
    "if loc == 'tienda de autos':\n",
    "    print('¡Bienvenido a tienda de autos!')\n",
    "elif loc == 'Banco':\n",
    "    print('¡Bienvenido al banco!')\n",
    "else:\n",
    "    print('¿Dónde estás?')"
   ]
  },
  {
   "cell_type": "markdown",
   "metadata": {},
   "source": [
    "Observe cómo las declaraciones <code> if </code> anidadas se verifican cada una hasta que un booleano True hace que se ejecute el código anidado debajo de él. También debe tener en cuenta que puede introducir tantas instrucciones <code> elif </code> como desee antes de cerrar con un <code> else </code>.\n",
    "\n",
    "Creemos dos ejemplos más simples para las declaraciones <code> if </code>, <code> elif </code> y <code> else </code>:"
   ]
  },
  {
   "cell_type": "code",
   "execution_count": 4,
   "metadata": {},
   "outputs": [
    {
     "name": "stdout",
     "output_type": "stream",
     "text": [
      "Bienvenido Sammy!\n"
     ]
    }
   ],
   "source": [
    "persona = 'Sammy'\n",
    "\n",
    "if persona == 'Sammy':\n",
    "    print('Bienvenido Sammy!')\n",
    "else:\n",
    "    print(\"Bienvenido, ¿Cómo te llamas?\")"
   ]
  },
  {
   "cell_type": "code",
   "execution_count": 5,
   "metadata": {},
   "outputs": [
    {
     "name": "stdout",
     "output_type": "stream",
     "text": [
      "Bienvenido George!\n"
     ]
    }
   ],
   "source": [
    "persona = 'George'\n",
    "\n",
    "if persona == 'Sammy':\n",
    "    print('Bievenido Sammy!')\n",
    "elif persona =='George':\n",
    "    print('Bienvenido George!')\n",
    "else:\n",
    "    print(\"Bienvenido, ¿Cómo te llamas?\")"
   ]
  },
  {
   "cell_type": "markdown",
   "metadata": {},
   "source": [
    "## Indentación\n",
    "\n",
    "Es importante comprender bien cómo funciona la sangría en Python para mantener la estructura y el orden de su código. ¡Tocaremos este tema nuevamente cuando comencemos a construir funciones!"
   ]
  },
  {
   "cell_type": "code",
   "execution_count": null,
   "metadata": {},
   "outputs": [],
   "source": []
  }
 ],
 "metadata": {
  "kernelspec": {
   "display_name": "Python 3 (ipykernel)",
   "language": "python",
   "name": "python3"
  },
  "language_info": {
   "codemirror_mode": {
    "name": "ipython",
    "version": 3
   },
   "file_extension": ".py",
   "mimetype": "text/x-python",
   "name": "python",
   "nbconvert_exporter": "python",
   "pygments_lexer": "ipython3",
   "version": "3.9.6"
  }
 },
 "nbformat": 4,
 "nbformat_minor": 4
}
