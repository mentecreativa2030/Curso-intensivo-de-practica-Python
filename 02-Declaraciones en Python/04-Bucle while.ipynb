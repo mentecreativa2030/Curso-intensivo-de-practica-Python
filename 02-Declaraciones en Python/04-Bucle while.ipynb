{
 "cells": [
  {
   "cell_type": "markdown",
   "metadata": {},
   "source": [
    "# bucles while\n",
    "\n",
    "La instrucción <code> while </code> en Python es una de las formas más generales de realizar iteraciones. Una declaración <code> while </code> ejecutará repetidamente una sola declaración o grupo de declaraciones siempre que la condición sea verdadera. La razón por la que se llama \"bucle\" es porque las declaraciones de código se repiten una y otra vez hasta que ya no se cumple la condición.\n",
    "\n",
    "El formato general de un bucle while es:\n",
    "\n",
    "     while prueba:\n",
    "         declaraciones de código\n",
    "     else:\n",
    "         declaraciones de código finales\n",
    "\n",
    "Veamos algunos bucles <code> while </code> simples en acción."
   ]
  },
  {
   "cell_type": "code",
   "execution_count": 1,
   "metadata": {},
   "outputs": [
    {
     "name": "stdout",
     "output_type": "stream",
     "text": [
      "x es actualmente:  0\n",
      " x es todavía menos que 10, agregando 1 a x\n",
      "x es actualmente:  1\n",
      " x es todavía menos que 10, agregando 1 a x\n",
      "x es actualmente:  2\n",
      " x es todavía menos que 10, agregando 1 a x\n",
      "x es actualmente:  3\n",
      " x es todavía menos que 10, agregando 1 a x\n",
      "x es actualmente:  4\n",
      " x es todavía menos que 10, agregando 1 a x\n",
      "x es actualmente:  5\n",
      " x es todavía menos que 10, agregando 1 a x\n",
      "x es actualmente:  6\n",
      " x es todavía menos que 10, agregando 1 a x\n",
      "x es actualmente:  7\n",
      " x es todavía menos que 10, agregando 1 a x\n",
      "x es actualmente:  8\n",
      " x es todavía menos que 10, agregando 1 a x\n",
      "x es actualmente:  9\n",
      " x es todavía menos que 10, agregando 1 a x\n"
     ]
    }
   ],
   "source": [
    "x = 0\n",
    "\n",
    "while x < 10:\n",
    "    print('x es actualmente: ',x)\n",
    "    print(' x es todavía menos que 10, agregando 1 a x')\n",
    "    x+=1"
   ]
  },
  {
   "cell_type": "markdown",
   "metadata": {},
   "source": [
    "Observe cuántas veces ocurrieron las declaraciones de impresión y cómo el ciclo <code> while </code> continuó hasta que se cumplió la condición Verdadera, que ocurrió una vez x == 10. Es importante tener en cuenta que una vez que esto ocurrió, el código se detuvo. Veamos cómo podemos agregar una instrucción <code> else </code>:"
   ]
  },
  {
   "cell_type": "code",
   "execution_count": 2,
   "metadata": {},
   "outputs": [
    {
     "name": "stdout",
     "output_type": "stream",
     "text": [
      "x es actualmente:  0\n",
      " x es todavía menos que 10, agregando 1 a x\n",
      "x es actualmente:  1\n",
      " x es todavía menos que 10, agregando 1 a x\n",
      "x es actualmente:  2\n",
      " x es todavía menos que 10, agregando 1 a x\n",
      "x es actualmente:  3\n",
      " x es todavía menos que 10, agregando 1 a x\n",
      "x es actualmente:  4\n",
      " x es todavía menos que 10, agregando 1 a x\n",
      "x es actualmente:  5\n",
      " x es todavía menos que 10, agregando 1 a x\n",
      "x es actualmente:  6\n",
      " x es todavía menos que 10, agregando 1 a x\n",
      "x es actualmente:  7\n",
      " x es todavía menos que 10, agregando 1 a x\n",
      "x es actualmente:  8\n",
      " x es todavía menos que 10, agregando 1 a x\n",
      "x es actualmente:  9\n",
      " x es todavía menos que 10, agregando 1 a x\n",
      "todo listo\n"
     ]
    }
   ],
   "source": [
    "x = 0\n",
    "\n",
    "while x < 10:\n",
    "    print('x es actualmente: ',x)\n",
    "    print(' x es todavía menos que 10, agregando 1 a x')\n",
    "    x+=1\n",
    "    \n",
    "else:\n",
    "    print('todo listo')"
   ]
  },
  {
   "cell_type": "markdown",
   "metadata": {},
   "source": [
    "# break, continue, pass\n",
    "\n",
    "Podemos usar declaraciones <code> break </code>, <code> continue </code> y <code> pass </code> en nuestros bucles para agregar funcionalidad adicional para varios casos. Las tres declaraciones se definen por:\n",
    "\n",
    "     break: rompe el bucle de cierre más cercano actual.\n",
    "     continuar: va a la parte superior del bucle circundante más cercano.\n",
    "     pasar: No hace nada en absoluto.\n",
    "    \n",
    "    \n",
    "Pensando en las declaraciones <code> break </code> y <code> continue </code>, el formato general del bucle <code> while </code> se ve así:\n",
    "\n",
    "     while prueba:\n",
    "         declaración de código\n",
    "         if prueba:\n",
    "             break\n",
    "         if prueba:\n",
    "             continue\n",
    "     else:\n",
    "\n",
    "Las sentencias <code> break </code> y <code> continue </code> pueden aparecer en cualquier lugar dentro del cuerpo del bucle, pero normalmente las colocaremos más anidadas junto con una sentencia <code> if </code> para realizar una acción basada en alguna condición.\n",
    "\n",
    "¡Sigamos adelante y veamos algunos ejemplos!"
   ]
  },
  {
   "cell_type": "code",
   "execution_count": 3,
   "metadata": {},
   "outputs": [
    {
     "name": "stdout",
     "output_type": "stream",
     "text": [
      "x es actualmente:  0\n",
      " x es todavía menos que 10, agregar 1 a x\n",
      "continuar...\n",
      "x es actualmente:  1\n",
      " x es todavía menos que 10, agregar 1 a x\n",
      "continuar...\n",
      "x es actualmente:  2\n",
      " x es todavía menos que 10, agregar 1 a x\n",
      "x==3\n",
      "x es actualmente:  3\n",
      " x es todavía menos que 10, agregar 1 a x\n",
      "continuar...\n",
      "x es actualmente:  4\n",
      " x es todavía menos que 10, agregar 1 a x\n",
      "continuar...\n",
      "x es actualmente:  5\n",
      " x es todavía menos que 10, agregar 1 a x\n",
      "continuar...\n",
      "x es actualmente:  6\n",
      " x es todavía menos que 10, agregar 1 a x\n",
      "continuar...\n",
      "x es actualmente:  7\n",
      " x es todavía menos que 10, agregar 1 a x\n",
      "continuar...\n",
      "x es actualmente:  8\n",
      " x es todavía menos que 10, agregar 1 a x\n",
      "continuar...\n",
      "x es actualmente:  9\n",
      " x es todavía menos que 10, agregar 1 a x\n",
      "continuar...\n"
     ]
    }
   ],
   "source": [
    "x = 0\n",
    "\n",
    "while x < 10:\n",
    "    print('x es actualmente: ',x)\n",
    "    print(' x es todavía menos que 10, agregar 1 a x')\n",
    "    x+=1\n",
    "    if x==3:\n",
    "        print('x==3')\n",
    "    else:\n",
    "        print('continuar...')\n",
    "        continue"
   ]
  },
  {
   "cell_type": "markdown",
   "metadata": {},
   "source": [
    "Observe cómo tenemos una declaración impresa cuando x == 3, y se sigue imprimiendo a medida que continuamos por el ciclo externo while. Hagamos un descanso una vez x == 3 y veamos si el resultado tiene sentido:"
   ]
  },
  {
   "cell_type": "code",
   "execution_count": 4,
   "metadata": {},
   "outputs": [
    {
     "name": "stdout",
     "output_type": "stream",
     "text": [
      "x es actualmente:  0\n",
      " x es todavía menos que 10, agregando 1 a x\n",
      "continuando...\n",
      "x es actualmente:  1\n",
      " x es todavía menos que 10, agregando 1 a x\n",
      "continuando...\n",
      "x es actualmente:  2\n",
      " x es todavía menos que 10, agregando 1 a x\n",
      "Rompiendo porque x==3\n"
     ]
    }
   ],
   "source": [
    "x = 0\n",
    "\n",
    "while x < 10:\n",
    "    print('x es actualmente: ',x)\n",
    "    print(' x es todavía menos que 10, agregando 1 a x')\n",
    "    x+=1\n",
    "    if x==3:\n",
    "        print('Rompiendo porque x==3')\n",
    "        break\n",
    "    else:\n",
    "        print('continuando...')\n",
    "        continue"
   ]
  },
  {
   "cell_type": "markdown",
   "metadata": {},
   "source": [
    "Tenga en cuenta que no se alcanzó la otra instrucción <code> else </code> y que la continuación nunca se imprimió.\n",
    "\n",
    "Después de estos breves pero sencillos ejemplos, debería sentirse cómodo utilizando instrucciones <code> while </code> en su código.\n",
    "\n",
    "** ¡Sin embargo, una advertencia! Es posible crear un bucle de ejecución infinita con instrucciones <code> while </code>. Por ejemplo:**"
   ]
  },
  {
   "cell_type": "code",
   "execution_count": null,
   "metadata": {},
   "outputs": [],
   "source": []
  }
 ],
 "metadata": {
  "kernelspec": {
   "display_name": "Python 3 (ipykernel)",
   "language": "python",
   "name": "python3"
  },
  "language_info": {
   "codemirror_mode": {
    "name": "ipython",
    "version": 3
   },
   "file_extension": ".py",
   "mimetype": "text/x-python",
   "name": "python",
   "nbconvert_exporter": "python",
   "pygments_lexer": "ipython3",
   "version": "3.9.6"
  }
 },
 "nbformat": 4,
 "nbformat_minor": 4
}
