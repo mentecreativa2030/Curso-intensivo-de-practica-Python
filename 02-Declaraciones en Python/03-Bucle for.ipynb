{
 "cells": [
  {
   "cell_type": "markdown",
   "metadata": {},
   "source": [
    "# bucles for\n",
    "Un bucle <code> for </code> actúa como un iterador en Python; pasa por elementos que están en una *secuencia* o cualquier otro elemento iterable. Los objetos que hemos aprendido sobre los que podemos iterar incluyen cadenas, listas, tuplas e incluso iterables integrados para diccionarios, como claves o valores.\n",
    "\n",
    "Ya hemos visto un poco la declaración <code> for </code> en conferencias anteriores, pero ahora formalicemos nuestra comprensión.\n",
    "\n",
    "Aquí está el formato general para un bucle <code> for </code> en Python:\n",
    "\n",
    "    for articulo in objeto:\n",
    "        declaraciones por hacer\n",
    "    "
   ]
  },
  {
   "cell_type": "markdown",
   "metadata": {},
   "source": [
    "El nombre de la variable utilizada para el elemento depende completamente del codificador, así que use su mejor criterio para elegir un nombre que tenga sentido y podrá entenderlo cuando vuelva a visitar su código. A continuación, se puede hacer referencia a este nombre de elemento dentro de su bucle, por ejemplo, si desea utilizar instrucciones <code> if </code> para realizar comprobaciones.\n",
    "\n",
    "Sigamos adelante y trabajemos con varios ejemplos de bucles <code> for </code> utilizando una variedad de tipos de objetos de datos. Comenzaremos de manera simple y crearemos más complejidad más adelante.\n",
    "\n",
    "## Ejemplo 1\n",
    "Iterando a través de una lista"
   ]
  },
  {
   "cell_type": "code",
   "execution_count": 1,
   "metadata": {
    "tags": []
   },
   "outputs": [],
   "source": [
    "# Aprenderemos cómo automatizar este tipo de lista en la próxima lección.\n",
    "lista1 = [1,2,3,4,5,6,7,8,9,10]"
   ]
  },
  {
   "cell_type": "code",
   "execution_count": 2,
   "metadata": {},
   "outputs": [
    {
     "name": "stdout",
     "output_type": "stream",
     "text": [
      "1\n",
      "2\n",
      "3\n",
      "4\n",
      "5\n",
      "6\n",
      "7\n",
      "8\n",
      "9\n",
      "10\n"
     ]
    }
   ],
   "source": [
    "for num in lista1:\n",
    "    print(num)"
   ]
  },
  {
   "cell_type": "markdown",
   "metadata": {},
   "source": [
    "¡Excelente! Ojalá esto tenga sentido. Ahora agreguemos una instrucción <code> if </code> para verificar números pares. Primero presentaremos un nuevo concepto aquí: el módulo.\n",
    "### Módulo\n",
    "El módulo nos permite obtener el resto en una división y usa el símbolo **%**. Por ejemplo:"
   ]
  },
  {
   "cell_type": "code",
   "execution_count": 3,
   "metadata": {},
   "outputs": [
    {
     "data": {
      "text/plain": [
       "2"
      ]
     },
     "execution_count": 3,
     "metadata": {},
     "output_type": "execute_result"
    }
   ],
   "source": [
    "17 % 5"
   ]
  },
  {
   "cell_type": "markdown",
   "metadata": {},
   "source": [
    "Esto tiene sentido ya que 17 dividido entre 5 es 3 resto 2. Veamos algunos ejemplos más rápidos:"
   ]
  },
  {
   "cell_type": "code",
   "execution_count": 4,
   "metadata": {},
   "outputs": [
    {
     "data": {
      "text/plain": [
       "1"
      ]
     },
     "execution_count": 4,
     "metadata": {},
     "output_type": "execute_result"
    }
   ],
   "source": [
    "# 3 remanente 1\n",
    "10 % 3"
   ]
  },
  {
   "cell_type": "code",
   "execution_count": 5,
   "metadata": {},
   "outputs": [
    {
     "data": {
      "text/plain": [
       "4"
      ]
     },
     "execution_count": 5,
     "metadata": {},
     "output_type": "execute_result"
    }
   ],
   "source": [
    "# 2 remanente 4\n",
    "18 % 7"
   ]
  },
  {
   "cell_type": "code",
   "execution_count": 6,
   "metadata": {},
   "outputs": [
    {
     "data": {
      "text/plain": [
       "0"
      ]
     },
     "execution_count": 6,
     "metadata": {},
     "output_type": "execute_result"
    }
   ],
   "source": [
    "# 2 no remanente\n",
    "4 % 2"
   ]
  },
  {
   "cell_type": "markdown",
   "metadata": {},
   "source": [
    "Observe que si un número es completamente divisible sin resto, el resultado de la llamada de módulo es 0. Podemos usar esto para probar números pares, ya que si un número módulo 2 es igual a 0, ¡eso significa que es un número par!\n",
    "\n",
    "¡De vuelta a los bucles <code> for </code>!\n",
    "\n",
    "## Ejemplo 2\n",
    "¡Imprimamos solo los números pares de esa lista!"
   ]
  },
  {
   "cell_type": "code",
   "execution_count": 7,
   "metadata": {},
   "outputs": [
    {
     "name": "stdout",
     "output_type": "stream",
     "text": [
      "2\n",
      "4\n",
      "6\n",
      "8\n",
      "10\n"
     ]
    }
   ],
   "source": [
    "for num in lista1:\n",
    "    if num % 2 == 0:\n",
    "        print(num)"
   ]
  },
  {
   "cell_type": "markdown",
   "metadata": {},
   "source": [
    "También podríamos haber puesto una instrucción <code> else </code> allí:"
   ]
  },
  {
   "cell_type": "code",
   "execution_count": 8,
   "metadata": {},
   "outputs": [
    {
     "name": "stdout",
     "output_type": "stream",
     "text": [
      "Número impar\n",
      "2\n",
      "Número impar\n",
      "4\n",
      "Número impar\n",
      "6\n",
      "Número impar\n",
      "8\n",
      "Número impar\n",
      "10\n"
     ]
    }
   ],
   "source": [
    "for num in lista1:\n",
    "    if num % 2 == 0:\n",
    "        print(num)\n",
    "    else:\n",
    "        print('Número impar')"
   ]
  },
  {
   "cell_type": "markdown",
   "metadata": {},
   "source": [
    "## Ejemplo 3\n",
    "Otra idea común durante un bucle <code> for </code> es mantener algún tipo de cuenta corriente durante múltiples bucles. Por ejemplo, creemos un bucle <code> for </code> que resuma la lista:"
   ]
  },
  {
   "cell_type": "code",
   "execution_count": 9,
   "metadata": {},
   "outputs": [
    {
     "name": "stdout",
     "output_type": "stream",
     "text": [
      "0\n"
     ]
    }
   ],
   "source": [
    "# Empezar suma en cero\n",
    "lista_sum = 0 \n",
    "\n",
    "for num in lista1:\n",
    "    list_sum = lista_sum + num\n",
    "\n",
    "print(lista_sum)"
   ]
  },
  {
   "cell_type": "markdown",
   "metadata": {},
   "source": [
    "¡Excelente! Lea la celda anterior y asegúrese de comprender completamente lo que está sucediendo. También podríamos haber implementado un <code> + = </code> para realizar la suma hacia la suma. Por ejemplo:"
   ]
  },
  {
   "cell_type": "code",
   "execution_count": 10,
   "metadata": {},
   "outputs": [
    {
     "name": "stdout",
     "output_type": "stream",
     "text": [
      "55\n"
     ]
    }
   ],
   "source": [
    "# Empezar suma en cero\n",
    "lista_sum = 0 \n",
    "\n",
    "for num in lista1:\n",
    "    lista_sum += num\n",
    "\n",
    "print(lista_sum)"
   ]
  },
  {
   "cell_type": "markdown",
   "metadata": {},
   "source": [
    "## Ejemplo 4\n",
    "Hemos usado bucles <code> for </code> con listas, ¿qué tal con cadenas? Recuerde que las cadenas son una secuencia, por lo que cuando las recorramos, accederemos a cada elemento de esa cadena."
   ]
  },
  {
   "cell_type": "code",
   "execution_count": 11,
   "metadata": {},
   "outputs": [
    {
     "name": "stdout",
     "output_type": "stream",
     "text": [
      "E\n",
      "s\n",
      "t\n",
      "a\n",
      " \n",
      "e\n",
      "s\n",
      " \n",
      "u\n",
      "n\n",
      "a\n",
      " \n",
      "c\n",
      "a\n",
      "d\n",
      "e\n",
      "n\n",
      "a\n"
     ]
    }
   ],
   "source": [
    "for letra in 'Esta es una cadena':\n",
    "    print(letra)"
   ]
  },
  {
   "cell_type": "markdown",
   "metadata": {},
   "source": [
    "## Ejemplo 5\n",
    "Veamos ahora cómo se puede usar un bucle <code> for </code> con una tupla:"
   ]
  },
  {
   "cell_type": "code",
   "execution_count": 12,
   "metadata": {},
   "outputs": [
    {
     "name": "stdout",
     "output_type": "stream",
     "text": [
      "1\n",
      "2\n",
      "3\n",
      "4\n",
      "5\n"
     ]
    }
   ],
   "source": [
    "tup = (1,2,3,4,5)\n",
    "\n",
    "for t in tup:\n",
    "    print(t)"
   ]
  },
  {
   "cell_type": "markdown",
   "metadata": {},
   "source": [
    "## Ejemplo 6\n",
    "Las tuplas tienen una calidad especial cuando se trata de bucles <code> for </code>. Si está iterando a través de una secuencia que contiene tuplas, el elemento en realidad puede ser la tupla en sí, este es un ejemplo de * desempaquetado de tuplas *. Durante el ciclo <code> for </code>, desempaquetaremos la tupla dentro de una secuencia y podremos acceder a los elementos individuales dentro de esa tupla."
   ]
  },
  {
   "cell_type": "code",
   "execution_count": 13,
   "metadata": {
    "tags": []
   },
   "outputs": [],
   "source": [
    "lista2 = [(2,4),(6,8),(10,12)]"
   ]
  },
  {
   "cell_type": "code",
   "execution_count": 14,
   "metadata": {},
   "outputs": [
    {
     "name": "stdout",
     "output_type": "stream",
     "text": [
      "(2, 4)\n",
      "(6, 8)\n",
      "(10, 12)\n"
     ]
    }
   ],
   "source": [
    "for tup in lista2:\n",
    "    print(tup)"
   ]
  },
  {
   "cell_type": "code",
   "execution_count": 15,
   "metadata": {},
   "outputs": [
    {
     "name": "stdout",
     "output_type": "stream",
     "text": [
      "2\n",
      "6\n",
      "10\n"
     ]
    }
   ],
   "source": [
    "# Ahora desempacando\n",
    "for (t1,t2) in lista2:\n",
    "    print(t1)"
   ]
  },
  {
   "cell_type": "markdown",
   "metadata": {},
   "source": [
    "Con tuplas en una secuencia, podemos acceder a los elementos dentro de ellas mediante el desembalaje. La razón por la que esto es importante es porque muchos objetos entregarán sus iterables a través de tuplas. ¡Comencemos a explorar la iteración a través de diccionarios para explorar esto más a fondo!"
   ]
  },
  {
   "cell_type": "markdown",
   "metadata": {},
   "source": [
    "## Ejemplo 7"
   ]
  },
  {
   "cell_type": "code",
   "execution_count": 15,
   "metadata": {
    "tags": []
   },
   "outputs": [],
   "source": [
    "d = {'k1':1,'k2':2,'k3':3}"
   ]
  },
  {
   "cell_type": "code",
   "execution_count": 17,
   "metadata": {},
   "outputs": [
    {
     "name": "stdout",
     "output_type": "stream",
     "text": [
      "k1\n",
      "k2\n",
      "k3\n"
     ]
    }
   ],
   "source": [
    "for articulo in d:\n",
    "    print(articulo)"
   ]
  },
  {
   "cell_type": "markdown",
   "metadata": {},
   "source": [
    "Observe cómo esto produce solo las claves. Entonces, ¿cómo podemos obtener los valores? ¿O tanto las claves como los valores?\n",
    "\n",
    "Vamos a introducir tres nuevos métodos de diccionario: **Keys()**, **.Values()** y **.Items ()**\n",
    "\n",
    "En Python, cada uno de estos métodos devuelve un * objeto de vista de diccionario *. Admite operaciones como la prueba de membresía y la iteración, pero su contenido no es independiente del diccionario original, es solo una vista. Veámoslo en acción:"
   ]
  },
  {
   "cell_type": "code",
   "execution_count": 16,
   "metadata": {},
   "outputs": [
    {
     "data": {
      "text/plain": [
       "dict_items([('k1', 1), ('k2', 2), ('k3', 3)])"
      ]
     },
     "execution_count": 16,
     "metadata": {},
     "output_type": "execute_result"
    }
   ],
   "source": [
    "# Crear un objeto de vista de diccionario\n",
    "d.items()"
   ]
  },
  {
   "cell_type": "markdown",
   "metadata": {},
   "source": [
    "Dado que el método **.items()** admite la iteración, podemos realizar *desempaquetado de diccionario* para separar claves y valores tal como lo hicimos en los ejemplos anteriores."
   ]
  },
  {
   "cell_type": "code",
   "execution_count": 17,
   "metadata": {},
   "outputs": [
    {
     "name": "stdout",
     "output_type": "stream",
     "text": [
      "k1\n",
      "1\n",
      "k2\n",
      "2\n",
      "k3\n",
      "3\n"
     ]
    }
   ],
   "source": [
    "# Desempacando diccionario\n",
    "for k,v in d.items():\n",
    "    print(k)\n",
    "    print(v) "
   ]
  },
  {
   "cell_type": "markdown",
   "metadata": {},
   "source": [
    "Si desea obtener una lista real de claves, valores o tuplas clave/valor, puede **convertir** la vista como una lista:"
   ]
  },
  {
   "cell_type": "code",
   "execution_count": 18,
   "metadata": {},
   "outputs": [
    {
     "data": {
      "text/plain": [
       "['k1', 'k2', 'k3']"
      ]
     },
     "execution_count": 18,
     "metadata": {},
     "output_type": "execute_result"
    }
   ],
   "source": [
    "list(d.keys())"
   ]
  },
  {
   "cell_type": "markdown",
   "metadata": {},
   "source": [
    "Recuerde que los diccionarios están desordenados y que las claves y los valores vuelven en un orden arbitrario. Puede obtener una lista ordenada usando sorted ():"
   ]
  },
  {
   "cell_type": "code",
   "execution_count": 19,
   "metadata": {},
   "outputs": [
    {
     "data": {
      "text/plain": [
       "[1, 2, 3]"
      ]
     },
     "execution_count": 19,
     "metadata": {},
     "output_type": "execute_result"
    }
   ],
   "source": [
    "sorted(d.values())"
   ]
  },
  {
   "cell_type": "markdown",
   "metadata": {},
   "source": [
    "## Conclusión\n",
    "\n",
    "Hemos aprendido a usar bucles for para iterar a través de tuplas, listas, cadenas y diccionarios. Será una herramienta importante para nosotros, así que asegúrese de conocerla bien y comprender los ejemplos anteriores.\n",
    "\n",
    "[Más recursos](http://www.tutorialspoint.com/python/python_for_loop.htm)"
   ]
  },
  {
   "cell_type": "code",
   "execution_count": null,
   "metadata": {},
   "outputs": [],
   "source": []
  }
 ],
 "metadata": {
  "kernelspec": {
   "display_name": "Python 3 (ipykernel)",
   "language": "python",
   "name": "python3"
  },
  "language_info": {
   "codemirror_mode": {
    "name": "ipython",
    "version": 3
   },
   "file_extension": ".py",
   "mimetype": "text/x-python",
   "name": "python",
   "nbconvert_exporter": "python",
   "pygments_lexer": "ipython3",
   "version": "3.9.6"
  }
 },
 "nbformat": 4,
 "nbformat_minor": 4
}
