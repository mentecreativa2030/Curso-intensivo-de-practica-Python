{
 "cells": [
  {
   "cell_type": "markdown",
   "metadata": {},
   "source": [
    "# Soluciones de evaluación de declaraciones"
   ]
  },
  {
   "cell_type": "markdown",
   "metadata": {},
   "source": [
    "_____\n",
    "**Use <code> for </code>, .split () y <code> if </code> para crear una declaración que imprima palabras que comiencen con 's':**"
   ]
  },
  {
   "cell_type": "code",
   "execution_count": 1,
   "metadata": {
    "tags": []
   },
   "outputs": [],
   "source": [
    "st = 'Imprime solo las palabras que comienzan con s en esta oración'"
   ]
  },
  {
   "cell_type": "code",
   "execution_count": 3,
   "metadata": {},
   "outputs": [
    {
     "name": "stdout",
     "output_type": "stream",
     "text": [
      "solo\n",
      "s\n"
     ]
    }
   ],
   "source": [
    "for palabra in st.split():\n",
    "    if palabra[0] == 's':\n",
    "        print(palabra)"
   ]
  },
  {
   "cell_type": "markdown",
   "metadata": {},
   "source": [
    "______\n",
    "**Utilice range() para imprimir todos los números pares del 0 al 10.**"
   ]
  },
  {
   "cell_type": "code",
   "execution_count": 4,
   "metadata": {},
   "outputs": [
    {
     "data": {
      "text/plain": [
       "[0, 2, 4, 6, 8, 10]"
      ]
     },
     "execution_count": 4,
     "metadata": {},
     "output_type": "execute_result"
    }
   ],
   "source": [
    "list(range(0,11,2))"
   ]
  },
  {
   "cell_type": "markdown",
   "metadata": {},
   "source": [
    "___\n",
    "**Utilice la comprensión de listas para crear una lista de todos los números entre 1 y 50 que son divisibles por 3.**"
   ]
  },
  {
   "cell_type": "code",
   "execution_count": 5,
   "metadata": {},
   "outputs": [
    {
     "data": {
      "text/plain": [
       "[3, 6, 9, 12, 15, 18, 21, 24, 27, 30, 33, 36, 39, 42, 45, 48]"
      ]
     },
     "execution_count": 5,
     "metadata": {},
     "output_type": "execute_result"
    }
   ],
   "source": [
    "[x for x in range(1,51) if x%3 == 0]"
   ]
  },
  {
   "cell_type": "markdown",
   "metadata": {},
   "source": [
    "_____\n",
    "**Revise la cadena de abajo y si la longitud de una palabra es par, escriba \"¡par!\"**"
   ]
  },
  {
   "cell_type": "code",
   "execution_count": 5,
   "metadata": {
    "tags": []
   },
   "outputs": [],
   "source": [
    "st = 'Imprime cada palabra de esta oración que tenga un número par de letras'"
   ]
  },
  {
   "cell_type": "code",
   "execution_count": 6,
   "metadata": {},
   "outputs": [
    {
     "name": "stdout",
     "output_type": "stream",
     "text": [
      "solo<- ¡tiene una longitud uniforme!\n",
      "palabras<- ¡tiene una longitud uniforme!\n",
      "en<- ¡tiene una longitud uniforme!\n",
      "esta<- ¡tiene una longitud uniforme!\n"
     ]
    }
   ],
   "source": [
    "for palabra in st.split():\n",
    "    if len(palabra)%2 == 0:\n",
    "        print(palabra+\"<- ¡tiene una longitud uniforme!\")"
   ]
  },
  {
   "cell_type": "markdown",
   "metadata": {},
   "source": [
    "____\n",
    "** Escriba un programa que imprima los números enteros del 1 al 100. Pero para los múltiplos de tres escriba \"Fizz\" en lugar del número, y para los múltiplos de cinco imprima \"Buzz\". Para números que son múltiplos de tres y cinco, escriba \"FizzBuzz\". **"
   ]
  },
  {
   "cell_type": "code",
   "execution_count": 7,
   "metadata": {
    "tags": []
   },
   "outputs": [
    {
     "name": "stdout",
     "output_type": "stream",
     "text": [
      "1\n",
      "2\n",
      "efervescencia\n",
      "4\n",
      "zumbido\n",
      "efervescencia\n",
      "7\n",
      "8\n",
      "efervescencia\n",
      "zumbido\n",
      "11\n",
      "efervescencia\n",
      "13\n",
      "14\n",
      "efervescenciazumbido\n",
      "16\n",
      "17\n",
      "efervescencia\n",
      "19\n",
      "zumbido\n",
      "efervescencia\n",
      "22\n",
      "23\n",
      "efervescencia\n",
      "zumbido\n",
      "26\n",
      "efervescencia\n",
      "28\n",
      "29\n",
      "efervescenciazumbido\n",
      "31\n",
      "32\n",
      "efervescencia\n",
      "34\n",
      "zumbido\n",
      "efervescencia\n",
      "37\n",
      "38\n",
      "efervescencia\n",
      "zumbido\n",
      "41\n",
      "efervescencia\n",
      "43\n",
      "44\n",
      "efervescenciazumbido\n",
      "46\n",
      "47\n",
      "efervescencia\n",
      "49\n",
      "zumbido\n",
      "efervescencia\n",
      "52\n",
      "53\n",
      "efervescencia\n",
      "zumbido\n",
      "56\n",
      "efervescencia\n",
      "58\n",
      "59\n",
      "efervescenciazumbido\n",
      "61\n",
      "62\n",
      "efervescencia\n",
      "64\n",
      "zumbido\n",
      "efervescencia\n",
      "67\n",
      "68\n",
      "efervescencia\n",
      "zumbido\n",
      "71\n",
      "efervescencia\n",
      "73\n",
      "74\n",
      "efervescenciazumbido\n",
      "76\n",
      "77\n",
      "efervescencia\n",
      "79\n",
      "zumbido\n",
      "efervescencia\n",
      "82\n",
      "83\n",
      "efervescencia\n",
      "zumbido\n",
      "86\n",
      "efervescencia\n",
      "88\n",
      "89\n",
      "efervescenciazumbido\n",
      "91\n",
      "92\n",
      "efervescencia\n",
      "94\n",
      "zumbido\n",
      "efervescencia\n",
      "97\n",
      "98\n",
      "efervescencia\n",
      "zumbido\n"
     ]
    }
   ],
   "source": [
    "for num in range(1,101):\n",
    "    if num % 3 == 0 and num % 5 == 0:\n",
    "        print(\"efervescenciazumbido\")\n",
    "    elif num % 3 == 0:\n",
    "        print(\"efervescencia\")\n",
    "    elif num % 5 == 0:\n",
    "        print(\"zumbido\")\n",
    "    else:\n",
    "        print(num)"
   ]
  },
  {
   "cell_type": "markdown",
   "metadata": {},
   "source": [
    "____\n",
    "**Use una Comprensión de lista para crear una lista de las primeras letras de cada palabra en la cadena a continuación:**"
   ]
  },
  {
   "cell_type": "code",
   "execution_count": 8,
   "metadata": {
    "tags": []
   },
   "outputs": [],
   "source": [
    "st = 'Cree una lista de las primeras letras de cada palabra en esta cadena'"
   ]
  },
  {
   "cell_type": "code",
   "execution_count": 8,
   "metadata": {},
   "outputs": [
    {
     "data": {
      "text/plain": [
       "['I', 's', 'l', 'p', 'q', 'c', 'c', 's', 'e', 'e', 'o']"
      ]
     },
     "execution_count": 8,
     "metadata": {},
     "output_type": "execute_result"
    }
   ],
   "source": [
    "[palabra[0] for palabra in st.split()]"
   ]
  },
  {
   "cell_type": "markdown",
   "metadata": {},
   "source": [
    "### Buen trabajo!"
   ]
  },
  {
   "cell_type": "code",
   "execution_count": null,
   "metadata": {},
   "outputs": [],
   "source": []
  }
 ],
 "metadata": {
  "kernelspec": {
   "display_name": "Python 3 (ipykernel)",
   "language": "python",
   "name": "python3"
  },
  "language_info": {
   "codemirror_mode": {
    "name": "ipython",
    "version": 3
   },
   "file_extension": ".py",
   "mimetype": "text/x-python",
   "name": "python",
   "nbconvert_exporter": "python",
   "pygments_lexer": "ipython3",
   "version": "3.9.6"
  }
 },
 "nbformat": 4,
 "nbformat_minor": 4
}
