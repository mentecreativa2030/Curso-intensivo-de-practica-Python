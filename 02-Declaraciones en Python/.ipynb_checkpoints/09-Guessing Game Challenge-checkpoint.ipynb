{
 "cells": [
  {
   "cell_type": "markdown",
   "metadata": {},
   "source": [
    "# Desafío del juego de adivinanzas\n",
    "\n",
    "Usemos bucles \"while\" para crear un juego de adivinanzas.\n",
    "\n",
    "El reto:\n",
    "\n",
    "Escribe un programa que elija un número entero aleatorio del 1 al 100 y haga que los jugadores adivinen el número. Las reglas son:\n",
    "\n",
    "1. Si la suposición de un jugador es menor que 1 o mayor que 100, diga \"FUERA DE LOS LÍMITES\"\n",
    "2. En el primer turno de un jugador, si su conjetura es\n",
    "  * dentro de 10 del número, devuelve \"¡CALIENTE!\"\n",
    "  * a más de 10 del número, devuelve \"¡FRÍO!\"\n",
    "3. En todos los turnos subsiguientes, si se adivina\n",
    "  * más cerca del número que la suposición anterior devuelve \"¡MÁS CALIENTE!\"\n",
    "  * más lejos del número que la suposición anterior, devuelve \"¡MÁS FRÍO!\"\n",
    "4. Cuando la suposición del jugador sea igual al número, dígales que han adivinado correctamente * y * ¡cuántas suposiciones tomó!\n",
    "\n",
    "Puede probar esto desde cero o seguir los pasos que se describen a continuación. Se ha proporcionado un cuaderno de soluciones independiente. ¡Buena suerte!\n"
   ]
  },
  {
   "cell_type": "markdown",
   "metadata": {},
   "source": [
    "#### Primero, elija un número entero aleatorio de 1 a 100 usando el módulo aleatorio y asígnelo a una variable\n",
    "\n",
    "Nota: `random.randint (a, b)` devuelve un número entero aleatorio en el rango `[a, b]`, incluyendo ambos puntos finales."
   ]
  },
  {
   "cell_type": "code",
   "execution_count": null,
   "metadata": {
    "tags": []
   },
   "outputs": [],
   "source": []
  },
  {
   "cell_type": "markdown",
   "metadata": {},
   "source": [
    "#### A continuación, imprime una introducción al juego y explica las reglas"
   ]
  },
  {
   "cell_type": "code",
   "execution_count": null,
   "metadata": {
    "tags": []
   },
   "outputs": [],
   "source": []
  },
  {
   "cell_type": "markdown",
   "metadata": {},
   "source": [
    "#### Crea una lista para almacenar conjeturas\n",
    "\n",
    "Sugerencia: cero es un buen valor de marcador de posición. Es útil porque se evalúa como \"Falso\"."
   ]
  },
  {
   "cell_type": "code",
   "execution_count": null,
   "metadata": {
    "tags": []
   },
   "outputs": [],
   "source": []
  },
  {
   "cell_type": "markdown",
   "metadata": {},
   "source": [
    "#### Escribe un bucle `while` que pide una suposición válida. Pruébelo varias veces para asegurarse de que funcione."
   ]
  },
  {
   "cell_type": "code",
   "execution_count": null,
   "metadata": {
    "tags": []
   },
   "outputs": [],
   "source": [
    "while True:\n",
    "    \n",
    "    pass"
   ]
  },
  {
   "cell_type": "markdown",
   "metadata": {},
   "source": [
    "#### Escribe un bucle `while` que compare la suposición del jugador con nuestro número. Si el jugador adivina correctamente, salga del bucle. De lo contrario, dígale al jugador si está más cálido o más frío, y continúe pidiendo conjeturas.\n",
    "Algunas pistas:\n",
    "* ¡Puede ser útil esbozar primero todas las combinaciones posibles en papel!\n",
    "* puede usar la función `abs ()` para encontrar la diferencia positiva entre dos números\n",
    "* si agrega todas las nuevas suposiciones a la lista, entonces la suposición anterior se da como `suposiciones [-2]`"
   ]
  },
  {
   "cell_type": "code",
   "execution_count": null,
   "metadata": {
    "tags": []
   },
   "outputs": [],
   "source": [
    "while True:\n",
    "\n",
    "    # podemos copiar el código de arriba para tomar una entrada\n",
    "\n",
    "    pass"
   ]
  },
  {
   "cell_type": "markdown",
   "metadata": {},
   "source": [
    "¡Eso es! ¡Acabas de programar tu primer juego!\n",
    "\n",
    "En la siguiente sección aprenderemos cómo convertir algunas de estas acciones repetitivas en * funciones * que se pueden llamar siempre que las necesitemos."
   ]
  },
  {
   "cell_type": "markdown",
   "metadata": {},
   "source": [
    "### Buen trabajo!"
   ]
  },
  {
   "cell_type": "code",
   "execution_count": null,
   "metadata": {},
   "outputs": [],
   "source": []
  }
 ],
 "metadata": {
  "kernelspec": {
   "display_name": "Python 3 (ipykernel)",
   "language": "python",
   "name": "python3"
  },
  "language_info": {
   "codemirror_mode": {
    "name": "ipython",
    "version": 3
   },
   "file_extension": ".py",
   "mimetype": "text/x-python",
   "name": "python",
   "nbconvert_exporter": "python",
   "pygments_lexer": "ipython3",
   "version": "3.9.6"
  }
 },
 "nbformat": 4,
 "nbformat_minor": 4
}
