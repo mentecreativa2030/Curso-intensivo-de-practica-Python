{
 "cells": [
  {
   "cell_type": "markdown",
   "metadata": {},
   "source": [
    "# Desafío del juego de adivinanzas - Solución\n",
    "\n",
    "Usemos bucles \"while\" para crear un juego de adivinanzas.\n",
    "\n",
    "El reto:\n",
    "\n",
    "Escribe un programa que elija un número entero aleatorio del 1 al 100 y haga que los jugadores adivinen el número. Las reglas son:\n",
    "\n",
    "1. Si la suposición de un jugador es menor que 1 o mayor que 100, diga \"FUERA DE LOS LÍMITES\"\n",
    "2. En el primer turno de un jugador, si su conjetura es\n",
    "  * dentro de 10 del número, devuelve \"¡CALIENTE!\"\n",
    "  * a más de 10 del número, devuelve \"¡FRÍO!\"\n",
    "3. En todos los turnos subsiguientes, si se adivina\n",
    "  * más cerca del número que la suposición anterior devuelve \"¡MÁS CALIENTE!\"\n",
    "  * más lejos del número que la suposición anterior, devuelve \"¡MÁS FRÍO!\"\n",
    "4. Cuando la suposición del jugador sea igual al número, dígales que han adivinado correctamente * y * ¡cuántas suposiciones tomó!"
   ]
  },
  {
   "cell_type": "markdown",
   "metadata": {},
   "source": [
    "#### Primero, elija un número entero aleatorio de 1 a 100 usando el módulo aleatorio y asígnelo a una variable\n",
    "\n",
    "Nota: `random.randint (a, b)` devuelve un número entero aleatorio en el rango `[a, b]`, incluyendo ambos puntos finales."
   ]
  },
  {
   "cell_type": "code",
   "execution_count": 17,
   "metadata": {
    "tags": []
   },
   "outputs": [],
   "source": [
    "import random\n",
    "\n",
    "num = random.randint(1,100)"
   ]
  },
  {
   "cell_type": "markdown",
   "metadata": {},
   "source": [
    "#### A continuación, imprime una introducción al juego y explica las reglas"
   ]
  },
  {
   "cell_type": "code",
   "execution_count": 18,
   "metadata": {
    "jupyter": {
     "source_hidden": true
    },
    "tags": []
   },
   "outputs": [
    {
     "name": "stdout",
     "output_type": "stream",
     "text": [
      "¡BIENVENIDO A ADIVINARME!\n",
      "Estoy pensando en un número entre 1 y 100\n",
      "Si tu conjetura está a más de 10 de mi número, te diré que estás FRÍO\n",
      "Si tu conjetura está dentro de 10 de mi número, te diré que estás CALIENTE\n",
      "Si su conjetura es mayor que su conjetura más reciente, diré que se está poniendo MÁS FRÍO\n",
      "Si su conjetura está más cerca que su conjetura más reciente, diré que se está poniendo MÁS CALIENTE\n",
      "¡VAMOS A JUGAR!\n"
     ]
    }
   ],
   "source": [
    "print (\"¡BIENVENIDO A ADIVINARME!\")\n",
    "print (\"Estoy pensando en un número entre 1 y 100\")\n",
    "print (\"Si tu conjetura está a más de 10 de mi número, te diré que estás FRÍO\")\n",
    "print (\"Si tu conjetura está dentro de 10 de mi número, te diré que estás CALIENTE\")\n",
    "print (\"Si su conjetura es mayor que su conjetura más reciente, diré que se está poniendo MÁS FRÍO\")\n",
    "print (\"Si su conjetura está más cerca que su conjetura más reciente, diré que se está poniendo MÁS CALIENTE\")\n",
    "print (\"¡VAMOS A JUGAR!\")"
   ]
  },
  {
   "cell_type": "markdown",
   "metadata": {},
   "source": [
    "#### Crea una lista para almacenar conjeturas\n",
    "\n",
    "Sugerencia: cero es un buen valor de marcador de posición. Es útil porque se evalúa como \"Falso\"."
   ]
  },
  {
   "cell_type": "code",
   "execution_count": 28,
   "metadata": {
    "tags": []
   },
   "outputs": [],
   "source": [
    "adivinanzas = [0]"
   ]
  },
  {
   "cell_type": "markdown",
   "metadata": {},
   "source": [
    "#### Escribe un bucle `while` que pide una suposición válida. Pruébelo varias veces para asegurarse de que funcione."
   ]
  },
  {
   "cell_type": "code",
   "execution_count": 24,
   "metadata": {},
   "outputs": [
    {
     "name": "stdin",
     "output_type": "stream",
     "text": [
      "Estoy pensando en un número entre 1 y 100. \\ n ¿Cuál es tu conjetura? 1\n"
     ]
    }
   ],
   "source": [
    "while True:\n",
    "    \n",
    "    adivinar = int(input (\"Estoy pensando en un número entre 1 y 100. \\ n ¿Cuál es tu conjetura?\"))\n",
    "    \n",
    "    if adivinar < 1 or adivinar > 100:\n",
    "        print('¡FUERA DE LOS LÍMITES! Inténtalo de nuevo: ')\n",
    "        continue\n",
    "        \n",
    "    break"
   ]
  },
  {
   "cell_type": "markdown",
   "metadata": {},
   "source": [
    "#### Escribe un bucle `while` que compare la suposición del jugador con nuestro número. Si el jugador adivina correctamente, salga del bucle. De lo contrario, dígale al jugador si está más cálido o más frío, y continúe pidiendo conjeturas.\n",
    "\n",
    "Algunas pistas:\n",
    "* ¡Puede ser útil esbozar primero todas las combinaciones posibles en papel!\n",
    "* puede usar la función `abs ()` para encontrar la diferencia positiva entre dos números\n",
    "* si agrega todas las nuevas suposiciones a la lista, entonces la suposición anterior se da como `suposiciones [-2]`"
   ]
  },
  {
   "cell_type": "code",
   "execution_count": null,
   "metadata": {
    "tags": []
   },
   "outputs": [],
   "source": [
    "while True:\n",
    "\n",
    "    # podemos copiar el código de arriba para tomar una entrada\n",
    "    adivina = int(input(\"Estoy pensando en un número entre 1 y 100.\\n ¿Cuál es tu suposición?\"))\n",
    "    \n",
    "    if adivina < 1 or adivina > 100:\n",
    "        print('¡FUERA DE LOS LÍMITES! Inténtalo de nuevo:')\n",
    "        continue\n",
    "    \n",
    "    # Aquí comparamos la conjetura del jugador con nuestro número.\n",
    "    if adivina == num:\n",
    "        print(f'EN HORA BUENA, LO ADIVINASTE EN SOLO {len(adivinanzas)} ADIVINANZAS!!')\n",
    "        break\n",
    "        \n",
    "    # si la suposición es incorrecta, agregue la suposición a la lista\n",
    "    adivinanzas.append(adivina)\n",
    "    \n",
    "    # al probar la primera suposición, adivina [-2] == 0, que se evalúa como Falso\n",
    "    # y nos lleva a la segunda sección\n",
    "    \n",
    "    if adivinanzas[-2]:  \n",
    "        if abs(num-adivina) < abs(num-adivinanzas[-2]):\n",
    "            print('MAS CALIENTE!')\n",
    "        else:\n",
    "            print('MAS FRIO!')\n",
    "   \n",
    "    else:\n",
    "        if abs(num-adivina) <= 10:\n",
    "            print('CALIENTE!')\n",
    "        else:\n",
    "            print('FRIO!')\n"
   ]
  },
  {
   "cell_type": "markdown",
   "metadata": {},
   "source": [
    "En la siguiente sección, aprenderemos cómo convertir algunas de estas acciones repetitivas en *funciones* que se pueden llamar cuando las necesitemos."
   ]
  },
  {
   "cell_type": "markdown",
   "metadata": {},
   "source": [
    "### Buen trabajo!"
   ]
  }
 ],
 "metadata": {
  "kernelspec": {
   "display_name": "Python 3 (ipykernel)",
   "language": "python",
   "name": "python3"
  },
  "language_info": {
   "codemirror_mode": {
    "name": "ipython",
    "version": 3
   },
   "file_extension": ".py",
   "mimetype": "text/x-python",
   "name": "python",
   "nbconvert_exporter": "python",
   "pygments_lexer": "ipython3",
   "version": "3.9.6"
  }
 },
 "nbformat": 4,
 "nbformat_minor": 4
}
