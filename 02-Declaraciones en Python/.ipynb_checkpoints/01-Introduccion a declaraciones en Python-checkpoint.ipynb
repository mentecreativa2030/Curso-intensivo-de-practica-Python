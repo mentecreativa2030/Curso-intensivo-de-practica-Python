{
 "cells": [
  {
   "cell_type": "markdown",
   "metadata": {
    "slideshow": {
     "slide_type": "slide"
    }
   },
   "source": [
    "# Introducción a las declaraciones de Python\n",
    "\n",
    "En esta lección haremos una descripción general rápida de las declaraciones de Python. Esta conferencia enfatizará las diferencias entre Python y otros lenguajes como C ++.\n",
    "\n",
    "Hay dos razones por las que adoptamos este enfoque para aprender el contexto de las declaraciones de Python:\n",
    "\n",
    "     1.) Si viene de un idioma diferente, esto acelerará rápidamente su comprensión de Python.\n",
    "     2.) Aprender acerca de las declaraciones le permitirá poder leer otros idiomas más fácilmente en el futuro."
   ]
  },
  {
   "cell_type": "markdown",
   "metadata": {
    "slideshow": {
     "slide_type": "slide"
    }
   },
   "source": [
    "## Python frente a otros idiomas\n",
    "\n",
    "Creemos una declaración simple que diga:\n",
    "\"Si a es mayor que b, asigne 2 a a y 4 a b\"\n",
    "\n",
    "Eche un vistazo a estas dos declaraciones if (pronto aprenderemos sobre cómo construir declaraciones if).\n",
    "\n",
    "** Versión 1 (otros idiomas) **\n",
    "\n",
    "     si (a> b) {\n",
    "         a = 2;\n",
    "         b = 4;\n",
    "     }\n",
    "                        \n",
    "** Versión 2 (Python) **\n",
    "\n",
    "     si a> b:\n",
    "         a = 2\n",
    "         b = 4"
   ]
  },
  {
   "cell_type": "markdown",
   "metadata": {},
   "source": [
    "Notarás que Python está menos desordenado y es mucho más legible que la primera versión. ¿Cómo gestiona Python esto?\n",
    "\n",
    "Repasemos las principales diferencias:\n",
    "\n",
    "Python se deshace de () y {} incorporando dos factores principales: * dos puntos * y * espacios en blanco *. La declaración termina con dos puntos y se utilizan espacios en blanco (sangría) para describir lo que ocurre en el caso de la declaración.\n",
    "\n",
    "Otra gran diferencia es la falta de punto y coma en Python. Los puntos y comas se utilizan para denotar las terminaciones de las declaraciones en muchos otros lenguajes, pero en Python, el final de una línea es el mismo que el final de una declaración.\n",
    "\n",
    "Por último, para finalizar esta breve descripción general de las diferencias, echemos un vistazo más de cerca a la sintaxis de sangría en Python frente a otros lenguajes:\n",
    "\n",
    "## Indentación\n",
    "\n",
    "Aquí hay un pseudocódigo para indicar el uso de espacios en blanco y sangría en Python:\n",
    "\n",
    "**Otros idiomas**\n",
    "\n",
    "     si (x)\n",
    "         Si y)\n",
    "             declaración de código;\n",
    "     demás\n",
    "         instrucción-otro-código;\n",
    "        \n",
    "**Python**\n",
    "    \n",
    "     si x:\n",
    "         Si y:\n",
    "             declaración de código\n",
    "     de otro modo:\n",
    "         otro-código-declaración"
   ]
  },
  {
   "cell_type": "markdown",
   "metadata": {},
   "source": [
    "Tenga en cuenta cómo Python está tan fuertemente impulsado por la sangría del código y los espacios en blanco. Esto significa que la legibilidad del código es una parte fundamental del diseño del lenguaje Python.\n",
    "\n",
    "¡Ahora comencemos a profundizar más codificando este tipo de declaraciones en Python!"
   ]
  },
  {
   "cell_type": "markdown",
   "metadata": {},
   "source": [
    "## ¡Es hora de codificar!"
   ]
  },
  {
   "cell_type": "code",
   "execution_count": null,
   "metadata": {},
   "outputs": [],
   "source": []
  }
 ],
 "metadata": {
  "kernelspec": {
   "display_name": "Python 3 (ipykernel)",
   "language": "python",
   "name": "python3"
  },
  "language_info": {
   "codemirror_mode": {
    "name": "ipython",
    "version": 3
   },
   "file_extension": ".py",
   "mimetype": "text/x-python",
   "name": "python",
   "nbconvert_exporter": "python",
   "pygments_lexer": "ipython3",
   "version": "3.9.6"
  }
 },
 "nbformat": 4,
 "nbformat_minor": 4
}
