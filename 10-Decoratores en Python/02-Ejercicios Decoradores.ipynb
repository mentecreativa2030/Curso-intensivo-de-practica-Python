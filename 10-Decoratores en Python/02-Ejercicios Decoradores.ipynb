{
 "cells": [
  {
   "cell_type": "markdown",
   "metadata": {},
   "source": [
    "# Ejercicios Decoradores (opcional)\n",
    "\n",
    "Dado que no se encontrará con decoradores hasta más adelante en su carrera de codificación, esta tarea es opcional. Consulte el marco web [Flask] (http://flask.pocoo.org/). Puedes usar Flask para crear páginas web con Python (siempre que sepas algo de HTML y CSS) ¡y usan mucho los decoradores! Aprenda cómo usan los [decoradores de vistas] (http://flask.pocoo.org/docs/0.12/patterns/viewdecorators/). No se preocupe si no comprende completamente todo sobre Flask, el punto principal de esta tarea opcional es que conoce a los decoradores en Web Frameworks. De esa manera, si decides convertirte en un desarrollador web Python \"Full-Stack\", no te sentirás perplejo por los decoradores. También puede consultar [Django] (https://www.djangoproject.com/) otro marco web (y más popular) para Python que es un poco más resistente.\n",
    "\n",
    "También para información adicional:\n",
    "\n",
    "Un marco es un tipo de biblioteca de software que proporciona una funcionalidad genérica que el programador puede ampliar para crear aplicaciones. Flask y Django son buenos ejemplos de marcos destinados al desarrollo web.\n",
    "\n",
    "Un marco se distingue de una simple biblioteca o API. Una API es una pieza de software que un desarrollador puede usar en su aplicación. Un marco es más abarcador: toda su aplicación está estructurada en torno al marco (es decir, proporciona el marco alrededor del cual construye su software).\n",
    "\n",
    "## ¡Buen trabajo!"
   ]
  },
  {
   "cell_type": "code",
   "execution_count": null,
   "metadata": {},
   "outputs": [],
   "source": []
  }
 ],
 "metadata": {
  "kernelspec": {
   "display_name": "Python 3 (ipykernel)",
   "language": "python",
   "name": "python3"
  },
  "language_info": {
   "codemirror_mode": {
    "name": "ipython",
    "version": 3
   },
   "file_extension": ".py",
   "mimetype": "text/x-python",
   "name": "python",
   "nbconvert_exporter": "python",
   "pygments_lexer": "ipython3",
   "version": "3.9.6"
  }
 },
 "nbformat": 4,
 "nbformat_minor": 4
}
