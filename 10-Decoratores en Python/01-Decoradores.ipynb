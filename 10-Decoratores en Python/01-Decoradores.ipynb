{
 "cells": [
  {
   "cell_type": "markdown",
   "metadata": {
    "tags": []
   },
   "source": [
    "# Decoradores\n",
    "\n",
    "\n",
    "Los decoradores se pueden considerar como funciones que modifican la *funcionalidad* de otra función. Ayudan a hacer su código más corto y más \"Pythonic\".\n",
    "\n",
    "Para explicar adecuadamente a los decoradores, construiremos lentamente a partir de funciones. Asegúrese de ejecutar todas las celdas de este Bloc de notas para que esta lección tenga el mismo aspecto en su propia computadora. <br> <br> Así que analicemos los pasos:\n",
    "\n",
    "## Revisión de funciones"
   ]
  },
  {
   "cell_type": "code",
   "execution_count": 32,
   "metadata": {
    "tags": []
   },
   "outputs": [],
   "source": [
    "def func():\n",
    "    return 1"
   ]
  },
  {
   "cell_type": "code",
   "execution_count": 33,
   "metadata": {},
   "outputs": [
    {
     "data": {
      "text/plain": [
       "1"
      ]
     },
     "execution_count": 33,
     "metadata": {},
     "output_type": "execute_result"
    }
   ],
   "source": [
    "func()"
   ]
  },
  {
   "cell_type": "markdown",
   "metadata": {},
   "source": [
    "## Revisión del alcance\n",
    "Recuerde de la lección de declaraciones anidadas que Python usa Scope para saber a qué se refiere una etiqueta. Por ejemplo:"
   ]
  },
  {
   "cell_type": "code",
   "execution_count": 34,
   "metadata": {
    "tags": []
   },
   "outputs": [],
   "source": [
    "s = 'Variable Global'\n",
    "\n",
    "def verifica_por_locales():\n",
    "    print(locals())"
   ]
  },
  {
   "cell_type": "markdown",
   "metadata": {},
   "source": [
    "Recuerde que las funciones de Python crean un nuevo alcance, lo que significa que la función tiene su propio espacio de nombres para encontrar nombres de variables cuando se mencionan dentro de la función. Podemos verificar variables locales y variables globales con las funciones <code> locals () </code> y <code> globals () </code>. Por ejemplo:"
   ]
  },
  {
   "cell_type": "code",
   "execution_count": 35,
   "metadata": {
    "tags": []
   },
   "outputs": [
    {
     "name": "stdout",
     "output_type": "stream",
     "text": [
      "{'__name__': '__main__', '__doc__': 'Automatically created module for IPython interactive environment', '__package__': None, '__loader__': None, '__spec__': None, '__builtin__': <module 'builtins' (built-in)>, '__builtins__': <module 'builtins' (built-in)>, '_ih': ['', 'def func():\\n    return 1', 'func()', \"s = 'Variable Global'\\n\\ndef verifica_por_locales():\\n    print(locals())\", 'print(globals())', 'print(globals().keys())', \"globals()['s']\", \"globals()['s']\", 'verifica_por_locales()', \"def hola(name='Juan'):\\n    return 'Hola '+name\", 'hola()', 'saludo = hola', 'saludo', 'saludo()', 'del hola', 'hola()', 'saludo()', 'def hola(nombre=\\'Juan\\'):\\n    print(\\'El funcion hola() ha sido ejecutada\\')\\n    \\n    def saludo():\\n        return \\'\\\\t Esto esta dentro de la funcion saludo()\\'\\n    \\n    def bienvenida():\\n        return \"\\\\t Esto esta dentro la funcion bievenida()\"\\n    \\n    print(saludo())\\n    print(bienvenida())\\n    print(\"Ahora nosotros estamos de regreso dentro la funcion hola()\")', 'hola()', 'bienvenida()', 'def hola(nombre=\\'Juan\\'):\\n    \\n    def saludo():\\n        return \\'\\\\t Esto esta dentro la funcion saludo()\\'\\n    \\n    def bienvenida():\\n        return \"\\\\t Esto esta dentro la funcion bienvenida()\"\\n    \\n    if nombre == \\'Juan\\':\\n        return saludo\\n    else:\\n        return bienvenida', 'x = hola()', 'x', 'print(x())', \"def hola():\\n    return 'Hola Juan!'\\n\\ndef otro(func):\\n    print('Otro codigo estaria aqui')\\n    print(func())\", 'otro(hola)', 'def nuevo_decorador(func):\\n\\n    def func_envuelve():\\n        print(\"El codigo estaria aqui, antes de ejecutar la funcion\")\\n\\n        func()\\n\\n        print(\"El codigo estara aqui, sera ejecutada despues de func()\")\\n\\n    return func_envuelve\\n\\ndef func_necesita_decorador():\\n    print(\"Esta funcion necesita un Decorador\")', 'func_necesita_decorador()', '# Reasignar func_necesita_decorador\\nfunc_necesita_decorador = nuevo_decorador (func_necesita_decorador)', 'func_necesita_decorador()', '@nuevo_decorador\\ndef func_necesita_decorador():\\n    print(\"Esta funcion necesita un Decorador\")', 'func_necesita_decorador()', 'def func():\\n    return 1', 'func()', \"s = 'Variable Global'\\n\\ndef verifica_por_locales():\\n    print(locals())\", 'print(globals())'], '_oh': {2: 1, 6: 'Variable Global', 7: 'Variable Global', 10: 'Hola Juan', 12: <function hola at 0x0000022CE3535310>, 13: 'Hola Juan', 16: 'Hola Juan', 22: <function hola.<locals>.saludo at 0x0000022CE36079D0>, 33: 1}, '_dh': ['C:\\\\Users\\\\serge\\\\Documents\\\\Curso intensivo de practica lenguaje Python -  desde nivel cero a nivel campeon\\\\10-Decoratores en Python'], 'In': ['', 'def func():\\n    return 1', 'func()', \"s = 'Variable Global'\\n\\ndef verifica_por_locales():\\n    print(locals())\", 'print(globals())', 'print(globals().keys())', \"globals()['s']\", \"globals()['s']\", 'verifica_por_locales()', \"def hola(name='Juan'):\\n    return 'Hola '+name\", 'hola()', 'saludo = hola', 'saludo', 'saludo()', 'del hola', 'hola()', 'saludo()', 'def hola(nombre=\\'Juan\\'):\\n    print(\\'El funcion hola() ha sido ejecutada\\')\\n    \\n    def saludo():\\n        return \\'\\\\t Esto esta dentro de la funcion saludo()\\'\\n    \\n    def bienvenida():\\n        return \"\\\\t Esto esta dentro la funcion bievenida()\"\\n    \\n    print(saludo())\\n    print(bienvenida())\\n    print(\"Ahora nosotros estamos de regreso dentro la funcion hola()\")', 'hola()', 'bienvenida()', 'def hola(nombre=\\'Juan\\'):\\n    \\n    def saludo():\\n        return \\'\\\\t Esto esta dentro la funcion saludo()\\'\\n    \\n    def bienvenida():\\n        return \"\\\\t Esto esta dentro la funcion bienvenida()\"\\n    \\n    if nombre == \\'Juan\\':\\n        return saludo\\n    else:\\n        return bienvenida', 'x = hola()', 'x', 'print(x())', \"def hola():\\n    return 'Hola Juan!'\\n\\ndef otro(func):\\n    print('Otro codigo estaria aqui')\\n    print(func())\", 'otro(hola)', 'def nuevo_decorador(func):\\n\\n    def func_envuelve():\\n        print(\"El codigo estaria aqui, antes de ejecutar la funcion\")\\n\\n        func()\\n\\n        print(\"El codigo estara aqui, sera ejecutada despues de func()\")\\n\\n    return func_envuelve\\n\\ndef func_necesita_decorador():\\n    print(\"Esta funcion necesita un Decorador\")', 'func_necesita_decorador()', '# Reasignar func_necesita_decorador\\nfunc_necesita_decorador = nuevo_decorador (func_necesita_decorador)', 'func_necesita_decorador()', '@nuevo_decorador\\ndef func_necesita_decorador():\\n    print(\"Esta funcion necesita un Decorador\")', 'func_necesita_decorador()', 'def func():\\n    return 1', 'func()', \"s = 'Variable Global'\\n\\ndef verifica_por_locales():\\n    print(locals())\", 'print(globals())'], 'Out': {2: 1, 6: 'Variable Global', 7: 'Variable Global', 10: 'Hola Juan', 12: <function hola at 0x0000022CE3535310>, 13: 'Hola Juan', 16: 'Hola Juan', 22: <function hola.<locals>.saludo at 0x0000022CE36079D0>, 33: 1}, 'get_ipython': <bound method InteractiveShell.get_ipython of <ipykernel.zmqshell.ZMQInteractiveShell object at 0x0000022CE34947C0>>, 'exit': <IPython.core.autocall.ZMQExitAutocall object at 0x0000022CE34C20D0>, 'quit': <IPython.core.autocall.ZMQExitAutocall object at 0x0000022CE34C20D0>, '_': 1, '__': <function hola.<locals>.saludo at 0x0000022CE36079D0>, '___': 'Hola Juan', '_i': \"s = 'Variable Global'\\n\\ndef verifica_por_locales():\\n    print(locals())\", '_ii': 'func()', '_iii': 'def func():\\n    return 1', '_i1': 'def func():\\n    return 1', 'func': <function func at 0x0000022CE36153A0>, '_i2': 'func()', '_2': 1, '_i3': \"s = 'Variable Global'\\n\\ndef verifica_por_locales():\\n    print(locals())\", 's': 'Variable Global', 'verifica_por_locales': <function verifica_por_locales at 0x0000022CE34F5EE0>, '_i4': 'print(globals())', '_i5': 'print(globals().keys())', '_i6': \"globals()['s']\", '_6': 'Variable Global', '_i7': \"globals()['s']\", '_7': 'Variable Global', '_i8': 'verifica_por_locales()', '_i9': \"def hola(name='Juan'):\\n    return 'Hola '+name\", '_i10': 'hola()', '_10': 'Hola Juan', '_i11': 'saludo = hola', 'saludo': <function hola at 0x0000022CE3535310>, '_i12': 'saludo', '_12': <function hola at 0x0000022CE3535310>, '_i13': 'saludo()', '_13': 'Hola Juan', '_i14': 'del hola', '_i15': 'hola()', '_i16': 'saludo()', '_16': 'Hola Juan', '_i17': 'def hola(nombre=\\'Juan\\'):\\n    print(\\'El funcion hola() ha sido ejecutada\\')\\n    \\n    def saludo():\\n        return \\'\\\\t Esto esta dentro de la funcion saludo()\\'\\n    \\n    def bienvenida():\\n        return \"\\\\t Esto esta dentro la funcion bievenida()\"\\n    \\n    print(saludo())\\n    print(bienvenida())\\n    print(\"Ahora nosotros estamos de regreso dentro la funcion hola()\")', 'hola': <function hola at 0x0000022CE3607C10>, '_i18': 'hola()', '_i19': 'bienvenida()', '_i20': 'def hola(nombre=\\'Juan\\'):\\n    \\n    def saludo():\\n        return \\'\\\\t Esto esta dentro la funcion saludo()\\'\\n    \\n    def bienvenida():\\n        return \"\\\\t Esto esta dentro la funcion bienvenida()\"\\n    \\n    if nombre == \\'Juan\\':\\n        return saludo\\n    else:\\n        return bienvenida', '_i21': 'x = hola()', 'x': <function hola.<locals>.saludo at 0x0000022CE36079D0>, '_i22': 'x', '_22': <function hola.<locals>.saludo at 0x0000022CE36079D0>, '_i23': 'print(x())', '_i24': \"def hola():\\n    return 'Hola Juan!'\\n\\ndef otro(func):\\n    print('Otro codigo estaria aqui')\\n    print(func())\", 'otro': <function otro at 0x0000022CE3607CA0>, '_i25': 'otro(hola)', '_i26': 'def nuevo_decorador(func):\\n\\n    def func_envuelve():\\n        print(\"El codigo estaria aqui, antes de ejecutar la funcion\")\\n\\n        func()\\n\\n        print(\"El codigo estara aqui, sera ejecutada despues de func()\")\\n\\n    return func_envuelve\\n\\ndef func_necesita_decorador():\\n    print(\"Esta funcion necesita un Decorador\")', 'nuevo_decorador': <function nuevo_decorador at 0x0000022CE3607EE0>, 'func_necesita_decorador': <function nuevo_decorador.<locals>.func_envuelve at 0x0000022CE3615040>, '_i27': 'func_necesita_decorador()', '_i28': '# Reasignar func_necesita_decorador\\nfunc_necesita_decorador = nuevo_decorador (func_necesita_decorador)', '_i29': 'func_necesita_decorador()', '_i30': '@nuevo_decorador\\ndef func_necesita_decorador():\\n    print(\"Esta funcion necesita un Decorador\")', '_i31': 'func_necesita_decorador()', '_i32': 'def func():\\n    return 1', '_i33': 'func()', '_33': 1, '_i34': \"s = 'Variable Global'\\n\\ndef verifica_por_locales():\\n    print(locals())\", '_i35': 'print(globals())'}\n"
     ]
    }
   ],
   "source": [
    "print(globals())"
   ]
  },
  {
   "cell_type": "markdown",
   "metadata": {},
   "source": [
    "Aquí obtenemos un diccionario de todas las variables globales, muchas de ellas predefinidas en Python. Así que sigamos adelante y veamos las claves:"
   ]
  },
  {
   "cell_type": "code",
   "execution_count": 36,
   "metadata": {
    "tags": []
   },
   "outputs": [
    {
     "name": "stdout",
     "output_type": "stream",
     "text": [
      "dict_keys(['__name__', '__doc__', '__package__', '__loader__', '__spec__', '__builtin__', '__builtins__', '_ih', '_oh', '_dh', 'In', 'Out', 'get_ipython', 'exit', 'quit', '_', '__', '___', '_i', '_ii', '_iii', '_i1', 'func', '_i2', '_2', '_i3', 's', 'verifica_por_locales', '_i4', '_i5', '_i6', '_6', '_i7', '_7', '_i8', '_i9', '_i10', '_10', '_i11', 'saludo', '_i12', '_12', '_i13', '_13', '_i14', '_i15', '_i16', '_16', '_i17', 'hola', '_i18', '_i19', '_i20', '_i21', 'x', '_i22', '_22', '_i23', '_i24', 'otro', '_i25', '_i26', 'nuevo_decorador', 'func_necesita_decorador', '_i27', '_i28', '_i29', '_i30', '_i31', '_i32', '_i33', '_33', '_i34', '_i35', '_i36'])\n"
     ]
    }
   ],
   "source": [
    "print(globals().keys())"
   ]
  },
  {
   "cell_type": "markdown",
   "metadata": {},
   "source": [
    "Note cómo \"**s**\" está ahí, la Variable Global que definimos como una cadena:"
   ]
  },
  {
   "cell_type": "code",
   "execution_count": 37,
   "metadata": {
    "tags": []
   },
   "outputs": [
    {
     "data": {
      "text/plain": [
       "'Variable Global'"
      ]
     },
     "execution_count": 37,
     "metadata": {},
     "output_type": "execute_result"
    }
   ],
   "source": [
    "globals()['s']"
   ]
  },
  {
   "cell_type": "markdown",
   "metadata": {},
   "source": [
    "Ahora ejecutemos nuestra función para verificar las variables locales que puedan existir dentro de nuestra función (no debería haber ninguna)"
   ]
  },
  {
   "cell_type": "code",
   "execution_count": 38,
   "metadata": {
    "tags": []
   },
   "outputs": [
    {
     "name": "stdout",
     "output_type": "stream",
     "text": [
      "{}\n"
     ]
    }
   ],
   "source": [
    "verifica_por_locales()"
   ]
  },
  {
   "cell_type": "markdown",
   "metadata": {},
   "source": [
    "¡Estupendo! Ahora continuemos con la construcción de la lógica de lo que es un decorador. Recuerda que en Python **todo es un objeto**. Eso significa que las funciones son objetos a los que se les pueden asignar etiquetas y pasar a otras funciones. Comencemos con algunos ejemplos simples:"
   ]
  },
  {
   "cell_type": "code",
   "execution_count": 39,
   "metadata": {
    "tags": []
   },
   "outputs": [],
   "source": [
    "def hola(name='Juan'):\n",
    "    return 'Hola '+name"
   ]
  },
  {
   "cell_type": "code",
   "execution_count": 40,
   "metadata": {},
   "outputs": [
    {
     "data": {
      "text/plain": [
       "'Hola Juan'"
      ]
     },
     "execution_count": 40,
     "metadata": {},
     "output_type": "execute_result"
    }
   ],
   "source": [
    "hola()"
   ]
  },
  {
   "cell_type": "markdown",
   "metadata": {},
   "source": [
    "Asigne otra etiqueta a la función. Tenga en cuenta que no estamos usando paréntesis aquí porque no estamos llamando a la función **hola**, sino que simplemente estamos pasando un objeto de función a la variable **saludo**."
   ]
  },
  {
   "cell_type": "code",
   "execution_count": 41,
   "metadata": {
    "tags": []
   },
   "outputs": [],
   "source": [
    "saludo = hola"
   ]
  },
  {
   "cell_type": "code",
   "execution_count": 42,
   "metadata": {},
   "outputs": [
    {
     "data": {
      "text/plain": [
       "<function __main__.hola(name='Juan')>"
      ]
     },
     "execution_count": 42,
     "metadata": {},
     "output_type": "execute_result"
    }
   ],
   "source": [
    "saludo"
   ]
  },
  {
   "cell_type": "code",
   "execution_count": 43,
   "metadata": {},
   "outputs": [
    {
     "data": {
      "text/plain": [
       "'Hola Juan'"
      ]
     },
     "execution_count": 43,
     "metadata": {},
     "output_type": "execute_result"
    }
   ],
   "source": [
    "saludo()"
   ]
  },
  {
   "cell_type": "markdown",
   "metadata": {},
   "source": [
    "Entonces, ¿qué sucede cuando eliminamos el nombre **hola**?"
   ]
  },
  {
   "cell_type": "code",
   "execution_count": 44,
   "metadata": {
    "tags": []
   },
   "outputs": [],
   "source": [
    "del hola"
   ]
  },
  {
   "cell_type": "code",
   "execution_count": 45,
   "metadata": {},
   "outputs": [
    {
     "ename": "NameError",
     "evalue": "name 'hola' is not defined",
     "output_type": "error",
     "traceback": [
      "\u001b[1;31m---------------------------------------------------------------------------\u001b[0m",
      "\u001b[1;31mNameError\u001b[0m                                 Traceback (most recent call last)",
      "\u001b[1;32m~\\AppData\\Local\\Temp/ipykernel_9024/2439622952.py\u001b[0m in \u001b[0;36m<module>\u001b[1;34m\u001b[0m\n\u001b[1;32m----> 1\u001b[1;33m \u001b[0mhola\u001b[0m\u001b[1;33m(\u001b[0m\u001b[1;33m)\u001b[0m\u001b[1;33m\u001b[0m\u001b[1;33m\u001b[0m\u001b[0m\n\u001b[0m",
      "\u001b[1;31mNameError\u001b[0m: name 'hola' is not defined"
     ]
    }
   ],
   "source": [
    "hola()"
   ]
  },
  {
   "cell_type": "code",
   "execution_count": 46,
   "metadata": {},
   "outputs": [
    {
     "data": {
      "text/plain": [
       "'Hola Juan'"
      ]
     },
     "execution_count": 46,
     "metadata": {},
     "output_type": "execute_result"
    }
   ],
   "source": [
    "saludo()"
   ]
  },
  {
   "cell_type": "markdown",
   "metadata": {},
   "source": [
    "Aunque borramos el nombre **hola**, el nombre **saludo** *todavía apunta a* nuestro objeto de función original. ¡Es importante saber que las funciones son objetos que se pueden pasar a otros objetos!"
   ]
  },
  {
   "cell_type": "markdown",
   "metadata": {},
   "source": [
    "## Funciones dentro de funciones\n",
    "¡Estupendo! Así que hemos visto cómo podemos tratar las funciones como objetos, ahora veamos cómo podemos definir funciones dentro de otras funciones:"
   ]
  },
  {
   "cell_type": "code",
   "execution_count": 47,
   "metadata": {
    "tags": []
   },
   "outputs": [],
   "source": [
    "def hola(nombre='Juan'):\n",
    "    print('El funcion hola() ha sido ejecutada')\n",
    "    \n",
    "    def saludo():\n",
    "        return '\\t Esto esta dentro de la funcion saludo()'\n",
    "    \n",
    "    def bienvenida():\n",
    "        return \"\\t Esto esta dentro la funcion bievenida()\"\n",
    "    \n",
    "    print(saludo())\n",
    "    print(bienvenida())\n",
    "    print(\"Ahora nosotros estamos de regreso dentro la funcion hola()\")"
   ]
  },
  {
   "cell_type": "code",
   "execution_count": 48,
   "metadata": {
    "tags": []
   },
   "outputs": [
    {
     "name": "stdout",
     "output_type": "stream",
     "text": [
      "El funcion hola() ha sido ejecutada\n",
      "\t Esto esta dentro de la funcion saludo()\n",
      "\t Esto esta dentro la funcion bievenida()\n",
      "Ahora nosotros estamos de regreso dentro la funcion hola()\n"
     ]
    }
   ],
   "source": [
    "hola()"
   ]
  },
  {
   "cell_type": "code",
   "execution_count": 49,
   "metadata": {},
   "outputs": [
    {
     "ename": "NameError",
     "evalue": "name 'bienvenida' is not defined",
     "output_type": "error",
     "traceback": [
      "\u001b[1;31m---------------------------------------------------------------------------\u001b[0m",
      "\u001b[1;31mNameError\u001b[0m                                 Traceback (most recent call last)",
      "\u001b[1;32m~\\AppData\\Local\\Temp/ipykernel_9024/2284479837.py\u001b[0m in \u001b[0;36m<module>\u001b[1;34m\u001b[0m\n\u001b[1;32m----> 1\u001b[1;33m \u001b[0mbienvenida\u001b[0m\u001b[1;33m(\u001b[0m\u001b[1;33m)\u001b[0m\u001b[1;33m\u001b[0m\u001b[1;33m\u001b[0m\u001b[0m\n\u001b[0m",
      "\u001b[1;31mNameError\u001b[0m: name 'bienvenida' is not defined"
     ]
    }
   ],
   "source": [
    "bienvenida()"
   ]
  },
  {
   "cell_type": "markdown",
   "metadata": {},
   "source": [
    "Tenga en cuenta que, debido al alcance, la función welcome () no está definida fuera de la función hello (). Ahora aprendamos a devolver funciones desde dentro de funciones:\n",
    "## Funciones de retorno"
   ]
  },
  {
   "cell_type": "code",
   "execution_count": 50,
   "metadata": {
    "tags": []
   },
   "outputs": [],
   "source": [
    "def hola(nombre='Juan'):\n",
    "    \n",
    "    def saludo():\n",
    "        return '\\t Esto esta dentro la funcion saludo()'\n",
    "    \n",
    "    def bienvenida():\n",
    "        return \"\\t Esto esta dentro la funcion bienvenida()\"\n",
    "    \n",
    "    if nombre == 'Juan':\n",
    "        return saludo\n",
    "    else:\n",
    "        return bienvenida"
   ]
  },
  {
   "cell_type": "markdown",
   "metadata": {},
   "source": [
    "Ahora veamos qué función se devuelve si configuramos x = hola (), observe cómo los paréntesis vacíos significan que el nombre se ha definido como Juan."
   ]
  },
  {
   "cell_type": "code",
   "execution_count": 51,
   "metadata": {
    "tags": []
   },
   "outputs": [],
   "source": [
    "x = hola()"
   ]
  },
  {
   "cell_type": "code",
   "execution_count": 52,
   "metadata": {},
   "outputs": [
    {
     "data": {
      "text/plain": [
       "<function __main__.hola.<locals>.saludo()>"
      ]
     },
     "execution_count": 52,
     "metadata": {},
     "output_type": "execute_result"
    }
   ],
   "source": [
    "x"
   ]
  },
  {
   "cell_type": "markdown",
   "metadata": {},
   "source": [
    "¡Estupendo! Ahora podemos ver cómo x apunta a la función saludar dentro de la función hola."
   ]
  },
  {
   "cell_type": "code",
   "execution_count": 53,
   "metadata": {},
   "outputs": [
    {
     "name": "stdout",
     "output_type": "stream",
     "text": [
      "\t Esto esta dentro la funcion saludo()\n"
     ]
    }
   ],
   "source": [
    "print(x())"
   ]
  },
  {
   "cell_type": "markdown",
   "metadata": {},
   "source": [
    "Echemos un vistazo rápido al código nuevamente.\n",
    "\n",
    "En la cláusula <code> if </code> / <code> else </code> devolvemos <code> saludo </code> y <code> bienvenida </code>, no <code> saludo () </ code> y <code> bienvenida () </code>.\n",
    "\n",
    "Esto se debe a que cuando coloca un par de paréntesis después, la función se ejecuta; mientras que si no pone paréntesis después, se puede pasar y asignar a otras variables sin ejecutarlo.\n",
    "\n",
    "Cuando escribimos <code> x = hola () </code>, hola () se ejecuta y debido a que el nombre predeterminado es Juan, se devuelve la función <code> saludo </code>. Si cambiamos la declaración a <code> x = hola (nombre = \"Sam\") </code>, se devolverá la función <code> bienvenida </code>. También podemos hacer <code> print (hola () ()) </code> que genera * Esto está dentro de la función saludo () *."
   ]
  },
  {
   "cell_type": "markdown",
   "metadata": {},
   "source": [
    "## Funciones como argumentos\n",
    "Ahora veamos cómo podemos pasar funciones como argumentos a otras funciones:"
   ]
  },
  {
   "cell_type": "code",
   "execution_count": 54,
   "metadata": {
    "tags": []
   },
   "outputs": [],
   "source": [
    "def hola():\n",
    "    return 'Hola Juan!'\n",
    "\n",
    "def otro(func):\n",
    "    print('Otro codigo estaria aqui')\n",
    "    print(func())"
   ]
  },
  {
   "cell_type": "code",
   "execution_count": 55,
   "metadata": {},
   "outputs": [
    {
     "name": "stdout",
     "output_type": "stream",
     "text": [
      "Otro codigo estaria aqui\n",
      "Hola Juan!\n"
     ]
    }
   ],
   "source": [
    "otro(hola)"
   ]
  },
  {
   "cell_type": "markdown",
   "metadata": {},
   "source": [
    "¡Estupendo! Observe cómo podemos pasar las funciones como objetos y luego usarlas dentro de otras funciones. Ahora podemos empezar a escribir nuestro primer decorador:"
   ]
  },
  {
   "cell_type": "markdown",
   "metadata": {},
   "source": [
    "## Creando un decorador\n",
    "En el ejemplo anterior, en realidad creamos manualmente un Decorador. Aquí lo modificaremos para dejar claro su caso de uso:"
   ]
  },
  {
   "cell_type": "code",
   "execution_count": 56,
   "metadata": {
    "tags": []
   },
   "outputs": [],
   "source": [
    "def nuevo_decorador(func):\n",
    "\n",
    "    def func_envuelve():\n",
    "        print(\"El codigo estaria aqui, antes de ejecutar la funcion\")\n",
    "\n",
    "        func()\n",
    "\n",
    "        print(\"El codigo estara aqui, sera ejecutada despues de func()\")\n",
    "\n",
    "    return func_envuelve\n",
    "\n",
    "def func_necesita_decorador():\n",
    "    print(\"Esta funcion necesita un Decorador\")"
   ]
  },
  {
   "cell_type": "code",
   "execution_count": 57,
   "metadata": {},
   "outputs": [
    {
     "name": "stdout",
     "output_type": "stream",
     "text": [
      "Esta funcion necesita un Decorador\n"
     ]
    }
   ],
   "source": [
    "func_necesita_decorador()"
   ]
  },
  {
   "cell_type": "code",
   "execution_count": 58,
   "metadata": {
    "tags": []
   },
   "outputs": [],
   "source": [
    "# Reasignar func_necesita_decorador\n",
    "func_necesita_decorador = nuevo_decorador (func_necesita_decorador)"
   ]
  },
  {
   "cell_type": "code",
   "execution_count": 59,
   "metadata": {},
   "outputs": [
    {
     "name": "stdout",
     "output_type": "stream",
     "text": [
      "El codigo estaria aqui, antes de ejecutar la funcion\n",
      "Esta funcion necesita un Decorador\n",
      "El codigo estara aqui, sera ejecutada despues de func()\n"
     ]
    }
   ],
   "source": [
    "func_necesita_decorador()"
   ]
  },
  {
   "cell_type": "markdown",
   "metadata": {},
   "source": [
    "Entonces, ¿qué acaba de pasar aquí? Un decorador simplemente envolvió la función y modificó su comportamiento. Ahora entendamos cómo podemos reescribir este código usando el símbolo @, que es lo que Python usa para los Decoradores:"
   ]
  },
  {
   "cell_type": "code",
   "execution_count": 60,
   "metadata": {
    "tags": []
   },
   "outputs": [],
   "source": [
    "@nuevo_decorador\n",
    "def func_necesita_decorador():\n",
    "    print(\"Esta funcion necesita un Decorador\")"
   ]
  },
  {
   "cell_type": "code",
   "execution_count": 61,
   "metadata": {},
   "outputs": [
    {
     "name": "stdout",
     "output_type": "stream",
     "text": [
      "El codigo estaria aqui, antes de ejecutar la funcion\n",
      "Esta funcion necesita un Decorador\n",
      "El codigo estara aqui, sera ejecutada despues de func()\n"
     ]
    }
   ],
   "source": [
    "func_necesita_decorador()"
   ]
  },
  {
   "cell_type": "markdown",
   "metadata": {},
   "source": [
    "**¡Estupendo! Ahora ha creado un Decorador manualmente y luego vio cómo podemos usar el símbolo @ en Python para automatizar esto y limpiar nuestro código. ¡Te encontrarás con Decorators mucho si comienzas a usar Python para desarrollo web, como Flask o Django!**"
   ]
  },
  {
   "cell_type": "code",
   "execution_count": null,
   "metadata": {},
   "outputs": [],
   "source": []
  }
 ],
 "metadata": {
  "kernelspec": {
   "display_name": "Python 3 (ipykernel)",
   "language": "python",
   "name": "python3"
  },
  "language_info": {
   "codemirror_mode": {
    "name": "ipython",
    "version": 3
   },
   "file_extension": ".py",
   "mimetype": "text/x-python",
   "name": "python",
   "nbconvert_exporter": "python",
   "pygments_lexer": "ipython3",
   "version": "3.9.6"
  }
 },
 "nbformat": 4,
 "nbformat_minor": 4
}
