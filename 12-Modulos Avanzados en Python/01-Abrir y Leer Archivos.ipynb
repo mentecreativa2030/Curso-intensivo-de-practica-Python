{
 "cells": [
  {
   "cell_type": "markdown",
   "metadata": {
    "tags": []
   },
   "source": [
    "# Abrir y leer archivos\n",
    "\n",
    "Hasta ahora hemos discutido cómo abrir archivos manualmente, uno por uno. Exploremos cómo podemos abrir archivos mediante programación."
   ]
  },
  {
   "cell_type": "markdown",
   "metadata": {},
   "source": [
    "_____"
   ]
  },
  {
   "cell_type": "markdown",
   "metadata": {},
   "source": [
    "### Revisión: comprensión de las rutas de archivo"
   ]
  },
  {
   "cell_type": "code",
   "execution_count": 1,
   "metadata": {},
   "outputs": [
    {
     "data": {
      "text/plain": [
       "'C:\\\\Users\\\\serge\\\\Documents\\\\Curso intensivo de practica lenguaje Python -  desde nivel cero a nivel campeon\\\\12-Modulos Avanzados en Python'"
      ]
     },
     "execution_count": 1,
     "metadata": {},
     "output_type": "execute_result"
    }
   ],
   "source": [
    "pwd"
   ]
  },
  {
   "cell_type": "markdown",
   "metadata": {},
   "source": [
    "### Crear archivo de práctica\n",
    "\n",
    "Comenzaremos creando un archivo de texto de práctica que usaremos para la demostración."
   ]
  },
  {
   "cell_type": "code",
   "execution_count": 2,
   "metadata": {
    "tags": []
   },
   "outputs": [],
   "source": [
    "f = open('practica.txt','w+')"
   ]
  },
  {
   "cell_type": "code",
   "execution_count": 3,
   "metadata": {
    "tags": []
   },
   "outputs": [],
   "source": [
    "f.write('prueba')\n",
    "f.close()"
   ]
  },
  {
   "cell_type": "markdown",
   "metadata": {},
   "source": [
    "### Obteniendo directorios\n",
    "\n",
    "Python tiene un [módulo os] incorporado (https://docs.python.org/3/library/os.html) que nos permite usar la funcionalidad dependiente del sistema operativo.\n",
    "\n",
    "Puede obtener el directorio actual:"
   ]
  },
  {
   "cell_type": "code",
   "execution_count": 4,
   "metadata": {
    "tags": []
   },
   "outputs": [],
   "source": [
    "import os"
   ]
  },
  {
   "cell_type": "code",
   "execution_count": 5,
   "metadata": {},
   "outputs": [
    {
     "data": {
      "text/plain": [
       "'C:\\\\Users\\\\serge\\\\Documents\\\\Curso intensivo de practica lenguaje Python -  desde nivel cero a nivel campeon\\\\12-Modulos Avanzados en Python'"
      ]
     },
     "execution_count": 5,
     "metadata": {},
     "output_type": "execute_result"
    }
   ],
   "source": [
    "os.getcwd()"
   ]
  },
  {
   "cell_type": "markdown",
   "metadata": {},
   "source": [
    "### Listado de archivos en un directorio\n",
    "\n",
    "También puede utilizar el módulo OS para enumerar directorios."
   ]
  },
  {
   "cell_type": "code",
   "execution_count": 6,
   "metadata": {},
   "outputs": [
    {
     "data": {
      "text/plain": [
       "['.ipynb_checkpoints',\n",
       " '00-Modulo Colecciones.ipynb',\n",
       " '01-Abrir y Leer Archivos.ipynb',\n",
       " '02-Modulo Datetime.ipynb',\n",
       " '03-Modulo Math y Random.ipynb',\n",
       " '04-Depurador Python (pdb).ipynb',\n",
       " '05-Expresiones Regulares.ipynb',\n",
       " '06-Ritmo de codigo.ipynb',\n",
       " '07-Comprimir y descomprimir archivos.ipynb',\n",
       " '08-Ejercicios Avanzados Python',\n",
       " 'comp_archivo.zip',\n",
       " 'contenido_extraido2',\n",
       " 'Ejemplo_alto_nivel',\n",
       " 'practica.txt']"
      ]
     },
     "execution_count": 6,
     "metadata": {},
     "output_type": "execute_result"
    }
   ],
   "source": [
    "# En tu actual directorio\n",
    "os.listdir()"
   ]
  },
  {
   "cell_type": "code",
   "execution_count": 8,
   "metadata": {},
   "outputs": [
    {
     "data": {
      "text/plain": [
       "['All Users', 'Default', 'Default User', 'desktop.ini', 'Public', 'serge']"
      ]
     },
     "execution_count": 8,
     "metadata": {},
     "output_type": "execute_result"
    }
   ],
   "source": [
    "# En cualquier directorio \n",
    "os.listdir(\"C:\\\\Users\")"
   ]
  },
  {
   "cell_type": "markdown",
   "metadata": {},
   "source": [
    "### Mover archivos\n",
    "\n",
    "Puede usar el módulo **shutil** incorporado para mover archivos a diferentes ubicaciones. Tenga en cuenta que existen restricciones de permisos; por ejemplo, si ha iniciado sesión en un Usuario A, no podrá realizar cambios en la carpeta Usuarios de nivel superior sin los permisos adecuados."
   ]
  },
  {
   "cell_type": "code",
   "execution_count": 11,
   "metadata": {
    "jupyter": {
     "source_hidden": true
    },
    "tags": []
   },
   "outputs": [],
   "source": [
    "import shutil"
   ]
  },
  {
   "cell_type": "code",
   "execution_count": 12,
   "metadata": {},
   "outputs": [
    {
     "data": {
      "text/plain": [
       "'C:\\\\Users\\\\serge\\\\Downloads\\\\practica.txt'"
      ]
     },
     "execution_count": 12,
     "metadata": {},
     "output_type": "execute_result"
    }
   ],
   "source": [
    "shutil.move('practica.txt','C:\\\\Users\\\\serge\\\\Downloads')"
   ]
  },
  {
   "cell_type": "code",
   "execution_count": 15,
   "metadata": {
    "jupyter": {
     "source_hidden": true
    },
    "tags": []
   },
   "outputs": [
    {
     "data": {
      "text/plain": [
       "['.ipynb_checkpoints',\n",
       " '00-Modulo Colecciones.ipynb',\n",
       " '01-Abrir y Leer Archivos.ipynb',\n",
       " '02-Modulo Datetime.ipynb',\n",
       " '03-Modulo Math y Random.ipynb',\n",
       " '04-Depurador Python (pdb).ipynb',\n",
       " '05-Expresiones Regulares.ipynb',\n",
       " '06-Ritmo de codigo.ipynb',\n",
       " '07-Comprimir y descomprimir archivos.ipynb',\n",
       " '08-Ejercicios Avanzados Python',\n",
       " 'comp_archivo.zip',\n",
       " 'contenido_extraido2',\n",
       " 'Ejemplo_alto_nivel']"
      ]
     },
     "execution_count": 15,
     "metadata": {},
     "output_type": "execute_result"
    }
   ],
   "source": [
    "os.listdir()"
   ]
  },
  {
   "cell_type": "code",
   "execution_count": 16,
   "metadata": {},
   "outputs": [
    {
     "data": {
      "text/plain": [
       "'C:\\\\Users\\\\serge\\\\Documents\\\\Curso intensivo de practica lenguaje Python -  desde nivel cero a nivel campeon\\\\12-Modulos Avanzados en Python\\\\practica.txt'"
      ]
     },
     "execution_count": 16,
     "metadata": {},
     "output_type": "execute_result"
    }
   ],
   "source": [
    "shutil.move('C:\\\\Users\\\\serge\\\\Downloads\\\\practica.txt',os.getcwd())"
   ]
  },
  {
   "cell_type": "code",
   "execution_count": 17,
   "metadata": {},
   "outputs": [
    {
     "data": {
      "text/plain": [
       "['.ipynb_checkpoints',\n",
       " '00-Modulo Colecciones.ipynb',\n",
       " '01-Abrir y Leer Archivos.ipynb',\n",
       " '02-Modulo Datetime.ipynb',\n",
       " '03-Modulo Math y Random.ipynb',\n",
       " '04-Depurador Python (pdb).ipynb',\n",
       " '05-Expresiones Regulares.ipynb',\n",
       " '06-Ritmo de codigo.ipynb',\n",
       " '07-Comprimir y descomprimir archivos.ipynb',\n",
       " '08-Ejercicios Avanzados Python',\n",
       " 'comp_archivo.zip',\n",
       " 'contenido_extraido2',\n",
       " 'Ejemplo_alto_nivel',\n",
       " 'practica.txt']"
      ]
     },
     "execution_count": 17,
     "metadata": {},
     "output_type": "execute_result"
    }
   ],
   "source": [
    "os.listdir()"
   ]
  },
  {
   "cell_type": "markdown",
   "metadata": {},
   "source": [
    "### Eliminando archivos\n",
    "____\n",
    "**NOTA: El módulo del sistema operativo proporciona 3 métodos para eliminar archivos:**\n",
    "* os.unlink (ruta) que elimina un archivo en la ruta que proporcionaste\n",
    "* os.rmdir (ruta) que elimina una carpeta (la carpeta debe estar vacía) en la ruta que proporcionaste\n",
    "* shutil.rmtree (ruta) este es el más peligroso, ya que eliminará todos los archivos y carpetas contenidos en la ruta.\n",
    "**¡Todos estos métodos no se pueden revertir! Lo que significa que si comete un error, no podrá recuperar el archivo. En su lugar, usaremos el módulo send2trash. Una alternativa más segura que envía los archivos eliminados a la papelera en lugar de eliminarlos de forma permanente.**\n",
    "___\n",
    "\n",
    "Instale el módulo send2trash con:\n",
    "\n",
    "    pip install send2trash\n",
    "    \n",
    "en tu linea de comando."
   ]
  },
  {
   "cell_type": "code",
   "execution_count": 18,
   "metadata": {
    "tags": []
   },
   "outputs": [],
   "source": [
    "import send2trash"
   ]
  },
  {
   "cell_type": "code",
   "execution_count": 19,
   "metadata": {},
   "outputs": [
    {
     "data": {
      "text/plain": [
       "['.ipynb_checkpoints',\n",
       " '00-Modulo Colecciones.ipynb',\n",
       " '01-Abrir y Leer Archivos.ipynb',\n",
       " '02-Modulo Datetime.ipynb',\n",
       " '03-Modulo Math y Random.ipynb',\n",
       " '04-Depurador Python (pdb).ipynb',\n",
       " '05-Expresiones Regulares.ipynb',\n",
       " '06-Ritmo de codigo.ipynb',\n",
       " '07-Comprimir y descomprimir archivos.ipynb',\n",
       " '08-Ejercicios Avanzados Python',\n",
       " 'comp_archivo.zip',\n",
       " 'contenido_extraido2',\n",
       " 'Ejemplo_alto_nivel',\n",
       " 'practica.txt']"
      ]
     },
     "execution_count": 19,
     "metadata": {},
     "output_type": "execute_result"
    }
   ],
   "source": [
    "os.listdir()"
   ]
  },
  {
   "cell_type": "code",
   "execution_count": 20,
   "metadata": {
    "tags": []
   },
   "outputs": [],
   "source": [
    "send2trash.send2trash('practica.txt')"
   ]
  },
  {
   "cell_type": "code",
   "execution_count": 21,
   "metadata": {},
   "outputs": [
    {
     "data": {
      "text/plain": [
       "['.ipynb_checkpoints',\n",
       " '00-Modulo Colecciones.ipynb',\n",
       " '01-Abrir y Leer Archivos.ipynb',\n",
       " '02-Modulo Datetime.ipynb',\n",
       " '03-Modulo Math y Random.ipynb',\n",
       " '04-Depurador Python (pdb).ipynb',\n",
       " '05-Expresiones Regulares.ipynb',\n",
       " '06-Ritmo de codigo.ipynb',\n",
       " '07-Comprimir y descomprimir archivos.ipynb',\n",
       " '08-Ejercicios Avanzados Python',\n",
       " 'comp_archivo.zip',\n",
       " 'contenido_extraido2',\n",
       " 'Ejemplo_alto_nivel']"
      ]
     },
     "execution_count": 21,
     "metadata": {},
     "output_type": "execute_result"
    }
   ],
   "source": [
    "os.listdir()"
   ]
  },
  {
   "cell_type": "markdown",
   "metadata": {},
   "source": [
    "### Caminando por un directorio\n",
    "\n",
    "A menudo, sólo necesitará \"caminar\" a través de un directorio, es decir, visitar cada archivo o carpeta y verificar si hay un archivo en el directorio, y luego quizás hacer algo con ese archivo. Por lo general, recorrer de forma recursiva cada archivo y carpeta en un directorio sería bastante complicado de programar, pero afortunadamente el módulo os tiene una llamada de método directa para esto llamada os.walk (). Exploremos cómo funciona."
   ]
  },
  {
   "cell_type": "code",
   "execution_count": 22,
   "metadata": {},
   "outputs": [
    {
     "data": {
      "text/plain": [
       "'C:\\\\Users\\\\serge\\\\Documents\\\\Curso intensivo de practica lenguaje Python -  desde nivel cero a nivel campeon\\\\12-Modulos Avanzados en Python'"
      ]
     },
     "execution_count": 22,
     "metadata": {},
     "output_type": "execute_result"
    }
   ],
   "source": [
    "os.getcwd()"
   ]
  },
  {
   "cell_type": "code",
   "execution_count": 23,
   "metadata": {},
   "outputs": [
    {
     "data": {
      "text/plain": [
       "['.ipynb_checkpoints',\n",
       " '00-Modulo Colecciones.ipynb',\n",
       " '01-Abrir y Leer Archivos.ipynb',\n",
       " '02-Modulo Datetime.ipynb',\n",
       " '03-Modulo Math y Random.ipynb',\n",
       " '04-Depurador Python (pdb).ipynb',\n",
       " '05-Expresiones Regulares.ipynb',\n",
       " '06-Ritmo de codigo.ipynb',\n",
       " '07-Comprimir y descomprimir archivos.ipynb',\n",
       " '08-Ejercicios Avanzados Python',\n",
       " 'comp_archivo.zip',\n",
       " 'contenido_extraido2',\n",
       " 'Ejemplo_alto_nivel']"
      ]
     },
     "execution_count": 23,
     "metadata": {},
     "output_type": "execute_result"
    }
   ],
   "source": [
    "os.listdir()"
   ]
  },
  {
   "cell_type": "code",
   "execution_count": 24,
   "metadata": {},
   "outputs": [
    {
     "name": "stdout",
     "output_type": "stream",
     "text": [
      "Carpeta Actual: Ejemplo_alto_nivel\n",
      "\n",
      "\n",
      "LAS SUBCARPETAS SON: \n",
      "\t Subcarpeta: .ipynb_checkpoints\n",
      "\t Subcarpeta: Mid-Ejemplo-Uno\n",
      "\n",
      "\n",
      "LOS ARCHIVOS SON: \n",
      "\t Archivo: Mid-Ejemplo-Uno.txt\n",
      "\n",
      "\n",
      "Carpeta Actual: Ejemplo_alto_nivel\\.ipynb_checkpoints\n",
      "\n",
      "\n",
      "LAS SUBCARPETAS SON: \n",
      "\n",
      "\n",
      "LOS ARCHIVOS SON: \n",
      "\t Archivo: Mid-Ejemplo-Uno-checkpoint.txt\n",
      "\n",
      "\n",
      "Carpeta Actual: Ejemplo_alto_nivel\\Mid-Ejemplo-Uno\n",
      "\n",
      "\n",
      "LAS SUBCARPETAS SON: \n",
      "\t Subcarpeta: .ipynb_checkpoints\n",
      "\t Subcarpeta: Bajo-Nivel-Dos\n",
      "\t Subcarpeta: Bajo-Nivel-Uno\n",
      "\n",
      "\n",
      "LOS ARCHIVOS SON: \n",
      "\t Archivo: Mid-Nivel-Doc.txt\n",
      "\n",
      "\n",
      "Carpeta Actual: Ejemplo_alto_nivel\\Mid-Ejemplo-Uno\\.ipynb_checkpoints\n",
      "\n",
      "\n",
      "LAS SUBCARPETAS SON: \n",
      "\n",
      "\n",
      "LOS ARCHIVOS SON: \n",
      "\t Archivo: Mid-Nivel-Doc-checkpoint.txt\n",
      "\n",
      "\n",
      "Carpeta Actual: Ejemplo_alto_nivel\\Mid-Ejemplo-Uno\\Bajo-Nivel-Dos\n",
      "\n",
      "\n",
      "LAS SUBCARPETAS SON: \n",
      "\t Subcarpeta: .ipynb_checkpoints\n",
      "\n",
      "\n",
      "LOS ARCHIVOS SON: \n",
      "\t Archivo: Bajo-Texto-Dos.txt\n",
      "\n",
      "\n",
      "Carpeta Actual: Ejemplo_alto_nivel\\Mid-Ejemplo-Uno\\Bajo-Nivel-Dos\\.ipynb_checkpoints\n",
      "\n",
      "\n",
      "LAS SUBCARPETAS SON: \n",
      "\n",
      "\n",
      "LOS ARCHIVOS SON: \n",
      "\t Archivo: Bajo-Texto-Dos-checkpoint.txt\n",
      "\n",
      "\n",
      "Carpeta Actual: Ejemplo_alto_nivel\\Mid-Ejemplo-Uno\\Bajo-Nivel-Uno\n",
      "\n",
      "\n",
      "LAS SUBCARPETAS SON: \n",
      "\t Subcarpeta: .ipynb_checkpoints\n",
      "\n",
      "\n",
      "LOS ARCHIVOS SON: \n",
      "\t Archivo: Uno_Texto.txt\n",
      "\n",
      "\n",
      "Carpeta Actual: Ejemplo_alto_nivel\\Mid-Ejemplo-Uno\\Bajo-Nivel-Uno\\.ipynb_checkpoints\n",
      "\n",
      "\n",
      "LAS SUBCARPETAS SON: \n",
      "\n",
      "\n",
      "LOS ARCHIVOS SON: \n",
      "\t Archivo: Uno_Texto-checkpoint.txt\n",
      "\n",
      "\n"
     ]
    }
   ],
   "source": [
    "for carpeta , sub_carpetas , archivos in os.walk(\"Ejemplo_alto_nivel\"):\n",
    "    \n",
    "    print(\"Carpeta Actual: \"+ carpeta)\n",
    "    print('\\n')\n",
    "    print(\"LAS SUBCARPETAS SON: \")\n",
    "    for sub_fold in sub_carpetas:\n",
    "        print(\"\\t Subcarpeta: \"+sub_fold )\n",
    "    \n",
    "    print('\\n')\n",
    "    \n",
    "    print(\"LOS ARCHIVOS SON: \")\n",
    "    for f in archivos:\n",
    "        print(\"\\t Archivo: \"+f)\n",
    "    print('\\n')\n",
    "    \n",
    "    # Ahora las subcapetas"
   ]
  },
  {
   "cell_type": "markdown",
   "metadata": {},
   "source": [
    "___\n",
    "Excelente, ahora debe saber cómo trabajar con los archivos y carpetas de una computadora en cualquier directorio en el que se encuentren. Recuerde que el módulo os funciona para cualquier sistema operativo que admita Python, lo que significa que estos comandos funcionarán en Linux, MacOs o Windows sin necesidad de ajuste."
   ]
  },
  {
   "cell_type": "code",
   "execution_count": null,
   "metadata": {},
   "outputs": [],
   "source": []
  }
 ],
 "metadata": {
  "anaconda-cloud": {},
  "kernelspec": {
   "display_name": "Python 3 (ipykernel)",
   "language": "python",
   "name": "python3"
  },
  "language_info": {
   "codemirror_mode": {
    "name": "ipython",
    "version": 3
   },
   "file_extension": ".py",
   "mimetype": "text/x-python",
   "name": "python",
   "nbconvert_exporter": "python",
   "pygments_lexer": "ipython3",
   "version": "3.9.6"
  }
 },
 "nbformat": 4,
 "nbformat_minor": 4
}
