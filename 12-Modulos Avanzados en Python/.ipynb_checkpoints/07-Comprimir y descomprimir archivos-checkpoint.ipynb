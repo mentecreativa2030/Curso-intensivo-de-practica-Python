{
 "cells": [
  {
   "cell_type": "markdown",
   "metadata": {},
   "source": [
    "# Descomprimir y comprimir archivos\n",
    "\n",
    "Como probablemente sepa, los archivos se pueden comprimir en un formato zip. A menudo, las personas usan programas especiales en su computadora para descomprimir estos archivos; afortunadamente para nosotros, Python puede hacer la misma tarea con solo unas pocas líneas simples de código."
   ]
  },
  {
   "cell_type": "markdown",
   "metadata": {},
   "source": [
    "## Crear archivos para comprimir"
   ]
  },
  {
   "cell_type": "code",
   "execution_count": 35,
   "metadata": {
    "tags": []
   },
   "outputs": [],
   "source": [
    "# Es posible que sea necesario cambiar las barras para MacOS o Linux\n",
    "f = open(\"nuevo_archivo.txt\",'w+')\n",
    "f.write(\"Aqui algun texto\")\n",
    "f.close()"
   ]
  },
  {
   "cell_type": "code",
   "execution_count": 36,
   "metadata": {
    "tags": []
   },
   "outputs": [],
   "source": [
    "# Es posible que sea necesario cambiar las barras para MacOS o Linux\n",
    "f = open(\"nuevo_archivo2.txt\",'w+')\n",
    "f.write(\"Aqui algun texto\")\n",
    "f.close()"
   ]
  },
  {
   "cell_type": "markdown",
   "metadata": {},
   "source": [
    "## Comprimir archivos\n",
    "\n",
    "La [biblioteca zipfile] (https://docs.python.org/3/library/zipfile.html) está integrada en Python, podemos usarla para comprimir carpetas o archivos. Para comprimir todos los archivos en una carpeta, simplemente use el método os.walk () para iterar este proceso para todos los archivos en un directorio."
   ]
  },
  {
   "cell_type": "code",
   "execution_count": 37,
   "metadata": {
    "tags": []
   },
   "outputs": [],
   "source": [
    "import zipfile"
   ]
  },
  {
   "cell_type": "markdown",
   "metadata": {
    "tags": []
   },
   "source": [
    "Primero cree el archivo Zip y luego escríbalo (el paso de escritura comprime los archivos)."
   ]
  },
  {
   "cell_type": "code",
   "execution_count": 38,
   "metadata": {
    "tags": []
   },
   "outputs": [],
   "source": [
    "comp_archivo = zipfile.ZipFile('comp_archivo.zip','w')"
   ]
  },
  {
   "cell_type": "code",
   "execution_count": 39,
   "metadata": {
    "tags": []
   },
   "outputs": [],
   "source": [
    "comp_archivo.write(\"nuevo_archivo.txt\",compress_type=zipfile.ZIP_DEFLATED)"
   ]
  },
  {
   "cell_type": "code",
   "execution_count": 40,
   "metadata": {
    "tags": []
   },
   "outputs": [],
   "source": [
    "comp_archivo.write('nuevo_archivo2.txt',compress_type=zipfile.ZIP_DEFLATED)"
   ]
  },
  {
   "cell_type": "code",
   "execution_count": 41,
   "metadata": {
    "tags": []
   },
   "outputs": [],
   "source": [
    "comp_archivo.close()"
   ]
  },
  {
   "cell_type": "markdown",
   "metadata": {},
   "source": [
    "## Extracción de archivos zip\n",
    "\n",
    "Podemos extraer archivos fácilmente con el método extractall () para obtener todos los archivos, o simplemente usando el método extract () para capturar solo archivos individuales."
   ]
  },
  {
   "cell_type": "code",
   "execution_count": 42,
   "metadata": {
    "tags": []
   },
   "outputs": [],
   "source": [
    "zip_obj = zipfile.ZipFile('comp_archivo.zip','r')"
   ]
  },
  {
   "cell_type": "code",
   "execution_count": 43,
   "metadata": {
    "tags": []
   },
   "outputs": [],
   "source": [
    "zip_obj.extractall(\"contenido_extraido2\")"
   ]
  },
  {
   "cell_type": "markdown",
   "metadata": {},
   "source": [
    "________"
   ]
  },
  {
   "cell_type": "markdown",
   "metadata": {},
   "source": [
    "# Usando la biblioteca shutil\n",
    "\n",
    "A menudo, no desea extraer o archivar archivos individuales de un .zip, sino archivar todo a la vez. La biblioteca shutil que está integrada en Python tiene comandos fáciles de usar para esto:"
   ]
  },
  {
   "cell_type": "code",
   "execution_count": 44,
   "metadata": {
    "tags": []
   },
   "outputs": [],
   "source": [
    "import shutil"
   ]
  },
  {
   "cell_type": "markdown",
   "metadata": {},
   "source": [
    "La biblioteca shutil puede aceptar un parámetro de formato, `formato` es el formato de archivo: uno de\" zip \",\" tar \",\" gztar \",\" bztar \",\n",
    "o \"xztar\"."
   ]
  },
  {
   "cell_type": "code",
   "execution_count": 45,
   "metadata": {
    "tags": []
   },
   "outputs": [
    {
     "data": {
      "text/plain": [
       "'C:\\\\Users\\\\serge\\\\Documents\\\\Curso intensivo de practica lenguaje Python -  desde nivel cero a nivel campeon\\\\12-Modulos Avanzados en Python'"
      ]
     },
     "execution_count": 45,
     "metadata": {},
     "output_type": "execute_result"
    }
   ],
   "source": [
    "pwd"
   ]
  },
  {
   "cell_type": "code",
   "execution_count": 46,
   "metadata": {
    "tags": []
   },
   "outputs": [],
   "source": [
    "directorio_a_zip='C:\\\\Users\\\\serge\\\\Documents\\\\Curso intensivo de practica lenguaje Python -  desde nivel cero a nivel campeon\\\\12-Modulos Avanzados en Python'"
   ]
  },
  {
   "cell_type": "code",
   "execution_count": 47,
   "metadata": {},
   "outputs": [
    {
     "data": {
      "text/plain": [
       "'C:\\\\Users\\\\serge\\\\Documents\\\\Curso intensivo de practica lenguaje Python -  desde nivel cero a nivel campeon\\\\12-Modulos Avanzados en Python\\\\ejemplo.zip'"
      ]
     },
     "execution_count": 47,
     "metadata": {},
     "output_type": "execute_result"
    }
   ],
   "source": [
    "# Crea archivo zip\n",
    "archivo_salida = 'ejemplo'\n",
    "# Simplemente complete el nombre de archivo de salida y el directorio para comprimir\n",
    "# Tenga en cuenta que esto no se ejecutará como está porque la variable no está definida\n",
    "shutil.make_archive(archivo_salida,'zip',directorio_a_zip)"
   ]
  },
  {
   "cell_type": "code",
   "execution_count": 48,
   "metadata": {
    "tags": []
   },
   "outputs": [],
   "source": [
    "# Extraer un archivo zip\n",
    "# Observe cómo el orden de los parámetros / argumentos es ligeramente diferente aquí\n",
    "shutil.unpack_archive('C:\\\\Users\\\\serge\\\\Documents\\\\Curso intensivo de practica lenguaje Python -  desde nivel cero a nivel campeon\\\\12-Modulos Avanzados en Python\\\\comp_archivo.zip','C:\\\\Users\\\\serge\\\\Documents\\\\Curso intensivo de practica lenguaje Python -  desde nivel cero a nivel campeon\\\\12-Modulos Avanzados en Python','zip')"
   ]
  },
  {
   "cell_type": "code",
   "execution_count": null,
   "metadata": {},
   "outputs": [],
   "source": []
  },
  {
   "cell_type": "code",
   "execution_count": null,
   "metadata": {},
   "outputs": [],
   "source": []
  },
  {
   "cell_type": "code",
   "execution_count": null,
   "metadata": {},
   "outputs": [],
   "source": []
  }
 ],
 "metadata": {
  "kernelspec": {
   "display_name": "Python 3 (ipykernel)",
   "language": "python",
   "name": "python3"
  },
  "language_info": {
   "codemirror_mode": {
    "name": "ipython",
    "version": 3
   },
   "file_extension": ".py",
   "mimetype": "text/x-python",
   "name": "python",
   "nbconvert_exporter": "python",
   "pygments_lexer": "ipython3",
   "version": "3.9.6"
  }
 },
 "nbformat": 4,
 "nbformat_minor": 4
}
