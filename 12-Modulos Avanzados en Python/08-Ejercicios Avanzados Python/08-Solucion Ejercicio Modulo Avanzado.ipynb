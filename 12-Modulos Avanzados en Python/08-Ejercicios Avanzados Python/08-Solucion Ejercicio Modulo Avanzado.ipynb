{
 "cells": [
  {
   "cell_type": "markdown",
   "metadata": {},
   "source": [
    "# Módulos avanzados Soluciones de ejercicio\n",
    "\n",
    "Es hora de poner a prueba tus nuevas habilidades, este proyecto de rompecabezas combinará varios conjuntos de habilidades, incluida la descompresión de archivos con Python, utilizando el módulo del sistema operativo para buscar automáticamente en muchos archivos.\n",
    "\n",
    "## Tu meta\n",
    "\n",
    "Esto es un acertijo, por lo que no queremos brindarle demasiada orientación y, en su lugar, hacer que resuelva las cosas por su cuenta.\n",
    "\n",
    "Hay un archivo .zip llamado 'descromprimeme_para_instrucciones.zip', descomprímalo, abra el archivo .txt con Python, lea las instrucciones y vea si puede averiguar lo que necesita hacer.\n"
   ]
  },
  {
   "cell_type": "markdown",
   "metadata": {},
   "source": [
    "## Paso 1: descomprimir el archivo\n",
    "\n",
    "Podemos usar fácilmente la biblioteca shutil para extraer y descomprimir el contenido del archivo .zip"
   ]
  },
  {
   "cell_type": "code",
   "execution_count": 32,
   "metadata": {
    "tags": []
   },
   "outputs": [],
   "source": [
    "import shutil"
   ]
  },
  {
   "cell_type": "code",
   "execution_count": 33,
   "metadata": {
    "tags": []
   },
   "outputs": [],
   "source": [
    "shutil.unpack_archive('descomprimeme_para_instrucciones.zip','','zip')"
   ]
  },
  {
   "cell_type": "markdown",
   "metadata": {},
   "source": [
    "## Paso 2: lee el archivo de instrucciones\n",
    "\n",
    "Averigüemos qué tenemos que hacer, abra el archivo instructions.txt."
   ]
  },
  {
   "cell_type": "code",
   "execution_count": 34,
   "metadata": {},
   "outputs": [
    {
     "name": "stdout",
     "output_type": "stream",
     "text": [
      "Â¡Buen trabajo descomprimiendo el archivo!\n",
      "Ahora deberÃ­a ver 5 carpetas, cada una con una gran cantidad de archivos .txt aleatorios.\n",
      "Dentro de uno de estos archivos de texto hay un nÃºmero de telÃ©fono con el formato ### - ### - ####\n",
      "Utilice el mÃ³dulo del sistema operativo de Python y las expresiones regulares para recorrer cada archivo, abrirlo y buscar un nÃºmero de telÃ©fono.\n",
      "Â¡Buena suerte!\n"
     ]
    }
   ],
   "source": [
    "with open('contenido_extraido/Instrucciones.txt') as f:\n",
    "    contenido = f.read()\n",
    "    print(contenido)"
   ]
  },
  {
   "cell_type": "markdown",
   "metadata": {},
   "source": [
    "## Paso 3: Expresión regular para encontrar el enlace\n",
    "\n",
    "Hay muchos enfoques a seguir aquí, pero como sabemos que estamos buscando un número de teléfono, debe haber dígitos en la forma ### - ### - ####, por lo que podemos crear fácilmente una expresión regular para esto y pruébelo. Una vez que esté probado y funcionando, podemos averiguar cómo ejecutarlo en todos los documentos txt."
   ]
  },
  {
   "cell_type": "code",
   "execution_count": 35,
   "metadata": {
    "tags": []
   },
   "outputs": [],
   "source": [
    "import re"
   ]
  },
  {
   "cell_type": "code",
   "execution_count": 36,
   "metadata": {
    "tags": []
   },
   "outputs": [],
   "source": [
    "patron = r'\\d{3}-\\d{3}-\\d{4}'"
   ]
  },
  {
   "cell_type": "code",
   "execution_count": 37,
   "metadata": {
    "tags": []
   },
   "outputs": [],
   "source": [
    "prueba_cadena = \"aqui un numero aleatorio 1231231234 , aqui numero de telefono formateado 123-123-1234\""
   ]
  },
  {
   "cell_type": "code",
   "execution_count": 38,
   "metadata": {},
   "outputs": [
    {
     "data": {
      "text/plain": [
       "['123-123-1234']"
      ]
     },
     "execution_count": 38,
     "metadata": {},
     "output_type": "execute_result"
    }
   ],
   "source": [
    "re.findall(patron,prueba_cadena)"
   ]
  },
  {
   "cell_type": "markdown",
   "metadata": {},
   "source": [
    "## Paso 4: Crea una función para expresiones regulares\n",
    "\n",
    "Pongamos esto dentro de una función que lo aplique al contenido de un archivo .txt, de esta manera podemos aplicar esta función a todos los archivos txt en la carpeta contenido_extraido."
   ]
  },
  {
   "cell_type": "code",
   "execution_count": 39,
   "metadata": {
    "tags": []
   },
   "outputs": [],
   "source": [
    "def search(archivo,patron= r'\\d{3}-\\d{3}-\\d{4}'):\n",
    "    f = open(archivo,'r')\n",
    "    texto = f.read()\n",
    "    \n",
    "    if re.search(patron,texto):\n",
    "        return re.search(patron,texto)\n",
    "    else:\n",
    "        return ''"
   ]
  },
  {
   "cell_type": "markdown",
   "metadata": {},
   "source": [
    "## Paso 5: OS recorre los archivos para obtener el enlace\n",
    "\n",
    "Ahora que tenemos una función básica para buscar en el texto de los archivos, realicemos un recorrido de os.walk por el directorio descomprimido para encontrar los enlaces ocultos en algún lugar de uno de los archivos de texto."
   ]
  },
  {
   "cell_type": "code",
   "execution_count": 42,
   "metadata": {
    "tags": []
   },
   "outputs": [],
   "source": [
    "import os"
   ]
  },
  {
   "cell_type": "code",
   "execution_count": 43,
   "metadata": {
    "tags": []
   },
   "outputs": [],
   "source": [
    "resultados = []\n",
    "for carpeta , sub_carpetas , archivos in os.walk(os.getcwd()+\"\\\\contenido_extraido\"):\n",
    "    \n",
    "    for f in archivos:\n",
    "        ruta_completa = carpeta+'\\\\'+f\n",
    "         \n",
    "        resultados.append(search(ruta_completa)) "
   ]
  },
  {
   "cell_type": "code",
   "execution_count": 44,
   "metadata": {},
   "outputs": [
    {
     "name": "stdout",
     "output_type": "stream",
     "text": [
      "719-266-2837\n"
     ]
    }
   ],
   "source": [
    "for r in resultados:\n",
    "    if r != '':\n",
    "        print(r.group())"
   ]
  },
  {
   "cell_type": "markdown",
   "metadata": {},
   "source": [
    "___\n",
    "¡Excelente trabajo! Más información en este número de teléfono:\n"
   ]
  },
  {
   "cell_type": "code",
   "execution_count": null,
   "metadata": {},
   "outputs": [],
   "source": []
  },
  {
   "cell_type": "code",
   "execution_count": null,
   "metadata": {},
   "outputs": [],
   "source": []
  }
 ],
 "metadata": {
  "anaconda-cloud": {},
  "kernelspec": {
   "display_name": "Python 3 (ipykernel)",
   "language": "python",
   "name": "python3"
  },
  "language_info": {
   "codemirror_mode": {
    "name": "ipython",
    "version": 3
   },
   "file_extension": ".py",
   "mimetype": "text/x-python",
   "name": "python",
   "nbconvert_exporter": "python",
   "pygments_lexer": "ipython3",
   "version": "3.9.6"
  }
 },
 "nbformat": 4,
 "nbformat_minor": 4
}
