{
 "cells": [
  {
   "cell_type": "markdown",
   "metadata": {},
   "source": [
    "# Rompecabezas de ejercicios de módulos avanzados\n",
    "\n",
    "Es hora de poner a prueba tus nuevas habilidades, este proyecto de rompecabezas combinará varios conjuntos de habilidades, incluida la descompresión de archivos con Python, utilizando el módulo del sistema operativo para buscar automáticamente en muchos archivos.\n",
    "\n",
    "## Tu meta\n",
    "\n",
    "Esto es un acertijo, por lo que no queremos brindarle demasiada orientación y, en su lugar, hacer que resuelva las cosas por su cuenta.\n",
    "\n",
    "Hay un archivo .zip llamado 'descomprimeme_para_instrucciones.zip', descomprímalo, abra el archivo .txt con Python, lea las instrucciones y vea si puede averiguar lo que necesita hacer.\n",
    "\n",
    "Paso 1: Hay un archivo .zip llamado descomprimeme_para_instrucciones.zip. Utilice la biblioteca shutil para descomprimir este archivo.\n",
    "Paso 2: Después de descomprimir el archivo del paso 1, abra y lea el \"archivo de instrucciones.txt\".\n",
    "Paso 3: Después de leer las instrucciones, debes darte cuenta de que estás buscando un número de teléfono, así que usa expresiones regulares para encontrar un patrón que encuentre un número de teléfono en una cadena.\n",
    "Paso 4: Para aplicar esta expresión regular a varios archivos de texto, cree una función que tome un archivo y su patrón de expresión regular, abra el archivo, busque su patrón y devuelva cualquier coincidencia.\n",
    "Paso 5: Utilice el módulo del sistema operativo para recorrer todas las carpetas y archivos y aplique su función a cada archivo.\n",
    "Paso 6: Después de revisar los archivos, debería haber obtenido el resultado del número de teléfono 719-266-2837. Tenga en cuenta que colocamos algunos números aleatorios que no están formateados correctamente en algunos de los archivos .txt, para asegurarnos de que su expresión regular buscaba el formato correcto.\n",
    "\n",
    "¿Sigues atascado? ¡Vea el video de soluciones por favor! ¡Gracias!"
   ]
  }
 ],
 "metadata": {
  "anaconda-cloud": {},
  "kernelspec": {
   "display_name": "Python 3 (ipykernel)",
   "language": "python",
   "name": "python3"
  },
  "language_info": {
   "codemirror_mode": {
    "name": "ipython",
    "version": 3
   },
   "file_extension": ".py",
   "mimetype": "text/x-python",
   "name": "python",
   "nbconvert_exporter": "python",
   "pygments_lexer": "ipython3",
   "version": "3.9.6"
  }
 },
 "nbformat": 4,
 "nbformat_minor": 4
}
