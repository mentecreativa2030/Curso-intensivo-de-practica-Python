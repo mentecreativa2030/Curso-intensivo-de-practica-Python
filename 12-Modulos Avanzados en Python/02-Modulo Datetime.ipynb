{
 "cells": [
  {
   "cell_type": "markdown",
   "metadata": {},
   "source": [
    "# Modulo datetime\n",
    "\n",
    "Python tiene el módulo de fecha y hora para ayudar a lidiar con las marcas de tiempo en su código. Los valores de tiempo se representan con la clase de tiempo. Los tiempos tienen atributos de hora, minuto, segundo y microsegundo. También pueden incluir información sobre la zona horaria. Los argumentos para inicializar una instancia de tiempo son opcionales, pero es poco probable que el valor predeterminado de 0 sea el que desea.\n",
    "\n",
    "## time\n",
    "Echemos un vistazo a cómo podemos extraer información de tiempo del módulo de fecha y hora. Podemos crear una marca de tiempo especificando datetime.time (hora, minuto, segundo, microsegundo)"
   ]
  },
  {
   "cell_type": "code",
   "execution_count": 1,
   "metadata": {},
   "outputs": [
    {
     "name": "stdout",
     "output_type": "stream",
     "text": [
      "04:20:01\n",
      "hora  : 4\n",
      "minuto: 20\n",
      "segundo: 1\n",
      "microsegundo: 0\n",
      "tzinfo: None\n"
     ]
    }
   ],
   "source": [
    "import datetime\n",
    "\n",
    "t = datetime.time(4, 20, 1)\n",
    "\n",
    "# Vamos a mostrar los diferentes componentes\n",
    "print(t)\n",
    "print('hora  :', t.hour)\n",
    "print('minuto:', t.minute)\n",
    "print('segundo:', t.second)\n",
    "print('microsegundo:', t.microsecond)\n",
    "print('tzinfo:', t.tzinfo)"
   ]
  },
  {
   "cell_type": "markdown",
   "metadata": {},
   "source": [
    "Nota: Una instancia de tiempo solo contiene valores de tiempo y no una fecha asociada con el tiempo.\n",
    "\n",
    "También podemos comprobar los valores mínimos y máximos que puede tener una hora del día en el módulo:"
   ]
  },
  {
   "cell_type": "code",
   "execution_count": 2,
   "metadata": {},
   "outputs": [
    {
     "name": "stdout",
     "output_type": "stream",
     "text": [
      "Mucho mas temprano  : 00:00:00\n",
      "Mucho mas tarde    : 23:59:59.999999\n",
      "Resolucion: 0:00:00.000001\n"
     ]
    }
   ],
   "source": [
    "print('Mucho mas temprano  :', datetime.time.min)\n",
    "print('Mucho mas tarde    :', datetime.time.max)\n",
    "print('Resolucion:', datetime.time.resolution)"
   ]
  },
  {
   "cell_type": "markdown",
   "metadata": {},
   "source": [
    "Los atributos de clase mínima y máxima reflejan el rango válido de horas en un solo día."
   ]
  },
  {
   "cell_type": "markdown",
   "metadata": {},
   "source": [
    "## Dates\n",
    "datetime (como puede sospechar) también nos permite trabajar con marcas de tiempo de fecha. Los valores de la fecha del calendario se representan con la clase de fecha. Las instancias tienen atributos para año, mes y día. Es fácil crear una fecha que represente la fecha de hoy usando el método de clase today ().\n",
    "\n",
    "Veamos algunos ejemplos:"
   ]
  },
  {
   "cell_type": "code",
   "execution_count": 3,
   "metadata": {},
   "outputs": [
    {
     "name": "stdout",
     "output_type": "stream",
     "text": [
      "2022-02-04\n",
      "ctiempo: Fri Feb  4 00:00:00 2022\n",
      "tupla: time.struct_time(tm_year=2022, tm_mon=2, tm_mday=4, tm_hour=0, tm_min=0, tm_sec=0, tm_wday=4, tm_yday=35, tm_isdst=-1)\n",
      "ordinario: 738190\n",
      "Año : 2022\n",
      "Mes: 2\n",
      "Dia  : 4\n"
     ]
    }
   ],
   "source": [
    "hoy = datetime.date.today()\n",
    "print(hoy)\n",
    "print('ctiempo:', hoy.ctime())\n",
    "print('tupla:', hoy.timetuple())\n",
    "print('ordinario:', hoy.toordinal())\n",
    "print('Año :', hoy.year)\n",
    "print('Mes:', hoy.month)\n",
    "print('Dia  :', hoy.day)"
   ]
  },
  {
   "cell_type": "markdown",
   "metadata": {},
   "source": [
    "Al igual que con el tiempo, el rango de valores de fecha admitidos se puede determinar utilizando los atributos mínimo y máximo."
   ]
  },
  {
   "cell_type": "code",
   "execution_count": 4,
   "metadata": {},
   "outputs": [
    {
     "name": "stdout",
     "output_type": "stream",
     "text": [
      "Mas temprano  : 0001-01-01\n",
      "Mas tarde    : 9999-12-31\n",
      "Resolucion: 1 day, 0:00:00\n"
     ]
    }
   ],
   "source": [
    "print('Mas temprano  :', datetime.date.min)\n",
    "print('Mas tarde    :', datetime.date.max)\n",
    "print('Resolucion:', datetime.date.resolution)"
   ]
  },
  {
   "cell_type": "markdown",
   "metadata": {},
   "source": [
    "Otra forma de crear nuevas instancias de fecha usa el método replace () de una fecha existente. Por ejemplo, puede cambiar el año, dejando solo el día y el mes."
   ]
  },
  {
   "cell_type": "code",
   "execution_count": 5,
   "metadata": {},
   "outputs": [
    {
     "name": "stdout",
     "output_type": "stream",
     "text": [
      "d1: 2015-03-11\n",
      "d2: 1990-03-11\n"
     ]
    }
   ],
   "source": [
    "d1 = datetime.date(2015, 3, 11)\n",
    "print('d1:', d1)\n",
    "\n",
    "d2 = d1.replace(year=1990)\n",
    "print('d2:', d2)"
   ]
  },
  {
   "cell_type": "markdown",
   "metadata": {},
   "source": [
    "# Aritmetica\n",
    "Podemos realizar operaciones aritméticas en objetos de fecha para comprobar las diferencias de tiempo. Por ejemplo:"
   ]
  },
  {
   "cell_type": "code",
   "execution_count": 6,
   "metadata": {},
   "outputs": [
    {
     "data": {
      "text/plain": [
       "datetime.date(2015, 3, 11)"
      ]
     },
     "execution_count": 6,
     "metadata": {},
     "output_type": "execute_result"
    }
   ],
   "source": [
    "d1"
   ]
  },
  {
   "cell_type": "code",
   "execution_count": 7,
   "metadata": {},
   "outputs": [
    {
     "data": {
      "text/plain": [
       "datetime.date(1990, 3, 11)"
      ]
     },
     "execution_count": 7,
     "metadata": {},
     "output_type": "execute_result"
    }
   ],
   "source": [
    "d2"
   ]
  },
  {
   "cell_type": "code",
   "execution_count": 8,
   "metadata": {},
   "outputs": [
    {
     "data": {
      "text/plain": [
       "datetime.timedelta(days=9131)"
      ]
     },
     "execution_count": 8,
     "metadata": {},
     "output_type": "execute_result"
    }
   ],
   "source": [
    "d1-d2"
   ]
  },
  {
   "cell_type": "markdown",
   "metadata": {},
   "source": [
    "Esto nos da la diferencia en días entre las dos fechas. Puede utilizar el método timedelta para especificar varias unidades de tiempo (días, minutos, horas, etc.)\n",
    "\n",
    "¡Estupendo! ¡Ahora debería tener un conocimiento básico de cómo usar datetime con Python para trabajar con marcas de tiempo en su código!"
   ]
  },
  {
   "cell_type": "code",
   "execution_count": null,
   "metadata": {},
   "outputs": [],
   "source": []
  }
 ],
 "metadata": {
  "kernelspec": {
   "display_name": "Python 3 (ipykernel)",
   "language": "python",
   "name": "python3"
  },
  "language_info": {
   "codemirror_mode": {
    "name": "ipython",
    "version": 3
   },
   "file_extension": ".py",
   "mimetype": "text/x-python",
   "name": "python",
   "nbconvert_exporter": "python",
   "pygments_lexer": "ipython3",
   "version": "3.9.6"
  }
 },
 "nbformat": 4,
 "nbformat_minor": 4
}
