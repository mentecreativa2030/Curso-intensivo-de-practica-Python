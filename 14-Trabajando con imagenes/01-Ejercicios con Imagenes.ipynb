{
 "cells": [
  {
   "cell_type": "markdown",
   "metadata": {},
   "source": [
    "# Ejercicio de imagen\n",
    "\n",
    "En la carpeta \"Trabajando con imágenes\" (la misma carpeta en la que se encuentra este notebook) hay dos imágenes con las que trabajaremos:\n",
    "* matriz_palabra.png\n",
    "* mascara.png\n",
    "\n",
    "matriz_palabra es una imagen .png que contiene una hoja de cálculo de palabras con un mensaje oculto.\n",
    "\n",
    "Tu tarea es usar la imagen mascara.png para revelar el mensaje oculto dentro de matriz_palabra.png. Tenga en cuenta que es posible que deba realizar cambios en mascara.png para que esto funcione. Eso es todo lo que diremos por ahora, ¡ya que realmente queremos que descubras esto por tu cuenta!\n",
    "\n",
    "Este ejercicio es más abierto, por lo que no lo guiaremos con los pasos, sino que le permitiremos explorar y resolver las cosas por su cuenta como lo haría en una situación del mundo real. Sin embargo, si se atasca, siempre puede ver el video de soluciones o el cuaderno para obtener orientación. ¡La mejor de las suertes!"
   ]
  },
  {
   "cell_type": "code",
   "execution_count": null,
   "metadata": {},
   "outputs": [],
   "source": []
  }
 ],
 "metadata": {
  "kernelspec": {
   "display_name": "Python 3 (ipykernel)",
   "language": "python",
   "name": "python3"
  },
  "language_info": {
   "codemirror_mode": {
    "name": "ipython",
    "version": 3
   },
   "file_extension": ".py",
   "mimetype": "text/x-python",
   "name": "python",
   "nbconvert_exporter": "python",
   "pygments_lexer": "ipython3",
   "version": "3.9.6"
  }
 },
 "nbformat": 4,
 "nbformat_minor": 4
}
