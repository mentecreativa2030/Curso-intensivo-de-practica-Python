{
 "cells": [
  {
   "cell_type": "markdown",
   "metadata": {},
   "source": [
    "# Ejercicio de Calentamiento"
   ]
  },
  {
   "cell_type": "markdown",
   "metadata": {},
   "source": [
    "## Juego de guerra simple\n",
    "\n",
    "Antes de lanzarnos al proyecto OOP Milestone 2, analicemos juntos el uso de OOP para una aplicación más sólida y compleja, como un juego. Usaremos Python OOP para simular una versión simplificada del juego War. Dos jugadores comenzarán cada uno con la mitad del mazo, luego retirarán una carta, compararán qué carta tiene el valor más alto y el jugador con la carta más alta gana ambas cartas. En el caso de un tiempo"
   ]
  },
  {
   "cell_type": "markdown",
   "metadata": {
    "tags": []
   },
   "source": [
    "## Clase carta única\n",
    "\n",
    "### Creación de una clase de carta con variables externas\n",
    "\n",
    "Aquí usaremos algunas variables externas que sabemos que no cambian independientemente de la situación, como una baraja de cartas. Independientemente de la ronda, el partido o el juego que estemos jugando, todavía necesitaremos el mismo mazo de cartas."
   ]
  },
  {
   "cell_type": "code",
   "execution_count": 269,
   "metadata": {
    "tags": []
   },
   "outputs": [],
   "source": [
    "# Nosotros utilizaremos esto despues\n",
    "import random "
   ]
  },
  {
   "cell_type": "code",
   "execution_count": 270,
   "metadata": {
    "tags": []
   },
   "outputs": [],
   "source": [
    "tipo_carta = ('Corazones', 'Diamantes', 'Espadas', 'Treboles')\n",
    "clasificacion_carta = ('Dos', 'Tres', 'Cuatro', 'Cinco', 'Seis', 'Siete', 'Ocho', 'Nueve', 'Diez', 'Sota', 'Reina', 'Rey', 'As')\n",
    "valores = {'Dos':2, 'Tres':3, 'Cuatro':4, 'Cinco':5, 'Seis':6, 'Siete':7, 'Ocho':8, \n",
    "            'Nueve':9, 'Diez':10, 'Sota':11, 'Reina':12, 'Rey':13, 'As':14}\n"
   ]
  },
  {
   "cell_type": "code",
   "execution_count": 271,
   "metadata": {
    "tags": []
   },
   "outputs": [],
   "source": [
    "class Carta:\n",
    "    \n",
    "    def __init__(self,tipo,clasificacion):\n",
    "        self.tipo = tipo\n",
    "        self.clasificacion = clasificacion\n",
    "        self.value = values[clasificacion]\n",
    "        \n",
    "    def __str__(self):\n",
    "        return self.clasificacion + ' de  ' + self.tipo\n"
   ]
  },
  {
   "cell_type": "markdown",
   "metadata": {},
   "source": [
    "Crea un ejemplo de carta"
   ]
  },
  {
   "cell_type": "code",
   "execution_count": 272,
   "metadata": {},
   "outputs": [
    {
     "data": {
      "text/plain": [
       "'Corazones'"
      ]
     },
     "execution_count": 272,
     "metadata": {},
     "output_type": "execute_result"
    }
   ],
   "source": [
    "tipo_carta[0]"
   ]
  },
  {
   "cell_type": "code",
   "execution_count": 273,
   "metadata": {},
   "outputs": [
    {
     "data": {
      "text/plain": [
       "'Dos'"
      ]
     },
     "execution_count": 273,
     "metadata": {},
     "output_type": "execute_result"
    }
   ],
   "source": [
    "clasificacion_carta[0]"
   ]
  },
  {
   "cell_type": "code",
   "execution_count": 274,
   "metadata": {
    "tags": []
   },
   "outputs": [],
   "source": [
    "dos_corazones = Carta(tipo_carta[0],clasificacion_carta[0])"
   ]
  },
  {
   "cell_type": "code",
   "execution_count": 275,
   "metadata": {},
   "outputs": [
    {
     "data": {
      "text/plain": [
       "<__main__.Carta at 0x1d2c9db93d0>"
      ]
     },
     "execution_count": 275,
     "metadata": {},
     "output_type": "execute_result"
    }
   ],
   "source": [
    "dos_corazones"
   ]
  },
  {
   "cell_type": "code",
   "execution_count": 276,
   "metadata": {},
   "outputs": [
    {
     "name": "stdout",
     "output_type": "stream",
     "text": [
      "Dos de  Corazones\n"
     ]
    }
   ],
   "source": [
    "print(dos_corazones)"
   ]
  },
  {
   "cell_type": "code",
   "execution_count": 277,
   "metadata": {},
   "outputs": [
    {
     "data": {
      "text/plain": [
       "'Dos'"
      ]
     },
     "execution_count": 277,
     "metadata": {},
     "output_type": "execute_result"
    }
   ],
   "source": [
    "dos_corazones.clasificacion"
   ]
  },
  {
   "cell_type": "code",
   "execution_count": 278,
   "metadata": {
    "tags": []
   },
   "outputs": [
    {
     "data": {
      "text/plain": [
       "2"
      ]
     },
     "execution_count": 278,
     "metadata": {},
     "output_type": "execute_result"
    }
   ],
   "source": [
    "dos_corazones.value"
   ]
  },
  {
   "cell_type": "code",
   "execution_count": 279,
   "metadata": {},
   "outputs": [
    {
     "data": {
      "text/plain": [
       "2"
      ]
     },
     "execution_count": 279,
     "metadata": {},
     "output_type": "execute_result"
    }
   ],
   "source": [
    "values[dos_corazones.clasificacion]"
   ]
  },
  {
   "cell_type": "markdown",
   "metadata": {},
   "source": [
    "## Clase Baraja\n",
    "\n",
    "### Usando una clase dentro de otra clase\n",
    "\n",
    "Acabamos de crear una sola carta, pero ¿cómo podemos crear una baraja de cartas completa? Exploremos cómo hacer esto con una clase que utiliza la clase carta."
   ]
  },
  {
   "cell_type": "markdown",
   "metadata": {},
   "source": [
    "Una baraja estará formada por varias cartas. Lo que significa que realmente usaremos la clase Carta dentro del   **\\__init__**   de la clase Baraja."
   ]
  },
  {
   "cell_type": "code",
   "execution_count": 288,
   "metadata": {
    "tags": []
   },
   "outputs": [],
   "source": [
    "class Baraja:\n",
    "    \n",
    "    def __init__(self):\n",
    "        # Tenga en cuenta que esto solo sucede una vez al crear un nuevo Baraja\n",
    "        self.todas_cartas = [] \n",
    "        for tipo in tipo_carta:\n",
    "            for clasificacion in clasificacion_carta:\n",
    "                # ¡Esto asume que la clase Carta ya ha sido definida!\n",
    "                self.todas_cartas.append(Carta(tipo,clasificacion))\n",
    "                \n",
    "    def shuffle(self):\n",
    "        # Tenga en cuenta que esto no devuelve nada\n",
    "        random.shuffle(self.todas_cartas)\n",
    "        \n",
    "    def reparte_una(self):\n",
    "        # Tenga en cuenta que eliminamos una tarjeta de la lista de all_cards\n",
    "        return self.todas_cartas.pop()           "
   ]
  },
  {
   "cell_type": "markdown",
   "metadata": {},
   "source": [
    "### Crear una baraja"
   ]
  },
  {
   "cell_type": "code",
   "execution_count": 289,
   "metadata": {
    "tags": []
   },
   "outputs": [],
   "source": [
    "mibaraja = Baraja()"
   ]
  },
  {
   "cell_type": "code",
   "execution_count": 290,
   "metadata": {},
   "outputs": [
    {
     "data": {
      "text/plain": [
       "52"
      ]
     },
     "execution_count": 290,
     "metadata": {},
     "output_type": "execute_result"
    }
   ],
   "source": [
    "len(mibaraja.todas_cartas)"
   ]
  },
  {
   "cell_type": "code",
   "execution_count": 291,
   "metadata": {},
   "outputs": [
    {
     "data": {
      "text/plain": [
       "<__main__.Carta at 0x1d2c9db9400>"
      ]
     },
     "execution_count": 291,
     "metadata": {},
     "output_type": "execute_result"
    }
   ],
   "source": [
    "mibaraja.todas_cartas[0]"
   ]
  },
  {
   "cell_type": "code",
   "execution_count": 292,
   "metadata": {
    "tags": []
   },
   "outputs": [
    {
     "name": "stdout",
     "output_type": "stream",
     "text": [
      "Dos de  Corazones\n"
     ]
    }
   ],
   "source": [
    "print(mibaraja.todas_cartas[0])"
   ]
  },
  {
   "cell_type": "code",
   "execution_count": 293,
   "metadata": {
    "tags": []
   },
   "outputs": [],
   "source": [
    "mibaraja.shuffle()"
   ]
  },
  {
   "cell_type": "code",
   "execution_count": 294,
   "metadata": {},
   "outputs": [
    {
     "name": "stdout",
     "output_type": "stream",
     "text": [
      "Reina de  Corazones\n"
     ]
    }
   ],
   "source": [
    "print(mibaraja.todas_cartas[0])"
   ]
  },
  {
   "cell_type": "code",
   "execution_count": 295,
   "metadata": {
    "tags": []
   },
   "outputs": [],
   "source": [
    "mi_carta = mibaraja.reparte_una()"
   ]
  },
  {
   "cell_type": "code",
   "execution_count": 296,
   "metadata": {},
   "outputs": [
    {
     "name": "stdout",
     "output_type": "stream",
     "text": [
      "Diez de  Diamantes\n"
     ]
    }
   ],
   "source": [
    "print(mi_carta)"
   ]
  },
  {
   "cell_type": "markdown",
   "metadata": {},
   "source": [
    "# Clase  jugador\n",
    "\n",
    "Creemos una clase de jugador, un jugador debería poder tener instancias de cartas, también debería poder quitarlas y agregarlas de su mano. Queremos que la clase Jugador sea lo suficientemente flexible como para agregar una tarjeta, o muchas tarjetas, así que usaremos una simple verificación if para mantener todo en el mismo método."
   ]
  },
  {
   "cell_type": "markdown",
   "metadata": {},
   "source": [
    "Tendremos todo esto en cuenta al crear los métodos para la clase Jugador.\n",
    "\n",
    "### Clase Jugador"
   ]
  },
  {
   "cell_type": "code",
   "execution_count": 297,
   "metadata": {
    "tags": []
   },
   "outputs": [],
   "source": [
    "class Jugador:\n",
    "    \n",
    "    def __init__(self,nombre):\n",
    "        self.nombre = nombre\n",
    "        # Un nuevo jugador no tiene cartas\n",
    "        self.todas_cartas = [] \n",
    "        \n",
    "    def quita_una(self):\n",
    "        # Tenga en cuenta que eliminamos una tarjeta de la lista de all_cards\n",
    "        # Indicamos 0 para eliminar de la \"parte superior\" de la baraja\n",
    "        # Imaginaremos el índice -1 como la parte inferior de la baraja\n",
    "        return self.todas_cartas.pop(0)\n",
    "    \n",
    "    def agrega_cartas(self,nuevas_cartas):\n",
    "        if type(nuevas_cartas) == type([]):\n",
    "            self.todas_cartas.extend(nuevas_cartas)\n",
    "        else:\n",
    "            self.todas_cartas.append(nuevas_cartas)\n",
    "    \n",
    "    \n",
    "    def __str__(self):\n",
    "        return f'Jugador {self.nombre} tiene {len(self.todas_cartas)} cartas.'"
   ]
  },
  {
   "cell_type": "code",
   "execution_count": 298,
   "metadata": {
    "tags": []
   },
   "outputs": [],
   "source": [
    "juan = Jugador(\"Juan\")"
   ]
  },
  {
   "cell_type": "code",
   "execution_count": 299,
   "metadata": {},
   "outputs": [
    {
     "data": {
      "text/plain": [
       "<__main__.Jugador at 0x1d2c9db97f0>"
      ]
     },
     "execution_count": 299,
     "metadata": {},
     "output_type": "execute_result"
    }
   ],
   "source": [
    "juan"
   ]
  },
  {
   "cell_type": "code",
   "execution_count": 300,
   "metadata": {
    "tags": []
   },
   "outputs": [
    {
     "name": "stdout",
     "output_type": "stream",
     "text": [
      "Jugador Juan tiene 0 cartas.\n"
     ]
    }
   ],
   "source": [
    "print(juan)"
   ]
  },
  {
   "cell_type": "code",
   "execution_count": 301,
   "metadata": {},
   "outputs": [
    {
     "data": {
      "text/plain": [
       "<__main__.Carta at 0x1d2c9db93d0>"
      ]
     },
     "execution_count": 301,
     "metadata": {},
     "output_type": "execute_result"
    }
   ],
   "source": [
    "dos_corazones"
   ]
  },
  {
   "cell_type": "code",
   "execution_count": 302,
   "metadata": {
    "tags": []
   },
   "outputs": [],
   "source": [
    "juan.agrega_cartas(dos_corazones)"
   ]
  },
  {
   "cell_type": "code",
   "execution_count": 303,
   "metadata": {},
   "outputs": [
    {
     "name": "stdout",
     "output_type": "stream",
     "text": [
      "Jugador Juan tiene 1 cartas.\n"
     ]
    }
   ],
   "source": [
    "print(juan)"
   ]
  },
  {
   "cell_type": "code",
   "execution_count": 304,
   "metadata": {
    "tags": []
   },
   "outputs": [],
   "source": [
    "juan.agrega_cartas([dos_corazones,dos_corazones,dos_corazones])"
   ]
  },
  {
   "cell_type": "code",
   "execution_count": 305,
   "metadata": {},
   "outputs": [
    {
     "name": "stdout",
     "output_type": "stream",
     "text": [
      "Jugador Juan tiene 4 cartas.\n"
     ]
    }
   ],
   "source": [
    "print(juan)"
   ]
  },
  {
   "cell_type": "markdown",
   "metadata": {},
   "source": [
    "## Logica juego de guerra"
   ]
  },
  {
   "cell_type": "code",
   "execution_count": 306,
   "metadata": {
    "tags": []
   },
   "outputs": [],
   "source": [
    "jugador_uno = Jugador(\"Uno\")"
   ]
  },
  {
   "cell_type": "code",
   "execution_count": 307,
   "metadata": {
    "tags": []
   },
   "outputs": [],
   "source": [
    "jugador_dos = Jugador(\"Dos\")"
   ]
  },
  {
   "cell_type": "markdown",
   "metadata": {},
   "source": [
    "## Configurar nuevo juego"
   ]
  },
  {
   "cell_type": "code",
   "execution_count": 308,
   "metadata": {
    "tags": []
   },
   "outputs": [],
   "source": [
    "nueva_baraja = Baraja()"
   ]
  },
  {
   "cell_type": "code",
   "execution_count": 309,
   "metadata": {
    "tags": []
   },
   "outputs": [],
   "source": [
    "nueva_baraja.shuffle()"
   ]
  },
  {
   "cell_type": "markdown",
   "metadata": {},
   "source": [
    "### Reparte cartas entre jugadores"
   ]
  },
  {
   "cell_type": "code",
   "execution_count": 310,
   "metadata": {},
   "outputs": [
    {
     "data": {
      "text/plain": [
       "26.0"
      ]
     },
     "execution_count": 310,
     "metadata": {},
     "output_type": "execute_result"
    }
   ],
   "source": [
    "len(nueva_baraja.todas_cartas)/2"
   ]
  },
  {
   "cell_type": "code",
   "execution_count": 311,
   "metadata": {
    "tags": []
   },
   "outputs": [],
   "source": [
    "for x in range(26):\n",
    "    jugador_uno.agrega_cartas(nueva_baraja.reparte_una())\n",
    "    jugador_dos.agrega_cartas(nueva_baraja.reparte_una())"
   ]
  },
  {
   "cell_type": "code",
   "execution_count": 312,
   "metadata": {},
   "outputs": [
    {
     "data": {
      "text/plain": [
       "0"
      ]
     },
     "execution_count": 312,
     "metadata": {},
     "output_type": "execute_result"
    }
   ],
   "source": [
    "len(nueva_baraja.todas_cartas)"
   ]
  },
  {
   "cell_type": "code",
   "execution_count": 313,
   "metadata": {},
   "outputs": [
    {
     "data": {
      "text/plain": [
       "26"
      ]
     },
     "execution_count": 313,
     "metadata": {},
     "output_type": "execute_result"
    }
   ],
   "source": [
    "len(jugador_uno.todas_cartas)"
   ]
  },
  {
   "cell_type": "code",
   "execution_count": 314,
   "metadata": {},
   "outputs": [
    {
     "data": {
      "text/plain": [
       "26"
      ]
     },
     "execution_count": 314,
     "metadata": {},
     "output_type": "execute_result"
    }
   ],
   "source": [
    "len(jugador_dos.todas_cartas)"
   ]
  },
  {
   "cell_type": "markdown",
   "metadata": {},
   "source": [
    "## Juega el Juego"
   ]
  },
  {
   "cell_type": "code",
   "execution_count": 315,
   "metadata": {
    "tags": []
   },
   "outputs": [],
   "source": [
    "import pdb"
   ]
  },
  {
   "cell_type": "code",
   "execution_count": 316,
   "metadata": {
    "tags": []
   },
   "outputs": [],
   "source": [
    "juego_continua = True"
   ]
  },
  {
   "cell_type": "code",
   "execution_count": 317,
   "metadata": {},
   "outputs": [
    {
     "name": "stdout",
     "output_type": "stream",
     "text": [
      "Número redondeado 1\n",
      "Número redondeado 2\n",
      "Número redondeado 3\n",
      "Número redondeado 4\n",
      "Número redondeado 5\n",
      "Número redondeado 6\n",
      "Número redondeado 7\n",
      "GUERRA!\n",
      "GUERRA!\n",
      "Número redondeado 8\n",
      "Número redondeado 9\n",
      "Número redondeado 10\n",
      "Número redondeado 11\n",
      "Número redondeado 12\n",
      "GUERRA!\n",
      "Número redondeado 13\n",
      "Número redondeado 14\n",
      "Número redondeado 15\n",
      "Número redondeado 16\n",
      "Número redondeado 17\n",
      "Número redondeado 18\n",
      "Número redondeado 19\n",
      "Número redondeado 20\n",
      "Número redondeado 21\n",
      "Número redondeado 22\n",
      "Número redondeado 23\n",
      "Número redondeado 24\n",
      "Número redondeado 25\n",
      "Número redondeado 26\n",
      "Número redondeado 27\n",
      "Número redondeado 28\n",
      "GUERRA!\n",
      "Número redondeado 29\n",
      "Número redondeado 30\n",
      "Número redondeado 31\n",
      "Número redondeado 32\n",
      "Número redondeado 33\n",
      "Número redondeado 34\n",
      "Número redondeado 35\n",
      "Número redondeado 36\n",
      "Número redondeado 37\n",
      "Número redondeado 38\n",
      "Número redondeado 39\n",
      "Número redondeado 40\n",
      "Número redondeado 41\n",
      "Número redondeado 42\n",
      "Número redondeado 43\n",
      "Número redondeado 44\n",
      "Número redondeado 45\n",
      "Número redondeado 46\n",
      "Número redondeado 47\n",
      "Número redondeado 48\n",
      "Número redondeado 49\n",
      "Número redondeado 50\n",
      "Número redondeado 51\n",
      "Número redondeado 52\n",
      "Número redondeado 53\n",
      "Número redondeado 54\n",
      "Número redondeado 55\n",
      "Número redondeado 56\n",
      "Número redondeado 57\n",
      "Número redondeado 58\n",
      "GUERRA!\n",
      "Número redondeado 59\n",
      "Número redondeado 60\n",
      "Número redondeado 61\n",
      "Número redondeado 62\n",
      "GUERRA!\n",
      "Número redondeado 63\n",
      "Número redondeado 64\n",
      "Número redondeado 65\n",
      "Número redondeado 66\n",
      "Número redondeado 67\n",
      "Número redondeado 68\n",
      "Número redondeado 69\n",
      "Número redondeado 70\n",
      "Número redondeado 71\n",
      "Número redondeado 72\n",
      "Número redondeado 73\n",
      "Número redondeado 74\n",
      "Número redondeado 75\n",
      "Número redondeado 76\n",
      "GUERRA!\n",
      "Número redondeado 77\n",
      "Número redondeado 78\n",
      "Número redondeado 79\n",
      "GUERRA!\n",
      "Número redondeado 80\n",
      "Número redondeado 81\n",
      "Número redondeado 82\n",
      "Número redondeado 83\n",
      "Número redondeado 84\n",
      "Número redondeado 85\n",
      "Número redondeado 86\n",
      "Número redondeado 87\n",
      "Número redondeado 88\n",
      "Número redondeado 89\n",
      "Número redondeado 90\n",
      "Número redondeado 91\n",
      "Número redondeado 92\n",
      "Número redondeado 93\n",
      "Número redondeado 94\n",
      "Número redondeado 95\n",
      "GUERRA!\n",
      "Número redondeado 96\n",
      "¡Jugador dos sin cartas! Juego terminado\n",
      "Jugador Uno Gana!\n"
     ]
    }
   ],
   "source": [
    "redondea_num = 0\n",
    "while juego_continua:\n",
    "    \n",
    "    redondea_num += 1\n",
    "    print(f\"Número redondeado {redondea_num}\")\n",
    "    \n",
    "    # Verifica si una jugador está sin cartas:\n",
    "    if len(jugador_uno.todas_cartas) == 0:\n",
    "        print(\"¡Jugador uno sin cartas! Juego terminado\")\n",
    "        print(\"Jugador Dos Gana!\")\n",
    "        juego_continua = False\n",
    "        break\n",
    "        \n",
    "    if len(jugador_dos.todas_cartas) == 0:\n",
    "        print(\"¡Jugador dos sin cartas! Juego terminado\")\n",
    "        print(\"Jugador Uno Gana!\")\n",
    "        juego_continua = False\n",
    "        break\n",
    "    \n",
    "    # De lo contrario, ¡el juego sigue en marcha!\n",
    "    \n",
    "    # Comience una nueva ronda y reinicie las cartas actuales \"sobre la mesa\"\n",
    "    jugador_uno_cartas = []\n",
    "    jugador_uno_cartas.append(jugador_uno.quita_una())\n",
    "    \n",
    "    jugador_dos_cartas = []\n",
    "    jugador_dos_cartas.append(jugador_dos.quita_una())\n",
    "    \n",
    "    en_guerra = True\n",
    "\n",
    "    while en_guerra:\n",
    "\n",
    "\n",
    "        if jugador_uno_cartas[-1].value > jugador_dos_cartas[-1].value:\n",
    "\n",
    "            # El jugador uno recibe las cartas\n",
    "            jugador_uno.agrega_cartas(jugador_uno_cartas)\n",
    "            jugador_uno.agrega_cartas(jugador_dos_cartas)\n",
    "            \n",
    "            \n",
    "            # Ya no estamos en \"guerra\", hora de la próxima ronda\n",
    "            en_guerra = False\n",
    "        \n",
    "        # El jugador dos tiene carta más alta\n",
    "        elif jugador_uno_cartas[-1].value < jugador_dos_cartas[-1].value:\n",
    "\n",
    "            # El jugador dos recibe las cartas\n",
    "            jugador_dos.agrega_cartas(jugador_uno_cartas)\n",
    "            jugador_dos.agrega_cartas(jugador_dos_cartas)\n",
    "            \n",
    "            # Ya no estamos en \"guerra\", hora de la próxima ronda\n",
    "            en_guerra = False\n",
    "\n",
    "        else:\n",
    "            print('GUERRA!')\n",
    "            # Esto ocurre cuando las cartas son iguales.\n",
    "            # Tomaremos otra carta cada uno y continuaremos la guerra actual.\n",
    "            \n",
    "            # Primero verifica si el jugador tiene suficientes cartas\n",
    "            \n",
    "            # Verifica si un jugador está sin cartas:\n",
    "            if len(jugador_uno.todas_cartas) < 5:\n",
    "                print(\"¡El jugador uno no puede jugar a la guerra! Juego terminado\")\n",
    "                print(\"Jugador Dos Gana! Jugador Uno Pierde!\")\n",
    "                juego_continua = False\n",
    "                break\n",
    "\n",
    "            elif len(jugador_dos.todas_cartas) < 5:\n",
    "                print(\"El jugador dos no puede jugar a la guerra! Juego terminado\")\n",
    "                print(\"Jugador Uno Gana! Jugador Dos Pierde!\")\n",
    "                juego_continua = False\n",
    "                break\n",
    "            # De lo contrario, todavía estamos en guerra, así que agregaremos las siguientes cartas\n",
    "            else:\n",
    "                for num in range(5):\n",
    "                    jugador_uno_cartas.append(jugador_uno.quita_una())\n",
    "                    jugador_dos_cartas.append(jugador_dos.quita_una())\n"
   ]
  },
  {
   "cell_type": "markdown",
   "metadata": {},
   "source": [
    "## Configuración del juego en una celda"
   ]
  },
  {
   "cell_type": "raw",
   "metadata": {
    "jupyter": {
     "outputs_hidden": true
    }
   },
   "source": [
    "jugador_uno = Jugador(\"Uno\")\n",
    "jugador_dos = Jugador(\"Dos\")\n",
    "\n",
    "nueva_baraja = Baraja()\n",
    "nueva_baraja.shuffle()\n",
    "\n",
    "for x in range(26):\n",
    "    jugador_uno.agrega_cartas(nueva_baraja.reparte_una())\n",
    "    jugador_dos.agrega_cartas(nueva_baraja.reparte_una())\n",
    "    \n",
    "juego_continua = True"
   ]
  },
  {
   "cell_type": "code",
   "execution_count": 318,
   "metadata": {},
   "outputs": [],
   "source": [
    "redondea_num = 0\n",
    "while juego_continua:\n",
    "    \n",
    "    redondea_num += 1\n",
    "    print(f\"Número redondeado {redondea_num}\")\n",
    "    \n",
    "    # Verifica si un jugador está sin cartas:\n",
    "    if len(jugador_uno.todas_cartas) == 0:\n",
    "        print(\"¡Jugador uno sin cartas! Juego terminado\")\n",
    "        print(\"Jugador Dos Gana!\")\n",
    "        juego_continua = False\n",
    "        break\n",
    "        \n",
    "    if len(jugador_dos.todas_cartas) == 0:\n",
    "        print(\"¡Jugador dos sin cartas! Juego terminado\")\n",
    "        print(\"Jugador Uno Gana!\")\n",
    "        juego_continua = False\n",
    "        break\n",
    "    \n",
    "    # De lo contrario, ¡el juego sigue en marcha!\n",
    "    \n",
    "    # Comience una nueva ronda y reinicie las cartas actuales \"sobre la mesa\"\n",
    "    jugador_uno_cartas = []\n",
    "    jugador_uno_cartas.append(jugador_uno.quita_una())\n",
    "    \n",
    "    jugador_dos_cartas = []\n",
    "    jugador_dos_cartas.append(jugador_dos.quita_una())\n",
    "    \n",
    "    en_guerra = True\n",
    "\n",
    "    while en_guerra:\n",
    "\n",
    "\n",
    "        if jugador_uno_cartas[-1].value > jugador_dos_cartas[-1].value:\n",
    "\n",
    "            # El jugador uno recibe las cartas\n",
    "            jugador_uno.agregar_cartas(jugador_uno_cartas)\n",
    "            jugador_uno.agregar_Cartas(jugador_dos_cartas)\n",
    "            \n",
    "            \n",
    "            # Ya no estamos en \"guerra\", hora de la próxima ronda\n",
    "            en_guerra = False\n",
    "        \n",
    "        # El jugador dos tiene carta más alta\n",
    "        elif jugador_uno_cartas[-1].value < jugador_dos_cartas[-1].value:\n",
    "\n",
    "            # El jugador dos recibe las cartas\n",
    "            jugador_dos.agregar_cartas(jugador_uno_cartas)\n",
    "            jugador_dos.agregar_cartas(jugador_dos_cartas)\n",
    "            \n",
    "            # Ya no estamos en \"guerra\", hora de la próxima ronda\n",
    "            en_guerra = False\n",
    "\n",
    "        else:\n",
    "            print('GUERRA!')\n",
    "            # Esto ocurre cuando las cartas son iguales.\n",
    "            # Tomaremos otra carta cada uno y continuaremos la guerra actual.\n",
    "            \n",
    "            # Primero verifica si el jugador tiene suficientes cartas\n",
    "            \n",
    "            # Verifica si un jugador está sin cartas:\n",
    "            if len(jugador_uno.todas_cartas) < 5:\n",
    "                print(\"¡El jugador uno no puede jugar a la guerra! Juego terminado\")\n",
    "                print(\"Jugador Dos Gana! Jugador Uno Pierde!\")\n",
    "                juego_continua = False\n",
    "                break\n",
    "\n",
    "            elif len(jugador_dos.todas_cartas) < 5:\n",
    "                print(\"¡El jugador dos no puede jugar a la guerra! Juego terminado\")\n",
    "                print(\"Jugador Uno Gana! Jugador Dos Pierde!\")\n",
    "                juego_continua = False\n",
    "                break\n",
    "            # De lo contrario, todavía estamos en guerra, así que agregaremos las siguientes cartas\n",
    "            else:\n",
    "                for num in range(5):\n",
    "                    jugador_uno_cartas.append(jugador_uno.quita_una())\n",
    "                    jugador_dos_cartas.append(jugador_uno.quita_una())\n"
   ]
  },
  {
   "cell_type": "code",
   "execution_count": 319,
   "metadata": {},
   "outputs": [
    {
     "data": {
      "text/plain": [
       "52"
      ]
     },
     "execution_count": 319,
     "metadata": {},
     "output_type": "execute_result"
    }
   ],
   "source": [
    "len(jugador_uno.todas_cartas)"
   ]
  },
  {
   "cell_type": "code",
   "execution_count": 320,
   "metadata": {},
   "outputs": [
    {
     "data": {
      "text/plain": [
       "0"
      ]
     },
     "execution_count": 320,
     "metadata": {},
     "output_type": "execute_result"
    }
   ],
   "source": [
    "len(jugador_dos.todas_cartas)"
   ]
  },
  {
   "cell_type": "code",
   "execution_count": 321,
   "metadata": {},
   "outputs": [
    {
     "name": "stdout",
     "output_type": "stream",
     "text": [
      "Rey de  Corazones\n"
     ]
    }
   ],
   "source": [
    "print(jugador_uno_cartas[-1])"
   ]
  },
  {
   "cell_type": "code",
   "execution_count": 322,
   "metadata": {},
   "outputs": [
    {
     "name": "stdout",
     "output_type": "stream",
     "text": [
      "Ocho de  Corazones\n"
     ]
    }
   ],
   "source": [
    "print(jugador_dos_cartas[-1])"
   ]
  },
  {
   "cell_type": "markdown",
   "metadata": {},
   "source": [
    "## Gran trabajo!\n"
   ]
  },
  {
   "cell_type": "code",
   "execution_count": null,
   "metadata": {},
   "outputs": [],
   "source": []
  },
  {
   "cell_type": "code",
   "execution_count": null,
   "metadata": {},
   "outputs": [],
   "source": []
  }
 ],
 "metadata": {
  "kernelspec": {
   "display_name": "Python 3 (ipykernel)",
   "language": "python",
   "name": "python3"
  },
  "language_info": {
   "codemirror_mode": {
    "name": "ipython",
    "version": 3
   },
   "file_extension": ".py",
   "mimetype": "text/x-python",
   "name": "python",
   "nbconvert_exporter": "python",
   "pygments_lexer": "ipython3",
   "version": "3.9.6"
  }
 },
 "nbformat": 4,
 "nbformat_minor": 4
}
