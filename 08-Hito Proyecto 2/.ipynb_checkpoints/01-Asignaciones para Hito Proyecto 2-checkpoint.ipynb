{
 "cells": [
  {
   "cell_type": "markdown",
   "metadata": {},
   "source": [
    "# Milestone Project 2 - Juego de blackjack\n",
    "En este proyecto histórico, creará un juego de cartas BlackJack completo en Python.\n",
    "\n",
    "Estos son los requisitos:\n",
    "\n",
    "* Necesitas crear un juego simple basado en texto [BlackJack] (https://en.wikipedia.org/wiki/Blackjack)\n",
    "* El juego debe tener un jugador contra un crupier automático.\n",
    "* El jugador puede pararse o golpear.\n",
    "* El jugador debe poder elegir el monto de su apuesta.\n",
    "* Necesita realizar un seguimiento del dinero total del jugador.\n",
    "* Necesitas alertar al jugador de victorias, derrotas o fracasos, etc.\n",
    "\n",
    "Y más importante:\n",
    "\n",
    "* **Debes usar POO y clases en alguna parte de tu juego. No puedes simplemente usar funciones en tu juego. Usa clases para ayudarte a definir el Deck y la mano del jugador. Hay muchas formas correctas de hacer esto, ¡así que explora bien!**\n",
    "\n",
    "\n",
    "Siéntete libre de expandir este juego. Intente incluir varios jugadores. Recuerde que es libre de utilizar los recursos que desee y, como siempre:\n",
    "\n",
    "# ¡DIVIERTASE!"
   ]
  },
  {
   "cell_type": "code",
   "execution_count": null,
   "metadata": {},
   "outputs": [],
   "source": []
  }
 ],
 "metadata": {
  "kernelspec": {
   "display_name": "Python 3 (ipykernel)",
   "language": "python",
   "name": "python3"
  },
  "language_info": {
   "codemirror_mode": {
    "name": "ipython",
    "version": 3
   },
   "file_extension": ".py",
   "mimetype": "text/x-python",
   "name": "python",
   "nbconvert_exporter": "python",
   "pygments_lexer": "ipython3",
   "version": "3.9.6"
  }
 },
 "nbformat": 4,
 "nbformat_minor": 4
}
