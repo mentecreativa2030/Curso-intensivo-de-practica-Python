{
 "cells": [
  {
   "cell_type": "markdown",
   "metadata": {
    "tags": []
   },
   "source": [
    "# Solucion Hito Proyecto\n",
    "Este cuaderno muestra una propuesta de solución para el proyecto histórico del juego de blackjack. El enfoque para la resolución y el código específico utilizado son solo sugerencias: hay muchas formas diferentes de codificar esto, ¡y es probable que la suya sea diferente!"
   ]
  },
  {
   "cell_type": "markdown",
   "metadata": {},
   "source": [
    "## Como se Juega\n",
    "Para jugar una mano de Blackjack, se deben seguir los siguientes pasos:\n",
    "1. Crea una baraja de 52 cartas\n",
    "2. Baraja el mazo\n",
    "3. Pregunte al jugador por su apuesta.\n",
    "4.Asegúrate de que la apuesta del jugador no exceda sus fichas disponibles.\n",
    "5. Reparte dos cartas al repartidor y dos cartas al jugador.\n",
    "6. Muestre solo una de las cartas del repartidor, la otra permanece oculta\n",
    "7. Muestre las dos cartas del jugador.\n",
    "8. Pregúntale al jugador si desea pedir y toma otra carta.\n",
    "9. Si la mano del jugador no se pasa (pasa de 21), pregúntele si le gustaría pedir otra vez.\n",
    "10. Si un jugador se planta, juegue la mano del repartidor. El repartidor siempre pedirá hasta que el valor del repartidor alcance o supere 17\n",
    "11. Determine el ganador y ajuste las fichas del jugador en consecuencia.\n",
    "12. Pregúntale al jugador si le gustaría volver a jugar."
   ]
  },
  {
   "cell_type": "markdown",
   "metadata": {},
   "source": [
    "## Jugando a las cartas\n",
    "Una baraja estándar de naipes tiene cuatro palos (Corazones, Diamantes, Espadas y Tréboles) y trece clases (del 2 al 10, luego las figuras Sota, Reina, Rey y As) para un total de 52 cartas por baraja. Los sotas, reinas y reyes tienen un clase de 10. Los ases tienen un clase de 11 o 1 según sea necesario para llegar a 21 sin pasarse. Como punto de partida en su programa, es posible que desee asignar variables para almacenar una lista de conjuntos, clases y luego usar un diccionario para asignar clases a valores."
   ]
  },
  {
   "cell_type": "markdown",
   "metadata": {},
   "source": [
    "conjuntos# El Espadas\n",
    "clasesmportaciones y varSables globales\n",
    "** Paso 1: Importe el módulo aleatorio. Esto se utilizará para barajar el mazo antes de repartir. Luego, declare variables para almacenar trajes, rangos y valores. Puede desarrollar su propio sistema o copiar el nuestro a continuación. Finalmente, declare un valor booleano que se utilizará para controlar los bucles <code> while </code>. Esta es una práctica común que se usa para controlar el flujo del juego. **\n",
    "\n",
    "     conjuntos = ('Corazones', 'Diamantes', 'Espadas', 'Tréboles')\n",
    "     clases = ('Dos', 'Tres', 'Cuatro', 'Cinco', 'Seis', 'Siete', 'Ocho', 'Nueve', 'Diez', 'Sota', 'Reina', 'Rey' , 'As')\n",
    "     valores = {'Dos': 2, 'Tres': 3, 'Cuatro': 4, 'Cinco': 5, 'Seis': 6, 'Siete': 7, 'Ocho': 8, 'Nueve': 9 , 'Diez': 10, 'Sota': 10,\n",
    "              'Reina': 10, 'Rey': 10, 'As': 11}"
   ]
  },
  {
   "cell_type": "code",
   "execution_count": 1,
   "metadata": {
    "tags": []
   },
   "outputs": [],
   "source": [
    "import random\n",
    "\n",
    "conjuntos = ('Corazones', 'Diamantes', 'Espadas', 'Tréboles')\n",
    "clases = ('Dos', 'Tres', 'Cuatro', 'Cinco', 'Seis', 'Siete', 'Ocho', 'Nueve', 'Diez', 'Sota', 'Reina', 'Rey' , 'As')\n",
    "valores = {'Dos': 2, 'Tres': 3, 'Cuatro': 4, 'Cinco': 5, 'Seis': 6, 'Siete': 7, 'Ocho': 8, 'Nueve': 9 , 'Diez': 10, 'Sota': 10,\n",
    "              'Reina': 10, 'Rey': 10, 'As': 11}\n",
    "jugar = True"
   ]
  },
  {
   "cell_type": "markdown",
   "metadata": {},
   "source": [
    "### Definiciones de clases\n",
    "Considere la posibilidad de crear una clase Cartas en la que cada objeto de Cartas tenga un conjunto y una clase, luego una clase Baraja para contener los 52 objetos de Cartas y se puedan barajar, y finalmente una clase Mano que contenga las Cartas que se han repartido a cada jugador del Plataforma."
   ]
  },
  {
   "cell_type": "markdown",
   "metadata": {},
   "source": [
    "**Paso 2: crea una clase Carta** <br>\n",
    "Un objeto de carta realmente solo necesita dos atributos: conjunto y clase. Puede agregar un atributo para \"valor\"; elegimos manejar el valor más adelante cuando desarrollemos nuestra clase Mano. <br> Además del método \\ _ \\ _ init \\ _ \\ _ de Carta, considere agregar un \\ _ \\ _ str \\ _ \\ _ método que, cuando se le pide que imprima una carta, devuelve una cadena con el formato \"Dos de corazones\""
   ]
  },
  {
   "cell_type": "code",
   "execution_count": 2,
   "metadata": {
    "tags": []
   },
   "outputs": [],
   "source": [
    "class Carta:\n",
    "\n",
    "    def __init__(self,conjunto,clase):\n",
    "        self.conjunto = conjunto\n",
    "        self.clase = clase\n",
    "        \n",
    "    def __str__(self):\n",
    "        return self.clase + ' de ' + self.conjunto"
   ]
  },
  {
   "cell_type": "markdown",
   "metadata": {},
   "source": [
    "**Paso 3: crea una clase Baraja** <br>\n",
    "Aquí podríamos almacenar 52 objetos de cartas en una lista que luego se puede barajar. Primero, sin embargo, necesitamos *instanciar* los 52 objetos de cartas únicos y agregarlos a nuestra lista. Siempre que la definición de la clase Carta aparezca en nuestro código, podemos construir objetos Carta dentro de nuestro método Baraja \\ _ \\ _ init \\ _ \\ _. Considere iterar sobre secuencias de conjuntos y clases para construir cada carta. Esto puede aparecer dentro de un método clase Baraja \\ _ \\ _ init \\ _ \\ _:\n",
    "\n",
    "    for conjunto in conjuntos:\n",
    "        for clase in clases:\n",
    "\n",
    "Además de un método \\ _ \\ _ init \\ _ \\ _, querremos agregar métodos para barajar nuestro mazo y repartir cartas durante el juego. <br> <br>\n",
    "OPCIONAL: Es posible que nunca necesitemos imprimir el contenido del mazo durante el juego, pero tener la capacidad de ver las cartas en su interior puede ayudar a solucionar cualquier problema que ocurra durante el desarrollo. Con esto en mente, considere agregar un método \\ _ \\ _ str \\ _ \\ _ a la definición de la clase."
   ]
  },
  {
   "cell_type": "code",
   "execution_count": 3,
   "metadata": {
    "tags": []
   },
   "outputs": [],
   "source": [
    "class Baraja:\n",
    "    \n",
    "    def __init__(self):\n",
    "        self.baraja = []  # empieza con una lista vacia\n",
    "        for conjunto in conjuntos:\n",
    "            for clase in clases:\n",
    "                self.baraja.append(Carta(conjunto,clase))  # Contruye objeto carta y los agrega a la lista\n",
    "    \n",
    "    def __str__(self):\n",
    "        baraja_comp = ''  # empieza con una cadena vacia\n",
    "        for carta in self.baraja:\n",
    "            baraja_comp += '\\n '+carta.__str__() # agregue la cadena de impresión de cada objeto de carta\n",
    "        return 'La baraja tiene:' + baraja_comp\n",
    "\n",
    "    def barajar(self):\n",
    "        random.shuffle(self.baraja)\n",
    "        \n",
    "    def reparte(self):\n",
    "        sola_carta = self.baraja.pop()\n",
    "        return sola_carta"
   ]
  },
  {
   "cell_type": "markdown",
   "metadata": {
    "tags": []
   },
   "source": [
    "PRUEBAS: Solo para ver que todo funciona hasta ahora, ¡veamos cómo se ve nuestra Baraja!"
   ]
  },
  {
   "cell_type": "code",
   "execution_count": 4,
   "metadata": {},
   "outputs": [
    {
     "name": "stdout",
     "output_type": "stream",
     "text": [
      "La baraja tiene:\n",
      " Dos of Corazones\n",
      " Tres of Corazones\n",
      " Cuatro of Corazones\n",
      " Cinco of Corazones\n",
      " Seis of Corazones\n",
      " Siete of Corazones\n",
      " Ocho of Corazones\n",
      " Nueve of Corazones\n",
      " Diez of Corazones\n",
      " Sota of Corazones\n",
      " Reina of Corazones\n",
      " Rey of Corazones\n",
      " As of Corazones\n",
      " Dos of Diamantes\n",
      " Tres of Diamantes\n",
      " Cuatro of Diamantes\n",
      " Cinco of Diamantes\n",
      " Seis of Diamantes\n",
      " Siete of Diamantes\n",
      " Ocho of Diamantes\n",
      " Nueve of Diamantes\n",
      " Diez of Diamantes\n",
      " Sota of Diamantes\n",
      " Reina of Diamantes\n",
      " Rey of Diamantes\n",
      " As of Diamantes\n",
      " Dos of Espadas\n",
      " Tres of Espadas\n",
      " Cuatro of Espadas\n",
      " Cinco of Espadas\n",
      " Seis of Espadas\n",
      " Siete of Espadas\n",
      " Ocho of Espadas\n",
      " Nueve of Espadas\n",
      " Diez of Espadas\n",
      " Sota of Espadas\n",
      " Reina of Espadas\n",
      " Rey of Espadas\n",
      " As of Espadas\n",
      " Dos of Tréboles\n",
      " Tres of Tréboles\n",
      " Cuatro of Tréboles\n",
      " Cinco of Tréboles\n",
      " Seis of Tréboles\n",
      " Siete of Tréboles\n",
      " Ocho of Tréboles\n",
      " Nueve of Tréboles\n",
      " Diez of Tréboles\n",
      " Sota of Tréboles\n",
      " Reina of Tréboles\n",
      " Rey of Tréboles\n",
      " As of Tréboles\n"
     ]
    }
   ],
   "source": [
    "prueba_baraja = Baraja()\n",
    "print(prueba_baraja)"
   ]
  },
  {
   "cell_type": "markdown",
   "metadata": {},
   "source": [
    "¡Estupendo! Ahora pasemos a nuestra clase Mano."
   ]
  },
  {
   "cell_type": "markdown",
   "metadata": {},
   "source": [
    "**Paso 4: crea una clase Mano** <br>\n",
    "Además de contener objetos de Cartas repartidos desde la baraja, la clase Mano puede usarse para calcular el valor de esas cartas usando el diccionario de valores definido anteriormente. También puede ser necesario ajustar el valor de los ases cuando sea apropiado."
   ]
  },
  {
   "cell_type": "code",
   "execution_count": 5,
   "metadata": {
    "tags": []
   },
   "outputs": [],
   "source": [
    "class Mano:\n",
    "    def __init__(self):\n",
    "        self.cartas = []  # comenzar con una lista vacia\n",
    "        self.valor = 0   # empezar con valor cero\n",
    "        self.ases = 0    # agregar un atributo para realizar un seguimiento de los ases\n",
    "    \n",
    "    def da_cartas(self,carta):\n",
    "        self.cartas.append(carta)\n",
    "        self.valor += valores[carta.clase]\n",
    "    \n",
    "    def ajuste_para_as(self):\n",
    "        pass"
   ]
  },
  {
   "cell_type": "markdown",
   "metadata": {},
   "source": [
    "PRUEBAS: Antes de abordar el tema del cambio de Ases, asegurémonos de que podemos agregar dos cartas a la mano de un jugador y obtener su valor:"
   ]
  },
  {
   "cell_type": "code",
   "execution_count": 6,
   "metadata": {},
   "outputs": [
    {
     "data": {
      "text/plain": [
       "21"
      ]
     },
     "execution_count": 6,
     "metadata": {},
     "output_type": "execute_result"
    }
   ],
   "source": [
    "prueba_baraja = Baraja()\n",
    "prueba_baraja.barajar()\n",
    "prueba_jugador = Mano()\n",
    "prueba_jugador.da_cartas(prueba_baraja.reparte())\n",
    "prueba_jugador.da_cartas(prueba_baraja.reparte())\n",
    "prueba_jugador.valor"
   ]
  },
  {
   "cell_type": "markdown",
   "metadata": {},
   "source": [
    "Veamos cuáles son estas dos cartas:"
   ]
  },
  {
   "cell_type": "code",
   "execution_count": 7,
   "metadata": {},
   "outputs": [
    {
     "name": "stdout",
     "output_type": "stream",
     "text": [
      "As of Tréboles\n",
      "Reina of Espadas\n"
     ]
    }
   ],
   "source": [
    "for carta in prueba_jugador.cartas:\n",
    "    print(carta)"
   ]
  },
  {
   "cell_type": "markdown",
   "metadata": {},
   "source": [
    "¡Estupendo! Ahora abordemos el problema de los ases. Si el valor de una mano excede 21 pero contiene un As, podemos reducir el valor del As de 11 a 1 y continuar jugando."
   ]
  },
  {
   "cell_type": "code",
   "execution_count": 8,
   "metadata": {
    "tags": []
   },
   "outputs": [],
   "source": [
    "class Mano:\n",
    "    \n",
    "    def __init__(self):\n",
    "        self.cartas = []  # empieza con una lista vacia\n",
    "        self.valor = 0   # empieza con valor cero\n",
    "        self.ases = 0    # agregar un atributo para realizar un seguimiento de los ases\n",
    "    \n",
    "    def da_cartas(self,carta):\n",
    "        self.cartas.append(carta)\n",
    "        self.valor += valores[carta.clase]\n",
    "        if carta.clase == 'As':\n",
    "            self.ases += 1  # agrega a self.ases\n",
    "    \n",
    "    def ajuste_para_as(self):\n",
    "        while self.valor > 21 and self.ases:\n",
    "            self.valor -= 10\n",
    "            self.ases -= 1 "
   ]
  },
  {
   "cell_type": "markdown",
   "metadata": {},
   "source": [
    "Agregamos código al método da_carta para apostar self.ases cada vez que se trae un as a la mano, y agregamos código al método ajuste_para_as que disminuye el número de ases cada vez que hacemos un ajuste para permanecer por debajo de 21."
   ]
  },
  {
   "cell_type": "markdown",
   "metadata": {},
   "source": [
    "**Paso 5: crea una clase fichas** <br>\n",
    "Además de los mazos de cartas y las manos, debemos realizar un seguimiento de las fichas iniciales, las apuestas y las ganancias en curso de un jugador. Esto podría hacerse usando variables globales, pero en el espíritu de la programación orientada a objetos, ¡hagamos una clase Fichas en su lugar!"
   ]
  },
  {
   "cell_type": "code",
   "execution_count": 9,
   "metadata": {
    "tags": []
   },
   "outputs": [],
   "source": [
    "class Fichas:\n",
    "    \n",
    "    def __init__(self):\n",
    "        self.total = 100  # Esto se puede establecer en un valor predeterminado o ser proporcionado por una entrada del usuario.\n",
    "        self.apuesta = 0\n",
    "        \n",
    "    def gana_apuesta(self):\n",
    "        self.total += self.apuesta\n",
    "    \n",
    "    def pierda_apuesta(self):\n",
    "        self.total -= self.apuesta"
   ]
  },
  {
   "cell_type": "markdown",
   "metadata": {},
   "source": [
    "UNA NOTA SOBRE NUESTRO VALOR TOTAL POR DEFECTO: <br>\n",
    "Alternativamente, podríamos haber pasado un valor total predeterminado como parámetro en \\ _ \\ _ init \\ _ \\ _. Esto nos habría permitido pasar un valor de anulación en el momento en que se creó el objeto en lugar de esperar hasta más tarde para cambiarlo. El código se habría visto así:\n",
    "\n",
    "    def __init__(self,total=100):\n",
    "        self.total = total\n",
    "        self.apuesta = 0\n",
    "\n",
    "Cualquiera de las dos técnicas está bien, solo depende de cómo planeas iniciar los parámetros de tu juego."
   ]
  },
  {
   "cell_type": "markdown",
   "metadata": {},
   "source": [
    "### Definiciones de funciones\n",
    "Muchos pasos serán repetitivos. ¡Ahí es donde entran las funciones! Los siguientes pasos son pautas: agregue o elimine funciones según sea necesario en su propio programa."
   ]
  },
  {
   "cell_type": "markdown",
   "metadata": {},
   "source": [
    "**Paso 6: escribe una función para aceptar apuestas** <br>\n",
    "Dado que le pedimos al usuario un valor entero, este sería un buen lugar para usar <code> try </code> / <code> except </code>. Recuerde comprobar que la apuesta de un jugador puede cubrirse con sus fichas disponibles."
   ]
  },
  {
   "cell_type": "code",
   "execution_count": 10,
   "metadata": {
    "tags": []
   },
   "outputs": [],
   "source": [
    "def toma_apuesta(fichas):\n",
    "    \n",
    "    while True:\n",
    "        try:\n",
    "            fichas.apuesta = int(input('Cuantas fichas le gustaria apostar? '))\n",
    "        except ValueError:\n",
    "            print('Lo siento, una apuesta debe ser un numero entero!')\n",
    "        else:\n",
    "            if fichas.apuesta > fichas.total:\n",
    "                print(\"Lo siento, tu apuesta no puede exceder\",fichas.total)\n",
    "            else:\n",
    "                break"
   ]
  },
  {
   "cell_type": "markdown",
   "metadata": {},
   "source": [
    "Usamos un bucle <code> while </code> aquí para solicitar continuamente al usuario que ingrese hasta que recibamos un valor entero que estaba dentro del límite de apuestas del jugador."
   ]
  },
  {
   "cell_type": "markdown",
   "metadata": {},
   "source": [
    "UNA NOTA RÁPIDA SOBRE LAS FUNCIONES: <br>\n",
    "Si supiéramos de antemano cómo llamaríamos el objeto Fichas de nuestro jugador, podríamos haber escrito la función anterior de esta manera:\n",
    "\n",
    "     def toma_apuesta():\n",
    "         while True:\n",
    "             try:\n",
    "                 jugador_fichas.apuesta = int (input ('¿Cuántas fichas le gustaría apostar?'))\n",
    "             except ValueError:\n",
    "                 print ('¡Lo siento, una apuesta debe ser un número entero!')\n",
    "             else:\n",
    "                 if jugador_fichas.apuesta> jugador_fichas.total:\n",
    "                     print (\"Lo sentimos, tu apuesta no puede exceder\", player_chips.total)\n",
    "                 else:\n",
    "                     break\n",
    "\n",
    "y luego podríamos llamar a la función sin pasar ningún argumento. ¡Esto generalmente no es una buena idea! Es mejor tener funciones autónomas, capaces de aceptar cualquier valor entrante que depender de alguna convención de nomenclatura futura. Además, ¡esto hace que sea más fácil agregar jugadores en futuras versiones de nuestro programa!"
   ]
  },
  {
   "cell_type": "markdown",
   "metadata": {},
   "source": [
    "**Paso 7: escribe una función para recibir apuestas** <br>\n",
    "Cualquiera de los jugadores puede recibir apuestas hasta que se acaben. Esta función se llamará durante el juego cada vez que un jugador solicite una apuesta, o la mano de un repartidor sea inferior a 17. Debe tomar los objetos Baraja y Mano como argumentos, repartir una carta del mazo y agregarla a la mano. Es posible que desee que compruebe si hay ases en caso de que la mano de un jugador supere los 21."
   ]
  },
  {
   "cell_type": "code",
   "execution_count": 11,
   "metadata": {
    "tags": []
   },
   "outputs": [],
   "source": [
    "def apuesta(baraja,mano):\n",
    "    \n",
    "    mano.da_cartas(baraja.reparte())\n",
    "    mano.ajuste_para_as()"
   ]
  },
  {
   "cell_type": "markdown",
   "metadata": {},
   "source": [
    "**Paso 8: Escribe una función que le indique al jugador que apueste o pare** <br>\n",
    "Esta función debe aceptar el mazo y la mano del jugador como argumentos, y asignar el juego como una variable global. <br>\n",
    "Si el jugador apuesta, utilice la función apuesta() anterior. Si el jugador para, establezca la variable de reproducción en False; esto controlará el comportamiento de un bucle <code> while </code> más adelante en nuestro código."
   ]
  },
  {
   "cell_type": "code",
   "execution_count": 12,
   "metadata": {
    "tags": []
   },
   "outputs": [],
   "source": [
    "def apuesta_o_para(baraja,mano):\n",
    "    global jugar  # para controlar un próximo bucle while\n",
    "    \n",
    "    while True:\n",
    "        x = input(\"Te gustaria apostar o parar? Escribe Escribe 'a' o 'p' \")\n",
    "        \n",
    "        if x[0].lower() == 'a':\n",
    "            apostar(baraja,mano)  # apostar() funcion definida arriba\n",
    "\n",
    "        elif x[0].lower() == 'p':\n",
    "            print(\"Jugador para. Repartidor esta jugando.\")\n",
    "            jugar = False\n",
    "\n",
    "        else:\n",
    "            print(\"Lo siento, intente nuevamente.\")\n",
    "            continue\n",
    "        break"
   ]
  },
  {
   "cell_type": "markdown",
   "metadata": {},
   "source": [
    "**Paso 9: escribir funciones para mostrar cartas** <br>\n",
    "Cuando comienza el juego, y cada vez que el jugador toma una carta, la primera carta del repartidor se oculta y todas las cartas del jugador son visibles. Al final de la mano se muestran todas las cartas y es posible que desee mostrar el valor total de cada mano. Escribe una función para cada uno de estos escenarios."
   ]
  },
  {
   "cell_type": "code",
   "execution_count": 16,
   "metadata": {
    "tags": []
   },
   "outputs": [],
   "source": [
    "def muestra_alguna(jugador,repartidor):\n",
    "    print(\"\\nMano de repartidor:\")\n",
    "    print(\" <carta oculta>\")\n",
    "    print('',repartidor.cartas[1])  \n",
    "    print(\"\\nMano de jugador:\", *jugador.cartas, sep='\\n ')\n",
    "    \n",
    "def muestra_todas(jugador,repartidor):\n",
    "    print(\"\\nMano de repartidor:\", *repartidor.cartas, sep='\\n ')\n",
    "    print(\"Mano de repartidor =\",repartidor.valor)\n",
    "    print(\"\\nMano de jugador:\", *jugador.cartas, sep='\\n ')\n",
    "    print(\"Mano de jugador =\",jugador.valor)"
   ]
  },
  {
   "cell_type": "markdown",
   "metadata": {},
   "source": [
    "NOTAS RÁPIDAS SOBRE LAS DECLARACIONES IMPRESAS: <br>\n",
    "\n",
    "* El símbolo de asterisco <code> * </code> se usa para imprimir todos los elementos de una colección, y el argumento <code> sep = '\\ n' </code> imprime cada elemento en una línea separada.\n",
    "\n",
    "* En la cuarta línea donde tenemos\n",
    "\n",
    "      print('',repartidor.cartas[1])\n",
    "    \n",
    "la cadena vacía y la coma están ahí solo para agregar un espacio.\n",
    "\n",
    "- Aquí usamos comas para separar los objetos que se imprimen en cada línea. Si desea concatenar cadenas usando el símbolo <code> + </code>, entonces debe llamar al método \\ _ \\ _ str \\ _ \\ _ de cada objeto Carta explícitamente\n",
    "\n",
    "      print(' ' + repartidor.cartas[1].__str__())\n",
    "    "
   ]
  },
  {
   "cell_type": "markdown",
   "metadata": {},
   "source": [
    "**Paso 10: escribir funciones para manejar escenarios de final de juego** <br>\n",
    "Recuerde pasar la mano del jugador, la mano del repartidor y las fichas según sea necesario."
   ]
  },
  {
   "cell_type": "code",
   "execution_count": 17,
   "metadata": {
    "tags": []
   },
   "outputs": [],
   "source": [
    "def jugador_quiebra(jugador,repartidor,fichas):\n",
    "    print(\"Jugador quiebra!\")\n",
    "    fichas.pierde_apuesta()\n",
    "\n",
    "def jugador_gana(jugador,repartidor,fichas):\n",
    "    print(\"Jugador gana!\")\n",
    "    fichas.gana_apuesta()\n",
    "\n",
    "def repartidor_quiebra(jugador,repartidor,fichas):\n",
    "    print(\"Repartidor quiebra!\")\n",
    "    fichas.gana_apuesta()\n",
    "    \n",
    "def repartidor_gana(jugador_repartidor,fichas):\n",
    "    print(\"Repartidor gana!\")\n",
    "    fichas_pierde_apuesta()\n",
    "    \n",
    "def empatado(jugador,repartidor):\n",
    "    print(\"Repartidor y Jugador empatados! \")"
   ]
  },
  {
   "cell_type": "markdown",
   "metadata": {},
   "source": [
    "### y ahora en el juego!!"
   ]
  },
  {
   "cell_type": "code",
   "execution_count": 18,
   "metadata": {},
   "outputs": [
    {
     "name": "stdout",
     "output_type": "stream",
     "text": [
      "¡Bienvenido a BlackJack! Acércate lo más que puedas a los 21 sin pasarte!\n",
      "    El repartidor apuesta hasta que llega a 17. Los ases cuentan como 1 u 11.\n"
     ]
    },
    {
     "name": "stdin",
     "output_type": "stream",
     "text": [
      "Cuantas fichas le gustaria apostar?  1\n"
     ]
    },
    {
     "name": "stdout",
     "output_type": "stream",
     "text": [
      "\n",
      "Mano de repartidor:\n",
      " <carta oculta>\n",
      " As of Diamantes\n",
      "\n",
      "Mano de jugador:\n",
      " Reina of Corazones\n",
      " Rey of Tréboles\n",
      "\n",
      "Mano de repartidor:\n",
      " Cinco of Espadas\n",
      " As of Diamantes\n",
      " Tres of Tréboles\n",
      "Mano de repartidor = 19\n",
      "\n",
      "Mano de jugador:\n",
      " Reina of Corazones\n",
      " Rey of Tréboles\n",
      "Mano de jugador = 20\n",
      "Jugador gana!\n",
      "\n",
      "Fichas ganadas de jugador: 101\n"
     ]
    },
    {
     "name": "stdin",
     "output_type": "stream",
     "text": [
      "Le gustaria jugar otra mano? Escribe 's' o 'n'  n\n"
     ]
    },
    {
     "name": "stdout",
     "output_type": "stream",
     "text": [
      "Gracias por jugar!\n"
     ]
    }
   ],
   "source": [
    "while True:\n",
    "    # Imprime una declaración de apertura\n",
    "    print('¡Bienvenido a BlackJack! Acércate lo más que puedas a los 21 sin pasarte!\\n\\\n",
    "    El repartidor apuesta hasta que llega a 17. Los ases cuentan como 1 u 11.')\n",
    "    \n",
    "    # Crea y baraja las cartas, reparte dos cartas a cada jugador\n",
    "    baraja = Baraja()\n",
    "    baraja.barajar()\n",
    "    \n",
    "    jugador_mano = Mano()\n",
    "    jugador_mano.da_cartas(baraja.reparte())\n",
    "    jugador_mano.da_cartas(baraja.reparte())\n",
    "    \n",
    "    repartidor_mano = Mano()\n",
    "    repartidor_mano.da_cartas(baraja.reparte())\n",
    "    repartidor_mano.da_cartas(baraja.reparte())\n",
    "            \n",
    "    # Configurar las fichas del jugador\n",
    "    jugador_fichas = Fichas()  # recuerda el valor default es 100    \n",
    "    \n",
    "    # Pregunta al jugador su apuesta\n",
    "    toma_apuesta(jugador_fichas)\n",
    "    \n",
    "    # Mostrar cartas (pero mantener oculta una carta del repartidor)\n",
    "    muestra_alguna(jugador_mano,repartidor_mano)\n",
    "    \n",
    "    while jugar:  # recuerda esta variable de nuestra función apuesta_o_para\n",
    "        \n",
    "        # Pregunta por jugador para apostar o parar\n",
    "        apuesta_o_para(baraja,jugador_mano) \n",
    "        \n",
    "        # Mostrar cartas (pero mantener oculta una carta del repartidor)\n",
    "        muestra_alguna(jugador_mano,repartidor_mano)  \n",
    "        \n",
    "        # Si la mano del jugador excede 21, ejecuta jugador_quiebra() y sal del bucle\n",
    "        if jugador_mano.valor > 21:\n",
    "            jugador_quiebra(jugador_mano,repartidor_mano,jugador_fichas)\n",
    "            break        \n",
    "\n",
    "\n",
    "    # Si el jugador no ha perdido, juega la mano del repartidor hasta que el repartidor llegue a 17 \n",
    "    if jugador_mano.valor <= 21:\n",
    "        \n",
    "        while repartidor_mano.valor < 17:\n",
    "            apuesta(baraja,repartidor_mano)    \n",
    "    \n",
    "        # Muestra todas la cartas\n",
    "        muestra_todas(jugador_mano,repartidor_mano)\n",
    "        \n",
    "        # Ejecuta diferentes escenarios para ganar\n",
    "        if repartidor_mano.valor > 21:\n",
    "            repartidor_quiebra(jugador_mano,repartidor_mano,jugador_fichas)\n",
    "\n",
    "        elif repartidor_mano.valor > jugador_mano.valor:\n",
    "            repartidor_gana(jugador_mano,repartidor_mano,jugador_fichas)\n",
    "\n",
    "        elif repartidor_mano.valor < jugador_mano.valor:\n",
    "            jugador_gana(jugador_mano,repartidor_mano,jugador_fichas)\n",
    "\n",
    "        else:\n",
    "            empatado(jugador_mano,repartidor_mano)        \n",
    "    \n",
    "    # Informa a Jugador el total de fichas \n",
    "    print(\"\\nFichas ganadas de jugador:\",jugador_fichas.total)\n",
    "    \n",
    "    # Pregunta si juega de nuevo\n",
    "    nuevo_juego = input(\"Le gustaria jugar otra mano? Escribe 's' o 'n' \")\n",
    "    \n",
    "    if nuevo_juego[0].lower()=='s':\n",
    "        jugar=True\n",
    "        continue\n",
    "    else:\n",
    "        print(\"Gracias por jugar!\")\n",
    "        break"
   ]
  },
  {
   "cell_type": "markdown",
   "metadata": {},
   "source": [
    "¡Y eso es! Recuerde, estos pasos pueden diferir significativamente de su propia solución. ¡Está bien! Siga trabajando en diferentes secciones de su programa hasta que obtenga los resultados deseados. ¡Se necesita mucho tiempo y paciencia! Como siempre, no dude en publicar preguntas y comentarios en los foros de control de calidad.\n",
    "# ¡Buen trabajo!"
   ]
  }
 ],
 "metadata": {
  "kernelspec": {
   "display_name": "Python 3 (ipykernel)",
   "language": "python",
   "name": "python3"
  },
  "language_info": {
   "codemirror_mode": {
    "name": "ipython",
    "version": 3
   },
   "file_extension": ".py",
   "mimetype": "text/x-python",
   "name": "python",
   "nbconvert_exporter": "python",
   "pygments_lexer": "ipython3",
   "version": "3.9.6"
  }
 },
 "nbformat": 4,
 "nbformat_minor": 4
}
