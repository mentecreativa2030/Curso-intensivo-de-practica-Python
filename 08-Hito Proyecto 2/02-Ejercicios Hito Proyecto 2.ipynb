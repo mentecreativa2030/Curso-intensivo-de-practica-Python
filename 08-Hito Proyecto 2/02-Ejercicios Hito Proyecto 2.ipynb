{
 "cells": [
  {
   "cell_type": "markdown",
   "metadata": {},
   "source": [
    "# Hito Proyecto 2 - Ejercicios del tutorial\n",
    "¡A continuación se muestra un conjunto de pasos que debe seguir para intentar crear el juego Blackjack!"
   ]
  },
  {
   "cell_type": "markdown",
   "metadata": {},
   "source": [
    "## Como se Juega\n",
    "Para jugar una mano de Blackjack, se deben seguir los siguientes pasos:\n",
    "1. Crea una baraja de 52 cartas\n",
    "2. Baraja el mazo\n",
    "3. Pregunte al jugador por su apuesta.\n",
    "4.Asegúrate de que la apuesta del jugador no exceda sus fichas disponibles.\n",
    "5. Reparte dos cartas al crupier y dos cartas al jugador.\n",
    "6. Muestre solo una de las cartas del crupier, la otra permanece oculta\n",
    "7. Muestre las dos cartas del jugador.\n",
    "8. Pregúntale al jugador si desea pedir y toma otra carta.\n",
    "9. Si la mano del jugador no se pasa (pasa de 21), pregúntele si le gustaría pedir otra vez.\n",
    "10. Si un jugador se planta, juegue la mano del crupier. El crupier siempre pedirá hasta que el valor del crupier alcance o supere 17\n",
    "11. Determine el ganador y ajuste las fichas del jugador en consecuencia.\n",
    "12. Pregúntale al jugador si le gustaría volver a jugar."
   ]
  },
  {
   "cell_type": "markdown",
   "metadata": {},
   "source": [
    "## Jugando a las cartas\n",
    "Una baraja estándar de naipes tiene cuatro palos (Corazones, Diamantes, Picas y Tréboles) y trece rangos (del 2 al 10, luego las figuras Jota, Reina, Rey y As) para un total de 52 cartas por baraja. Los jotas, reinas y reyes tienen un rango de 10. Los ases tienen un rango de 11 o 1 según sea necesario para llegar a 21 sin pasarse. Como punto de partida en su programa, es posible que desee asignar variables para almacenar una lista de trajes, rangos y luego usar un diccionario para asignar rangos a valores."
   ]
  },
  {
   "cell_type": "markdown",
   "metadata": {},
   "source": [
    "## El juego\n",
    "### Importaciones y variables globales\n",
    "**Paso 1: Importe el módulo aleatorio. Esto se utilizará para barajar el mazo antes de repartir. Luego, declare variables para almacenar trajes, rangos y valores. Puede desarrollar su propio sistema o copiar el nuestro a continuación. Finalmente, declare un valor booleano que se utilizará para controlar los bucles <code> while </code>. Esta es una práctica común que se usa para controlar el flujo del juego.**\n",
    "\n"
   ]
  },
  {
   "cell_type": "code",
   "execution_count": 1,
   "metadata": {
    "tags": []
   },
   "outputs": [
    {
     "ename": "SyntaxError",
     "evalue": "invalid syntax (Temp/ipykernel_1796/3203536046.py, line 3)",
     "output_type": "error",
     "traceback": [
      "\u001b[1;36m  File \u001b[1;32m\"C:\\Users\\serge\\AppData\\Local\\Temp/ipykernel_1796/3203536046.py\"\u001b[1;36m, line \u001b[1;32m3\u001b[0m\n\u001b[1;33m    suits = pass\u001b[0m\n\u001b[1;37m            ^\u001b[0m\n\u001b[1;31mSyntaxError\u001b[0m\u001b[1;31m:\u001b[0m invalid syntax\n"
     ]
    }
   ],
   "source": [
    "tipo_carta = ('Corazones', 'Diamantes', 'Espadas', 'Treboles')\n",
    "clasificacion_carta = ('Dos', 'Tres', 'Cuatro', 'Cinco', 'Seis', 'Siete', 'Ocho', 'Nueve', 'Diez', 'Sota', 'Reina', 'Rey', 'As')\n",
    "values = {'Dos':2, 'Tres':3, 'Cuatro':4, 'Cinco':5, 'Seis':6, 'Siete':7, 'Ocho':8, 'Nueve':9, 'Diez':10, 'Sota':10,\n",
    "         'Reina':10, 'Rey':10, 'As':11}\n",
    "\n",
    "jugar_continua = True"
   ]
  },
  {
   "cell_type": "markdown",
   "metadata": {
    "tags": []
   },
   "source": [
    "### Definiciones de clases\n",
    "Considere la posibilidad de crear una clase de Cartas en la que cada objeto de Cartas tenga un rango, luego una clase Baraja para contener los 52 objetos de Cartas y se puedan barajar, y finalmente una clase de Mano que contenga las Cartas que se han repartido a cada jugador del Plataforma."
   ]
  },
  {
   "cell_type": "markdown",
   "metadata": {},
   "source": [
    "**Paso 2: crea una clase Carta** <br>\n",
    "Un objeto de carta realmente solo necesita dos atributos: conjunto y clase. Puede agregar un atributo para \"valor\"; elegimos manejar el valor más adelante cuando desarrollemos nuestra clase Mano. <br> Además del método  \\_\\_init\\_\\_   de carta, considere agregar un   \\_\\_str\\_\\_  método que, cuando se le pide que imprima una carta, devuelve una cadena con el formato \"Dos de corazones\"."
   ]
  },
  {
   "cell_type": "code",
   "execution_count": 2,
   "metadata": {
    "tags": []
   },
   "outputs": [],
   "source": [
    "class Carta:\n",
    "    \n",
    "    def __init__(self):\n",
    "        pass\n",
    "    \n",
    "    def __str__(self):\n",
    "        pass"
   ]
  },
  {
   "cell_type": "code",
   "execution_count": null,
   "metadata": {},
   "outputs": [],
   "source": []
  },
  {
   "cell_type": "markdown",
   "metadata": {},
   "source": [
    "**Paso 3: crea una clase de cubierta** <br>\n",
    "Aquí podríamos almacenar 52 objetos de cartas en una lista que luego se puede barajar. Primero, sin embargo, necesitamos *instanciar* los 52 objetos de tarjeta únicos y agregarlos a nuestra lista. Siempre que la definición de la clase Carta aparezca en nuestro código, podemos construir objetos Carta dentro de nuestro método Baraja  \\_\\_init\\_\\_. Considere iterar sobre secuencias de conjuntos y clases para construir cada carta. Esto puede aparecer dentro de un método Baraja class \\_\\_init\\_\\_:\n",
    "\n",
    "    for conjunto in conjuntos:\n",
    "        for clase in clases:\n",
    "\n",
    "Además de un método  \\_\\_init\\_\\_, querremos agregar métodos para barajar nuestro mazo y repartir cartas durante el juego. <br> <br>\n",
    "OPCIONAL: Es posible que nunca necesitemos imprimir el contenido del mazo durante el juego, pero tener la capacidad de ver las cartas en su interior puede ayudar a solucionar cualquier problema que ocurra durante el desarrollo. Con esto en mente, considere agregar un método \\_\\_str\\_\\_ a la definición de la clase."
   ]
  },
  {
   "cell_type": "code",
   "execution_count": 3,
   "metadata": {
    "tags": []
   },
   "outputs": [],
   "source": [
    "class Baraja:\n",
    "    \n",
    "    def __init__(self):\n",
    "        self.baraja = []  # empezar con una lista vacia\n",
    "        for tipo in tipo_carta:\n",
    "            for clasificacion in clasificacion_carta:\n",
    "                pass\n",
    "    \n",
    "    def __str__(self):\n",
    "        pass\n",
    "\n",
    "    def shuffle(self):\n",
    "        random.shuffle(self.baraja)\n",
    "        \n",
    "    def deal(self):\n",
    "        pass\n"
   ]
  },
  {
   "cell_type": "markdown",
   "metadata": {},
   "source": [
    "PRUEBA: Solo para ver que todo funciona hasta ahora, ¡veamos cómo se ve nuestro Baraja!"
   ]
  },
  {
   "cell_type": "code",
   "execution_count": 4,
   "metadata": {
    "tags": []
   },
   "outputs": [
    {
     "ename": "NameError",
     "evalue": "name 'suits' is not defined",
     "output_type": "error",
     "traceback": [
      "\u001b[1;31m---------------------------------------------------------------------------\u001b[0m",
      "\u001b[1;31mNameError\u001b[0m                                 Traceback (most recent call last)",
      "\u001b[1;32m~\\AppData\\Local\\Temp/ipykernel_1796/3491877775.py\u001b[0m in \u001b[0;36m<module>\u001b[1;34m\u001b[0m\n\u001b[1;32m----> 1\u001b[1;33m \u001b[0mtest_deck\u001b[0m \u001b[1;33m=\u001b[0m \u001b[0mDeck\u001b[0m\u001b[1;33m(\u001b[0m\u001b[1;33m)\u001b[0m\u001b[1;33m\u001b[0m\u001b[1;33m\u001b[0m\u001b[0m\n\u001b[0m\u001b[0;32m      2\u001b[0m \u001b[0mprint\u001b[0m\u001b[1;33m(\u001b[0m\u001b[0mtest_deck\u001b[0m\u001b[1;33m)\u001b[0m\u001b[1;33m\u001b[0m\u001b[1;33m\u001b[0m\u001b[0m\n",
      "\u001b[1;32m~\\AppData\\Local\\Temp/ipykernel_1796/919825694.py\u001b[0m in \u001b[0;36m__init__\u001b[1;34m(self)\u001b[0m\n\u001b[0;32m      3\u001b[0m     \u001b[1;32mdef\u001b[0m \u001b[0m__init__\u001b[0m\u001b[1;33m(\u001b[0m\u001b[0mself\u001b[0m\u001b[1;33m)\u001b[0m\u001b[1;33m:\u001b[0m\u001b[1;33m\u001b[0m\u001b[1;33m\u001b[0m\u001b[0m\n\u001b[0;32m      4\u001b[0m         \u001b[0mself\u001b[0m\u001b[1;33m.\u001b[0m\u001b[0mdeck\u001b[0m \u001b[1;33m=\u001b[0m \u001b[1;33m[\u001b[0m\u001b[1;33m]\u001b[0m  \u001b[1;31m# start with an empty list\u001b[0m\u001b[1;33m\u001b[0m\u001b[1;33m\u001b[0m\u001b[0m\n\u001b[1;32m----> 5\u001b[1;33m         \u001b[1;32mfor\u001b[0m \u001b[0msuit\u001b[0m \u001b[1;32min\u001b[0m \u001b[0msuits\u001b[0m\u001b[1;33m:\u001b[0m\u001b[1;33m\u001b[0m\u001b[1;33m\u001b[0m\u001b[0m\n\u001b[0m\u001b[0;32m      6\u001b[0m             \u001b[1;32mfor\u001b[0m \u001b[0mrank\u001b[0m \u001b[1;32min\u001b[0m \u001b[0mranks\u001b[0m\u001b[1;33m:\u001b[0m\u001b[1;33m\u001b[0m\u001b[1;33m\u001b[0m\u001b[0m\n\u001b[0;32m      7\u001b[0m                 \u001b[1;32mpass\u001b[0m\u001b[1;33m\u001b[0m\u001b[1;33m\u001b[0m\u001b[0m\n",
      "\u001b[1;31mNameError\u001b[0m: name 'suits' is not defined"
     ]
    }
   ],
   "source": [
    "prueba_baraja = Baraja()\n",
    "print(prueba_baraja)"
   ]
  },
  {
   "cell_type": "markdown",
   "metadata": {},
   "source": [
    "¡Estupendo! Ahora pasemos a nuestra clase  Mano."
   ]
  },
  {
   "cell_type": "markdown",
   "metadata": {},
   "source": [
    "**Paso 4: crea una clase mano** <br>\n",
    "Además de contener objetos de Cartas repartidos desde la Baraja, la clase Mano puede usarse para calcular el valor de esas cartas usando el diccionario de valores definido anteriormente. También puede ser necesario ajustar el valor de los ases cuando sea apropiado."
   ]
  },
  {
   "cell_type": "code",
   "execution_count": 13,
   "metadata": {
    "tags": []
   },
   "outputs": [],
   "source": [
    "class Mano:\n",
    "    def __init__(self):\n",
    "        self.cartas = []  # Comience con una lista vacía como lo hicimos en la clase Baraja.\n",
    "        self.valor = 0   # empieza con valor cero\n",
    "        self.ases = 0    # agregar un atributo para realizar un seguimiento de los ases\n",
    "    \n",
    "    def da_carta(self,carta):\n",
    "        pass\n",
    "    \n",
    "    def ajuste_para_as(self):\n",
    "        pass"
   ]
  },
  {
   "cell_type": "markdown",
   "metadata": {},
   "source": [
    "**Paso 5: crea una clase fichas** <br>\n",
    "Además de los mazos de cartas y las manos, debemos realizar un seguimiento de las fichas iniciales, las apuestas y las ganancias en curso de un jugador. Esto podría hacerse usando variables globales, pero en el espíritu de la programación orientada a objetos, ¡hagamos una clase Chips en su lugar!"
   ]
  },
  {
   "cell_type": "code",
   "execution_count": 14,
   "metadata": {
    "tags": []
   },
   "outputs": [],
   "source": [
    "class Fichas:\n",
    "    \n",
    "    def __init__(self):\n",
    "        self.total = 100  # Esto se puede establecer en un valor predeterminado o ser proporcionado por una entrada del usuario.\n",
    "        self.apuesta = 0\n",
    "        \n",
    "    def gana_apuesta(self):\n",
    "        pass\n",
    "    \n",
    "    def pierde_apuesta(self):\n",
    "        pass"
   ]
  },
  {
   "cell_type": "markdown",
   "metadata": {},
   "source": [
    "### Definiciones de funciones\n",
    "Muchos pasos serán repetitivos. ¡Ahí es donde entran las funciones! Los siguientes pasos son pautas: agregue o elimine funciones según sea necesario en su propio programa."
   ]
  },
  {
   "cell_type": "markdown",
   "metadata": {},
   "source": [
    "**Paso 6: escribe una función para aceptar apuestas** <br>\n",
    "Dado que le pedimos al usuario un valor entero, este sería un buen lugar para usar <code> try </code> / <code> except </code>. Recuerde comprobar que la apuesta de un jugador puede cubrirse con sus fichas disponibles."
   ]
  },
  {
   "cell_type": "code",
   "execution_count": 15,
   "metadata": {
    "tags": []
   },
   "outputs": [],
   "source": [
    "def realiza_apuesta():\n",
    "    \n",
    "    pass"
   ]
  },
  {
   "cell_type": "markdown",
   "metadata": {},
   "source": [
    "**Paso 7: escribe una función para recibir apuestas** <br>\n",
    "Cualquiera de los jugadores puede recibir apuestas hasta que se acaben. Esta función se llamará durante el juego cada vez que un jugador solicite una apuesta, o la mano de un crupier sea inferior a 17. Debe tomar los objetos Baraja y Mano como argumentos, repartir una carta del mazo y agregarla a la mano. Es posible desee comprobar si hay ases, en caso de que la mano de un jugador supere los 21."
   ]
  },
  {
   "cell_type": "code",
   "execution_count": 16,
   "metadata": {
    "tags": []
   },
   "outputs": [],
   "source": [
    "def apuesta(baraja,mano):\n",
    "    \n",
    "    pass"
   ]
  },
  {
   "cell_type": "markdown",
   "metadata": {},
   "source": [
    "**Paso 8: Escribe una función que le indique al jugador que baje o pare** <br>\n",
    "Esta función debe aceptar el mazo y la mano del jugador como argumentos, y asignar el juego como una variable global. <br>\n",
    "Si el jugador apuesta, utilice la función apuesta() anterior. Si el jugador está parado, establezca la variable de reproducción en False; esto controlará el comportamiento de un bucle <code> while </code> más adelante en nuestro código."
   ]
  },
  {
   "cell_type": "code",
   "execution_count": 17,
   "metadata": {
    "tags": []
   },
   "outputs": [],
   "source": [
    "def apuesta_or_para(baraja,mano):\n",
    "    global jugar  # para controlar un bucle while próximo\n",
    "    \n",
    "    pass"
   ]
  },
  {
   "cell_type": "markdown",
   "metadata": {},
   "source": [
    "**Paso 9: escribir funciones para mostrar cartas** <br>\n",
    "Cuando comienza el juego, y cada vez que el jugador toma una carta, la primera carta del crupier se oculta y todas las cartas del jugador son visibles. Al final de la mano se muestran todas las cartas y es posible que desee mostrar el valor total de cada mano. Escribe una función para cada uno de estos escenarios."
   ]
  },
  {
   "cell_type": "code",
   "execution_count": 18,
   "metadata": {
    "tags": []
   },
   "outputs": [],
   "source": [
    "def muestra_alguna(jugador,repartidor):\n",
    "    \n",
    "    pass\n",
    "    \n",
    "def muestra_todas(jugador,repartidor):\n",
    "    \n",
    "    pass"
   ]
  },
  {
   "cell_type": "markdown",
   "metadata": {},
   "source": [
    "**Paso 10: escribir funciones para manejar escenarios de final de juego** <br>\n",
    "Recuerde pasar la mano del jugador, la mano del crupier y las fichas según sea necesario."
   ]
  },
  {
   "cell_type": "code",
   "execution_count": 19,
   "metadata": {
    "tags": []
   },
   "outputs": [],
   "source": [
    "def jugador_corta():\n",
    "    pass\n",
    "\n",
    "def jugador_gana():\n",
    "    pass\n",
    "\n",
    "def repartidor_corta():\n",
    "    pass\n",
    "    \n",
    "def repartidor_gana():\n",
    "    pass\n",
    "    \n",
    "def presiona():\n",
    "    pass"
   ]
  },
  {
   "cell_type": "markdown",
   "metadata": {},
   "source": [
    "### y ahora a jugar!!"
   ]
  },
  {
   "cell_type": "code",
   "execution_count": 21,
   "metadata": {
    "tags": []
   },
   "outputs": [
    {
     "ename": "IndentationError",
     "evalue": "unindent does not match any outer indentation level (<tokenize>, line 43)",
     "output_type": "error",
     "traceback": [
      "\u001b[1;36m  File \u001b[1;32m\"<tokenize>\"\u001b[1;36m, line \u001b[1;32m43\u001b[0m\n\u001b[1;33m    break\u001b[0m\n\u001b[1;37m    ^\u001b[0m\n\u001b[1;31mIndentationError\u001b[0m\u001b[1;31m:\u001b[0m unindent does not match any outer indentation level\n"
     ]
    }
   ],
   "source": [
    "while True:\n",
    "    # Imprime una declaración de apertura\n",
    "\n",
    "    \n",
    "    # Crea y baraja el mazo, reparte dos cartas a cada jugador\n",
    "\n",
    "    \n",
    "        \n",
    "    # Configurar las fichas del jugador\n",
    "    \n",
    "    \n",
    "    # Preguntar al jugador su apuesta\n",
    "\n",
    "    \n",
    "    # Mostrar cartas (pero mantener oculta una carta del repartidor)\n",
    "\n",
    "    \n",
    "    while jugar:  # recuerda esta variable de nuestra función apuesta_o_para\n",
    "        \n",
    "        # Pregunta a jugador para apostar o parar\n",
    "        \n",
    "        \n",
    "        # Mostrar cartas (pero mantener oculta una carta del repartidor)\n",
    " \n",
    "        \n",
    "        # Si la mano del jugador excede 21, ejecuta jugador_corta () y sal del bucle\n",
    "        \n",
    "\n",
    "            break\n",
    "\n",
    "    # Si el jugador no ha perdido, juega la mano del repartidor hasta que el repartidor llegue a 17\n",
    "    \n",
    "    \n",
    "        # Muestra todas las cartas\n",
    "    \n",
    "        # Ejecuta diferentes escenarios para ganar\n",
    "        \n",
    "    \n",
    "    # Informa to eljugador de sus fichas totales \n",
    "    \n",
    "    # Pide jugar nuevamente\n",
    "\n",
    "        break"
   ]
  },
  {
   "cell_type": "markdown",
   "metadata": {},
   "source": [
    "¡Y eso es! Recuerde, estos pasos pueden diferir significativamente de su propia solución. ¡Está bien! Siga trabajando en diferentes secciones de su programa hasta que obtenga los resultados deseados. ¡Se necesita mucho tiempo y paciencia! Como siempre, no dude en publicar preguntas y comentarios en los foros de control de calidad.\n",
    "# ¡Buen trabajo!"
   ]
  },
  {
   "cell_type": "code",
   "execution_count": null,
   "metadata": {},
   "outputs": [],
   "source": []
  }
 ],
 "metadata": {
  "kernelspec": {
   "display_name": "Python 3 (ipykernel)",
   "language": "python",
   "name": "python3"
  },
  "language_info": {
   "codemirror_mode": {
    "name": "ipython",
    "version": 3
   },
   "file_extension": ".py",
   "mimetype": "text/x-python",
   "name": "python",
   "nbconvert_exporter": "python",
   "pygments_lexer": "ipython3",
   "version": "3.9.6"
  }
 },
 "nbformat": 4,
 "nbformat_minor": 4
}
