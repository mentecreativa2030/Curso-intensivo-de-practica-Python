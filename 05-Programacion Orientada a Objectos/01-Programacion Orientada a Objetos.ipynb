{
 "cells": [
  {
   "cell_type": "markdown",
   "metadata": {},
   "source": [
    "# Programación orientada a objetos\n",
    "\n",
    "La programación orientada a objetos (OOP) tiende a ser uno de los principales obstáculos para los principiantes cuando comienzan a aprender Python.\n",
    "\n",
    "Hay muchos, muchos tutoriales y lecciones que cubren la programación orientada a objetos, así que siéntase libre de buscar en Google otras lecciones, y también he puesto algunos enlaces a otros tutoriales útiles en línea en la parte inferior de este cuaderno.\n",
    "\n",
    "Para esta lección, construiremos nuestro conocimiento de OOP en Python basándonos en los siguientes temas:\n",
    "\n",
    "* Objetos\n",
    "* Usando la palabra clave *class*\n",
    "* Creando atributos de clase\n",
    "* Creando métodos en una clase\n",
    "* Aprendiendo sobre la herencia\n",
    "* Aprendiendo sobre polimorfismo\n",
    "* Aprendiendo sobre métodos especiales para clases.\n",
    "\n",
    "Comencemos la lección recordando los objetos básicos de Python. Por ejemplo:"
   ]
  },
  {
   "cell_type": "code",
   "execution_count": 1,
   "metadata": {
    "tags": []
   },
   "outputs": [],
   "source": [
    "lst = [1,2,3]"
   ]
  },
  {
   "cell_type": "markdown",
   "metadata": {},
   "source": [
    "¿Recuerda cómo podríamos llamar a métodos en una lista?"
   ]
  },
  {
   "cell_type": "code",
   "execution_count": 2,
   "metadata": {},
   "outputs": [
    {
     "data": {
      "text/plain": [
       "1"
      ]
     },
     "execution_count": 2,
     "metadata": {},
     "output_type": "execute_result"
    }
   ],
   "source": [
    "lst.count(2)"
   ]
  },
  {
   "cell_type": "markdown",
   "metadata": {},
   "source": [
    "Básicamente, lo que haremos en esta lección es explorar cómo podríamos crear un tipo de objeto como una lista. Ya hemos aprendido cómo crear funciones. Así que exploremos los Objetos en general:\n",
    "\n",
    "## Objetos\n",
    "En Python, *todo es un objeto*. Recuerde de lecciones anteriores que podemos usar \"type()\" para verificar el tipo de objeto que es algo:"
   ]
  },
  {
   "cell_type": "code",
   "execution_count": 3,
   "metadata": {},
   "outputs": [
    {
     "name": "stdout",
     "output_type": "stream",
     "text": [
      "<class 'int'>\n",
      "<class 'list'>\n",
      "<class 'tuple'>\n",
      "<class 'dict'>\n"
     ]
    }
   ],
   "source": [
    "print(type(1))\n",
    "print(type([]))\n",
    "print(type(()))\n",
    "print(type({}))"
   ]
  },
  {
   "cell_type": "markdown",
   "metadata": {},
   "source": [
    "Entonces, sabemos que todas estas cosas son objetos, entonces, ¿cómo podemos crear nuestros propios tipos de objetos? Ahí es donde entra la palabra clave <code> class </code>.\n",
    "## clase\n",
    "Los objetos definidos por el usuario se crean utilizando la palabra clave <code> class </code>. La clase es un plano que define la naturaleza de un objeto futuro. A partir de clases podemos construir instancias. Una instancia es un objeto específico creado a partir de una clase en particular. Por ejemplo, arriba creamos el objeto <code> lst </code> que era una instancia de un objeto de lista.\n",
    "\n",
    "Veamos cómo podemos usar <code> class </code>:"
   ]
  },
  {
   "cell_type": "code",
   "execution_count": 4,
   "metadata": {},
   "outputs": [
    {
     "name": "stdout",
     "output_type": "stream",
     "text": [
      "<class '__main__.muestra'>\n"
     ]
    }
   ],
   "source": [
    "# Cree un nuevo tipo de objeto llamado muestra\n",
    "class muestra:\n",
    "    pass\n",
    "\n",
    "# Ejemplo de muestra\n",
    "x = muestra()\n",
    "\n",
    "print(type(x))"
   ]
  },
  {
   "cell_type": "markdown",
   "metadata": {},
   "source": [
    "Por convención, damos a las clases un nombre que comienza con una letra mayúscula. Observe cómo <code> x </code> ahora es la referencia a nuestra nueva instancia de una clase Sample. En otras palabras, **instanciamos** la clase Sample.\n",
    "\n",
    "Dentro de la clase actualmente solo tenemos pase. Pero podemos definir atributos y métodos de clase.\n",
    "\n",
    "Un **atributo** es una característica de un objeto.\n",
    "Un **método** es una operación que podemos realizar con el objeto.\n",
    "\n",
    "Por ejemplo, podemos crear una clase llamada Perro. Un atributo de un perro puede ser su raza o su nombre, mientras que el método de un perro puede definirse mediante un método \".bark()\" que devuelve un sonido.\n",
    "\n",
    "Comprendamos mejor los atributos a través de un ejemplo.\n",
    "\n",
    "## Atributos\n",
    "La sintaxis para crear un atributo es:\n",
    "    \n",
    "     self.attribute = algo\n",
    "    \n",
    "Existe un método especial llamado:\n",
    "\n",
    "     __en eso__()\n",
    "\n",
    "Este método se utiliza para inicializar los atributos de un objeto. Por ejemplo:"
   ]
  },
  {
   "cell_type": "code",
   "execution_count": 5,
   "metadata": {
    "tags": []
   },
   "outputs": [],
   "source": [
    "class Perro:\n",
    "    def __init__(self,raza):\n",
    "        self.raza = raza\n",
    "        \n",
    "sam = Perro(raza='Lab')\n",
    "frank = Perro(raza='Huskie')"
   ]
  },
  {
   "cell_type": "markdown",
   "metadata": {},
   "source": [
    "Analicemos lo que tenemos arriba. El método especial\n",
    "\n",
    "     __init__()\n",
    "se llama automáticamente justo después de que se ha creado el objeto:\n",
    "\n",
    "     def __init __ (self, raza):\n",
    "Cada atributo en una definición de clase comienza con una referencia al objeto de instancia. Es por convención llamado self. La raza es el argumento. El valor se pasa durante la instanciación de la clase.\n",
    "\n",
    "      self.raza = raza"
   ]
  },
  {
   "cell_type": "markdown",
   "metadata": {},
   "source": [
    "Ahora hemos creado dos instancias de la clase Dog. Con dos tipos de razas, podemos acceder a estos atributos de esta manera:"
   ]
  },
  {
   "cell_type": "code",
   "execution_count": 6,
   "metadata": {},
   "outputs": [
    {
     "data": {
      "text/plain": [
       "'Lab'"
      ]
     },
     "execution_count": 6,
     "metadata": {},
     "output_type": "execute_result"
    }
   ],
   "source": [
    "sam.raza"
   ]
  },
  {
   "cell_type": "code",
   "execution_count": 7,
   "metadata": {},
   "outputs": [
    {
     "data": {
      "text/plain": [
       "'Huskie'"
      ]
     },
     "execution_count": 7,
     "metadata": {},
     "output_type": "execute_result"
    }
   ],
   "source": [
    "frank.raza"
   ]
  },
  {
   "cell_type": "markdown",
   "metadata": {},
   "source": [
    "Tenga en cuenta que no tenemos paréntesis después de la raza; esto se debe a que es un atributo y no acepta argumentos.\n",
    "\n",
    "En Python también hay *atributos de objeto de clase*. Estos atributos de objeto de clase son los mismos para cualquier instancia de la clase. Por ejemplo, podríamos crear el atributo *especie* para la clase Perro. Los perros, independientemente de su raza, nombre u otros atributos, siempre serán mamíferos. Aplicamos esta lógica de la siguiente manera:"
   ]
  },
  {
   "cell_type": "code",
   "execution_count": 8,
   "metadata": {
    "tags": []
   },
   "outputs": [],
   "source": [
    "class Perro:\n",
    "    \n",
    "    # Atributo de clase de objeto\n",
    "    especies = 'mamifero'\n",
    "    \n",
    "    def __init__(self,raza,nombre):\n",
    "        self.raza = raza\n",
    "        self.nombre = nombre"
   ]
  },
  {
   "cell_type": "code",
   "execution_count": 9,
   "metadata": {
    "tags": []
   },
   "outputs": [],
   "source": [
    "sam = Perro('Lab','Sam')"
   ]
  },
  {
   "cell_type": "code",
   "execution_count": 10,
   "metadata": {},
   "outputs": [
    {
     "data": {
      "text/plain": [
       "'Sam'"
      ]
     },
     "execution_count": 10,
     "metadata": {},
     "output_type": "execute_result"
    }
   ],
   "source": [
    "sam.nombre"
   ]
  },
  {
   "cell_type": "markdown",
   "metadata": {},
   "source": [
    "Tenga en cuenta que el atributo de objeto de clase se define fuera de cualquier método de la clase. También por convención, los colocamos primero antes de init."
   ]
  },
  {
   "cell_type": "code",
   "execution_count": 11,
   "metadata": {},
   "outputs": [
    {
     "data": {
      "text/plain": [
       "'mamifero'"
      ]
     },
     "execution_count": 11,
     "metadata": {},
     "output_type": "execute_result"
    }
   ],
   "source": [
    "sam.especies"
   ]
  },
  {
   "cell_type": "markdown",
   "metadata": {},
   "source": [
    "## Métodos\n",
    "\n",
    "Los métodos son funciones definidas dentro del cuerpo de una clase. Se utilizan para realizar operaciones con los atributos de nuestros objetos. Los métodos son un concepto clave del paradigma OOP. Son esenciales para dividir las responsabilidades en la programación, especialmente en aplicaciones grandes.\n",
    "\n",
    "Básicamente, puede pensar en los métodos como funciones que actúan sobre un Objeto que tienen en cuenta el Objeto mismo a través de su argumento *self*.\n",
    "\n",
    "Veamos un ejemplo de cómo crear una clase Circulo:"
   ]
  },
  {
   "cell_type": "code",
   "execution_count": 12,
   "metadata": {
    "tags": []
   },
   "outputs": [
    {
     "name": "stdout",
     "output_type": "stream",
     "text": [
      "Radio es:  1\n",
      "Area is:  3.14\n",
      "Circunferencia es:  6.28\n"
     ]
    }
   ],
   "source": [
    "class Circulo:\n",
    "    pi = 3.14\n",
    "\n",
    "    # El círculo se crea una instancia con un radio (el valor predeterminado es 1)\n",
    "    def __init__(self, radio=1):\n",
    "        self.radio = radio \n",
    "        self.area = radio * radio * Circulo.pi\n",
    "\n",
    "    # Método para restablecer el radio\n",
    "    def estableceradio(self, nuevo_radio):\n",
    "        self.radio = nuevo_radio\n",
    "        self.area = nuevo_radio * nuevo_radio * self.pi\n",
    "\n",
    "    # Método para obtener circunferencia\n",
    "    def getcircunferencia(self):\n",
    "        return self.radio * self.pi * 2\n",
    "\n",
    "\n",
    "c = Circulo()\n",
    "\n",
    "print('Radio es: ',c.radio)\n",
    "print('Area is: ',c.area)\n",
    "print('Circunferencia es: ',c.getcircunferencia())"
   ]
  },
  {
   "cell_type": "markdown",
   "metadata": {},
   "source": [
    "En el método **\"\\ __ init__\"** anterior, para calcular el atributo de área, tuvimos que llamar a circulo.pi. Esto se debe a que el objeto aún no tiene su propio atributo .pi, por lo que en su lugar llamamos pi al atributo de objeto de clase. <br>\n",
    "En el método estableceradio, sin embargo, trabajaremos con un objeto circulo existente que tiene su propio atributo pi. Aquí podemos usar circulo.pi o self.pi. <br> <br>\n",
    "Ahora cambiemos el radio y veamos cómo afecta eso a nuestro objeto circulo:"
   ]
  },
  {
   "cell_type": "markdown",
   "metadata": {},
   "source": [
    "¡Estupendo! Observe cómo nos usamos self. notación para hacer referencia a los atributos de la clase dentro de las llamadas al método. Revise cómo funciona el código anterior e intente crear su propio método.\n",
    "\n",
    "## Herencia\n",
    "\n",
    "La herencia es una forma de formar nuevas clases utilizando clases que ya se han definido. Las clases recién formadas se denominan clases derivadas, las clases de las que derivamos se denominan clases base. Los beneficios importantes de la herencia son la reutilización de código y la reducción de la complejidad de un programa. Las clases derivadas (descendientes) anulan o amplían la funcionalidad de las clases base (ancestros).\n",
    "\n",
    "Veamos un ejemplo incorporando nuestro trabajo anterior en la clase Dog:"
   ]
  },
  {
   "cell_type": "code",
   "execution_count": 13,
   "metadata": {
    "tags": []
   },
   "outputs": [],
   "source": [
    "class Animal:\n",
    "    def __init__(self):\n",
    "        print(\"Animal creado\")\n",
    "\n",
    "    def quiensoyyo(self):\n",
    "        print(\"Animal\")\n",
    "\n",
    "    def comer(self):\n",
    "        print(\"Comiendo\")\n",
    "\n",
    "\n",
    "class Perro(Animal):\n",
    "    def __init__(self):\n",
    "        Animal.__init__(self)\n",
    "        print(\"Perro creado\")\n",
    "\n",
    "    def quiensoyyo(self):\n",
    "        print(\"Perro\")\n",
    "\n",
    "    def ladrar(self):\n",
    "        print(\"Lobo!\")"
   ]
  },
  {
   "cell_type": "code",
   "execution_count": 14,
   "metadata": {},
   "outputs": [
    {
     "name": "stdout",
     "output_type": "stream",
     "text": [
      "Animal creado\n",
      "Perro creado\n"
     ]
    }
   ],
   "source": [
    "d = Perro()"
   ]
  },
  {
   "cell_type": "code",
   "execution_count": 15,
   "metadata": {},
   "outputs": [
    {
     "name": "stdout",
     "output_type": "stream",
     "text": [
      "Perro\n"
     ]
    }
   ],
   "source": [
    "d.quiensoyyo()"
   ]
  },
  {
   "cell_type": "code",
   "execution_count": 16,
   "metadata": {},
   "outputs": [
    {
     "name": "stdout",
     "output_type": "stream",
     "text": [
      "Comiendo\n"
     ]
    }
   ],
   "source": [
    "d.comer()"
   ]
  },
  {
   "cell_type": "code",
   "execution_count": 17,
   "metadata": {},
   "outputs": [
    {
     "name": "stdout",
     "output_type": "stream",
     "text": [
      "Lobo!\n"
     ]
    }
   ],
   "source": [
    "d.ladrar()"
   ]
  },
  {
   "cell_type": "markdown",
   "metadata": {},
   "source": [
    "En este ejemplo, tenemos dos clases: Animal y Perro. El Animal es la clase base, el Perro es la clase derivada.\n",
    "\n",
    "La clase derivada hereda la funcionalidad de la clase base.\n",
    "\n",
    "* Se muestra mediante el método comer ().\n",
    "\n",
    "La clase derivada modifica el comportamiento existente de la clase base.\n",
    "\n",
    "* mostrado por el método quiensoyyo ().\n",
    "\n",
    "Finalmente, la clase derivada extiende la funcionalidad de la clase base, definiendo un nuevo método ladrar ()."
   ]
  },
  {
   "cell_type": "markdown",
   "metadata": {},
   "source": [
    "## Polimorfismo\n",
    "\n",
    "Hemos aprendido que, si bien las funciones pueden aceptar diferentes argumentos, los métodos pertenecen a los objetos sobre los que actúan. En Python, *polimorfismo* se refiere a la forma en que diferentes clases de objetos pueden compartir el mismo nombre de método, y esos métodos se pueden llamar desde el mismo lugar aunque se puedan pasar varios objetos diferentes. La mejor manera de explicar esto es por ejemplo:"
   ]
  },
  {
   "cell_type": "code",
   "execution_count": 18,
   "metadata": {},
   "outputs": [
    {
     "name": "stdout",
     "output_type": "stream",
     "text": [
      "Niko dice Wolf!\n",
      "Felix dice  Miau!\n"
     ]
    }
   ],
   "source": [
    "class Perro:\n",
    "    def __init__(self, nombre):\n",
    "        self.nombre = nombre\n",
    "\n",
    "    def hablar(self):\n",
    "        return self.nombre+' dice Wolf!'\n",
    "    \n",
    "class Gato:\n",
    "    def __init__(self, nombre):\n",
    "        self.nombre = nombre\n",
    "\n",
    "    def hablar(self):\n",
    "        return self.nombre+' dice  Miau!' \n",
    "    \n",
    "niko = Perro('Niko')\n",
    "felix = Gato('Felix')\n",
    "\n",
    "print(niko.hablar())\n",
    "print(felix.hablar())"
   ]
  },
  {
   "cell_type": "markdown",
   "metadata": {},
   "source": [
    "Aquí tenemos una clase Perro y una clase Gato, y cada una tiene un método `.hablar ()`. Cuando se llama, el método `.hablar ()` de cada objeto devuelve un resultado único para el objeto.\n",
    "\n",
    "Hay algunas formas diferentes de demostrar el polimorfismo. Primero, con un bucle for:"
   ]
  },
  {
   "cell_type": "code",
   "execution_count": 19,
   "metadata": {},
   "outputs": [
    {
     "name": "stdout",
     "output_type": "stream",
     "text": [
      "Niko dice Wolf!\n",
      "Felix dice  Miau!\n"
     ]
    }
   ],
   "source": [
    "for mascota in [niko,felix]:\n",
    "    print(mascota.hablar())"
   ]
  },
  {
   "cell_type": "markdown",
   "metadata": {},
   "source": [
    "Otro es con funciones:"
   ]
  },
  {
   "cell_type": "code",
   "execution_count": 20,
   "metadata": {},
   "outputs": [
    {
     "name": "stdout",
     "output_type": "stream",
     "text": [
      "Niko dice Wolf!\n",
      "Felix dice  Miau!\n"
     ]
    }
   ],
   "source": [
    "def mascota_hablar(mascota):\n",
    "    print(mascota.hablar())\n",
    "\n",
    "mascota_hablar(niko)\n",
    "mascota_hablar(felix)"
   ]
  },
  {
   "cell_type": "markdown",
   "metadata": {
    "slideshow": {
     "slide_type": "slide"
    }
   },
   "source": [
    "En ambos casos pudimos pasar diferentes tipos de objetos y obtuvimos resultados específicos de objetos del mismo mecanismo.\n",
    "\n",
    "Una práctica más común es usar clases abstractas y herencia. Una clase abstracta es aquella que nunca espera ser instanciada. Por ejemplo, nunca tendremos un objeto Animal, solo objetos Perro y Gato, aunque Perros y Gatos se derivan de Animales:"
   ]
  },
  {
   "cell_type": "code",
   "execution_count": 21,
   "metadata": {},
   "outputs": [
    {
     "name": "stdout",
     "output_type": "stream",
     "text": [
      "Fido dice Woof!\n",
      "Isis dice Miau!\n"
     ]
    }
   ],
   "source": [
    "class Animal:\n",
    "    def __init__(self, nombre):    # Constructor de la clase\n",
    "        self.nombre = nombre\n",
    "\n",
    "    def hablar(self):              # Método abstracto, definido solo por convención\n",
    "        raise NotImplementedError(\"La subclase debe implementar el método abstracto\")\n",
    "\n",
    "\n",
    "class Perro(Animal):\n",
    "    \n",
    "    def hablar(self):\n",
    "        return self.nombre+' dice Woof!'\n",
    "    \n",
    "class Gato(Animal):\n",
    "\n",
    "    def hablar(self):\n",
    "        return self.nombre+' dice Miau!'\n",
    "    \n",
    "fido = Perro('Fido')\n",
    "isis = Gato('Isis')\n",
    "\n",
    "print(fido.hablar())\n",
    "print(isis.hablar())"
   ]
  },
  {
   "cell_type": "markdown",
   "metadata": {},
   "source": [
    "Ejemplos de polimorfismo en la vida real incluyen:\n",
    "* abrir diferentes tipos de archivos: se necesitan diferentes herramientas para mostrar archivos de Word, pdf y Excel\n",
    "* agregar diferentes objetos - el operador `+` realiza operaciones aritméticas y concatenaciones"
   ]
  },
  {
   "cell_type": "markdown",
   "metadata": {},
   "source": [
    "## Métodos especiales\n",
    "Finalmente, repasemos los métodos especiales. Las clases en Python pueden implementar ciertas operaciones con nombres de métodos especiales. En realidad, estos métodos no se llaman directamente, sino mediante la sintaxis del lenguaje específico de Python. Por ejemplo, creemos una clase de libro:"
   ]
  },
  {
   "cell_type": "code",
   "execution_count": 22,
   "metadata": {
    "tags": []
   },
   "outputs": [],
   "source": [
    "class Libro:\n",
    "    def __init__(self, titulo, autor, paginas):\n",
    "        print(\"un libro es creado\")\n",
    "        self.titulo = titulo\n",
    "        self.autor = autor\n",
    "        self.paginas = paginas\n",
    "\n",
    "    def __str__(self):\n",
    "        return \"Titulo: %s, autor: %s, paginas: %s\" %(self.titulo, self.autor, self.paginas)\n",
    "\n",
    "    def __len__(self):\n",
    "        return self.paginas\n",
    "\n",
    "    def __del__(self):\n",
    "        print(\"Un libro es destruido\")"
   ]
  },
  {
   "cell_type": "code",
   "execution_count": 23,
   "metadata": {},
   "outputs": [
    {
     "name": "stdout",
     "output_type": "stream",
     "text": [
      "un libro es creado\n",
      "Titulo: Python easy!, autor: autor, paginas: 188\n",
      "188\n",
      "Un libro es destruido\n"
     ]
    }
   ],
   "source": [
    "libro = Libro(\"Python easy!\", \"autor\", 188)\n",
    "\n",
    "#Metodos especiales\n",
    "print(libro)\n",
    "print(len(libro))\n",
    "del libro"
   ]
  },
  {
   "cell_type": "markdown",
   "metadata": {},
   "source": [
    "Los métodos \"__init __()\", \"__str__()\", \"__len__()\" y \"__del__()\"\n",
    "Estos métodos especiales se definen mediante el uso de guiones bajos. Nos permiten usar funciones específicas de Python en objetos creados a través de nuestra clase.\n",
    "\n",
    "**Estupendo! Después de esta lección, debe tener un conocimiento básico de cómo crear sus propios objetos con clase en Python. ¡Utilizará esto en gran medida en su próximo proyecto histórico!**"
   ]
  },
  {
   "cell_type": "code",
   "execution_count": null,
   "metadata": {},
   "outputs": [],
   "source": []
  },
  {
   "cell_type": "code",
   "execution_count": null,
   "metadata": {},
   "outputs": [],
   "source": []
  }
 ],
 "metadata": {
  "kernelspec": {
   "display_name": "Python 3 (ipykernel)",
   "language": "python",
   "name": "python3"
  },
  "language_info": {
   "codemirror_mode": {
    "name": "ipython",
    "version": 3
   },
   "file_extension": ".py",
   "mimetype": "text/x-python",
   "name": "python",
   "nbconvert_exporter": "python",
   "pygments_lexer": "ipython3",
   "version": "3.9.6"
  }
 },
 "nbformat": 4,
 "nbformat_minor": 4
}
