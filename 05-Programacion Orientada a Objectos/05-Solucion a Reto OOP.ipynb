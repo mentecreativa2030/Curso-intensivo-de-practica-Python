{
 "cells": [
  {
   "cell_type": "markdown",
   "metadata": {
    "tags": []
   },
   "source": [
    "# Desafío de programación orientada a objetos: solución\n",
    "\n",
    "Para este desafío, cree una clase de cuenta bancaria que tenga dos atributos:\n",
    "\n",
    "* dueño\n",
    "* equilibrio\n",
    "\n",
    "y dos métodos:\n",
    "\n",
    "* deposito\n",
    "* retirar\n",
    "\n",
    "Como requisito adicional, los retiros no pueden exceder el saldo disponible.\n",
    "\n",
    "Cree una instancia de su clase, haga varios depósitos y retiros, y pruebe para asegurarse de que la cuenta no se pueda sobregirar."
   ]
  },
  {
   "cell_type": "code",
   "execution_count": 1,
   "metadata": {
    "tags": []
   },
   "outputs": [],
   "source": [
    "class Cuenta:\n",
    "    def __init__(self,propietario,balance=0):\n",
    "        self.propietario = propietario\n",
    "        self.balance = balance\n",
    "        \n",
    "    def __str__(self):\n",
    "        return f'Propietario Cuenta:   {self.propietario}\\nBalance de Cuenta: ${self.balance}'\n",
    "        \n",
    "    def deposito(self,cantidad_deposito):\n",
    "        self.balance += cantidad_deposito\n",
    "        print('Deposito Aceptado')\n",
    "        \n",
    "    def retiro(self,cantidad_retiro):\n",
    "        if self.balance >= cantidad_retiro:\n",
    "            self.balance -= cantidad_retiro\n",
    "            print('Retiro Aceptado')\n",
    "        else:\n",
    "            print('Fondos no disponibles!')"
   ]
  },
  {
   "cell_type": "code",
   "execution_count": 2,
   "metadata": {
    "tags": []
   },
   "outputs": [],
   "source": [
    "# 1. Instancia de la clase\n",
    "cta1 = Cuenta('Joseph',100)"
   ]
  },
  {
   "cell_type": "code",
   "execution_count": 3,
   "metadata": {},
   "outputs": [
    {
     "name": "stdout",
     "output_type": "stream",
     "text": [
      "Propietario Cuenta:   Joseph\n",
      "Balance de Cuenta: $100\n"
     ]
    }
   ],
   "source": [
    "# 2. Imprime el objeto\n",
    "print(cta1)"
   ]
  },
  {
   "cell_type": "code",
   "execution_count": 4,
   "metadata": {},
   "outputs": [
    {
     "data": {
      "text/plain": [
       "'Joseph'"
      ]
     },
     "execution_count": 4,
     "metadata": {},
     "output_type": "execute_result"
    }
   ],
   "source": [
    "# 3. Muestra el atributo de propietario de la cuenta\n",
    "cta1.propietario"
   ]
  },
  {
   "cell_type": "code",
   "execution_count": 5,
   "metadata": {},
   "outputs": [
    {
     "data": {
      "text/plain": [
       "100"
      ]
     },
     "execution_count": 5,
     "metadata": {},
     "output_type": "execute_result"
    }
   ],
   "source": [
    "# 4. Muestra el atributo de balance de cuenta\n",
    "cta1.balance"
   ]
  },
  {
   "cell_type": "code",
   "execution_count": 6,
   "metadata": {},
   "outputs": [
    {
     "name": "stdout",
     "output_type": "stream",
     "text": [
      "Deposito Aceptado\n"
     ]
    }
   ],
   "source": [
    "# 5. Realiza una serie de depositos y retiros\n",
    "cta1.deposito(50)"
   ]
  },
  {
   "cell_type": "code",
   "execution_count": 7,
   "metadata": {},
   "outputs": [
    {
     "name": "stdout",
     "output_type": "stream",
     "text": [
      "Retiro Aceptado\n"
     ]
    }
   ],
   "source": [
    "cta1.retiro(75)"
   ]
  },
  {
   "cell_type": "code",
   "execution_count": 8,
   "metadata": {},
   "outputs": [
    {
     "name": "stdout",
     "output_type": "stream",
     "text": [
      "Fondos no disponibles!\n"
     ]
    }
   ],
   "source": [
    "# 6. Realiza una retiro que exceda el balance disponible\n",
    "cta1.retiro(500)"
   ]
  },
  {
   "cell_type": "markdown",
   "metadata": {},
   "source": [
    "## Buen trabajo!"
   ]
  },
  {
   "cell_type": "code",
   "execution_count": null,
   "metadata": {},
   "outputs": [],
   "source": []
  }
 ],
 "metadata": {
  "kernelspec": {
   "display_name": "Python 3 (ipykernel)",
   "language": "python",
   "name": "python3"
  },
  "language_info": {
   "codemirror_mode": {
    "name": "ipython",
    "version": 3
   },
   "file_extension": ".py",
   "mimetype": "text/x-python",
   "name": "python",
   "nbconvert_exporter": "python",
   "pygments_lexer": "ipython3",
   "version": "3.9.6"
  }
 },
 "nbformat": 4,
 "nbformat_minor": 4
}
